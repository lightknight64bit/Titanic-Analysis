{
 "metadata": {
  "language_info": {
   "codemirror_mode": {
    "name": "ipython",
    "version": 3
   },
   "file_extension": ".py",
   "mimetype": "text/x-python",
   "name": "python",
   "nbconvert_exporter": "python",
   "pygments_lexer": "ipython3",
   "version": "3.6.7-final"
  },
  "orig_nbformat": 2,
  "kernelspec": {
   "name": "python3",
   "display_name": "Python 3",
   "language": "python"
  }
 },
 "nbformat": 4,
 "nbformat_minor": 2,
 "cells": [
  {
   "source": [
    "# Exploratory data analysis and preprocessing"
   ],
   "cell_type": "markdown",
   "metadata": {}
  },
  {
   "cell_type": "code",
   "execution_count": 1,
   "metadata": {},
   "outputs": [],
   "source": [
    "import pandas as pd \n",
    "import numpy as np\n",
    "import matplotlib.pyplot as plt \n",
    "import seaborn as sns"
   ]
  },
  {
   "cell_type": "code",
   "execution_count": 2,
   "metadata": {},
   "outputs": [],
   "source": [
    "train = pd.read_csv(\"train.csv\")\n",
    "test = pd.read_csv(\"test.csv\")"
   ]
  },
  {
   "cell_type": "code",
   "execution_count": 3,
   "metadata": {},
   "outputs": [
    {
     "output_type": "execute_result",
     "data": {
      "text/plain": [
       "   PassengerId  Survived  Pclass  \\\n",
       "0            1         0       3   \n",
       "1            2         1       1   \n",
       "2            3         1       3   \n",
       "3            4         1       1   \n",
       "4            5         0       3   \n",
       "\n",
       "                                                Name     Sex   Age  SibSp  \\\n",
       "0                            Braund, Mr. Owen Harris    male  22.0      1   \n",
       "1  Cumings, Mrs. John Bradley (Florence Briggs Th...  female  38.0      1   \n",
       "2                             Heikkinen, Miss. Laina  female  26.0      0   \n",
       "3       Futrelle, Mrs. Jacques Heath (Lily May Peel)  female  35.0      1   \n",
       "4                           Allen, Mr. William Henry    male  35.0      0   \n",
       "\n",
       "   Parch            Ticket     Fare Cabin Embarked  \n",
       "0      0         A/5 21171   7.2500   NaN        S  \n",
       "1      0          PC 17599  71.2833   C85        C  \n",
       "2      0  STON/O2. 3101282   7.9250   NaN        S  \n",
       "3      0            113803  53.1000  C123        S  \n",
       "4      0            373450   8.0500   NaN        S  "
      ],
      "text/html": "<div>\n<style scoped>\n    .dataframe tbody tr th:only-of-type {\n        vertical-align: middle;\n    }\n\n    .dataframe tbody tr th {\n        vertical-align: top;\n    }\n\n    .dataframe thead th {\n        text-align: right;\n    }\n</style>\n<table border=\"1\" class=\"dataframe\">\n  <thead>\n    <tr style=\"text-align: right;\">\n      <th></th>\n      <th>PassengerId</th>\n      <th>Survived</th>\n      <th>Pclass</th>\n      <th>Name</th>\n      <th>Sex</th>\n      <th>Age</th>\n      <th>SibSp</th>\n      <th>Parch</th>\n      <th>Ticket</th>\n      <th>Fare</th>\n      <th>Cabin</th>\n      <th>Embarked</th>\n    </tr>\n  </thead>\n  <tbody>\n    <tr>\n      <th>0</th>\n      <td>1</td>\n      <td>0</td>\n      <td>3</td>\n      <td>Braund, Mr. Owen Harris</td>\n      <td>male</td>\n      <td>22.0</td>\n      <td>1</td>\n      <td>0</td>\n      <td>A/5 21171</td>\n      <td>7.2500</td>\n      <td>NaN</td>\n      <td>S</td>\n    </tr>\n    <tr>\n      <th>1</th>\n      <td>2</td>\n      <td>1</td>\n      <td>1</td>\n      <td>Cumings, Mrs. John Bradley (Florence Briggs Th...</td>\n      <td>female</td>\n      <td>38.0</td>\n      <td>1</td>\n      <td>0</td>\n      <td>PC 17599</td>\n      <td>71.2833</td>\n      <td>C85</td>\n      <td>C</td>\n    </tr>\n    <tr>\n      <th>2</th>\n      <td>3</td>\n      <td>1</td>\n      <td>3</td>\n      <td>Heikkinen, Miss. Laina</td>\n      <td>female</td>\n      <td>26.0</td>\n      <td>0</td>\n      <td>0</td>\n      <td>STON/O2. 3101282</td>\n      <td>7.9250</td>\n      <td>NaN</td>\n      <td>S</td>\n    </tr>\n    <tr>\n      <th>3</th>\n      <td>4</td>\n      <td>1</td>\n      <td>1</td>\n      <td>Futrelle, Mrs. Jacques Heath (Lily May Peel)</td>\n      <td>female</td>\n      <td>35.0</td>\n      <td>1</td>\n      <td>0</td>\n      <td>113803</td>\n      <td>53.1000</td>\n      <td>C123</td>\n      <td>S</td>\n    </tr>\n    <tr>\n      <th>4</th>\n      <td>5</td>\n      <td>0</td>\n      <td>3</td>\n      <td>Allen, Mr. William Henry</td>\n      <td>male</td>\n      <td>35.0</td>\n      <td>0</td>\n      <td>0</td>\n      <td>373450</td>\n      <td>8.0500</td>\n      <td>NaN</td>\n      <td>S</td>\n    </tr>\n  </tbody>\n</table>\n</div>"
     },
     "metadata": {},
     "execution_count": 3
    }
   ],
   "source": [
    "train.head()"
   ]
  },
  {
   "cell_type": "code",
   "execution_count": 4,
   "metadata": {},
   "outputs": [
    {
     "output_type": "execute_result",
     "data": {
      "text/plain": [
       "PassengerId    891\n",
       "Survived         2\n",
       "Pclass           3\n",
       "Name           891\n",
       "Sex              2\n",
       "Age             88\n",
       "SibSp            7\n",
       "Parch            7\n",
       "Ticket         681\n",
       "Fare           248\n",
       "Cabin          147\n",
       "Embarked         3\n",
       "dtype: int64"
      ]
     },
     "metadata": {},
     "execution_count": 4
    }
   ],
   "source": [
    "train.nunique()"
   ]
  },
  {
   "cell_type": "code",
   "execution_count": 5,
   "metadata": {},
   "outputs": [
    {
     "output_type": "execute_result",
     "data": {
      "text/plain": [
       "PassengerId    418\n",
       "Pclass           3\n",
       "Name           418\n",
       "Sex              2\n",
       "Age             79\n",
       "SibSp            7\n",
       "Parch            8\n",
       "Ticket         363\n",
       "Fare           169\n",
       "Cabin           76\n",
       "Embarked         3\n",
       "dtype: int64"
      ]
     },
     "metadata": {},
     "execution_count": 5
    }
   ],
   "source": [
    "test.nunique()"
   ]
  },
  {
   "cell_type": "code",
   "execution_count": 6,
   "metadata": {},
   "outputs": [],
   "source": [
    "train = train.drop([\"PassengerId\", \"Name\"], axis=1)\n",
    "test = test.drop([\"PassengerId\", \"Name\"], axis=1)"
   ]
  },
  {
   "cell_type": "code",
   "execution_count": 7,
   "metadata": {},
   "outputs": [
    {
     "output_type": "execute_result",
     "data": {
      "text/plain": [
       "Survived      0\n",
       "Pclass        0\n",
       "Sex           0\n",
       "Age         177\n",
       "SibSp         0\n",
       "Parch         0\n",
       "Ticket        0\n",
       "Fare          0\n",
       "Cabin       687\n",
       "Embarked      2\n",
       "dtype: int64"
      ]
     },
     "metadata": {},
     "execution_count": 7
    }
   ],
   "source": [
    "train.isna().sum()"
   ]
  },
  {
   "cell_type": "code",
   "execution_count": 8,
   "metadata": {},
   "outputs": [
    {
     "output_type": "execute_result",
     "data": {
      "text/plain": [
       "Pclass        0\n",
       "Sex           0\n",
       "Age          86\n",
       "SibSp         0\n",
       "Parch         0\n",
       "Ticket        0\n",
       "Fare          1\n",
       "Cabin       327\n",
       "Embarked      0\n",
       "dtype: int64"
      ]
     },
     "metadata": {},
     "execution_count": 8
    }
   ],
   "source": [
    "test.isna().sum()"
   ]
  },
  {
   "cell_type": "code",
   "execution_count": 9,
   "metadata": {},
   "outputs": [],
   "source": [
    "train[\"Embarked\"] = train[\"Embarked\"].fillna(train[\"Embarked\"].mode()[0])\n",
    "test[\"Fare\"] = test[\"Fare\"].fillna(test[\"Fare\"].median())"
   ]
  },
  {
   "cell_type": "code",
   "execution_count": 10,
   "metadata": {},
   "outputs": [
    {
     "output_type": "execute_result",
     "data": {
      "text/plain": [
       "<AxesSubplot:>"
      ]
     },
     "metadata": {},
     "execution_count": 10
    },
    {
     "output_type": "display_data",
     "data": {
      "text/plain": "<Figure size 432x288 with 2 Axes>",
      "image/svg+xml": "<?xml version=\"1.0\" encoding=\"utf-8\" standalone=\"no\"?>\r\n<!DOCTYPE svg PUBLIC \"-//W3C//DTD SVG 1.1//EN\"\r\n  \"http://www.w3.org/Graphics/SVG/1.1/DTD/svg11.dtd\">\r\n<!-- Created with matplotlib (https://matplotlib.org/) -->\r\n<svg height=\"252.317344pt\" version=\"1.1\" viewBox=\"0 0 392.048875 252.317344\" width=\"392.048875pt\" xmlns=\"http://www.w3.org/2000/svg\" xmlns:xlink=\"http://www.w3.org/1999/xlink\">\r\n <metadata>\r\n  <rdf:RDF xmlns:cc=\"http://creativecommons.org/ns#\" xmlns:dc=\"http://purl.org/dc/elements/1.1/\" xmlns:rdf=\"http://www.w3.org/1999/02/22-rdf-syntax-ns#\">\r\n   <cc:Work>\r\n    <dc:type rdf:resource=\"http://purl.org/dc/dcmitype/StillImage\"/>\r\n    <dc:date>2021-01-31T22:12:12.219741</dc:date>\r\n    <dc:format>image/svg+xml</dc:format>\r\n    <dc:creator>\r\n     <cc:Agent>\r\n      <dc:title>Matplotlib v3.3.2, https://matplotlib.org/</dc:title>\r\n     </cc:Agent>\r\n    </dc:creator>\r\n   </cc:Work>\r\n  </rdf:RDF>\r\n </metadata>\r\n <defs>\r\n  <style type=\"text/css\">*{stroke-linecap:butt;stroke-linejoin:round;}</style>\r\n </defs>\r\n <g id=\"figure_1\">\r\n  <g id=\"patch_1\">\r\n   <path d=\"M 0 252.317344 \r\nL 392.048875 252.317344 \r\nL 392.048875 0 \r\nL 0 0 \r\nz\r\n\" style=\"fill:none;\"/>\r\n  </g>\r\n  <g id=\"axes_1\">\r\n   <g id=\"patch_2\">\r\n    <path d=\"M 58.114063 228.439219 \r\nL 325.954063 228.439219 \r\nL 325.954063 10.999219 \r\nL 58.114063 10.999219 \r\nz\r\n\" style=\"fill:#ffffff;\"/>\r\n   </g>\r\n   <g id=\"QuadMesh_1\">\r\n    <path clip-path=\"url(#p66465a425c)\" d=\"M 58.114063 10.999219 \r\nL 102.754063 10.999219 \r\nL 102.754063 47.239219 \r\nL 58.114063 47.239219 \r\nL 58.114063 10.999219 \r\n\" style=\"fill:#faebdd;\"/>\r\n    <path clip-path=\"url(#p66465a425c)\" d=\"M 102.754063 10.999219 \r\nL 147.394063 10.999219 \r\nL 147.394063 47.239219 \r\nL 102.754063 47.239219 \r\nL 102.754063 10.999219 \r\n\" style=\"fill:#33183c;\"/>\r\n    <path clip-path=\"url(#p66465a425c)\" d=\"M 147.394063 10.999219 \r\nL 192.034063 10.999219 \r\nL 192.034063 47.239219 \r\nL 147.394063 47.239219 \r\nL 147.394063 10.999219 \r\n\" style=\"fill:#781f59;\"/>\r\n    <path clip-path=\"url(#p66465a425c)\" d=\"M 192.034063 10.999219 \r\nL 236.674062 10.999219 \r\nL 236.674062 47.239219 \r\nL 192.034063 47.239219 \r\nL 192.034063 10.999219 \r\n\" style=\"fill:#821e5a;\"/>\r\n    <path clip-path=\"url(#p66465a425c)\" d=\"M 236.674062 10.999219 \r\nL 281.314062 10.999219 \r\nL 281.314062 47.239219 \r\nL 236.674062 47.239219 \r\nL 236.674062 10.999219 \r\n\" style=\"fill:#a4195b;\"/>\r\n    <path clip-path=\"url(#p66465a425c)\" d=\"M 281.314062 10.999219 \r\nL 325.954063 10.999219 \r\nL 325.954063 47.239219 \r\nL 281.314062 47.239219 \r\nL 281.314062 10.999219 \r\n\" style=\"fill:#d2204c;\"/>\r\n    <path clip-path=\"url(#p66465a425c)\" d=\"M 58.114063 47.239219 \r\nL 102.754063 47.239219 \r\nL 102.754063 83.479219 \r\nL 58.114063 83.479219 \r\nL 58.114063 47.239219 \r\n\" style=\"fill:#33183c;\"/>\r\n    <path clip-path=\"url(#p66465a425c)\" d=\"M 102.754063 47.239219 \r\nL 147.394063 47.239219 \r\nL 147.394063 83.479219 \r\nL 102.754063 83.479219 \r\nL 102.754063 47.239219 \r\n\" style=\"fill:#faebdd;\"/>\r\n    <path clip-path=\"url(#p66465a425c)\" d=\"M 147.394063 47.239219 \r\nL 192.034063 47.239219 \r\nL 192.034063 83.479219 \r\nL 147.394063 83.479219 \r\nL 147.394063 47.239219 \r\n\" style=\"fill:#2b1637;\"/>\r\n    <path clip-path=\"url(#p66465a425c)\" d=\"M 192.034063 47.239219 \r\nL 236.674062 47.239219 \r\nL 236.674062 83.479219 \r\nL 192.034063 83.479219 \r\nL 192.034063 47.239219 \r\n\" style=\"fill:#a4195b;\"/>\r\n    <path clip-path=\"url(#p66465a425c)\" d=\"M 236.674062 47.239219 \r\nL 281.314062 47.239219 \r\nL 281.314062 83.479219 \r\nL 236.674062 83.479219 \r\nL 236.674062 47.239219 \r\n\" style=\"fill:#921c5b;\"/>\r\n    <path clip-path=\"url(#p66465a425c)\" d=\"M 281.314062 47.239219 \r\nL 325.954063 47.239219 \r\nL 325.954063 83.479219 \r\nL 281.314062 83.479219 \r\nL 281.314062 47.239219 \r\n\" style=\"fill:#03051a;\"/>\r\n    <path clip-path=\"url(#p66465a425c)\" d=\"M 58.114063 83.479219 \r\nL 102.754063 83.479219 \r\nL 102.754063 119.719219 \r\nL 58.114063 119.719219 \r\nL 58.114063 83.479219 \r\n\" style=\"fill:#781f59;\"/>\r\n    <path clip-path=\"url(#p66465a425c)\" d=\"M 102.754063 83.479219 \r\nL 147.394063 83.479219 \r\nL 147.394063 119.719219 \r\nL 102.754063 119.719219 \r\nL 102.754063 83.479219 \r\n\" style=\"fill:#2b1637;\"/>\r\n    <path clip-path=\"url(#p66465a425c)\" d=\"M 147.394063 83.479219 \r\nL 192.034063 83.479219 \r\nL 192.034063 119.719219 \r\nL 147.394063 119.719219 \r\nL 147.394063 83.479219 \r\n\" style=\"fill:#faebdd;\"/>\r\n    <path clip-path=\"url(#p66465a425c)\" d=\"M 192.034063 83.479219 \r\nL 236.674062 83.479219 \r\nL 236.674062 119.719219 \r\nL 192.034063 119.719219 \r\nL 192.034063 83.479219 \r\n\" style=\"fill:#3a1a41;\"/>\r\n    <path clip-path=\"url(#p66465a425c)\" d=\"M 236.674062 83.479219 \r\nL 281.314062 83.479219 \r\nL 281.314062 119.719219 \r\nL 236.674062 119.719219 \r\nL 236.674062 83.479219 \r\n\" style=\"fill:#591e50;\"/>\r\n    <path clip-path=\"url(#p66465a425c)\" d=\"M 281.314062 83.479219 \r\nL 325.954063 83.479219 \r\nL 325.954063 119.719219 \r\nL 281.314062 119.719219 \r\nL 281.314062 83.479219 \r\n\" style=\"fill:#a8185a;\"/>\r\n    <path clip-path=\"url(#p66465a425c)\" d=\"M 58.114063 119.719219 \r\nL 102.754063 119.719219 \r\nL 102.754063 155.959219 \r\nL 58.114063 155.959219 \r\nL 58.114063 119.719219 \r\n\" style=\"fill:#821e5a;\"/>\r\n    <path clip-path=\"url(#p66465a425c)\" d=\"M 102.754063 119.719219 \r\nL 147.394063 119.719219 \r\nL 147.394063 155.959219 \r\nL 102.754063 155.959219 \r\nL 102.754063 119.719219 \r\n\" style=\"fill:#a4195b;\"/>\r\n    <path clip-path=\"url(#p66465a425c)\" d=\"M 147.394063 119.719219 \r\nL 192.034063 119.719219 \r\nL 192.034063 155.959219 \r\nL 147.394063 155.959219 \r\nL 147.394063 119.719219 \r\n\" style=\"fill:#3a1a41;\"/>\r\n    <path clip-path=\"url(#p66465a425c)\" d=\"M 192.034063 119.719219 \r\nL 236.674062 119.719219 \r\nL 236.674062 155.959219 \r\nL 192.034063 155.959219 \r\nL 192.034063 119.719219 \r\n\" style=\"fill:#faebdd;\"/>\r\n    <path clip-path=\"url(#p66465a425c)\" d=\"M 236.674062 119.719219 \r\nL 281.314062 119.719219 \r\nL 281.314062 155.959219 \r\nL 236.674062 155.959219 \r\nL 236.674062 119.719219 \r\n\" style=\"fill:#ec4a3e;\"/>\r\n    <path clip-path=\"url(#p66465a425c)\" d=\"M 281.314062 119.719219 \r\nL 325.954063 119.719219 \r\nL 325.954063 155.959219 \r\nL 281.314062 155.959219 \r\nL 281.314062 119.719219 \r\n\" style=\"fill:#ba1656;\"/>\r\n    <path clip-path=\"url(#p66465a425c)\" d=\"M 58.114063 155.959219 \r\nL 102.754063 155.959219 \r\nL 102.754063 192.199219 \r\nL 58.114063 192.199219 \r\nL 58.114063 155.959219 \r\n\" style=\"fill:#a4195b;\"/>\r\n    <path clip-path=\"url(#p66465a425c)\" d=\"M 102.754063 155.959219 \r\nL 147.394063 155.959219 \r\nL 147.394063 192.199219 \r\nL 102.754063 192.199219 \r\nL 102.754063 155.959219 \r\n\" style=\"fill:#921c5b;\"/>\r\n    <path clip-path=\"url(#p66465a425c)\" d=\"M 147.394063 155.959219 \r\nL 192.034063 155.959219 \r\nL 192.034063 192.199219 \r\nL 147.394063 192.199219 \r\nL 147.394063 155.959219 \r\n\" style=\"fill:#591e50;\"/>\r\n    <path clip-path=\"url(#p66465a425c)\" d=\"M 192.034063 155.959219 \r\nL 236.674062 155.959219 \r\nL 236.674062 192.199219 \r\nL 192.034063 192.199219 \r\nL 192.034063 155.959219 \r\n\" style=\"fill:#ec4a3e;\"/>\r\n    <path clip-path=\"url(#p66465a425c)\" d=\"M 236.674062 155.959219 \r\nL 281.314062 155.959219 \r\nL 281.314062 192.199219 \r\nL 236.674062 192.199219 \r\nL 236.674062 155.959219 \r\n\" style=\"fill:#faebdd;\"/>\r\n    <path clip-path=\"url(#p66465a425c)\" d=\"M 281.314062 155.959219 \r\nL 325.954063 155.959219 \r\nL 325.954063 192.199219 \r\nL 281.314062 192.199219 \r\nL 281.314062 155.959219 \r\n\" style=\"fill:#c81951;\"/>\r\n    <path clip-path=\"url(#p66465a425c)\" d=\"M 58.114063 192.199219 \r\nL 102.754063 192.199219 \r\nL 102.754063 228.439219 \r\nL 58.114063 228.439219 \r\nL 58.114063 192.199219 \r\n\" style=\"fill:#d2204c;\"/>\r\n    <path clip-path=\"url(#p66465a425c)\" d=\"M 102.754063 192.199219 \r\nL 147.394063 192.199219 \r\nL 147.394063 228.439219 \r\nL 102.754063 228.439219 \r\nL 102.754063 192.199219 \r\n\" style=\"fill:#03051a;\"/>\r\n    <path clip-path=\"url(#p66465a425c)\" d=\"M 147.394063 192.199219 \r\nL 192.034063 192.199219 \r\nL 192.034063 228.439219 \r\nL 147.394063 228.439219 \r\nL 147.394063 192.199219 \r\n\" style=\"fill:#a8185a;\"/>\r\n    <path clip-path=\"url(#p66465a425c)\" d=\"M 192.034063 192.199219 \r\nL 236.674062 192.199219 \r\nL 236.674062 228.439219 \r\nL 192.034063 228.439219 \r\nL 192.034063 192.199219 \r\n\" style=\"fill:#ba1656;\"/>\r\n    <path clip-path=\"url(#p66465a425c)\" d=\"M 236.674062 192.199219 \r\nL 281.314062 192.199219 \r\nL 281.314062 228.439219 \r\nL 236.674062 228.439219 \r\nL 236.674062 192.199219 \r\n\" style=\"fill:#c81951;\"/>\r\n    <path clip-path=\"url(#p66465a425c)\" d=\"M 281.314062 192.199219 \r\nL 325.954063 192.199219 \r\nL 325.954063 228.439219 \r\nL 281.314062 228.439219 \r\nL 281.314062 192.199219 \r\n\" style=\"fill:#faebdd;\"/>\r\n   </g>\r\n   <g id=\"matplotlib.axis_1\">\r\n    <g id=\"xtick_1\">\r\n     <g id=\"line2d_1\">\r\n      <defs>\r\n       <path d=\"M 0 0 \r\nL 0 3.5 \r\n\" id=\"m2d701deee9\" style=\"stroke:#000000;stroke-width:0.8;\"/>\r\n      </defs>\r\n      <g>\r\n       <use style=\"stroke:#000000;stroke-width:0.8;\" x=\"80.434063\" xlink:href=\"#m2d701deee9\" y=\"228.439219\"/>\r\n      </g>\r\n     </g>\r\n     <g id=\"text_1\">\r\n      <!-- Survived -->\r\n      <g transform=\"translate(58.477031 243.037656)scale(0.1 -0.1)\">\r\n       <defs>\r\n        <path d=\"M 53.515625 70.515625 \r\nL 53.515625 60.890625 \r\nQ 47.90625 63.578125 42.921875 64.890625 \r\nQ 37.9375 66.21875 33.296875 66.21875 \r\nQ 25.25 66.21875 20.875 63.09375 \r\nQ 16.5 59.96875 16.5 54.203125 \r\nQ 16.5 49.359375 19.40625 46.890625 \r\nQ 22.3125 44.4375 30.421875 42.921875 \r\nL 36.375 41.703125 \r\nQ 47.40625 39.59375 52.65625 34.296875 \r\nQ 57.90625 29 57.90625 20.125 \r\nQ 57.90625 9.515625 50.796875 4.046875 \r\nQ 43.703125 -1.421875 29.984375 -1.421875 \r\nQ 24.8125 -1.421875 18.96875 -0.25 \r\nQ 13.140625 0.921875 6.890625 3.21875 \r\nL 6.890625 13.375 \r\nQ 12.890625 10.015625 18.65625 8.296875 \r\nQ 24.421875 6.59375 29.984375 6.59375 \r\nQ 38.421875 6.59375 43.015625 9.90625 \r\nQ 47.609375 13.234375 47.609375 19.390625 \r\nQ 47.609375 24.75 44.3125 27.78125 \r\nQ 41.015625 30.8125 33.5 32.328125 \r\nL 27.484375 33.5 \r\nQ 16.453125 35.6875 11.515625 40.375 \r\nQ 6.59375 45.0625 6.59375 53.421875 \r\nQ 6.59375 63.09375 13.40625 68.65625 \r\nQ 20.21875 74.21875 32.171875 74.21875 \r\nQ 37.3125 74.21875 42.625 73.28125 \r\nQ 47.953125 72.359375 53.515625 70.515625 \r\nz\r\n\" id=\"DejaVuSans-83\"/>\r\n        <path d=\"M 8.5 21.578125 \r\nL 8.5 54.6875 \r\nL 17.484375 54.6875 \r\nL 17.484375 21.921875 \r\nQ 17.484375 14.15625 20.5 10.265625 \r\nQ 23.53125 6.390625 29.59375 6.390625 \r\nQ 36.859375 6.390625 41.078125 11.03125 \r\nQ 45.3125 15.671875 45.3125 23.6875 \r\nL 45.3125 54.6875 \r\nL 54.296875 54.6875 \r\nL 54.296875 0 \r\nL 45.3125 0 \r\nL 45.3125 8.40625 \r\nQ 42.046875 3.421875 37.71875 1 \r\nQ 33.40625 -1.421875 27.6875 -1.421875 \r\nQ 18.265625 -1.421875 13.375 4.4375 \r\nQ 8.5 10.296875 8.5 21.578125 \r\nz\r\nM 31.109375 56 \r\nz\r\n\" id=\"DejaVuSans-117\"/>\r\n        <path d=\"M 41.109375 46.296875 \r\nQ 39.59375 47.171875 37.8125 47.578125 \r\nQ 36.03125 48 33.890625 48 \r\nQ 26.265625 48 22.1875 43.046875 \r\nQ 18.109375 38.09375 18.109375 28.8125 \r\nL 18.109375 0 \r\nL 9.078125 0 \r\nL 9.078125 54.6875 \r\nL 18.109375 54.6875 \r\nL 18.109375 46.1875 \r\nQ 20.953125 51.171875 25.484375 53.578125 \r\nQ 30.03125 56 36.53125 56 \r\nQ 37.453125 56 38.578125 55.875 \r\nQ 39.703125 55.765625 41.0625 55.515625 \r\nz\r\n\" id=\"DejaVuSans-114\"/>\r\n        <path d=\"M 2.984375 54.6875 \r\nL 12.5 54.6875 \r\nL 29.59375 8.796875 \r\nL 46.6875 54.6875 \r\nL 56.203125 54.6875 \r\nL 35.6875 0 \r\nL 23.484375 0 \r\nz\r\n\" id=\"DejaVuSans-118\"/>\r\n        <path d=\"M 9.421875 54.6875 \r\nL 18.40625 54.6875 \r\nL 18.40625 0 \r\nL 9.421875 0 \r\nz\r\nM 9.421875 75.984375 \r\nL 18.40625 75.984375 \r\nL 18.40625 64.59375 \r\nL 9.421875 64.59375 \r\nz\r\n\" id=\"DejaVuSans-105\"/>\r\n        <path d=\"M 56.203125 29.59375 \r\nL 56.203125 25.203125 \r\nL 14.890625 25.203125 \r\nQ 15.484375 15.921875 20.484375 11.0625 \r\nQ 25.484375 6.203125 34.421875 6.203125 \r\nQ 39.59375 6.203125 44.453125 7.46875 \r\nQ 49.3125 8.734375 54.109375 11.28125 \r\nL 54.109375 2.78125 \r\nQ 49.265625 0.734375 44.1875 -0.34375 \r\nQ 39.109375 -1.421875 33.890625 -1.421875 \r\nQ 20.796875 -1.421875 13.15625 6.1875 \r\nQ 5.515625 13.8125 5.515625 26.8125 \r\nQ 5.515625 40.234375 12.765625 48.109375 \r\nQ 20.015625 56 32.328125 56 \r\nQ 43.359375 56 49.78125 48.890625 \r\nQ 56.203125 41.796875 56.203125 29.59375 \r\nz\r\nM 47.21875 32.234375 \r\nQ 47.125 39.59375 43.09375 43.984375 \r\nQ 39.0625 48.390625 32.421875 48.390625 \r\nQ 24.90625 48.390625 20.390625 44.140625 \r\nQ 15.875 39.890625 15.1875 32.171875 \r\nz\r\n\" id=\"DejaVuSans-101\"/>\r\n        <path d=\"M 45.40625 46.390625 \r\nL 45.40625 75.984375 \r\nL 54.390625 75.984375 \r\nL 54.390625 0 \r\nL 45.40625 0 \r\nL 45.40625 8.203125 \r\nQ 42.578125 3.328125 38.25 0.953125 \r\nQ 33.9375 -1.421875 27.875 -1.421875 \r\nQ 17.96875 -1.421875 11.734375 6.484375 \r\nQ 5.515625 14.40625 5.515625 27.296875 \r\nQ 5.515625 40.1875 11.734375 48.09375 \r\nQ 17.96875 56 27.875 56 \r\nQ 33.9375 56 38.25 53.625 \r\nQ 42.578125 51.265625 45.40625 46.390625 \r\nz\r\nM 14.796875 27.296875 \r\nQ 14.796875 17.390625 18.875 11.75 \r\nQ 22.953125 6.109375 30.078125 6.109375 \r\nQ 37.203125 6.109375 41.296875 11.75 \r\nQ 45.40625 17.390625 45.40625 27.296875 \r\nQ 45.40625 37.203125 41.296875 42.84375 \r\nQ 37.203125 48.484375 30.078125 48.484375 \r\nQ 22.953125 48.484375 18.875 42.84375 \r\nQ 14.796875 37.203125 14.796875 27.296875 \r\nz\r\n\" id=\"DejaVuSans-100\"/>\r\n       </defs>\r\n       <use xlink:href=\"#DejaVuSans-83\"/>\r\n       <use x=\"63.476562\" xlink:href=\"#DejaVuSans-117\"/>\r\n       <use x=\"126.855469\" xlink:href=\"#DejaVuSans-114\"/>\r\n       <use x=\"167.96875\" xlink:href=\"#DejaVuSans-118\"/>\r\n       <use x=\"227.148438\" xlink:href=\"#DejaVuSans-105\"/>\r\n       <use x=\"254.931641\" xlink:href=\"#DejaVuSans-118\"/>\r\n       <use x=\"314.111328\" xlink:href=\"#DejaVuSans-101\"/>\r\n       <use x=\"375.634766\" xlink:href=\"#DejaVuSans-100\"/>\r\n      </g>\r\n     </g>\r\n    </g>\r\n    <g id=\"xtick_2\">\r\n     <g id=\"line2d_2\">\r\n      <g>\r\n       <use style=\"stroke:#000000;stroke-width:0.8;\" x=\"125.074063\" xlink:href=\"#m2d701deee9\" y=\"228.439219\"/>\r\n      </g>\r\n     </g>\r\n     <g id=\"text_2\">\r\n      <!-- Pclass -->\r\n      <g transform=\"translate(109.6475 243.037656)scale(0.1 -0.1)\">\r\n       <defs>\r\n        <path d=\"M 19.671875 64.796875 \r\nL 19.671875 37.40625 \r\nL 32.078125 37.40625 \r\nQ 38.96875 37.40625 42.71875 40.96875 \r\nQ 46.484375 44.53125 46.484375 51.125 \r\nQ 46.484375 57.671875 42.71875 61.234375 \r\nQ 38.96875 64.796875 32.078125 64.796875 \r\nz\r\nM 9.8125 72.90625 \r\nL 32.078125 72.90625 \r\nQ 44.34375 72.90625 50.609375 67.359375 \r\nQ 56.890625 61.8125 56.890625 51.125 \r\nQ 56.890625 40.328125 50.609375 34.8125 \r\nQ 44.34375 29.296875 32.078125 29.296875 \r\nL 19.671875 29.296875 \r\nL 19.671875 0 \r\nL 9.8125 0 \r\nz\r\n\" id=\"DejaVuSans-80\"/>\r\n        <path d=\"M 48.78125 52.59375 \r\nL 48.78125 44.1875 \r\nQ 44.96875 46.296875 41.140625 47.34375 \r\nQ 37.3125 48.390625 33.40625 48.390625 \r\nQ 24.65625 48.390625 19.8125 42.84375 \r\nQ 14.984375 37.3125 14.984375 27.296875 \r\nQ 14.984375 17.28125 19.8125 11.734375 \r\nQ 24.65625 6.203125 33.40625 6.203125 \r\nQ 37.3125 6.203125 41.140625 7.25 \r\nQ 44.96875 8.296875 48.78125 10.40625 \r\nL 48.78125 2.09375 \r\nQ 45.015625 0.34375 40.984375 -0.53125 \r\nQ 36.96875 -1.421875 32.421875 -1.421875 \r\nQ 20.0625 -1.421875 12.78125 6.34375 \r\nQ 5.515625 14.109375 5.515625 27.296875 \r\nQ 5.515625 40.671875 12.859375 48.328125 \r\nQ 20.21875 56 33.015625 56 \r\nQ 37.15625 56 41.109375 55.140625 \r\nQ 45.0625 54.296875 48.78125 52.59375 \r\nz\r\n\" id=\"DejaVuSans-99\"/>\r\n        <path d=\"M 9.421875 75.984375 \r\nL 18.40625 75.984375 \r\nL 18.40625 0 \r\nL 9.421875 0 \r\nz\r\n\" id=\"DejaVuSans-108\"/>\r\n        <path d=\"M 34.28125 27.484375 \r\nQ 23.390625 27.484375 19.1875 25 \r\nQ 14.984375 22.515625 14.984375 16.5 \r\nQ 14.984375 11.71875 18.140625 8.90625 \r\nQ 21.296875 6.109375 26.703125 6.109375 \r\nQ 34.1875 6.109375 38.703125 11.40625 \r\nQ 43.21875 16.703125 43.21875 25.484375 \r\nL 43.21875 27.484375 \r\nz\r\nM 52.203125 31.203125 \r\nL 52.203125 0 \r\nL 43.21875 0 \r\nL 43.21875 8.296875 \r\nQ 40.140625 3.328125 35.546875 0.953125 \r\nQ 30.953125 -1.421875 24.3125 -1.421875 \r\nQ 15.921875 -1.421875 10.953125 3.296875 \r\nQ 6 8.015625 6 15.921875 \r\nQ 6 25.140625 12.171875 29.828125 \r\nQ 18.359375 34.515625 30.609375 34.515625 \r\nL 43.21875 34.515625 \r\nL 43.21875 35.40625 \r\nQ 43.21875 41.609375 39.140625 45 \r\nQ 35.0625 48.390625 27.6875 48.390625 \r\nQ 23 48.390625 18.546875 47.265625 \r\nQ 14.109375 46.140625 10.015625 43.890625 \r\nL 10.015625 52.203125 \r\nQ 14.9375 54.109375 19.578125 55.046875 \r\nQ 24.21875 56 28.609375 56 \r\nQ 40.484375 56 46.34375 49.84375 \r\nQ 52.203125 43.703125 52.203125 31.203125 \r\nz\r\n\" id=\"DejaVuSans-97\"/>\r\n        <path d=\"M 44.28125 53.078125 \r\nL 44.28125 44.578125 \r\nQ 40.484375 46.53125 36.375 47.5 \r\nQ 32.28125 48.484375 27.875 48.484375 \r\nQ 21.1875 48.484375 17.84375 46.4375 \r\nQ 14.5 44.390625 14.5 40.28125 \r\nQ 14.5 37.15625 16.890625 35.375 \r\nQ 19.28125 33.59375 26.515625 31.984375 \r\nL 29.59375 31.296875 \r\nQ 39.15625 29.25 43.1875 25.515625 \r\nQ 47.21875 21.78125 47.21875 15.09375 \r\nQ 47.21875 7.46875 41.1875 3.015625 \r\nQ 35.15625 -1.421875 24.609375 -1.421875 \r\nQ 20.21875 -1.421875 15.453125 -0.5625 \r\nQ 10.6875 0.296875 5.421875 2 \r\nL 5.421875 11.28125 \r\nQ 10.40625 8.6875 15.234375 7.390625 \r\nQ 20.0625 6.109375 24.8125 6.109375 \r\nQ 31.15625 6.109375 34.5625 8.28125 \r\nQ 37.984375 10.453125 37.984375 14.40625 \r\nQ 37.984375 18.0625 35.515625 20.015625 \r\nQ 33.0625 21.96875 24.703125 23.78125 \r\nL 21.578125 24.515625 \r\nQ 13.234375 26.265625 9.515625 29.90625 \r\nQ 5.8125 33.546875 5.8125 39.890625 \r\nQ 5.8125 47.609375 11.28125 51.796875 \r\nQ 16.75 56 26.8125 56 \r\nQ 31.78125 56 36.171875 55.265625 \r\nQ 40.578125 54.546875 44.28125 53.078125 \r\nz\r\n\" id=\"DejaVuSans-115\"/>\r\n       </defs>\r\n       <use xlink:href=\"#DejaVuSans-80\"/>\r\n       <use x=\"60.302734\" xlink:href=\"#DejaVuSans-99\"/>\r\n       <use x=\"115.283203\" xlink:href=\"#DejaVuSans-108\"/>\r\n       <use x=\"143.066406\" xlink:href=\"#DejaVuSans-97\"/>\r\n       <use x=\"204.345703\" xlink:href=\"#DejaVuSans-115\"/>\r\n       <use x=\"256.445312\" xlink:href=\"#DejaVuSans-115\"/>\r\n      </g>\r\n     </g>\r\n    </g>\r\n    <g id=\"xtick_3\">\r\n     <g id=\"line2d_3\">\r\n      <g>\r\n       <use style=\"stroke:#000000;stroke-width:0.8;\" x=\"169.714063\" xlink:href=\"#m2d701deee9\" y=\"228.439219\"/>\r\n      </g>\r\n     </g>\r\n     <g id=\"text_3\">\r\n      <!-- Age -->\r\n      <g transform=\"translate(160.042969 243.037656)scale(0.1 -0.1)\">\r\n       <defs>\r\n        <path d=\"M 34.1875 63.1875 \r\nL 20.796875 26.90625 \r\nL 47.609375 26.90625 \r\nz\r\nM 28.609375 72.90625 \r\nL 39.796875 72.90625 \r\nL 67.578125 0 \r\nL 57.328125 0 \r\nL 50.6875 18.703125 \r\nL 17.828125 18.703125 \r\nL 11.1875 0 \r\nL 0.78125 0 \r\nz\r\n\" id=\"DejaVuSans-65\"/>\r\n        <path d=\"M 45.40625 27.984375 \r\nQ 45.40625 37.75 41.375 43.109375 \r\nQ 37.359375 48.484375 30.078125 48.484375 \r\nQ 22.859375 48.484375 18.828125 43.109375 \r\nQ 14.796875 37.75 14.796875 27.984375 \r\nQ 14.796875 18.265625 18.828125 12.890625 \r\nQ 22.859375 7.515625 30.078125 7.515625 \r\nQ 37.359375 7.515625 41.375 12.890625 \r\nQ 45.40625 18.265625 45.40625 27.984375 \r\nz\r\nM 54.390625 6.78125 \r\nQ 54.390625 -7.171875 48.1875 -13.984375 \r\nQ 42 -20.796875 29.203125 -20.796875 \r\nQ 24.46875 -20.796875 20.265625 -20.09375 \r\nQ 16.0625 -19.390625 12.109375 -17.921875 \r\nL 12.109375 -9.1875 \r\nQ 16.0625 -11.328125 19.921875 -12.34375 \r\nQ 23.78125 -13.375 27.78125 -13.375 \r\nQ 36.625 -13.375 41.015625 -8.765625 \r\nQ 45.40625 -4.15625 45.40625 5.171875 \r\nL 45.40625 9.625 \r\nQ 42.625 4.78125 38.28125 2.390625 \r\nQ 33.9375 0 27.875 0 \r\nQ 17.828125 0 11.671875 7.65625 \r\nQ 5.515625 15.328125 5.515625 27.984375 \r\nQ 5.515625 40.671875 11.671875 48.328125 \r\nQ 17.828125 56 27.875 56 \r\nQ 33.9375 56 38.28125 53.609375 \r\nQ 42.625 51.21875 45.40625 46.390625 \r\nL 45.40625 54.6875 \r\nL 54.390625 54.6875 \r\nz\r\n\" id=\"DejaVuSans-103\"/>\r\n       </defs>\r\n       <use xlink:href=\"#DejaVuSans-65\"/>\r\n       <use x=\"68.408203\" xlink:href=\"#DejaVuSans-103\"/>\r\n       <use x=\"131.884766\" xlink:href=\"#DejaVuSans-101\"/>\r\n      </g>\r\n     </g>\r\n    </g>\r\n    <g id=\"xtick_4\">\r\n     <g id=\"line2d_4\">\r\n      <g>\r\n       <use style=\"stroke:#000000;stroke-width:0.8;\" x=\"214.354062\" xlink:href=\"#m2d701deee9\" y=\"228.439219\"/>\r\n      </g>\r\n     </g>\r\n     <g id=\"text_4\">\r\n      <!-- SibSp -->\r\n      <g transform=\"translate(200.268125 243.037656)scale(0.1 -0.1)\">\r\n       <defs>\r\n        <path d=\"M 48.6875 27.296875 \r\nQ 48.6875 37.203125 44.609375 42.84375 \r\nQ 40.53125 48.484375 33.40625 48.484375 \r\nQ 26.265625 48.484375 22.1875 42.84375 \r\nQ 18.109375 37.203125 18.109375 27.296875 \r\nQ 18.109375 17.390625 22.1875 11.75 \r\nQ 26.265625 6.109375 33.40625 6.109375 \r\nQ 40.53125 6.109375 44.609375 11.75 \r\nQ 48.6875 17.390625 48.6875 27.296875 \r\nz\r\nM 18.109375 46.390625 \r\nQ 20.953125 51.265625 25.265625 53.625 \r\nQ 29.59375 56 35.59375 56 \r\nQ 45.5625 56 51.78125 48.09375 \r\nQ 58.015625 40.1875 58.015625 27.296875 \r\nQ 58.015625 14.40625 51.78125 6.484375 \r\nQ 45.5625 -1.421875 35.59375 -1.421875 \r\nQ 29.59375 -1.421875 25.265625 0.953125 \r\nQ 20.953125 3.328125 18.109375 8.203125 \r\nL 18.109375 0 \r\nL 9.078125 0 \r\nL 9.078125 75.984375 \r\nL 18.109375 75.984375 \r\nz\r\n\" id=\"DejaVuSans-98\"/>\r\n        <path d=\"M 18.109375 8.203125 \r\nL 18.109375 -20.796875 \r\nL 9.078125 -20.796875 \r\nL 9.078125 54.6875 \r\nL 18.109375 54.6875 \r\nL 18.109375 46.390625 \r\nQ 20.953125 51.265625 25.265625 53.625 \r\nQ 29.59375 56 35.59375 56 \r\nQ 45.5625 56 51.78125 48.09375 \r\nQ 58.015625 40.1875 58.015625 27.296875 \r\nQ 58.015625 14.40625 51.78125 6.484375 \r\nQ 45.5625 -1.421875 35.59375 -1.421875 \r\nQ 29.59375 -1.421875 25.265625 0.953125 \r\nQ 20.953125 3.328125 18.109375 8.203125 \r\nz\r\nM 48.6875 27.296875 \r\nQ 48.6875 37.203125 44.609375 42.84375 \r\nQ 40.53125 48.484375 33.40625 48.484375 \r\nQ 26.265625 48.484375 22.1875 42.84375 \r\nQ 18.109375 37.203125 18.109375 27.296875 \r\nQ 18.109375 17.390625 22.1875 11.75 \r\nQ 26.265625 6.109375 33.40625 6.109375 \r\nQ 40.53125 6.109375 44.609375 11.75 \r\nQ 48.6875 17.390625 48.6875 27.296875 \r\nz\r\n\" id=\"DejaVuSans-112\"/>\r\n       </defs>\r\n       <use xlink:href=\"#DejaVuSans-83\"/>\r\n       <use x=\"63.476562\" xlink:href=\"#DejaVuSans-105\"/>\r\n       <use x=\"91.259766\" xlink:href=\"#DejaVuSans-98\"/>\r\n       <use x=\"154.736328\" xlink:href=\"#DejaVuSans-83\"/>\r\n       <use x=\"218.212891\" xlink:href=\"#DejaVuSans-112\"/>\r\n      </g>\r\n     </g>\r\n    </g>\r\n    <g id=\"xtick_5\">\r\n     <g id=\"line2d_5\">\r\n      <g>\r\n       <use style=\"stroke:#000000;stroke-width:0.8;\" x=\"258.994062\" xlink:href=\"#m2d701deee9\" y=\"228.439219\"/>\r\n      </g>\r\n     </g>\r\n     <g id=\"text_5\">\r\n      <!-- Parch -->\r\n      <g transform=\"translate(245.279219 243.037656)scale(0.1 -0.1)\">\r\n       <defs>\r\n        <path d=\"M 54.890625 33.015625 \r\nL 54.890625 0 \r\nL 45.90625 0 \r\nL 45.90625 32.71875 \r\nQ 45.90625 40.484375 42.875 44.328125 \r\nQ 39.84375 48.1875 33.796875 48.1875 \r\nQ 26.515625 48.1875 22.3125 43.546875 \r\nQ 18.109375 38.921875 18.109375 30.90625 \r\nL 18.109375 0 \r\nL 9.078125 0 \r\nL 9.078125 75.984375 \r\nL 18.109375 75.984375 \r\nL 18.109375 46.1875 \r\nQ 21.34375 51.125 25.703125 53.5625 \r\nQ 30.078125 56 35.796875 56 \r\nQ 45.21875 56 50.046875 50.171875 \r\nQ 54.890625 44.34375 54.890625 33.015625 \r\nz\r\n\" id=\"DejaVuSans-104\"/>\r\n       </defs>\r\n       <use xlink:href=\"#DejaVuSans-80\"/>\r\n       <use x=\"55.802734\" xlink:href=\"#DejaVuSans-97\"/>\r\n       <use x=\"117.082031\" xlink:href=\"#DejaVuSans-114\"/>\r\n       <use x=\"155.945312\" xlink:href=\"#DejaVuSans-99\"/>\r\n       <use x=\"210.925781\" xlink:href=\"#DejaVuSans-104\"/>\r\n      </g>\r\n     </g>\r\n    </g>\r\n    <g id=\"xtick_6\">\r\n     <g id=\"line2d_6\">\r\n      <g>\r\n       <use style=\"stroke:#000000;stroke-width:0.8;\" x=\"303.634063\" xlink:href=\"#m2d701deee9\" y=\"228.439219\"/>\r\n      </g>\r\n     </g>\r\n     <g id=\"text_6\">\r\n      <!-- Fare -->\r\n      <g transform=\"translate(293.130938 243.037656)scale(0.1 -0.1)\">\r\n       <defs>\r\n        <path d=\"M 9.8125 72.90625 \r\nL 51.703125 72.90625 \r\nL 51.703125 64.59375 \r\nL 19.671875 64.59375 \r\nL 19.671875 43.109375 \r\nL 48.578125 43.109375 \r\nL 48.578125 34.8125 \r\nL 19.671875 34.8125 \r\nL 19.671875 0 \r\nL 9.8125 0 \r\nz\r\n\" id=\"DejaVuSans-70\"/>\r\n       </defs>\r\n       <use xlink:href=\"#DejaVuSans-70\"/>\r\n       <use x=\"48.394531\" xlink:href=\"#DejaVuSans-97\"/>\r\n       <use x=\"109.673828\" xlink:href=\"#DejaVuSans-114\"/>\r\n       <use x=\"148.537109\" xlink:href=\"#DejaVuSans-101\"/>\r\n      </g>\r\n     </g>\r\n    </g>\r\n   </g>\r\n   <g id=\"matplotlib.axis_2\">\r\n    <g id=\"ytick_1\">\r\n     <g id=\"line2d_7\">\r\n      <defs>\r\n       <path d=\"M 0 0 \r\nL -3.5 0 \r\n\" id=\"mb1931b6371\" style=\"stroke:#000000;stroke-width:0.8;\"/>\r\n      </defs>\r\n      <g>\r\n       <use style=\"stroke:#000000;stroke-width:0.8;\" x=\"58.114063\" xlink:href=\"#mb1931b6371\" y=\"29.119219\"/>\r\n      </g>\r\n     </g>\r\n     <g id=\"text_7\">\r\n      <!-- Survived -->\r\n      <g transform=\"translate(7.2 32.918438)scale(0.1 -0.1)\">\r\n       <use xlink:href=\"#DejaVuSans-83\"/>\r\n       <use x=\"63.476562\" xlink:href=\"#DejaVuSans-117\"/>\r\n       <use x=\"126.855469\" xlink:href=\"#DejaVuSans-114\"/>\r\n       <use x=\"167.96875\" xlink:href=\"#DejaVuSans-118\"/>\r\n       <use x=\"227.148438\" xlink:href=\"#DejaVuSans-105\"/>\r\n       <use x=\"254.931641\" xlink:href=\"#DejaVuSans-118\"/>\r\n       <use x=\"314.111328\" xlink:href=\"#DejaVuSans-101\"/>\r\n       <use x=\"375.634766\" xlink:href=\"#DejaVuSans-100\"/>\r\n      </g>\r\n     </g>\r\n    </g>\r\n    <g id=\"ytick_2\">\r\n     <g id=\"line2d_8\">\r\n      <g>\r\n       <use style=\"stroke:#000000;stroke-width:0.8;\" x=\"58.114063\" xlink:href=\"#mb1931b6371\" y=\"65.359219\"/>\r\n      </g>\r\n     </g>\r\n     <g id=\"text_8\">\r\n      <!-- Pclass -->\r\n      <g transform=\"translate(20.260938 69.158438)scale(0.1 -0.1)\">\r\n       <use xlink:href=\"#DejaVuSans-80\"/>\r\n       <use x=\"60.302734\" xlink:href=\"#DejaVuSans-99\"/>\r\n       <use x=\"115.283203\" xlink:href=\"#DejaVuSans-108\"/>\r\n       <use x=\"143.066406\" xlink:href=\"#DejaVuSans-97\"/>\r\n       <use x=\"204.345703\" xlink:href=\"#DejaVuSans-115\"/>\r\n       <use x=\"256.445312\" xlink:href=\"#DejaVuSans-115\"/>\r\n      </g>\r\n     </g>\r\n    </g>\r\n    <g id=\"ytick_3\">\r\n     <g id=\"line2d_9\">\r\n      <g>\r\n       <use style=\"stroke:#000000;stroke-width:0.8;\" x=\"58.114063\" xlink:href=\"#mb1931b6371\" y=\"101.599219\"/>\r\n      </g>\r\n     </g>\r\n     <g id=\"text_9\">\r\n      <!-- Age -->\r\n      <g transform=\"translate(31.771875 105.398438)scale(0.1 -0.1)\">\r\n       <use xlink:href=\"#DejaVuSans-65\"/>\r\n       <use x=\"68.408203\" xlink:href=\"#DejaVuSans-103\"/>\r\n       <use x=\"131.884766\" xlink:href=\"#DejaVuSans-101\"/>\r\n      </g>\r\n     </g>\r\n    </g>\r\n    <g id=\"ytick_4\">\r\n     <g id=\"line2d_10\">\r\n      <g>\r\n       <use style=\"stroke:#000000;stroke-width:0.8;\" x=\"58.114063\" xlink:href=\"#mb1931b6371\" y=\"137.839219\"/>\r\n      </g>\r\n     </g>\r\n     <g id=\"text_10\">\r\n      <!-- SibSp -->\r\n      <g transform=\"translate(22.942188 141.638438)scale(0.1 -0.1)\">\r\n       <use xlink:href=\"#DejaVuSans-83\"/>\r\n       <use x=\"63.476562\" xlink:href=\"#DejaVuSans-105\"/>\r\n       <use x=\"91.259766\" xlink:href=\"#DejaVuSans-98\"/>\r\n       <use x=\"154.736328\" xlink:href=\"#DejaVuSans-83\"/>\r\n       <use x=\"218.212891\" xlink:href=\"#DejaVuSans-112\"/>\r\n      </g>\r\n     </g>\r\n    </g>\r\n    <g id=\"ytick_5\">\r\n     <g id=\"line2d_11\">\r\n      <g>\r\n       <use style=\"stroke:#000000;stroke-width:0.8;\" x=\"58.114063\" xlink:href=\"#mb1931b6371\" y=\"174.079219\"/>\r\n      </g>\r\n     </g>\r\n     <g id=\"text_11\">\r\n      <!-- Parch -->\r\n      <g transform=\"translate(23.684375 177.878438)scale(0.1 -0.1)\">\r\n       <use xlink:href=\"#DejaVuSans-80\"/>\r\n       <use x=\"55.802734\" xlink:href=\"#DejaVuSans-97\"/>\r\n       <use x=\"117.082031\" xlink:href=\"#DejaVuSans-114\"/>\r\n       <use x=\"155.945312\" xlink:href=\"#DejaVuSans-99\"/>\r\n       <use x=\"210.925781\" xlink:href=\"#DejaVuSans-104\"/>\r\n      </g>\r\n     </g>\r\n    </g>\r\n    <g id=\"ytick_6\">\r\n     <g id=\"line2d_12\">\r\n      <g>\r\n       <use style=\"stroke:#000000;stroke-width:0.8;\" x=\"58.114063\" xlink:href=\"#mb1931b6371\" y=\"210.319219\"/>\r\n      </g>\r\n     </g>\r\n     <g id=\"text_12\">\r\n      <!-- Fare -->\r\n      <g transform=\"translate(30.107813 214.118438)scale(0.1 -0.1)\">\r\n       <use xlink:href=\"#DejaVuSans-70\"/>\r\n       <use x=\"48.394531\" xlink:href=\"#DejaVuSans-97\"/>\r\n       <use x=\"109.673828\" xlink:href=\"#DejaVuSans-114\"/>\r\n       <use x=\"148.537109\" xlink:href=\"#DejaVuSans-101\"/>\r\n      </g>\r\n     </g>\r\n    </g>\r\n   </g>\r\n  </g>\r\n  <g id=\"axes_2\">\r\n   <g id=\"patch_3\">\r\n    <path clip-path=\"url(#p4b108d454c)\" d=\"M 342.694063 228.439219 \r\nL 342.694063 227.589844 \r\nL 342.694063 11.848594 \r\nL 342.694063 10.999219 \r\nL 353.566063 10.999219 \r\nL 353.566063 11.848594 \r\nL 353.566063 227.589844 \r\nL 353.566063 228.439219 \r\nz\r\n\" style=\"fill:#ffffff;stroke:#ffffff;stroke-linejoin:miter;stroke-width:0.01;\"/>\r\n   </g>\r\n   <image height=\"217\" id=\"image4145c4f56f\" transform=\"scale(1 -1)translate(0 -217)\" width=\"11\" x=\"343\" xlink:href=\"data:image/png;base64,\r\niVBORw0KGgoAAAANSUhEUgAAAAsAAADZCAYAAAD2WsoCAAABX0lEQVR4nNWa2w0DMQjAeN0S3X/OXlfAH5ZovhEyhqS5qDnP543lmszcxtLgAMFdJWUurcAiGCgzsuFhHPHc6dk4MXWoQLEpNzKb7dZsaBgTaDb2y5wNrd0QY7/Mk58EjzZIzIbXbm9brUPp8HvqoA2AIarTmJGNI8wIg+1ukpkVuP48+FsbJJjY8DDmBgZrN2EehHHEhoYx7z61uAfrBgaykWExwwIBRjNmEgxEi+oSnAXTJLhIMMKAmdexMV1fKbNYIDjsGHM1sAGZAQZSJ9oYbTYQs6auwFWGYYQ3G14wuPeQxx6qjmUGN3OWGdwLJgiGx8wwwM8mzEyeLFBmGEze6zQbQZ4NPRtJbES3hIGa4nnO0QoU200yoz0IPnlVG6SDHgaywc461EFLHdzdGoZXIMrcaPhvMLN2o3nWNmzemDrRBinwxvBnP1Jmc/iJZ9Ju9C+LKwWydmtnnVXgD2R4KiPLLY7SAAAAAElFTkSuQmCC\" y=\"-11\"/>\r\n   <g id=\"matplotlib.axis_3\"/>\r\n   <g id=\"matplotlib.axis_4\">\r\n    <g id=\"ytick_7\">\r\n     <g id=\"line2d_13\">\r\n      <defs>\r\n       <path d=\"M 0 0 \r\nL 3.5 0 \r\n\" id=\"m61b2dba8c4\" style=\"stroke:#000000;stroke-width:0.8;\"/>\r\n      </defs>\r\n      <g>\r\n       <use style=\"stroke:#000000;stroke-width:0.8;\" x=\"353.566063\" xlink:href=\"#m61b2dba8c4\" y=\"207.460061\"/>\r\n      </g>\r\n     </g>\r\n     <g id=\"text_13\">\r\n      <!-- −0.4 -->\r\n      <g transform=\"translate(360.566063 211.259279)scale(0.1 -0.1)\">\r\n       <defs>\r\n        <path d=\"M 10.59375 35.5 \r\nL 73.1875 35.5 \r\nL 73.1875 27.203125 \r\nL 10.59375 27.203125 \r\nz\r\n\" id=\"DejaVuSans-8722\"/>\r\n        <path d=\"M 31.78125 66.40625 \r\nQ 24.171875 66.40625 20.328125 58.90625 \r\nQ 16.5 51.421875 16.5 36.375 \r\nQ 16.5 21.390625 20.328125 13.890625 \r\nQ 24.171875 6.390625 31.78125 6.390625 \r\nQ 39.453125 6.390625 43.28125 13.890625 \r\nQ 47.125 21.390625 47.125 36.375 \r\nQ 47.125 51.421875 43.28125 58.90625 \r\nQ 39.453125 66.40625 31.78125 66.40625 \r\nz\r\nM 31.78125 74.21875 \r\nQ 44.046875 74.21875 50.515625 64.515625 \r\nQ 56.984375 54.828125 56.984375 36.375 \r\nQ 56.984375 17.96875 50.515625 8.265625 \r\nQ 44.046875 -1.421875 31.78125 -1.421875 \r\nQ 19.53125 -1.421875 13.0625 8.265625 \r\nQ 6.59375 17.96875 6.59375 36.375 \r\nQ 6.59375 54.828125 13.0625 64.515625 \r\nQ 19.53125 74.21875 31.78125 74.21875 \r\nz\r\n\" id=\"DejaVuSans-48\"/>\r\n        <path d=\"M 10.6875 12.40625 \r\nL 21 12.40625 \r\nL 21 0 \r\nL 10.6875 0 \r\nz\r\n\" id=\"DejaVuSans-46\"/>\r\n        <path d=\"M 37.796875 64.3125 \r\nL 12.890625 25.390625 \r\nL 37.796875 25.390625 \r\nz\r\nM 35.203125 72.90625 \r\nL 47.609375 72.90625 \r\nL 47.609375 25.390625 \r\nL 58.015625 25.390625 \r\nL 58.015625 17.1875 \r\nL 47.609375 17.1875 \r\nL 47.609375 0 \r\nL 37.796875 0 \r\nL 37.796875 17.1875 \r\nL 4.890625 17.1875 \r\nL 4.890625 26.703125 \r\nz\r\n\" id=\"DejaVuSans-52\"/>\r\n       </defs>\r\n       <use xlink:href=\"#DejaVuSans-8722\"/>\r\n       <use x=\"83.789062\" xlink:href=\"#DejaVuSans-48\"/>\r\n       <use x=\"147.412109\" xlink:href=\"#DejaVuSans-46\"/>\r\n       <use x=\"179.199219\" xlink:href=\"#DejaVuSans-52\"/>\r\n      </g>\r\n     </g>\r\n    </g>\r\n    <g id=\"ytick_8\">\r\n     <g id=\"line2d_14\">\r\n      <g>\r\n       <use style=\"stroke:#000000;stroke-width:0.8;\" x=\"353.566063\" xlink:href=\"#m61b2dba8c4\" y=\"179.394226\"/>\r\n      </g>\r\n     </g>\r\n     <g id=\"text_14\">\r\n      <!-- −0.2 -->\r\n      <g transform=\"translate(360.566063 183.193445)scale(0.1 -0.1)\">\r\n       <defs>\r\n        <path d=\"M 19.1875 8.296875 \r\nL 53.609375 8.296875 \r\nL 53.609375 0 \r\nL 7.328125 0 \r\nL 7.328125 8.296875 \r\nQ 12.9375 14.109375 22.625 23.890625 \r\nQ 32.328125 33.6875 34.8125 36.53125 \r\nQ 39.546875 41.84375 41.421875 45.53125 \r\nQ 43.3125 49.21875 43.3125 52.78125 \r\nQ 43.3125 58.59375 39.234375 62.25 \r\nQ 35.15625 65.921875 28.609375 65.921875 \r\nQ 23.96875 65.921875 18.8125 64.3125 \r\nQ 13.671875 62.703125 7.8125 59.421875 \r\nL 7.8125 69.390625 \r\nQ 13.765625 71.78125 18.9375 73 \r\nQ 24.125 74.21875 28.421875 74.21875 \r\nQ 39.75 74.21875 46.484375 68.546875 \r\nQ 53.21875 62.890625 53.21875 53.421875 \r\nQ 53.21875 48.921875 51.53125 44.890625 \r\nQ 49.859375 40.875 45.40625 35.40625 \r\nQ 44.1875 33.984375 37.640625 27.21875 \r\nQ 31.109375 20.453125 19.1875 8.296875 \r\nz\r\n\" id=\"DejaVuSans-50\"/>\r\n       </defs>\r\n       <use xlink:href=\"#DejaVuSans-8722\"/>\r\n       <use x=\"83.789062\" xlink:href=\"#DejaVuSans-48\"/>\r\n       <use x=\"147.412109\" xlink:href=\"#DejaVuSans-46\"/>\r\n       <use x=\"179.199219\" xlink:href=\"#DejaVuSans-50\"/>\r\n      </g>\r\n     </g>\r\n    </g>\r\n    <g id=\"ytick_9\">\r\n     <g id=\"line2d_15\">\r\n      <g>\r\n       <use style=\"stroke:#000000;stroke-width:0.8;\" x=\"353.566063\" xlink:href=\"#m61b2dba8c4\" y=\"151.328392\"/>\r\n      </g>\r\n     </g>\r\n     <g id=\"text_15\">\r\n      <!-- 0.0 -->\r\n      <g transform=\"translate(360.566063 155.12761)scale(0.1 -0.1)\">\r\n       <use xlink:href=\"#DejaVuSans-48\"/>\r\n       <use x=\"63.623047\" xlink:href=\"#DejaVuSans-46\"/>\r\n       <use x=\"95.410156\" xlink:href=\"#DejaVuSans-48\"/>\r\n      </g>\r\n     </g>\r\n    </g>\r\n    <g id=\"ytick_10\">\r\n     <g id=\"line2d_16\">\r\n      <g>\r\n       <use style=\"stroke:#000000;stroke-width:0.8;\" x=\"353.566063\" xlink:href=\"#m61b2dba8c4\" y=\"123.262557\"/>\r\n      </g>\r\n     </g>\r\n     <g id=\"text_16\">\r\n      <!-- 0.2 -->\r\n      <g transform=\"translate(360.566063 127.061776)scale(0.1 -0.1)\">\r\n       <use xlink:href=\"#DejaVuSans-48\"/>\r\n       <use x=\"63.623047\" xlink:href=\"#DejaVuSans-46\"/>\r\n       <use x=\"95.410156\" xlink:href=\"#DejaVuSans-50\"/>\r\n      </g>\r\n     </g>\r\n    </g>\r\n    <g id=\"ytick_11\">\r\n     <g id=\"line2d_17\">\r\n      <g>\r\n       <use style=\"stroke:#000000;stroke-width:0.8;\" x=\"353.566063\" xlink:href=\"#m61b2dba8c4\" y=\"95.196722\"/>\r\n      </g>\r\n     </g>\r\n     <g id=\"text_17\">\r\n      <!-- 0.4 -->\r\n      <g transform=\"translate(360.566063 98.995941)scale(0.1 -0.1)\">\r\n       <use xlink:href=\"#DejaVuSans-48\"/>\r\n       <use x=\"63.623047\" xlink:href=\"#DejaVuSans-46\"/>\r\n       <use x=\"95.410156\" xlink:href=\"#DejaVuSans-52\"/>\r\n      </g>\r\n     </g>\r\n    </g>\r\n    <g id=\"ytick_12\">\r\n     <g id=\"line2d_18\">\r\n      <g>\r\n       <use style=\"stroke:#000000;stroke-width:0.8;\" x=\"353.566063\" xlink:href=\"#m61b2dba8c4\" y=\"67.130888\"/>\r\n      </g>\r\n     </g>\r\n     <g id=\"text_18\">\r\n      <!-- 0.6 -->\r\n      <g transform=\"translate(360.566063 70.930107)scale(0.1 -0.1)\">\r\n       <defs>\r\n        <path d=\"M 33.015625 40.375 \r\nQ 26.375 40.375 22.484375 35.828125 \r\nQ 18.609375 31.296875 18.609375 23.390625 \r\nQ 18.609375 15.53125 22.484375 10.953125 \r\nQ 26.375 6.390625 33.015625 6.390625 \r\nQ 39.65625 6.390625 43.53125 10.953125 \r\nQ 47.40625 15.53125 47.40625 23.390625 \r\nQ 47.40625 31.296875 43.53125 35.828125 \r\nQ 39.65625 40.375 33.015625 40.375 \r\nz\r\nM 52.59375 71.296875 \r\nL 52.59375 62.3125 \r\nQ 48.875 64.0625 45.09375 64.984375 \r\nQ 41.3125 65.921875 37.59375 65.921875 \r\nQ 27.828125 65.921875 22.671875 59.328125 \r\nQ 17.53125 52.734375 16.796875 39.40625 \r\nQ 19.671875 43.65625 24.015625 45.921875 \r\nQ 28.375 48.1875 33.59375 48.1875 \r\nQ 44.578125 48.1875 50.953125 41.515625 \r\nQ 57.328125 34.859375 57.328125 23.390625 \r\nQ 57.328125 12.15625 50.6875 5.359375 \r\nQ 44.046875 -1.421875 33.015625 -1.421875 \r\nQ 20.359375 -1.421875 13.671875 8.265625 \r\nQ 6.984375 17.96875 6.984375 36.375 \r\nQ 6.984375 53.65625 15.1875 63.9375 \r\nQ 23.390625 74.21875 37.203125 74.21875 \r\nQ 40.921875 74.21875 44.703125 73.484375 \r\nQ 48.484375 72.75 52.59375 71.296875 \r\nz\r\n\" id=\"DejaVuSans-54\"/>\r\n       </defs>\r\n       <use xlink:href=\"#DejaVuSans-48\"/>\r\n       <use x=\"63.623047\" xlink:href=\"#DejaVuSans-46\"/>\r\n       <use x=\"95.410156\" xlink:href=\"#DejaVuSans-54\"/>\r\n      </g>\r\n     </g>\r\n    </g>\r\n    <g id=\"ytick_13\">\r\n     <g id=\"line2d_19\">\r\n      <g>\r\n       <use style=\"stroke:#000000;stroke-width:0.8;\" x=\"353.566063\" xlink:href=\"#m61b2dba8c4\" y=\"39.065053\"/>\r\n      </g>\r\n     </g>\r\n     <g id=\"text_19\">\r\n      <!-- 0.8 -->\r\n      <g transform=\"translate(360.566063 42.864272)scale(0.1 -0.1)\">\r\n       <defs>\r\n        <path d=\"M 31.78125 34.625 \r\nQ 24.75 34.625 20.71875 30.859375 \r\nQ 16.703125 27.09375 16.703125 20.515625 \r\nQ 16.703125 13.921875 20.71875 10.15625 \r\nQ 24.75 6.390625 31.78125 6.390625 \r\nQ 38.8125 6.390625 42.859375 10.171875 \r\nQ 46.921875 13.96875 46.921875 20.515625 \r\nQ 46.921875 27.09375 42.890625 30.859375 \r\nQ 38.875 34.625 31.78125 34.625 \r\nz\r\nM 21.921875 38.8125 \r\nQ 15.578125 40.375 12.03125 44.71875 \r\nQ 8.5 49.078125 8.5 55.328125 \r\nQ 8.5 64.0625 14.71875 69.140625 \r\nQ 20.953125 74.21875 31.78125 74.21875 \r\nQ 42.671875 74.21875 48.875 69.140625 \r\nQ 55.078125 64.0625 55.078125 55.328125 \r\nQ 55.078125 49.078125 51.53125 44.71875 \r\nQ 48 40.375 41.703125 38.8125 \r\nQ 48.828125 37.15625 52.796875 32.3125 \r\nQ 56.78125 27.484375 56.78125 20.515625 \r\nQ 56.78125 9.90625 50.3125 4.234375 \r\nQ 43.84375 -1.421875 31.78125 -1.421875 \r\nQ 19.734375 -1.421875 13.25 4.234375 \r\nQ 6.78125 9.90625 6.78125 20.515625 \r\nQ 6.78125 27.484375 10.78125 32.3125 \r\nQ 14.796875 37.15625 21.921875 38.8125 \r\nz\r\nM 18.3125 54.390625 \r\nQ 18.3125 48.734375 21.84375 45.5625 \r\nQ 25.390625 42.390625 31.78125 42.390625 \r\nQ 38.140625 42.390625 41.71875 45.5625 \r\nQ 45.3125 48.734375 45.3125 54.390625 \r\nQ 45.3125 60.0625 41.71875 63.234375 \r\nQ 38.140625 66.40625 31.78125 66.40625 \r\nQ 25.390625 66.40625 21.84375 63.234375 \r\nQ 18.3125 60.0625 18.3125 54.390625 \r\nz\r\n\" id=\"DejaVuSans-56\"/>\r\n       </defs>\r\n       <use xlink:href=\"#DejaVuSans-48\"/>\r\n       <use x=\"63.623047\" xlink:href=\"#DejaVuSans-46\"/>\r\n       <use x=\"95.410156\" xlink:href=\"#DejaVuSans-56\"/>\r\n      </g>\r\n     </g>\r\n    </g>\r\n    <g id=\"ytick_14\">\r\n     <g id=\"line2d_20\">\r\n      <g>\r\n       <use style=\"stroke:#000000;stroke-width:0.8;\" x=\"353.566063\" xlink:href=\"#m61b2dba8c4\" y=\"10.999219\"/>\r\n      </g>\r\n     </g>\r\n     <g id=\"text_20\">\r\n      <!-- 1.0 -->\r\n      <g transform=\"translate(360.566063 14.798438)scale(0.1 -0.1)\">\r\n       <defs>\r\n        <path d=\"M 12.40625 8.296875 \r\nL 28.515625 8.296875 \r\nL 28.515625 63.921875 \r\nL 10.984375 60.40625 \r\nL 10.984375 69.390625 \r\nL 28.421875 72.90625 \r\nL 38.28125 72.90625 \r\nL 38.28125 8.296875 \r\nL 54.390625 8.296875 \r\nL 54.390625 0 \r\nL 12.40625 0 \r\nz\r\n\" id=\"DejaVuSans-49\"/>\r\n       </defs>\r\n       <use xlink:href=\"#DejaVuSans-49\"/>\r\n       <use x=\"63.623047\" xlink:href=\"#DejaVuSans-46\"/>\r\n       <use x=\"95.410156\" xlink:href=\"#DejaVuSans-48\"/>\r\n      </g>\r\n     </g>\r\n    </g>\r\n   </g>\r\n   <g id=\"patch_4\">\r\n    <path d=\"M 342.694063 228.439219 \r\nL 342.694063 227.589844 \r\nL 342.694063 11.848594 \r\nL 342.694063 10.999219 \r\nL 353.566063 10.999219 \r\nL 353.566063 11.848594 \r\nL 353.566063 227.589844 \r\nL 353.566063 228.439219 \r\nz\r\n\" style=\"fill:none;\"/>\r\n   </g>\r\n  </g>\r\n </g>\r\n <defs>\r\n  <clipPath id=\"p66465a425c\">\r\n   <rect height=\"217.44\" width=\"267.84\" x=\"58.114063\" y=\"10.999219\"/>\r\n  </clipPath>\r\n  <clipPath id=\"p4b108d454c\">\r\n   <rect height=\"217.44\" width=\"10.872\" x=\"342.694063\" y=\"10.999219\"/>\r\n  </clipPath>\r\n </defs>\r\n</svg>\r\n",
      "image/png": "[encoded data removed]"
     },
     "metadata": {
      "needs_background": "light"
     }
    }
   ],
   "source": [
    "sns.heatmap(train.corr())"
   ]
  },
  {
   "cell_type": "code",
   "execution_count": 11,
   "metadata": {},
   "outputs": [],
   "source": [
    "train[\"Age_na\"] = np.where(train[\"Age\"].isnull(), 1, 0)\n",
    "train[\"Cabin_na\"] = np.where(train[\"Cabin\"].isnull(), 1, 0)"
   ]
  },
  {
   "cell_type": "code",
   "execution_count": 12,
   "metadata": {},
   "outputs": [
    {
     "output_type": "execute_result",
     "data": {
      "text/plain": [
       "<AxesSubplot:>"
      ]
     },
     "metadata": {},
     "execution_count": 12
    },
    {
     "output_type": "display_data",
     "data": {
      "text/plain": "<Figure size 432x288 with 2 Axes>",
      "image/svg+xml": "<?xml version=\"1.0\" encoding=\"utf-8\" standalone=\"no\"?>\r\n<!DOCTYPE svg PUBLIC \"-//W3C//DTD SVG 1.1//EN\"\r\n  \"http://www.w3.org/Graphics/SVG/1.1/DTD/svg11.dtd\">\r\n<!-- Created with matplotlib (https://matplotlib.org/) -->\r\n<svg height=\"288.679844pt\" version=\"1.1\" viewBox=\"0 0 394.175437 288.679844\" width=\"394.175437pt\" xmlns=\"http://www.w3.org/2000/svg\" xmlns:xlink=\"http://www.w3.org/1999/xlink\">\r\n <metadata>\r\n  <rdf:RDF xmlns:cc=\"http://creativecommons.org/ns#\" xmlns:dc=\"http://purl.org/dc/elements/1.1/\" xmlns:rdf=\"http://www.w3.org/1999/02/22-rdf-syntax-ns#\">\r\n   <cc:Work>\r\n    <dc:type rdf:resource=\"http://purl.org/dc/dcmitype/StillImage\"/>\r\n    <dc:date>2021-01-31T22:12:12.690841</dc:date>\r\n    <dc:format>image/svg+xml</dc:format>\r\n    <dc:creator>\r\n     <cc:Agent>\r\n      <dc:title>Matplotlib v3.3.2, https://matplotlib.org/</dc:title>\r\n     </cc:Agent>\r\n    </dc:creator>\r\n   </cc:Work>\r\n  </rdf:RDF>\r\n </metadata>\r\n <defs>\r\n  <style type=\"text/css\">*{stroke-linecap:butt;stroke-linejoin:round;}</style>\r\n </defs>\r\n <g id=\"figure_1\">\r\n  <g id=\"patch_1\">\r\n   <path d=\"M 0 288.679844 \r\nL 394.175437 288.679844 \r\nL 394.175437 0 \r\nL 0 0 \r\nz\r\n\" style=\"fill:none;\"/>\r\n  </g>\r\n  <g id=\"axes_1\">\r\n   <g id=\"patch_2\">\r\n    <path d=\"M 60.240625 228.439219 \r\nL 328.080625 228.439219 \r\nL 328.080625 10.999219 \r\nL 60.240625 10.999219 \r\nz\r\n\" style=\"fill:#ffffff;\"/>\r\n   </g>\r\n   <g id=\"QuadMesh_1\">\r\n    <path clip-path=\"url(#pcda01556b5)\" d=\"M 60.240625 10.999219 \r\nL 93.720625 10.999219 \r\nL 93.720625 38.179219 \r\nL 60.240625 38.179219 \r\nL 60.240625 10.999219 \r\n\" style=\"fill:#faebdd;\"/>\r\n    <path clip-path=\"url(#pcda01556b5)\" d=\"M 93.720625 10.999219 \r\nL 127.200625 10.999219 \r\nL 127.200625 38.179219 \r\nL 93.720625 38.179219 \r\nL 93.720625 10.999219 \r\n\" style=\"fill:#33183c;\"/>\r\n    <path clip-path=\"url(#pcda01556b5)\" d=\"M 127.200625 10.999219 \r\nL 160.680625 10.999219 \r\nL 160.680625 38.179219 \r\nL 127.200625 38.179219 \r\nL 127.200625 10.999219 \r\n\" style=\"fill:#781f59;\"/>\r\n    <path clip-path=\"url(#pcda01556b5)\" d=\"M 160.680625 10.999219 \r\nL 194.160625 10.999219 \r\nL 194.160625 38.179219 \r\nL 160.680625 38.179219 \r\nL 160.680625 10.999219 \r\n\" style=\"fill:#821e5a;\"/>\r\n    <path clip-path=\"url(#pcda01556b5)\" d=\"M 194.160625 10.999219 \r\nL 227.640625 10.999219 \r\nL 227.640625 38.179219 \r\nL 194.160625 38.179219 \r\nL 194.160625 10.999219 \r\n\" style=\"fill:#a4195b;\"/>\r\n    <path clip-path=\"url(#pcda01556b5)\" d=\"M 227.640625 10.999219 \r\nL 261.120625 10.999219 \r\nL 261.120625 38.179219 \r\nL 227.640625 38.179219 \r\nL 227.640625 10.999219 \r\n\" style=\"fill:#d2204c;\"/>\r\n    <path clip-path=\"url(#pcda01556b5)\" d=\"M 261.120625 10.999219 \r\nL 294.600625 10.999219 \r\nL 294.600625 38.179219 \r\nL 261.120625 38.179219 \r\nL 261.120625 10.999219 \r\n\" style=\"fill:#731f58;\"/>\r\n    <path clip-path=\"url(#pcda01556b5)\" d=\"M 294.600625 10.999219 \r\nL 328.080625 10.999219 \r\nL 328.080625 38.179219 \r\nL 294.600625 38.179219 \r\nL 294.600625 10.999219 \r\n\" style=\"fill:#381a40;\"/>\r\n    <path clip-path=\"url(#pcda01556b5)\" d=\"M 60.240625 38.179219 \r\nL 93.720625 38.179219 \r\nL 93.720625 65.359219 \r\nL 60.240625 65.359219 \r\nL 60.240625 38.179219 \r\n\" style=\"fill:#33183c;\"/>\r\n    <path clip-path=\"url(#pcda01556b5)\" d=\"M 93.720625 38.179219 \r\nL 127.200625 38.179219 \r\nL 127.200625 65.359219 \r\nL 93.720625 65.359219 \r\nL 93.720625 38.179219 \r\n\" style=\"fill:#faebdd;\"/>\r\n    <path clip-path=\"url(#pcda01556b5)\" d=\"M 127.200625 38.179219 \r\nL 160.680625 38.179219 \r\nL 160.680625 65.359219 \r\nL 127.200625 65.359219 \r\nL 127.200625 38.179219 \r\n\" style=\"fill:#2b1637;\"/>\r\n    <path clip-path=\"url(#pcda01556b5)\" d=\"M 160.680625 38.179219 \r\nL 194.160625 38.179219 \r\nL 194.160625 65.359219 \r\nL 160.680625 65.359219 \r\nL 160.680625 38.179219 \r\n\" style=\"fill:#a4195b;\"/>\r\n    <path clip-path=\"url(#pcda01556b5)\" d=\"M 194.160625 38.179219 \r\nL 227.640625 38.179219 \r\nL 227.640625 65.359219 \r\nL 194.160625 65.359219 \r\nL 194.160625 38.179219 \r\n\" style=\"fill:#921c5b;\"/>\r\n    <path clip-path=\"url(#pcda01556b5)\" d=\"M 227.640625 38.179219 \r\nL 261.120625 38.179219 \r\nL 261.120625 65.359219 \r\nL 227.640625 65.359219 \r\nL 227.640625 38.179219 \r\n\" style=\"fill:#03051a;\"/>\r\n    <path clip-path=\"url(#pcda01556b5)\" d=\"M 261.120625 38.179219 \r\nL 294.600625 38.179219 \r\nL 294.600625 65.359219 \r\nL 261.120625 65.359219 \r\nL 261.120625 38.179219 \r\n\" style=\"fill:#bd1655;\"/>\r\n    <path clip-path=\"url(#pcda01556b5)\" d=\"M 294.600625 38.179219 \r\nL 328.080625 38.179219 \r\nL 328.080625 65.359219 \r\nL 294.600625 65.359219 \r\nL 294.600625 38.179219 \r\n\" style=\"fill:#f6a67e;\"/>\r\n    <path clip-path=\"url(#pcda01556b5)\" d=\"M 60.240625 65.359219 \r\nL 93.720625 65.359219 \r\nL 93.720625 92.539219 \r\nL 60.240625 92.539219 \r\nL 60.240625 65.359219 \r\n\" style=\"fill:#781f59;\"/>\r\n    <path clip-path=\"url(#pcda01556b5)\" d=\"M 93.720625 65.359219 \r\nL 127.200625 65.359219 \r\nL 127.200625 92.539219 \r\nL 93.720625 92.539219 \r\nL 93.720625 65.359219 \r\n\" style=\"fill:#2b1637;\"/>\r\n    <path clip-path=\"url(#pcda01556b5)\" d=\"M 127.200625 65.359219 \r\nL 160.680625 65.359219 \r\nL 160.680625 92.539219 \r\nL 127.200625 92.539219 \r\nL 127.200625 65.359219 \r\n\" style=\"fill:#faebdd;\"/>\r\n    <path clip-path=\"url(#pcda01556b5)\" d=\"M 160.680625 65.359219 \r\nL 194.160625 65.359219 \r\nL 194.160625 92.539219 \r\nL 160.680625 92.539219 \r\nL 160.680625 65.359219 \r\n\" style=\"fill:#3a1a41;\"/>\r\n    <path clip-path=\"url(#pcda01556b5)\" d=\"M 194.160625 65.359219 \r\nL 227.640625 65.359219 \r\nL 227.640625 92.539219 \r\nL 194.160625 92.539219 \r\nL 194.160625 65.359219 \r\n\" style=\"fill:#591e50;\"/>\r\n    <path clip-path=\"url(#pcda01556b5)\" d=\"M 227.640625 65.359219 \r\nL 261.120625 65.359219 \r\nL 261.120625 92.539219 \r\nL 227.640625 92.539219 \r\nL 227.640625 65.359219 \r\n\" style=\"fill:#a8185a;\"/>\r\n    <path clip-path=\"url(#pcda01556b5)\" d=\"M 261.120625 65.359219 \r\nL 294.600625 65.359219 \r\nL 294.600625 92.539219 \r\nL 261.120625 92.539219 \r\nL 261.120625 65.359219 \r\n\" style=\"fill:none;\"/>\r\n    <path clip-path=\"url(#pcda01556b5)\" d=\"M 294.600625 65.359219 \r\nL 328.080625 65.359219 \r\nL 328.080625 92.539219 \r\nL 294.600625 92.539219 \r\nL 294.600625 65.359219 \r\n\" style=\"fill:#491d49;\"/>\r\n    <path clip-path=\"url(#pcda01556b5)\" d=\"M 60.240625 92.539219 \r\nL 93.720625 92.539219 \r\nL 93.720625 119.719219 \r\nL 60.240625 119.719219 \r\nL 60.240625 92.539219 \r\n\" style=\"fill:#821e5a;\"/>\r\n    <path clip-path=\"url(#pcda01556b5)\" d=\"M 93.720625 92.539219 \r\nL 127.200625 92.539219 \r\nL 127.200625 119.719219 \r\nL 93.720625 119.719219 \r\nL 93.720625 92.539219 \r\n\" style=\"fill:#a4195b;\"/>\r\n    <path clip-path=\"url(#pcda01556b5)\" d=\"M 127.200625 92.539219 \r\nL 160.680625 92.539219 \r\nL 160.680625 119.719219 \r\nL 127.200625 119.719219 \r\nL 127.200625 92.539219 \r\n\" style=\"fill:#3a1a41;\"/>\r\n    <path clip-path=\"url(#pcda01556b5)\" d=\"M 160.680625 92.539219 \r\nL 194.160625 92.539219 \r\nL 194.160625 119.719219 \r\nL 160.680625 119.719219 \r\nL 160.680625 92.539219 \r\n\" style=\"fill:#faebdd;\"/>\r\n    <path clip-path=\"url(#pcda01556b5)\" d=\"M 194.160625 92.539219 \r\nL 227.640625 92.539219 \r\nL 227.640625 119.719219 \r\nL 194.160625 119.719219 \r\nL 194.160625 92.539219 \r\n\" style=\"fill:#ec4a3e;\"/>\r\n    <path clip-path=\"url(#pcda01556b5)\" d=\"M 227.640625 92.539219 \r\nL 261.120625 92.539219 \r\nL 261.120625 119.719219 \r\nL 227.640625 119.719219 \r\nL 227.640625 92.539219 \r\n\" style=\"fill:#ba1656;\"/>\r\n    <path clip-path=\"url(#pcda01556b5)\" d=\"M 261.120625 92.539219 \r\nL 294.600625 92.539219 \r\nL 294.600625 119.719219 \r\nL 261.120625 119.719219 \r\nL 261.120625 92.539219 \r\n\" style=\"fill:#921c5b;\"/>\r\n    <path clip-path=\"url(#pcda01556b5)\" d=\"M 294.600625 92.539219 \r\nL 328.080625 92.539219 \r\nL 328.080625 119.719219 \r\nL 294.600625 119.719219 \r\nL 294.600625 92.539219 \r\n\" style=\"fill:#981b5b;\"/>\r\n    <path clip-path=\"url(#pcda01556b5)\" d=\"M 60.240625 119.719219 \r\nL 93.720625 119.719219 \r\nL 93.720625 146.899219 \r\nL 60.240625 146.899219 \r\nL 60.240625 119.719219 \r\n\" style=\"fill:#a4195b;\"/>\r\n    <path clip-path=\"url(#pcda01556b5)\" d=\"M 93.720625 119.719219 \r\nL 127.200625 119.719219 \r\nL 127.200625 146.899219 \r\nL 93.720625 146.899219 \r\nL 93.720625 119.719219 \r\n\" style=\"fill:#921c5b;\"/>\r\n    <path clip-path=\"url(#pcda01556b5)\" d=\"M 127.200625 119.719219 \r\nL 160.680625 119.719219 \r\nL 160.680625 146.899219 \r\nL 127.200625 146.899219 \r\nL 127.200625 119.719219 \r\n\" style=\"fill:#591e50;\"/>\r\n    <path clip-path=\"url(#pcda01556b5)\" d=\"M 160.680625 119.719219 \r\nL 194.160625 119.719219 \r\nL 194.160625 146.899219 \r\nL 160.680625 146.899219 \r\nL 160.680625 119.719219 \r\n\" style=\"fill:#ec4a3e;\"/>\r\n    <path clip-path=\"url(#pcda01556b5)\" d=\"M 194.160625 119.719219 \r\nL 227.640625 119.719219 \r\nL 227.640625 146.899219 \r\nL 194.160625 146.899219 \r\nL 194.160625 119.719219 \r\n\" style=\"fill:#faebdd;\"/>\r\n    <path clip-path=\"url(#pcda01556b5)\" d=\"M 227.640625 119.719219 \r\nL 261.120625 119.719219 \r\nL 261.120625 146.899219 \r\nL 227.640625 146.899219 \r\nL 227.640625 119.719219 \r\n\" style=\"fill:#c81951;\"/>\r\n    <path clip-path=\"url(#pcda01556b5)\" d=\"M 261.120625 119.719219 \r\nL 294.600625 119.719219 \r\nL 294.600625 146.899219 \r\nL 261.120625 146.899219 \r\nL 261.120625 119.719219 \r\n\" style=\"fill:#6b1f56;\"/>\r\n    <path clip-path=\"url(#pcda01556b5)\" d=\"M 294.600625 119.719219 \r\nL 328.080625 119.719219 \r\nL 328.080625 146.899219 \r\nL 294.600625 146.899219 \r\nL 294.600625 119.719219 \r\n\" style=\"fill:#821e5a;\"/>\r\n    <path clip-path=\"url(#pcda01556b5)\" d=\"M 60.240625 146.899219 \r\nL 93.720625 146.899219 \r\nL 93.720625 174.079219 \r\nL 60.240625 174.079219 \r\nL 60.240625 146.899219 \r\n\" style=\"fill:#d2204c;\"/>\r\n    <path clip-path=\"url(#pcda01556b5)\" d=\"M 93.720625 146.899219 \r\nL 127.200625 146.899219 \r\nL 127.200625 174.079219 \r\nL 93.720625 174.079219 \r\nL 93.720625 146.899219 \r\n\" style=\"fill:#03051a;\"/>\r\n    <path clip-path=\"url(#pcda01556b5)\" d=\"M 127.200625 146.899219 \r\nL 160.680625 146.899219 \r\nL 160.680625 174.079219 \r\nL 127.200625 174.079219 \r\nL 127.200625 146.899219 \r\n\" style=\"fill:#a8185a;\"/>\r\n    <path clip-path=\"url(#pcda01556b5)\" d=\"M 160.680625 146.899219 \r\nL 194.160625 146.899219 \r\nL 194.160625 174.079219 \r\nL 160.680625 174.079219 \r\nL 160.680625 146.899219 \r\n\" style=\"fill:#ba1656;\"/>\r\n    <path clip-path=\"url(#pcda01556b5)\" d=\"M 194.160625 146.899219 \r\nL 227.640625 146.899219 \r\nL 227.640625 174.079219 \r\nL 194.160625 174.079219 \r\nL 194.160625 146.899219 \r\n\" style=\"fill:#c81951;\"/>\r\n    <path clip-path=\"url(#pcda01556b5)\" d=\"M 227.640625 146.899219 \r\nL 261.120625 146.899219 \r\nL 261.120625 174.079219 \r\nL 227.640625 174.079219 \r\nL 227.640625 146.899219 \r\n\" style=\"fill:#faebdd;\"/>\r\n    <path clip-path=\"url(#pcda01556b5)\" d=\"M 261.120625 146.899219 \r\nL 294.600625 146.899219 \r\nL 294.600625 174.079219 \r\nL 261.120625 174.079219 \r\nL 261.120625 146.899219 \r\n\" style=\"fill:#711f57;\"/>\r\n    <path clip-path=\"url(#pcda01556b5)\" d=\"M 294.600625 146.899219 \r\nL 328.080625 146.899219 \r\nL 328.080625 174.079219 \r\nL 294.600625 174.079219 \r\nL 294.600625 146.899219 \r\n\" style=\"fill:#110c24;\"/>\r\n    <path clip-path=\"url(#pcda01556b5)\" d=\"M 60.240625 174.079219 \r\nL 93.720625 174.079219 \r\nL 93.720625 201.259219 \r\nL 60.240625 201.259219 \r\nL 60.240625 174.079219 \r\n\" style=\"fill:#731f58;\"/>\r\n    <path clip-path=\"url(#pcda01556b5)\" d=\"M 93.720625 174.079219 \r\nL 127.200625 174.079219 \r\nL 127.200625 201.259219 \r\nL 93.720625 201.259219 \r\nL 93.720625 174.079219 \r\n\" style=\"fill:#bd1655;\"/>\r\n    <path clip-path=\"url(#pcda01556b5)\" d=\"M 127.200625 174.079219 \r\nL 160.680625 174.079219 \r\nL 160.680625 201.259219 \r\nL 127.200625 201.259219 \r\nL 127.200625 174.079219 \r\n\" style=\"fill:none;\"/>\r\n    <path clip-path=\"url(#pcda01556b5)\" d=\"M 160.680625 174.079219 \r\nL 194.160625 174.079219 \r\nL 194.160625 201.259219 \r\nL 160.680625 201.259219 \r\nL 160.680625 174.079219 \r\n\" style=\"fill:#921c5b;\"/>\r\n    <path clip-path=\"url(#pcda01556b5)\" d=\"M 194.160625 174.079219 \r\nL 227.640625 174.079219 \r\nL 227.640625 201.259219 \r\nL 194.160625 201.259219 \r\nL 194.160625 174.079219 \r\n\" style=\"fill:#6b1f56;\"/>\r\n    <path clip-path=\"url(#pcda01556b5)\" d=\"M 227.640625 174.079219 \r\nL 261.120625 174.079219 \r\nL 261.120625 201.259219 \r\nL 227.640625 201.259219 \r\nL 227.640625 174.079219 \r\n\" style=\"fill:#711f57;\"/>\r\n    <path clip-path=\"url(#pcda01556b5)\" d=\"M 261.120625 174.079219 \r\nL 294.600625 174.079219 \r\nL 294.600625 201.259219 \r\nL 261.120625 201.259219 \r\nL 261.120625 174.079219 \r\n\" style=\"fill:#faebdd;\"/>\r\n    <path clip-path=\"url(#pcda01556b5)\" d=\"M 294.600625 174.079219 \r\nL 328.080625 174.079219 \r\nL 328.080625 201.259219 \r\nL 294.600625 201.259219 \r\nL 294.600625 174.079219 \r\n\" style=\"fill:#b51657;\"/>\r\n    <path clip-path=\"url(#pcda01556b5)\" d=\"M 60.240625 201.259219 \r\nL 93.720625 201.259219 \r\nL 93.720625 228.439219 \r\nL 60.240625 228.439219 \r\nL 60.240625 201.259219 \r\n\" style=\"fill:#381a40;\"/>\r\n    <path clip-path=\"url(#pcda01556b5)\" d=\"M 93.720625 201.259219 \r\nL 127.200625 201.259219 \r\nL 127.200625 228.439219 \r\nL 93.720625 228.439219 \r\nL 93.720625 201.259219 \r\n\" style=\"fill:#f6a67e;\"/>\r\n    <path clip-path=\"url(#pcda01556b5)\" d=\"M 127.200625 201.259219 \r\nL 160.680625 201.259219 \r\nL 160.680625 228.439219 \r\nL 127.200625 228.439219 \r\nL 127.200625 201.259219 \r\n\" style=\"fill:#491d49;\"/>\r\n    <path clip-path=\"url(#pcda01556b5)\" d=\"M 160.680625 201.259219 \r\nL 194.160625 201.259219 \r\nL 194.160625 228.439219 \r\nL 160.680625 228.439219 \r\nL 160.680625 201.259219 \r\n\" style=\"fill:#981b5b;\"/>\r\n    <path clip-path=\"url(#pcda01556b5)\" d=\"M 194.160625 201.259219 \r\nL 227.640625 201.259219 \r\nL 227.640625 228.439219 \r\nL 194.160625 228.439219 \r\nL 194.160625 201.259219 \r\n\" style=\"fill:#821e5a;\"/>\r\n    <path clip-path=\"url(#pcda01556b5)\" d=\"M 227.640625 201.259219 \r\nL 261.120625 201.259219 \r\nL 261.120625 228.439219 \r\nL 227.640625 228.439219 \r\nL 227.640625 201.259219 \r\n\" style=\"fill:#110c24;\"/>\r\n    <path clip-path=\"url(#pcda01556b5)\" d=\"M 261.120625 201.259219 \r\nL 294.600625 201.259219 \r\nL 294.600625 228.439219 \r\nL 261.120625 228.439219 \r\nL 261.120625 201.259219 \r\n\" style=\"fill:#b51657;\"/>\r\n    <path clip-path=\"url(#pcda01556b5)\" d=\"M 294.600625 201.259219 \r\nL 328.080625 201.259219 \r\nL 328.080625 228.439219 \r\nL 294.600625 228.439219 \r\nL 294.600625 201.259219 \r\n\" style=\"fill:#faebdd;\"/>\r\n   </g>\r\n   <g id=\"matplotlib.axis_1\">\r\n    <g id=\"xtick_1\">\r\n     <g id=\"line2d_1\">\r\n      <defs>\r\n       <path d=\"M 0 0 \r\nL 0 3.5 \r\n\" id=\"m54904ece01\" style=\"stroke:#000000;stroke-width:0.8;\"/>\r\n      </defs>\r\n      <g>\r\n       <use style=\"stroke:#000000;stroke-width:0.8;\" x=\"76.980625\" xlink:href=\"#m54904ece01\" y=\"228.439219\"/>\r\n      </g>\r\n     </g>\r\n     <g id=\"text_1\">\r\n      <!-- Survived -->\r\n      <g transform=\"translate(79.74 279.353281)rotate(-90)scale(0.1 -0.1)\">\r\n       <defs>\r\n        <path d=\"M 53.515625 70.515625 \r\nL 53.515625 60.890625 \r\nQ 47.90625 63.578125 42.921875 64.890625 \r\nQ 37.9375 66.21875 33.296875 66.21875 \r\nQ 25.25 66.21875 20.875 63.09375 \r\nQ 16.5 59.96875 16.5 54.203125 \r\nQ 16.5 49.359375 19.40625 46.890625 \r\nQ 22.3125 44.4375 30.421875 42.921875 \r\nL 36.375 41.703125 \r\nQ 47.40625 39.59375 52.65625 34.296875 \r\nQ 57.90625 29 57.90625 20.125 \r\nQ 57.90625 9.515625 50.796875 4.046875 \r\nQ 43.703125 -1.421875 29.984375 -1.421875 \r\nQ 24.8125 -1.421875 18.96875 -0.25 \r\nQ 13.140625 0.921875 6.890625 3.21875 \r\nL 6.890625 13.375 \r\nQ 12.890625 10.015625 18.65625 8.296875 \r\nQ 24.421875 6.59375 29.984375 6.59375 \r\nQ 38.421875 6.59375 43.015625 9.90625 \r\nQ 47.609375 13.234375 47.609375 19.390625 \r\nQ 47.609375 24.75 44.3125 27.78125 \r\nQ 41.015625 30.8125 33.5 32.328125 \r\nL 27.484375 33.5 \r\nQ 16.453125 35.6875 11.515625 40.375 \r\nQ 6.59375 45.0625 6.59375 53.421875 \r\nQ 6.59375 63.09375 13.40625 68.65625 \r\nQ 20.21875 74.21875 32.171875 74.21875 \r\nQ 37.3125 74.21875 42.625 73.28125 \r\nQ 47.953125 72.359375 53.515625 70.515625 \r\nz\r\n\" id=\"DejaVuSans-83\"/>\r\n        <path d=\"M 8.5 21.578125 \r\nL 8.5 54.6875 \r\nL 17.484375 54.6875 \r\nL 17.484375 21.921875 \r\nQ 17.484375 14.15625 20.5 10.265625 \r\nQ 23.53125 6.390625 29.59375 6.390625 \r\nQ 36.859375 6.390625 41.078125 11.03125 \r\nQ 45.3125 15.671875 45.3125 23.6875 \r\nL 45.3125 54.6875 \r\nL 54.296875 54.6875 \r\nL 54.296875 0 \r\nL 45.3125 0 \r\nL 45.3125 8.40625 \r\nQ 42.046875 3.421875 37.71875 1 \r\nQ 33.40625 -1.421875 27.6875 -1.421875 \r\nQ 18.265625 -1.421875 13.375 4.4375 \r\nQ 8.5 10.296875 8.5 21.578125 \r\nz\r\nM 31.109375 56 \r\nz\r\n\" id=\"DejaVuSans-117\"/>\r\n        <path d=\"M 41.109375 46.296875 \r\nQ 39.59375 47.171875 37.8125 47.578125 \r\nQ 36.03125 48 33.890625 48 \r\nQ 26.265625 48 22.1875 43.046875 \r\nQ 18.109375 38.09375 18.109375 28.8125 \r\nL 18.109375 0 \r\nL 9.078125 0 \r\nL 9.078125 54.6875 \r\nL 18.109375 54.6875 \r\nL 18.109375 46.1875 \r\nQ 20.953125 51.171875 25.484375 53.578125 \r\nQ 30.03125 56 36.53125 56 \r\nQ 37.453125 56 38.578125 55.875 \r\nQ 39.703125 55.765625 41.0625 55.515625 \r\nz\r\n\" id=\"DejaVuSans-114\"/>\r\n        <path d=\"M 2.984375 54.6875 \r\nL 12.5 54.6875 \r\nL 29.59375 8.796875 \r\nL 46.6875 54.6875 \r\nL 56.203125 54.6875 \r\nL 35.6875 0 \r\nL 23.484375 0 \r\nz\r\n\" id=\"DejaVuSans-118\"/>\r\n        <path d=\"M 9.421875 54.6875 \r\nL 18.40625 54.6875 \r\nL 18.40625 0 \r\nL 9.421875 0 \r\nz\r\nM 9.421875 75.984375 \r\nL 18.40625 75.984375 \r\nL 18.40625 64.59375 \r\nL 9.421875 64.59375 \r\nz\r\n\" id=\"DejaVuSans-105\"/>\r\n        <path d=\"M 56.203125 29.59375 \r\nL 56.203125 25.203125 \r\nL 14.890625 25.203125 \r\nQ 15.484375 15.921875 20.484375 11.0625 \r\nQ 25.484375 6.203125 34.421875 6.203125 \r\nQ 39.59375 6.203125 44.453125 7.46875 \r\nQ 49.3125 8.734375 54.109375 11.28125 \r\nL 54.109375 2.78125 \r\nQ 49.265625 0.734375 44.1875 -0.34375 \r\nQ 39.109375 -1.421875 33.890625 -1.421875 \r\nQ 20.796875 -1.421875 13.15625 6.1875 \r\nQ 5.515625 13.8125 5.515625 26.8125 \r\nQ 5.515625 40.234375 12.765625 48.109375 \r\nQ 20.015625 56 32.328125 56 \r\nQ 43.359375 56 49.78125 48.890625 \r\nQ 56.203125 41.796875 56.203125 29.59375 \r\nz\r\nM 47.21875 32.234375 \r\nQ 47.125 39.59375 43.09375 43.984375 \r\nQ 39.0625 48.390625 32.421875 48.390625 \r\nQ 24.90625 48.390625 20.390625 44.140625 \r\nQ 15.875 39.890625 15.1875 32.171875 \r\nz\r\n\" id=\"DejaVuSans-101\"/>\r\n        <path d=\"M 45.40625 46.390625 \r\nL 45.40625 75.984375 \r\nL 54.390625 75.984375 \r\nL 54.390625 0 \r\nL 45.40625 0 \r\nL 45.40625 8.203125 \r\nQ 42.578125 3.328125 38.25 0.953125 \r\nQ 33.9375 -1.421875 27.875 -1.421875 \r\nQ 17.96875 -1.421875 11.734375 6.484375 \r\nQ 5.515625 14.40625 5.515625 27.296875 \r\nQ 5.515625 40.1875 11.734375 48.09375 \r\nQ 17.96875 56 27.875 56 \r\nQ 33.9375 56 38.25 53.625 \r\nQ 42.578125 51.265625 45.40625 46.390625 \r\nz\r\nM 14.796875 27.296875 \r\nQ 14.796875 17.390625 18.875 11.75 \r\nQ 22.953125 6.109375 30.078125 6.109375 \r\nQ 37.203125 6.109375 41.296875 11.75 \r\nQ 45.40625 17.390625 45.40625 27.296875 \r\nQ 45.40625 37.203125 41.296875 42.84375 \r\nQ 37.203125 48.484375 30.078125 48.484375 \r\nQ 22.953125 48.484375 18.875 42.84375 \r\nQ 14.796875 37.203125 14.796875 27.296875 \r\nz\r\n\" id=\"DejaVuSans-100\"/>\r\n       </defs>\r\n       <use xlink:href=\"#DejaVuSans-83\"/>\r\n       <use x=\"63.476562\" xlink:href=\"#DejaVuSans-117\"/>\r\n       <use x=\"126.855469\" xlink:href=\"#DejaVuSans-114\"/>\r\n       <use x=\"167.96875\" xlink:href=\"#DejaVuSans-118\"/>\r\n       <use x=\"227.148438\" xlink:href=\"#DejaVuSans-105\"/>\r\n       <use x=\"254.931641\" xlink:href=\"#DejaVuSans-118\"/>\r\n       <use x=\"314.111328\" xlink:href=\"#DejaVuSans-101\"/>\r\n       <use x=\"375.634766\" xlink:href=\"#DejaVuSans-100\"/>\r\n      </g>\r\n     </g>\r\n    </g>\r\n    <g id=\"xtick_2\">\r\n     <g id=\"line2d_2\">\r\n      <g>\r\n       <use style=\"stroke:#000000;stroke-width:0.8;\" x=\"110.460625\" xlink:href=\"#m54904ece01\" y=\"228.439219\"/>\r\n      </g>\r\n     </g>\r\n     <g id=\"text_2\">\r\n      <!-- Pclass -->\r\n      <g transform=\"translate(113.22 266.292344)rotate(-90)scale(0.1 -0.1)\">\r\n       <defs>\r\n        <path d=\"M 19.671875 64.796875 \r\nL 19.671875 37.40625 \r\nL 32.078125 37.40625 \r\nQ 38.96875 37.40625 42.71875 40.96875 \r\nQ 46.484375 44.53125 46.484375 51.125 \r\nQ 46.484375 57.671875 42.71875 61.234375 \r\nQ 38.96875 64.796875 32.078125 64.796875 \r\nz\r\nM 9.8125 72.90625 \r\nL 32.078125 72.90625 \r\nQ 44.34375 72.90625 50.609375 67.359375 \r\nQ 56.890625 61.8125 56.890625 51.125 \r\nQ 56.890625 40.328125 50.609375 34.8125 \r\nQ 44.34375 29.296875 32.078125 29.296875 \r\nL 19.671875 29.296875 \r\nL 19.671875 0 \r\nL 9.8125 0 \r\nz\r\n\" id=\"DejaVuSans-80\"/>\r\n        <path d=\"M 48.78125 52.59375 \r\nL 48.78125 44.1875 \r\nQ 44.96875 46.296875 41.140625 47.34375 \r\nQ 37.3125 48.390625 33.40625 48.390625 \r\nQ 24.65625 48.390625 19.8125 42.84375 \r\nQ 14.984375 37.3125 14.984375 27.296875 \r\nQ 14.984375 17.28125 19.8125 11.734375 \r\nQ 24.65625 6.203125 33.40625 6.203125 \r\nQ 37.3125 6.203125 41.140625 7.25 \r\nQ 44.96875 8.296875 48.78125 10.40625 \r\nL 48.78125 2.09375 \r\nQ 45.015625 0.34375 40.984375 -0.53125 \r\nQ 36.96875 -1.421875 32.421875 -1.421875 \r\nQ 20.0625 -1.421875 12.78125 6.34375 \r\nQ 5.515625 14.109375 5.515625 27.296875 \r\nQ 5.515625 40.671875 12.859375 48.328125 \r\nQ 20.21875 56 33.015625 56 \r\nQ 37.15625 56 41.109375 55.140625 \r\nQ 45.0625 54.296875 48.78125 52.59375 \r\nz\r\n\" id=\"DejaVuSans-99\"/>\r\n        <path d=\"M 9.421875 75.984375 \r\nL 18.40625 75.984375 \r\nL 18.40625 0 \r\nL 9.421875 0 \r\nz\r\n\" id=\"DejaVuSans-108\"/>\r\n        <path d=\"M 34.28125 27.484375 \r\nQ 23.390625 27.484375 19.1875 25 \r\nQ 14.984375 22.515625 14.984375 16.5 \r\nQ 14.984375 11.71875 18.140625 8.90625 \r\nQ 21.296875 6.109375 26.703125 6.109375 \r\nQ 34.1875 6.109375 38.703125 11.40625 \r\nQ 43.21875 16.703125 43.21875 25.484375 \r\nL 43.21875 27.484375 \r\nz\r\nM 52.203125 31.203125 \r\nL 52.203125 0 \r\nL 43.21875 0 \r\nL 43.21875 8.296875 \r\nQ 40.140625 3.328125 35.546875 0.953125 \r\nQ 30.953125 -1.421875 24.3125 -1.421875 \r\nQ 15.921875 -1.421875 10.953125 3.296875 \r\nQ 6 8.015625 6 15.921875 \r\nQ 6 25.140625 12.171875 29.828125 \r\nQ 18.359375 34.515625 30.609375 34.515625 \r\nL 43.21875 34.515625 \r\nL 43.21875 35.40625 \r\nQ 43.21875 41.609375 39.140625 45 \r\nQ 35.0625 48.390625 27.6875 48.390625 \r\nQ 23 48.390625 18.546875 47.265625 \r\nQ 14.109375 46.140625 10.015625 43.890625 \r\nL 10.015625 52.203125 \r\nQ 14.9375 54.109375 19.578125 55.046875 \r\nQ 24.21875 56 28.609375 56 \r\nQ 40.484375 56 46.34375 49.84375 \r\nQ 52.203125 43.703125 52.203125 31.203125 \r\nz\r\n\" id=\"DejaVuSans-97\"/>\r\n        <path d=\"M 44.28125 53.078125 \r\nL 44.28125 44.578125 \r\nQ 40.484375 46.53125 36.375 47.5 \r\nQ 32.28125 48.484375 27.875 48.484375 \r\nQ 21.1875 48.484375 17.84375 46.4375 \r\nQ 14.5 44.390625 14.5 40.28125 \r\nQ 14.5 37.15625 16.890625 35.375 \r\nQ 19.28125 33.59375 26.515625 31.984375 \r\nL 29.59375 31.296875 \r\nQ 39.15625 29.25 43.1875 25.515625 \r\nQ 47.21875 21.78125 47.21875 15.09375 \r\nQ 47.21875 7.46875 41.1875 3.015625 \r\nQ 35.15625 -1.421875 24.609375 -1.421875 \r\nQ 20.21875 -1.421875 15.453125 -0.5625 \r\nQ 10.6875 0.296875 5.421875 2 \r\nL 5.421875 11.28125 \r\nQ 10.40625 8.6875 15.234375 7.390625 \r\nQ 20.0625 6.109375 24.8125 6.109375 \r\nQ 31.15625 6.109375 34.5625 8.28125 \r\nQ 37.984375 10.453125 37.984375 14.40625 \r\nQ 37.984375 18.0625 35.515625 20.015625 \r\nQ 33.0625 21.96875 24.703125 23.78125 \r\nL 21.578125 24.515625 \r\nQ 13.234375 26.265625 9.515625 29.90625 \r\nQ 5.8125 33.546875 5.8125 39.890625 \r\nQ 5.8125 47.609375 11.28125 51.796875 \r\nQ 16.75 56 26.8125 56 \r\nQ 31.78125 56 36.171875 55.265625 \r\nQ 40.578125 54.546875 44.28125 53.078125 \r\nz\r\n\" id=\"DejaVuSans-115\"/>\r\n       </defs>\r\n       <use xlink:href=\"#DejaVuSans-80\"/>\r\n       <use x=\"60.302734\" xlink:href=\"#DejaVuSans-99\"/>\r\n       <use x=\"115.283203\" xlink:href=\"#DejaVuSans-108\"/>\r\n       <use x=\"143.066406\" xlink:href=\"#DejaVuSans-97\"/>\r\n       <use x=\"204.345703\" xlink:href=\"#DejaVuSans-115\"/>\r\n       <use x=\"256.445312\" xlink:href=\"#DejaVuSans-115\"/>\r\n      </g>\r\n     </g>\r\n    </g>\r\n    <g id=\"xtick_3\">\r\n     <g id=\"line2d_3\">\r\n      <g>\r\n       <use style=\"stroke:#000000;stroke-width:0.8;\" x=\"143.940625\" xlink:href=\"#m54904ece01\" y=\"228.439219\"/>\r\n      </g>\r\n     </g>\r\n     <g id=\"text_3\">\r\n      <!-- Age -->\r\n      <g transform=\"translate(146.7 254.781406)rotate(-90)scale(0.1 -0.1)\">\r\n       <defs>\r\n        <path d=\"M 34.1875 63.1875 \r\nL 20.796875 26.90625 \r\nL 47.609375 26.90625 \r\nz\r\nM 28.609375 72.90625 \r\nL 39.796875 72.90625 \r\nL 67.578125 0 \r\nL 57.328125 0 \r\nL 50.6875 18.703125 \r\nL 17.828125 18.703125 \r\nL 11.1875 0 \r\nL 0.78125 0 \r\nz\r\n\" id=\"DejaVuSans-65\"/>\r\n        <path d=\"M 45.40625 27.984375 \r\nQ 45.40625 37.75 41.375 43.109375 \r\nQ 37.359375 48.484375 30.078125 48.484375 \r\nQ 22.859375 48.484375 18.828125 43.109375 \r\nQ 14.796875 37.75 14.796875 27.984375 \r\nQ 14.796875 18.265625 18.828125 12.890625 \r\nQ 22.859375 7.515625 30.078125 7.515625 \r\nQ 37.359375 7.515625 41.375 12.890625 \r\nQ 45.40625 18.265625 45.40625 27.984375 \r\nz\r\nM 54.390625 6.78125 \r\nQ 54.390625 -7.171875 48.1875 -13.984375 \r\nQ 42 -20.796875 29.203125 -20.796875 \r\nQ 24.46875 -20.796875 20.265625 -20.09375 \r\nQ 16.0625 -19.390625 12.109375 -17.921875 \r\nL 12.109375 -9.1875 \r\nQ 16.0625 -11.328125 19.921875 -12.34375 \r\nQ 23.78125 -13.375 27.78125 -13.375 \r\nQ 36.625 -13.375 41.015625 -8.765625 \r\nQ 45.40625 -4.15625 45.40625 5.171875 \r\nL 45.40625 9.625 \r\nQ 42.625 4.78125 38.28125 2.390625 \r\nQ 33.9375 0 27.875 0 \r\nQ 17.828125 0 11.671875 7.65625 \r\nQ 5.515625 15.328125 5.515625 27.984375 \r\nQ 5.515625 40.671875 11.671875 48.328125 \r\nQ 17.828125 56 27.875 56 \r\nQ 33.9375 56 38.28125 53.609375 \r\nQ 42.625 51.21875 45.40625 46.390625 \r\nL 45.40625 54.6875 \r\nL 54.390625 54.6875 \r\nz\r\n\" id=\"DejaVuSans-103\"/>\r\n       </defs>\r\n       <use xlink:href=\"#DejaVuSans-65\"/>\r\n       <use x=\"68.408203\" xlink:href=\"#DejaVuSans-103\"/>\r\n       <use x=\"131.884766\" xlink:href=\"#DejaVuSans-101\"/>\r\n      </g>\r\n     </g>\r\n    </g>\r\n    <g id=\"xtick_4\">\r\n     <g id=\"line2d_4\">\r\n      <g>\r\n       <use style=\"stroke:#000000;stroke-width:0.8;\" x=\"177.420625\" xlink:href=\"#m54904ece01\" y=\"228.439219\"/>\r\n      </g>\r\n     </g>\r\n     <g id=\"text_4\">\r\n      <!-- SibSp -->\r\n      <g transform=\"translate(180.18 263.611094)rotate(-90)scale(0.1 -0.1)\">\r\n       <defs>\r\n        <path d=\"M 48.6875 27.296875 \r\nQ 48.6875 37.203125 44.609375 42.84375 \r\nQ 40.53125 48.484375 33.40625 48.484375 \r\nQ 26.265625 48.484375 22.1875 42.84375 \r\nQ 18.109375 37.203125 18.109375 27.296875 \r\nQ 18.109375 17.390625 22.1875 11.75 \r\nQ 26.265625 6.109375 33.40625 6.109375 \r\nQ 40.53125 6.109375 44.609375 11.75 \r\nQ 48.6875 17.390625 48.6875 27.296875 \r\nz\r\nM 18.109375 46.390625 \r\nQ 20.953125 51.265625 25.265625 53.625 \r\nQ 29.59375 56 35.59375 56 \r\nQ 45.5625 56 51.78125 48.09375 \r\nQ 58.015625 40.1875 58.015625 27.296875 \r\nQ 58.015625 14.40625 51.78125 6.484375 \r\nQ 45.5625 -1.421875 35.59375 -1.421875 \r\nQ 29.59375 -1.421875 25.265625 0.953125 \r\nQ 20.953125 3.328125 18.109375 8.203125 \r\nL 18.109375 0 \r\nL 9.078125 0 \r\nL 9.078125 75.984375 \r\nL 18.109375 75.984375 \r\nz\r\n\" id=\"DejaVuSans-98\"/>\r\n        <path d=\"M 18.109375 8.203125 \r\nL 18.109375 -20.796875 \r\nL 9.078125 -20.796875 \r\nL 9.078125 54.6875 \r\nL 18.109375 54.6875 \r\nL 18.109375 46.390625 \r\nQ 20.953125 51.265625 25.265625 53.625 \r\nQ 29.59375 56 35.59375 56 \r\nQ 45.5625 56 51.78125 48.09375 \r\nQ 58.015625 40.1875 58.015625 27.296875 \r\nQ 58.015625 14.40625 51.78125 6.484375 \r\nQ 45.5625 -1.421875 35.59375 -1.421875 \r\nQ 29.59375 -1.421875 25.265625 0.953125 \r\nQ 20.953125 3.328125 18.109375 8.203125 \r\nz\r\nM 48.6875 27.296875 \r\nQ 48.6875 37.203125 44.609375 42.84375 \r\nQ 40.53125 48.484375 33.40625 48.484375 \r\nQ 26.265625 48.484375 22.1875 42.84375 \r\nQ 18.109375 37.203125 18.109375 27.296875 \r\nQ 18.109375 17.390625 22.1875 11.75 \r\nQ 26.265625 6.109375 33.40625 6.109375 \r\nQ 40.53125 6.109375 44.609375 11.75 \r\nQ 48.6875 17.390625 48.6875 27.296875 \r\nz\r\n\" id=\"DejaVuSans-112\"/>\r\n       </defs>\r\n       <use xlink:href=\"#DejaVuSans-83\"/>\r\n       <use x=\"63.476562\" xlink:href=\"#DejaVuSans-105\"/>\r\n       <use x=\"91.259766\" xlink:href=\"#DejaVuSans-98\"/>\r\n       <use x=\"154.736328\" xlink:href=\"#DejaVuSans-83\"/>\r\n       <use x=\"218.212891\" xlink:href=\"#DejaVuSans-112\"/>\r\n      </g>\r\n     </g>\r\n    </g>\r\n    <g id=\"xtick_5\">\r\n     <g id=\"line2d_5\">\r\n      <g>\r\n       <use style=\"stroke:#000000;stroke-width:0.8;\" x=\"210.900625\" xlink:href=\"#m54904ece01\" y=\"228.439219\"/>\r\n      </g>\r\n     </g>\r\n     <g id=\"text_5\">\r\n      <!-- Parch -->\r\n      <g transform=\"translate(213.66 262.868906)rotate(-90)scale(0.1 -0.1)\">\r\n       <defs>\r\n        <path d=\"M 54.890625 33.015625 \r\nL 54.890625 0 \r\nL 45.90625 0 \r\nL 45.90625 32.71875 \r\nQ 45.90625 40.484375 42.875 44.328125 \r\nQ 39.84375 48.1875 33.796875 48.1875 \r\nQ 26.515625 48.1875 22.3125 43.546875 \r\nQ 18.109375 38.921875 18.109375 30.90625 \r\nL 18.109375 0 \r\nL 9.078125 0 \r\nL 9.078125 75.984375 \r\nL 18.109375 75.984375 \r\nL 18.109375 46.1875 \r\nQ 21.34375 51.125 25.703125 53.5625 \r\nQ 30.078125 56 35.796875 56 \r\nQ 45.21875 56 50.046875 50.171875 \r\nQ 54.890625 44.34375 54.890625 33.015625 \r\nz\r\n\" id=\"DejaVuSans-104\"/>\r\n       </defs>\r\n       <use xlink:href=\"#DejaVuSans-80\"/>\r\n       <use x=\"55.802734\" xlink:href=\"#DejaVuSans-97\"/>\r\n       <use x=\"117.082031\" xlink:href=\"#DejaVuSans-114\"/>\r\n       <use x=\"155.945312\" xlink:href=\"#DejaVuSans-99\"/>\r\n       <use x=\"210.925781\" xlink:href=\"#DejaVuSans-104\"/>\r\n      </g>\r\n     </g>\r\n    </g>\r\n    <g id=\"xtick_6\">\r\n     <g id=\"line2d_6\">\r\n      <g>\r\n       <use style=\"stroke:#000000;stroke-width:0.8;\" x=\"244.380625\" xlink:href=\"#m54904ece01\" y=\"228.439219\"/>\r\n      </g>\r\n     </g>\r\n     <g id=\"text_6\">\r\n      <!-- Fare -->\r\n      <g transform=\"translate(247.14 256.445469)rotate(-90)scale(0.1 -0.1)\">\r\n       <defs>\r\n        <path d=\"M 9.8125 72.90625 \r\nL 51.703125 72.90625 \r\nL 51.703125 64.59375 \r\nL 19.671875 64.59375 \r\nL 19.671875 43.109375 \r\nL 48.578125 43.109375 \r\nL 48.578125 34.8125 \r\nL 19.671875 34.8125 \r\nL 19.671875 0 \r\nL 9.8125 0 \r\nz\r\n\" id=\"DejaVuSans-70\"/>\r\n       </defs>\r\n       <use xlink:href=\"#DejaVuSans-70\"/>\r\n       <use x=\"48.394531\" xlink:href=\"#DejaVuSans-97\"/>\r\n       <use x=\"109.673828\" xlink:href=\"#DejaVuSans-114\"/>\r\n       <use x=\"148.537109\" xlink:href=\"#DejaVuSans-101\"/>\r\n      </g>\r\n     </g>\r\n    </g>\r\n    <g id=\"xtick_7\">\r\n     <g id=\"line2d_7\">\r\n      <g>\r\n       <use style=\"stroke:#000000;stroke-width:0.8;\" x=\"277.860625\" xlink:href=\"#m54904ece01\" y=\"228.439219\"/>\r\n      </g>\r\n     </g>\r\n     <g id=\"text_7\">\r\n      <!-- Age_na -->\r\n      <g transform=\"translate(280.341875 272.247031)rotate(-90)scale(0.1 -0.1)\">\r\n       <defs>\r\n        <path d=\"M 50.984375 -16.609375 \r\nL 50.984375 -23.578125 \r\nL -0.984375 -23.578125 \r\nL -0.984375 -16.609375 \r\nz\r\n\" id=\"DejaVuSans-95\"/>\r\n        <path d=\"M 54.890625 33.015625 \r\nL 54.890625 0 \r\nL 45.90625 0 \r\nL 45.90625 32.71875 \r\nQ 45.90625 40.484375 42.875 44.328125 \r\nQ 39.84375 48.1875 33.796875 48.1875 \r\nQ 26.515625 48.1875 22.3125 43.546875 \r\nQ 18.109375 38.921875 18.109375 30.90625 \r\nL 18.109375 0 \r\nL 9.078125 0 \r\nL 9.078125 54.6875 \r\nL 18.109375 54.6875 \r\nL 18.109375 46.1875 \r\nQ 21.34375 51.125 25.703125 53.5625 \r\nQ 30.078125 56 35.796875 56 \r\nQ 45.21875 56 50.046875 50.171875 \r\nQ 54.890625 44.34375 54.890625 33.015625 \r\nz\r\n\" id=\"DejaVuSans-110\"/>\r\n       </defs>\r\n       <use xlink:href=\"#DejaVuSans-65\"/>\r\n       <use x=\"68.408203\" xlink:href=\"#DejaVuSans-103\"/>\r\n       <use x=\"131.884766\" xlink:href=\"#DejaVuSans-101\"/>\r\n       <use x=\"193.408203\" xlink:href=\"#DejaVuSans-95\"/>\r\n       <use x=\"243.408203\" xlink:href=\"#DejaVuSans-110\"/>\r\n       <use x=\"306.787109\" xlink:href=\"#DejaVuSans-97\"/>\r\n      </g>\r\n     </g>\r\n    </g>\r\n    <g id=\"xtick_8\">\r\n     <g id=\"line2d_8\">\r\n      <g>\r\n       <use style=\"stroke:#000000;stroke-width:0.8;\" x=\"311.340625\" xlink:href=\"#m54904ece01\" y=\"228.439219\"/>\r\n      </g>\r\n     </g>\r\n     <g id=\"text_8\">\r\n      <!-- Cabin_na -->\r\n      <g transform=\"translate(313.960938 281.479844)rotate(-90)scale(0.1 -0.1)\">\r\n       <defs>\r\n        <path d=\"M 64.40625 67.28125 \r\nL 64.40625 56.890625 \r\nQ 59.421875 61.53125 53.78125 63.8125 \r\nQ 48.140625 66.109375 41.796875 66.109375 \r\nQ 29.296875 66.109375 22.65625 58.46875 \r\nQ 16.015625 50.828125 16.015625 36.375 \r\nQ 16.015625 21.96875 22.65625 14.328125 \r\nQ 29.296875 6.6875 41.796875 6.6875 \r\nQ 48.140625 6.6875 53.78125 8.984375 \r\nQ 59.421875 11.28125 64.40625 15.921875 \r\nL 64.40625 5.609375 \r\nQ 59.234375 2.09375 53.4375 0.328125 \r\nQ 47.65625 -1.421875 41.21875 -1.421875 \r\nQ 24.65625 -1.421875 15.125 8.703125 \r\nQ 5.609375 18.84375 5.609375 36.375 \r\nQ 5.609375 53.953125 15.125 64.078125 \r\nQ 24.65625 74.21875 41.21875 74.21875 \r\nQ 47.75 74.21875 53.53125 72.484375 \r\nQ 59.328125 70.75 64.40625 67.28125 \r\nz\r\n\" id=\"DejaVuSans-67\"/>\r\n       </defs>\r\n       <use xlink:href=\"#DejaVuSans-67\"/>\r\n       <use x=\"69.824219\" xlink:href=\"#DejaVuSans-97\"/>\r\n       <use x=\"131.103516\" xlink:href=\"#DejaVuSans-98\"/>\r\n       <use x=\"194.580078\" xlink:href=\"#DejaVuSans-105\"/>\r\n       <use x=\"222.363281\" xlink:href=\"#DejaVuSans-110\"/>\r\n       <use x=\"285.742188\" xlink:href=\"#DejaVuSans-95\"/>\r\n       <use x=\"335.742188\" xlink:href=\"#DejaVuSans-110\"/>\r\n       <use x=\"399.121094\" xlink:href=\"#DejaVuSans-97\"/>\r\n      </g>\r\n     </g>\r\n    </g>\r\n   </g>\r\n   <g id=\"matplotlib.axis_2\">\r\n    <g id=\"ytick_1\">\r\n     <g id=\"line2d_9\">\r\n      <defs>\r\n       <path d=\"M 0 0 \r\nL -3.5 0 \r\n\" id=\"mc198a15ce7\" style=\"stroke:#000000;stroke-width:0.8;\"/>\r\n      </defs>\r\n      <g>\r\n       <use style=\"stroke:#000000;stroke-width:0.8;\" x=\"60.240625\" xlink:href=\"#mc198a15ce7\" y=\"24.589219\"/>\r\n      </g>\r\n     </g>\r\n     <g id=\"text_9\">\r\n      <!-- Survived -->\r\n      <g transform=\"translate(9.326563 28.388438)scale(0.1 -0.1)\">\r\n       <use xlink:href=\"#DejaVuSans-83\"/>\r\n       <use x=\"63.476562\" xlink:href=\"#DejaVuSans-117\"/>\r\n       <use x=\"126.855469\" xlink:href=\"#DejaVuSans-114\"/>\r\n       <use x=\"167.96875\" xlink:href=\"#DejaVuSans-118\"/>\r\n       <use x=\"227.148438\" xlink:href=\"#DejaVuSans-105\"/>\r\n       <use x=\"254.931641\" xlink:href=\"#DejaVuSans-118\"/>\r\n       <use x=\"314.111328\" xlink:href=\"#DejaVuSans-101\"/>\r\n       <use x=\"375.634766\" xlink:href=\"#DejaVuSans-100\"/>\r\n      </g>\r\n     </g>\r\n    </g>\r\n    <g id=\"ytick_2\">\r\n     <g id=\"line2d_10\">\r\n      <g>\r\n       <use style=\"stroke:#000000;stroke-width:0.8;\" x=\"60.240625\" xlink:href=\"#mc198a15ce7\" y=\"51.769219\"/>\r\n      </g>\r\n     </g>\r\n     <g id=\"text_10\">\r\n      <!-- Pclass -->\r\n      <g transform=\"translate(22.3875 55.568438)scale(0.1 -0.1)\">\r\n       <use xlink:href=\"#DejaVuSans-80\"/>\r\n       <use x=\"60.302734\" xlink:href=\"#DejaVuSans-99\"/>\r\n       <use x=\"115.283203\" xlink:href=\"#DejaVuSans-108\"/>\r\n       <use x=\"143.066406\" xlink:href=\"#DejaVuSans-97\"/>\r\n       <use x=\"204.345703\" xlink:href=\"#DejaVuSans-115\"/>\r\n       <use x=\"256.445312\" xlink:href=\"#DejaVuSans-115\"/>\r\n      </g>\r\n     </g>\r\n    </g>\r\n    <g id=\"ytick_3\">\r\n     <g id=\"line2d_11\">\r\n      <g>\r\n       <use style=\"stroke:#000000;stroke-width:0.8;\" x=\"60.240625\" xlink:href=\"#mc198a15ce7\" y=\"78.949219\"/>\r\n      </g>\r\n     </g>\r\n     <g id=\"text_11\">\r\n      <!-- Age -->\r\n      <g transform=\"translate(33.898438 82.748438)scale(0.1 -0.1)\">\r\n       <use xlink:href=\"#DejaVuSans-65\"/>\r\n       <use x=\"68.408203\" xlink:href=\"#DejaVuSans-103\"/>\r\n       <use x=\"131.884766\" xlink:href=\"#DejaVuSans-101\"/>\r\n      </g>\r\n     </g>\r\n    </g>\r\n    <g id=\"ytick_4\">\r\n     <g id=\"line2d_12\">\r\n      <g>\r\n       <use style=\"stroke:#000000;stroke-width:0.8;\" x=\"60.240625\" xlink:href=\"#mc198a15ce7\" y=\"106.129219\"/>\r\n      </g>\r\n     </g>\r\n     <g id=\"text_12\">\r\n      <!-- SibSp -->\r\n      <g transform=\"translate(25.06875 109.928438)scale(0.1 -0.1)\">\r\n       <use xlink:href=\"#DejaVuSans-83\"/>\r\n       <use x=\"63.476562\" xlink:href=\"#DejaVuSans-105\"/>\r\n       <use x=\"91.259766\" xlink:href=\"#DejaVuSans-98\"/>\r\n       <use x=\"154.736328\" xlink:href=\"#DejaVuSans-83\"/>\r\n       <use x=\"218.212891\" xlink:href=\"#DejaVuSans-112\"/>\r\n      </g>\r\n     </g>\r\n    </g>\r\n    <g id=\"ytick_5\">\r\n     <g id=\"line2d_13\">\r\n      <g>\r\n       <use style=\"stroke:#000000;stroke-width:0.8;\" x=\"60.240625\" xlink:href=\"#mc198a15ce7\" y=\"133.309219\"/>\r\n      </g>\r\n     </g>\r\n     <g id=\"text_13\">\r\n      <!-- Parch -->\r\n      <g transform=\"translate(25.810938 137.108438)scale(0.1 -0.1)\">\r\n       <use xlink:href=\"#DejaVuSans-80\"/>\r\n       <use x=\"55.802734\" xlink:href=\"#DejaVuSans-97\"/>\r\n       <use x=\"117.082031\" xlink:href=\"#DejaVuSans-114\"/>\r\n       <use x=\"155.945312\" xlink:href=\"#DejaVuSans-99\"/>\r\n       <use x=\"210.925781\" xlink:href=\"#DejaVuSans-104\"/>\r\n      </g>\r\n     </g>\r\n    </g>\r\n    <g id=\"ytick_6\">\r\n     <g id=\"line2d_14\">\r\n      <g>\r\n       <use style=\"stroke:#000000;stroke-width:0.8;\" x=\"60.240625\" xlink:href=\"#mc198a15ce7\" y=\"160.489219\"/>\r\n      </g>\r\n     </g>\r\n     <g id=\"text_14\">\r\n      <!-- Fare -->\r\n      <g transform=\"translate(32.234375 164.288438)scale(0.1 -0.1)\">\r\n       <use xlink:href=\"#DejaVuSans-70\"/>\r\n       <use x=\"48.394531\" xlink:href=\"#DejaVuSans-97\"/>\r\n       <use x=\"109.673828\" xlink:href=\"#DejaVuSans-114\"/>\r\n       <use x=\"148.537109\" xlink:href=\"#DejaVuSans-101\"/>\r\n      </g>\r\n     </g>\r\n    </g>\r\n    <g id=\"ytick_7\">\r\n     <g id=\"line2d_15\">\r\n      <g>\r\n       <use style=\"stroke:#000000;stroke-width:0.8;\" x=\"60.240625\" xlink:href=\"#mc198a15ce7\" y=\"187.669219\"/>\r\n      </g>\r\n     </g>\r\n     <g id=\"text_15\">\r\n      <!-- Age_na -->\r\n      <g transform=\"translate(16.432813 191.329375)scale(0.1 -0.1)\">\r\n       <use xlink:href=\"#DejaVuSans-65\"/>\r\n       <use x=\"68.408203\" xlink:href=\"#DejaVuSans-103\"/>\r\n       <use x=\"131.884766\" xlink:href=\"#DejaVuSans-101\"/>\r\n       <use x=\"193.408203\" xlink:href=\"#DejaVuSans-95\"/>\r\n       <use x=\"243.408203\" xlink:href=\"#DejaVuSans-110\"/>\r\n       <use x=\"306.787109\" xlink:href=\"#DejaVuSans-97\"/>\r\n      </g>\r\n     </g>\r\n    </g>\r\n    <g id=\"ytick_8\">\r\n     <g id=\"line2d_16\">\r\n      <g>\r\n       <use style=\"stroke:#000000;stroke-width:0.8;\" x=\"60.240625\" xlink:href=\"#mc198a15ce7\" y=\"214.849219\"/>\r\n      </g>\r\n     </g>\r\n     <g id=\"text_16\">\r\n      <!-- Cabin_na -->\r\n      <g transform=\"translate(7.2 218.648438)scale(0.1 -0.1)\">\r\n       <use xlink:href=\"#DejaVuSans-67\"/>\r\n       <use x=\"69.824219\" xlink:href=\"#DejaVuSans-97\"/>\r\n       <use x=\"131.103516\" xlink:href=\"#DejaVuSans-98\"/>\r\n       <use x=\"194.580078\" xlink:href=\"#DejaVuSans-105\"/>\r\n       <use x=\"222.363281\" xlink:href=\"#DejaVuSans-110\"/>\r\n       <use x=\"285.742188\" xlink:href=\"#DejaVuSans-95\"/>\r\n       <use x=\"335.742188\" xlink:href=\"#DejaVuSans-110\"/>\r\n       <use x=\"399.121094\" xlink:href=\"#DejaVuSans-97\"/>\r\n      </g>\r\n     </g>\r\n    </g>\r\n   </g>\r\n  </g>\r\n  <g id=\"axes_2\">\r\n   <g id=\"patch_3\">\r\n    <path clip-path=\"url(#p77396e174e)\" d=\"M 344.820625 228.439219 \r\nL 344.820625 227.589844 \r\nL 344.820625 11.848594 \r\nL 344.820625 10.999219 \r\nL 355.692625 10.999219 \r\nL 355.692625 11.848594 \r\nL 355.692625 227.589844 \r\nL 355.692625 228.439219 \r\nz\r\n\" style=\"fill:#ffffff;stroke:#ffffff;stroke-linejoin:miter;stroke-width:0.01;\"/>\r\n   </g>\r\n   <image height=\"218\" id=\"imagedfb6784f39\" transform=\"scale(1 -1)translate(0 -218)\" width=\"11\" x=\"345\" xlink:href=\"data:image/png;base64,\r\niVBORw0KGgoAAAANSUhEUgAAAAsAAADaCAYAAABwzrisAAABTklEQVR4nO3aMQ7DMAxDUctKL9H7n7Pp1tlvIKAA9SwQn5TsuEarX+97Ha5rV53WrquoeKWUjVkwem/AGGJQirvAIEWXY87l3NWgnEtjhjLNRtBgsN2x4c8dBTGMfmAHTTmWRg7jfEAf2m4ymMPAdp+vYLtzyv3IdoMyGgTlc91wdFB83SMwgmcdKR//WAoblGJhtjSkuATjkWkEZ+NcOmpQMER5TBo5g0OUobhhxyIzKUsxDVLvTwoDOJJpCAalUbCvMA1TTkW3WzCGpCHFaPC4FptiypaGKOfSkOIVU64rhwGX7SnK8L0y5SXMaDBVXE1pEEZK2aJreLoP5hxLY8ljtdz6kxhDorPZEAx5NsSdIsUxg7YHbTZmpDGEOTdIfX4tUOZcGnTWicEhzDHl6lcKY0gaZHBIU+R/BcHdbWmMOEWLlO2s+xv8LXnbW1+jfCslIj/x6QAAAABJRU5ErkJggg==\" y=\"-10\"/>\r\n   <g id=\"matplotlib.axis_3\"/>\r\n   <g id=\"matplotlib.axis_4\">\r\n    <g id=\"ytick_9\">\r\n     <g id=\"line2d_17\">\r\n      <defs>\r\n       <path d=\"M 0 0 \r\nL 3.5 0 \r\n\" id=\"m138a66a1cc\" style=\"stroke:#000000;stroke-width:0.8;\"/>\r\n      </defs>\r\n      <g>\r\n       <use style=\"stroke:#000000;stroke-width:0.8;\" x=\"355.692625\" xlink:href=\"#m138a66a1cc\" y=\"207.460061\"/>\r\n      </g>\r\n     </g>\r\n     <g id=\"text_17\">\r\n      <!-- −0.4 -->\r\n      <g transform=\"translate(362.692625 211.259279)scale(0.1 -0.1)\">\r\n       <defs>\r\n        <path d=\"M 10.59375 35.5 \r\nL 73.1875 35.5 \r\nL 73.1875 27.203125 \r\nL 10.59375 27.203125 \r\nz\r\n\" id=\"DejaVuSans-8722\"/>\r\n        <path d=\"M 31.78125 66.40625 \r\nQ 24.171875 66.40625 20.328125 58.90625 \r\nQ 16.5 51.421875 16.5 36.375 \r\nQ 16.5 21.390625 20.328125 13.890625 \r\nQ 24.171875 6.390625 31.78125 6.390625 \r\nQ 39.453125 6.390625 43.28125 13.890625 \r\nQ 47.125 21.390625 47.125 36.375 \r\nQ 47.125 51.421875 43.28125 58.90625 \r\nQ 39.453125 66.40625 31.78125 66.40625 \r\nz\r\nM 31.78125 74.21875 \r\nQ 44.046875 74.21875 50.515625 64.515625 \r\nQ 56.984375 54.828125 56.984375 36.375 \r\nQ 56.984375 17.96875 50.515625 8.265625 \r\nQ 44.046875 -1.421875 31.78125 -1.421875 \r\nQ 19.53125 -1.421875 13.0625 8.265625 \r\nQ 6.59375 17.96875 6.59375 36.375 \r\nQ 6.59375 54.828125 13.0625 64.515625 \r\nQ 19.53125 74.21875 31.78125 74.21875 \r\nz\r\n\" id=\"DejaVuSans-48\"/>\r\n        <path d=\"M 10.6875 12.40625 \r\nL 21 12.40625 \r\nL 21 0 \r\nL 10.6875 0 \r\nz\r\n\" id=\"DejaVuSans-46\"/>\r\n        <path d=\"M 37.796875 64.3125 \r\nL 12.890625 25.390625 \r\nL 37.796875 25.390625 \r\nz\r\nM 35.203125 72.90625 \r\nL 47.609375 72.90625 \r\nL 47.609375 25.390625 \r\nL 58.015625 25.390625 \r\nL 58.015625 17.1875 \r\nL 47.609375 17.1875 \r\nL 47.609375 0 \r\nL 37.796875 0 \r\nL 37.796875 17.1875 \r\nL 4.890625 17.1875 \r\nL 4.890625 26.703125 \r\nz\r\n\" id=\"DejaVuSans-52\"/>\r\n       </defs>\r\n       <use xlink:href=\"#DejaVuSans-8722\"/>\r\n       <use x=\"83.789062\" xlink:href=\"#DejaVuSans-48\"/>\r\n       <use x=\"147.412109\" xlink:href=\"#DejaVuSans-46\"/>\r\n       <use x=\"179.199219\" xlink:href=\"#DejaVuSans-52\"/>\r\n      </g>\r\n     </g>\r\n    </g>\r\n    <g id=\"ytick_10\">\r\n     <g id=\"line2d_18\">\r\n      <g>\r\n       <use style=\"stroke:#000000;stroke-width:0.8;\" x=\"355.692625\" xlink:href=\"#m138a66a1cc\" y=\"179.394226\"/>\r\n      </g>\r\n     </g>\r\n     <g id=\"text_18\">\r\n      <!-- −0.2 -->\r\n      <g transform=\"translate(362.692625 183.193445)scale(0.1 -0.1)\">\r\n       <defs>\r\n        <path d=\"M 19.1875 8.296875 \r\nL 53.609375 8.296875 \r\nL 53.609375 0 \r\nL 7.328125 0 \r\nL 7.328125 8.296875 \r\nQ 12.9375 14.109375 22.625 23.890625 \r\nQ 32.328125 33.6875 34.8125 36.53125 \r\nQ 39.546875 41.84375 41.421875 45.53125 \r\nQ 43.3125 49.21875 43.3125 52.78125 \r\nQ 43.3125 58.59375 39.234375 62.25 \r\nQ 35.15625 65.921875 28.609375 65.921875 \r\nQ 23.96875 65.921875 18.8125 64.3125 \r\nQ 13.671875 62.703125 7.8125 59.421875 \r\nL 7.8125 69.390625 \r\nQ 13.765625 71.78125 18.9375 73 \r\nQ 24.125 74.21875 28.421875 74.21875 \r\nQ 39.75 74.21875 46.484375 68.546875 \r\nQ 53.21875 62.890625 53.21875 53.421875 \r\nQ 53.21875 48.921875 51.53125 44.890625 \r\nQ 49.859375 40.875 45.40625 35.40625 \r\nQ 44.1875 33.984375 37.640625 27.21875 \r\nQ 31.109375 20.453125 19.1875 8.296875 \r\nz\r\n\" id=\"DejaVuSans-50\"/>\r\n       </defs>\r\n       <use xlink:href=\"#DejaVuSans-8722\"/>\r\n       <use x=\"83.789062\" xlink:href=\"#DejaVuSans-48\"/>\r\n       <use x=\"147.412109\" xlink:href=\"#DejaVuSans-46\"/>\r\n       <use x=\"179.199219\" xlink:href=\"#DejaVuSans-50\"/>\r\n      </g>\r\n     </g>\r\n    </g>\r\n    <g id=\"ytick_11\">\r\n     <g id=\"line2d_19\">\r\n      <g>\r\n       <use style=\"stroke:#000000;stroke-width:0.8;\" x=\"355.692625\" xlink:href=\"#m138a66a1cc\" y=\"151.328392\"/>\r\n      </g>\r\n     </g>\r\n     <g id=\"text_19\">\r\n      <!-- 0.0 -->\r\n      <g transform=\"translate(362.692625 155.12761)scale(0.1 -0.1)\">\r\n       <use xlink:href=\"#DejaVuSans-48\"/>\r\n       <use x=\"63.623047\" xlink:href=\"#DejaVuSans-46\"/>\r\n       <use x=\"95.410156\" xlink:href=\"#DejaVuSans-48\"/>\r\n      </g>\r\n     </g>\r\n    </g>\r\n    <g id=\"ytick_12\">\r\n     <g id=\"line2d_20\">\r\n      <g>\r\n       <use style=\"stroke:#000000;stroke-width:0.8;\" x=\"355.692625\" xlink:href=\"#m138a66a1cc\" y=\"123.262557\"/>\r\n      </g>\r\n     </g>\r\n     <g id=\"text_20\">\r\n      <!-- 0.2 -->\r\n      <g transform=\"translate(362.692625 127.061776)scale(0.1 -0.1)\">\r\n       <use xlink:href=\"#DejaVuSans-48\"/>\r\n       <use x=\"63.623047\" xlink:href=\"#DejaVuSans-46\"/>\r\n       <use x=\"95.410156\" xlink:href=\"#DejaVuSans-50\"/>\r\n      </g>\r\n     </g>\r\n    </g>\r\n    <g id=\"ytick_13\">\r\n     <g id=\"line2d_21\">\r\n      <g>\r\n       <use style=\"stroke:#000000;stroke-width:0.8;\" x=\"355.692625\" xlink:href=\"#m138a66a1cc\" y=\"95.196722\"/>\r\n      </g>\r\n     </g>\r\n     <g id=\"text_21\">\r\n      <!-- 0.4 -->\r\n      <g transform=\"translate(362.692625 98.995941)scale(0.1 -0.1)\">\r\n       <use xlink:href=\"#DejaVuSans-48\"/>\r\n       <use x=\"63.623047\" xlink:href=\"#DejaVuSans-46\"/>\r\n       <use x=\"95.410156\" xlink:href=\"#DejaVuSans-52\"/>\r\n      </g>\r\n     </g>\r\n    </g>\r\n    <g id=\"ytick_14\">\r\n     <g id=\"line2d_22\">\r\n      <g>\r\n       <use style=\"stroke:#000000;stroke-width:0.8;\" x=\"355.692625\" xlink:href=\"#m138a66a1cc\" y=\"67.130888\"/>\r\n      </g>\r\n     </g>\r\n     <g id=\"text_22\">\r\n      <!-- 0.6 -->\r\n      <g transform=\"translate(362.692625 70.930107)scale(0.1 -0.1)\">\r\n       <defs>\r\n        <path d=\"M 33.015625 40.375 \r\nQ 26.375 40.375 22.484375 35.828125 \r\nQ 18.609375 31.296875 18.609375 23.390625 \r\nQ 18.609375 15.53125 22.484375 10.953125 \r\nQ 26.375 6.390625 33.015625 6.390625 \r\nQ 39.65625 6.390625 43.53125 10.953125 \r\nQ 47.40625 15.53125 47.40625 23.390625 \r\nQ 47.40625 31.296875 43.53125 35.828125 \r\nQ 39.65625 40.375 33.015625 40.375 \r\nz\r\nM 52.59375 71.296875 \r\nL 52.59375 62.3125 \r\nQ 48.875 64.0625 45.09375 64.984375 \r\nQ 41.3125 65.921875 37.59375 65.921875 \r\nQ 27.828125 65.921875 22.671875 59.328125 \r\nQ 17.53125 52.734375 16.796875 39.40625 \r\nQ 19.671875 43.65625 24.015625 45.921875 \r\nQ 28.375 48.1875 33.59375 48.1875 \r\nQ 44.578125 48.1875 50.953125 41.515625 \r\nQ 57.328125 34.859375 57.328125 23.390625 \r\nQ 57.328125 12.15625 50.6875 5.359375 \r\nQ 44.046875 -1.421875 33.015625 -1.421875 \r\nQ 20.359375 -1.421875 13.671875 8.265625 \r\nQ 6.984375 17.96875 6.984375 36.375 \r\nQ 6.984375 53.65625 15.1875 63.9375 \r\nQ 23.390625 74.21875 37.203125 74.21875 \r\nQ 40.921875 74.21875 44.703125 73.484375 \r\nQ 48.484375 72.75 52.59375 71.296875 \r\nz\r\n\" id=\"DejaVuSans-54\"/>\r\n       </defs>\r\n       <use xlink:href=\"#DejaVuSans-48\"/>\r\n       <use x=\"63.623047\" xlink:href=\"#DejaVuSans-46\"/>\r\n       <use x=\"95.410156\" xlink:href=\"#DejaVuSans-54\"/>\r\n      </g>\r\n     </g>\r\n    </g>\r\n    <g id=\"ytick_15\">\r\n     <g id=\"line2d_23\">\r\n      <g>\r\n       <use style=\"stroke:#000000;stroke-width:0.8;\" x=\"355.692625\" xlink:href=\"#m138a66a1cc\" y=\"39.065053\"/>\r\n      </g>\r\n     </g>\r\n     <g id=\"text_23\">\r\n      <!-- 0.8 -->\r\n      <g transform=\"translate(362.692625 42.864272)scale(0.1 -0.1)\">\r\n       <defs>\r\n        <path d=\"M 31.78125 34.625 \r\nQ 24.75 34.625 20.71875 30.859375 \r\nQ 16.703125 27.09375 16.703125 20.515625 \r\nQ 16.703125 13.921875 20.71875 10.15625 \r\nQ 24.75 6.390625 31.78125 6.390625 \r\nQ 38.8125 6.390625 42.859375 10.171875 \r\nQ 46.921875 13.96875 46.921875 20.515625 \r\nQ 46.921875 27.09375 42.890625 30.859375 \r\nQ 38.875 34.625 31.78125 34.625 \r\nz\r\nM 21.921875 38.8125 \r\nQ 15.578125 40.375 12.03125 44.71875 \r\nQ 8.5 49.078125 8.5 55.328125 \r\nQ 8.5 64.0625 14.71875 69.140625 \r\nQ 20.953125 74.21875 31.78125 74.21875 \r\nQ 42.671875 74.21875 48.875 69.140625 \r\nQ 55.078125 64.0625 55.078125 55.328125 \r\nQ 55.078125 49.078125 51.53125 44.71875 \r\nQ 48 40.375 41.703125 38.8125 \r\nQ 48.828125 37.15625 52.796875 32.3125 \r\nQ 56.78125 27.484375 56.78125 20.515625 \r\nQ 56.78125 9.90625 50.3125 4.234375 \r\nQ 43.84375 -1.421875 31.78125 -1.421875 \r\nQ 19.734375 -1.421875 13.25 4.234375 \r\nQ 6.78125 9.90625 6.78125 20.515625 \r\nQ 6.78125 27.484375 10.78125 32.3125 \r\nQ 14.796875 37.15625 21.921875 38.8125 \r\nz\r\nM 18.3125 54.390625 \r\nQ 18.3125 48.734375 21.84375 45.5625 \r\nQ 25.390625 42.390625 31.78125 42.390625 \r\nQ 38.140625 42.390625 41.71875 45.5625 \r\nQ 45.3125 48.734375 45.3125 54.390625 \r\nQ 45.3125 60.0625 41.71875 63.234375 \r\nQ 38.140625 66.40625 31.78125 66.40625 \r\nQ 25.390625 66.40625 21.84375 63.234375 \r\nQ 18.3125 60.0625 18.3125 54.390625 \r\nz\r\n\" id=\"DejaVuSans-56\"/>\r\n       </defs>\r\n       <use xlink:href=\"#DejaVuSans-48\"/>\r\n       <use x=\"63.623047\" xlink:href=\"#DejaVuSans-46\"/>\r\n       <use x=\"95.410156\" xlink:href=\"#DejaVuSans-56\"/>\r\n      </g>\r\n     </g>\r\n    </g>\r\n    <g id=\"ytick_16\">\r\n     <g id=\"line2d_24\">\r\n      <g>\r\n       <use style=\"stroke:#000000;stroke-width:0.8;\" x=\"355.692625\" xlink:href=\"#m138a66a1cc\" y=\"10.999219\"/>\r\n      </g>\r\n     </g>\r\n     <g id=\"text_24\">\r\n      <!-- 1.0 -->\r\n      <g transform=\"translate(362.692625 14.798438)scale(0.1 -0.1)\">\r\n       <defs>\r\n        <path d=\"M 12.40625 8.296875 \r\nL 28.515625 8.296875 \r\nL 28.515625 63.921875 \r\nL 10.984375 60.40625 \r\nL 10.984375 69.390625 \r\nL 28.421875 72.90625 \r\nL 38.28125 72.90625 \r\nL 38.28125 8.296875 \r\nL 54.390625 8.296875 \r\nL 54.390625 0 \r\nL 12.40625 0 \r\nz\r\n\" id=\"DejaVuSans-49\"/>\r\n       </defs>\r\n       <use xlink:href=\"#DejaVuSans-49\"/>\r\n       <use x=\"63.623047\" xlink:href=\"#DejaVuSans-46\"/>\r\n       <use x=\"95.410156\" xlink:href=\"#DejaVuSans-48\"/>\r\n      </g>\r\n     </g>\r\n    </g>\r\n   </g>\r\n   <g id=\"patch_4\">\r\n    <path d=\"M 344.820625 228.439219 \r\nL 344.820625 227.589844 \r\nL 344.820625 11.848594 \r\nL 344.820625 10.999219 \r\nL 355.692625 10.999219 \r\nL 355.692625 11.848594 \r\nL 355.692625 227.589844 \r\nL 355.692625 228.439219 \r\nz\r\n\" style=\"fill:none;\"/>\r\n   </g>\r\n  </g>\r\n </g>\r\n <defs>\r\n  <clipPath id=\"pcda01556b5\">\r\n   <rect height=\"217.44\" width=\"267.84\" x=\"60.240625\" y=\"10.999219\"/>\r\n  </clipPath>\r\n  <clipPath id=\"p77396e174e\">\r\n   <rect height=\"217.44\" width=\"10.872\" x=\"344.820625\" y=\"10.999219\"/>\r\n  </clipPath>\r\n </defs>\r\n</svg>\r\n",
      "image/png": "[encoded data removed]"
     },
     "metadata": {
      "needs_background": "light"
     }
    }
   ],
   "source": [
    "sns.heatmap(train.corr())"
   ]
  },
  {
   "cell_type": "code",
   "execution_count": 13,
   "metadata": {},
   "outputs": [
    {
     "output_type": "execute_result",
     "data": {
      "text/plain": [
       "          Survived    Pclass       Age     SibSp     Parch      Fare  \\\n",
       "Survived  1.000000 -0.338481 -0.077221 -0.035322  0.081629  0.257307   \n",
       "Pclass   -0.338481  1.000000 -0.369226  0.083081  0.018443 -0.549500   \n",
       "Age      -0.077221 -0.369226  1.000000 -0.308247 -0.189119  0.096067   \n",
       "SibSp    -0.035322  0.083081 -0.308247  1.000000  0.414838  0.159651   \n",
       "Parch     0.081629  0.018443 -0.189119  0.414838  1.000000  0.216225   \n",
       "Fare      0.257307 -0.549500  0.096067  0.159651  0.216225  1.000000   \n",
       "Age_na   -0.092197  0.172933       NaN  0.018958 -0.124104 -0.100707   \n",
       "Cabin_na -0.316912  0.725541 -0.249732  0.040460 -0.036987 -0.482075   \n",
       "\n",
       "            Age_na  Cabin_na  \n",
       "Survived -0.092197 -0.316912  \n",
       "Pclass    0.172933  0.725541  \n",
       "Age            NaN -0.249732  \n",
       "SibSp     0.018958  0.040460  \n",
       "Parch    -0.124104 -0.036987  \n",
       "Fare     -0.100707 -0.482075  \n",
       "Age_na    1.000000  0.144111  \n",
       "Cabin_na  0.144111  1.000000  "
      ],
      "text/html": "<div>\n<style scoped>\n    .dataframe tbody tr th:only-of-type {\n        vertical-align: middle;\n    }\n\n    .dataframe tbody tr th {\n        vertical-align: top;\n    }\n\n    .dataframe thead th {\n        text-align: right;\n    }\n</style>\n<table border=\"1\" class=\"dataframe\">\n  <thead>\n    <tr style=\"text-align: right;\">\n      <th></th>\n      <th>Survived</th>\n      <th>Pclass</th>\n      <th>Age</th>\n      <th>SibSp</th>\n      <th>Parch</th>\n      <th>Fare</th>\n      <th>Age_na</th>\n      <th>Cabin_na</th>\n    </tr>\n  </thead>\n  <tbody>\n    <tr>\n      <th>Survived</th>\n      <td>1.000000</td>\n      <td>-0.338481</td>\n      <td>-0.077221</td>\n      <td>-0.035322</td>\n      <td>0.081629</td>\n      <td>0.257307</td>\n      <td>-0.092197</td>\n      <td>-0.316912</td>\n    </tr>\n    <tr>\n      <th>Pclass</th>\n      <td>-0.338481</td>\n      <td>1.000000</td>\n      <td>-0.369226</td>\n      <td>0.083081</td>\n      <td>0.018443</td>\n      <td>-0.549500</td>\n      <td>0.172933</td>\n      <td>0.725541</td>\n    </tr>\n    <tr>\n      <th>Age</th>\n      <td>-0.077221</td>\n      <td>-0.369226</td>\n      <td>1.000000</td>\n      <td>-0.308247</td>\n      <td>-0.189119</td>\n      <td>0.096067</td>\n      <td>NaN</td>\n      <td>-0.249732</td>\n    </tr>\n    <tr>\n      <th>SibSp</th>\n      <td>-0.035322</td>\n      <td>0.083081</td>\n      <td>-0.308247</td>\n      <td>1.000000</td>\n      <td>0.414838</td>\n      <td>0.159651</td>\n      <td>0.018958</td>\n      <td>0.040460</td>\n    </tr>\n    <tr>\n      <th>Parch</th>\n      <td>0.081629</td>\n      <td>0.018443</td>\n      <td>-0.189119</td>\n      <td>0.414838</td>\n      <td>1.000000</td>\n      <td>0.216225</td>\n      <td>-0.124104</td>\n      <td>-0.036987</td>\n    </tr>\n    <tr>\n      <th>Fare</th>\n      <td>0.257307</td>\n      <td>-0.549500</td>\n      <td>0.096067</td>\n      <td>0.159651</td>\n      <td>0.216225</td>\n      <td>1.000000</td>\n      <td>-0.100707</td>\n      <td>-0.482075</td>\n    </tr>\n    <tr>\n      <th>Age_na</th>\n      <td>-0.092197</td>\n      <td>0.172933</td>\n      <td>NaN</td>\n      <td>0.018958</td>\n      <td>-0.124104</td>\n      <td>-0.100707</td>\n      <td>1.000000</td>\n      <td>0.144111</td>\n    </tr>\n    <tr>\n      <th>Cabin_na</th>\n      <td>-0.316912</td>\n      <td>0.725541</td>\n      <td>-0.249732</td>\n      <td>0.040460</td>\n      <td>-0.036987</td>\n      <td>-0.482075</td>\n      <td>0.144111</td>\n      <td>1.000000</td>\n    </tr>\n  </tbody>\n</table>\n</div>"
     },
     "metadata": {},
     "execution_count": 13
    }
   ],
   "source": [
    "train.corr()"
   ]
  },
  {
   "cell_type": "code",
   "execution_count": 14,
   "metadata": {},
   "outputs": [
    {
     "output_type": "execute_result",
     "data": {
      "text/plain": [
       "   Survived  Pclass     Sex   Age  SibSp  Parch            Ticket     Fare  \\\n",
       "0         0       3    male  22.0      1      0         A/5 21171   7.2500   \n",
       "1         1       1  female  38.0      1      0          PC 17599  71.2833   \n",
       "2         1       3  female  26.0      0      0  STON/O2. 3101282   7.9250   \n",
       "3         1       1  female  35.0      1      0            113803  53.1000   \n",
       "4         0       3    male  35.0      0      0            373450   8.0500   \n",
       "\n",
       "  Cabin Embarked  Age_na  Cabin_na  \n",
       "0   NaN        S       0         1  \n",
       "1   C85        C       0         0  \n",
       "2   NaN        S       0         1  \n",
       "3  C123        S       0         0  \n",
       "4   NaN        S       0         1  "
      ],
      "text/html": "<div>\n<style scoped>\n    .dataframe tbody tr th:only-of-type {\n        vertical-align: middle;\n    }\n\n    .dataframe tbody tr th {\n        vertical-align: top;\n    }\n\n    .dataframe thead th {\n        text-align: right;\n    }\n</style>\n<table border=\"1\" class=\"dataframe\">\n  <thead>\n    <tr style=\"text-align: right;\">\n      <th></th>\n      <th>Survived</th>\n      <th>Pclass</th>\n      <th>Sex</th>\n      <th>Age</th>\n      <th>SibSp</th>\n      <th>Parch</th>\n      <th>Ticket</th>\n      <th>Fare</th>\n      <th>Cabin</th>\n      <th>Embarked</th>\n      <th>Age_na</th>\n      <th>Cabin_na</th>\n    </tr>\n  </thead>\n  <tbody>\n    <tr>\n      <th>0</th>\n      <td>0</td>\n      <td>3</td>\n      <td>male</td>\n      <td>22.0</td>\n      <td>1</td>\n      <td>0</td>\n      <td>A/5 21171</td>\n      <td>7.2500</td>\n      <td>NaN</td>\n      <td>S</td>\n      <td>0</td>\n      <td>1</td>\n    </tr>\n    <tr>\n      <th>1</th>\n      <td>1</td>\n      <td>1</td>\n      <td>female</td>\n      <td>38.0</td>\n      <td>1</td>\n      <td>0</td>\n      <td>PC 17599</td>\n      <td>71.2833</td>\n      <td>C85</td>\n      <td>C</td>\n      <td>0</td>\n      <td>0</td>\n    </tr>\n    <tr>\n      <th>2</th>\n      <td>1</td>\n      <td>3</td>\n      <td>female</td>\n      <td>26.0</td>\n      <td>0</td>\n      <td>0</td>\n      <td>STON/O2. 3101282</td>\n      <td>7.9250</td>\n      <td>NaN</td>\n      <td>S</td>\n      <td>0</td>\n      <td>1</td>\n    </tr>\n    <tr>\n      <th>3</th>\n      <td>1</td>\n      <td>1</td>\n      <td>female</td>\n      <td>35.0</td>\n      <td>1</td>\n      <td>0</td>\n      <td>113803</td>\n      <td>53.1000</td>\n      <td>C123</td>\n      <td>S</td>\n      <td>0</td>\n      <td>0</td>\n    </tr>\n    <tr>\n      <th>4</th>\n      <td>0</td>\n      <td>3</td>\n      <td>male</td>\n      <td>35.0</td>\n      <td>0</td>\n      <td>0</td>\n      <td>373450</td>\n      <td>8.0500</td>\n      <td>NaN</td>\n      <td>S</td>\n      <td>0</td>\n      <td>1</td>\n    </tr>\n  </tbody>\n</table>\n</div>"
     },
     "metadata": {},
     "execution_count": 14
    }
   ],
   "source": [
    "train.head()"
   ]
  },
  {
   "cell_type": "code",
   "execution_count": 15,
   "metadata": {},
   "outputs": [],
   "source": [
    "train = train.drop([\"Cabin_na\", \"Age_na\"], axis=1)"
   ]
  },
  {
   "cell_type": "code",
   "execution_count": 16,
   "metadata": {},
   "outputs": [],
   "source": [
    "train[\"Age\"] = train[\"Age\"].fillna(train[\"Age\"].mean())\n",
    "test[\"Age\"] = test[\"Age\"].fillna(test[\"Age\"].mean())"
   ]
  },
  {
   "cell_type": "code",
   "execution_count": 17,
   "metadata": {},
   "outputs": [],
   "source": [
    "train[\"Cabin_without_NA\"] = np.where(train[\"Cabin\"].isnull(), 0, train[\"Cabin\"])"
   ]
  },
  {
   "cell_type": "code",
   "execution_count": 18,
   "metadata": {},
   "outputs": [],
   "source": [
    "train[\"Deck\"] = train[\"Cabin_without_NA\"].str.slice(0,1)\n",
    "train[\"Room\"] = train[\"Cabin_without_NA\"].str.slice(1,5).str.extract(\"([0-9]+)\", expand=False).astype(\"float\")"
   ]
  },
  {
   "cell_type": "code",
   "execution_count": 19,
   "metadata": {},
   "outputs": [
    {
     "output_type": "execute_result",
     "data": {
      "text/plain": [
       "   Survived  Pclass     Sex   Age  SibSp  Parch            Ticket     Fare  \\\n",
       "0         0       3    male  22.0      1      0         A/5 21171   7.2500   \n",
       "1         1       1  female  38.0      1      0          PC 17599  71.2833   \n",
       "2         1       3  female  26.0      0      0  STON/O2. 3101282   7.9250   \n",
       "3         1       1  female  35.0      1      0            113803  53.1000   \n",
       "4         0       3    male  35.0      0      0            373450   8.0500   \n",
       "\n",
       "  Cabin Embarked Cabin_without_NA Deck   Room  \n",
       "0   NaN        S                0  NaN    NaN  \n",
       "1   C85        C              C85    C   85.0  \n",
       "2   NaN        S                0  NaN    NaN  \n",
       "3  C123        S             C123    C  123.0  \n",
       "4   NaN        S                0  NaN    NaN  "
      ],
      "text/html": "<div>\n<style scoped>\n    .dataframe tbody tr th:only-of-type {\n        vertical-align: middle;\n    }\n\n    .dataframe tbody tr th {\n        vertical-align: top;\n    }\n\n    .dataframe thead th {\n        text-align: right;\n    }\n</style>\n<table border=\"1\" class=\"dataframe\">\n  <thead>\n    <tr style=\"text-align: right;\">\n      <th></th>\n      <th>Survived</th>\n      <th>Pclass</th>\n      <th>Sex</th>\n      <th>Age</th>\n      <th>SibSp</th>\n      <th>Parch</th>\n      <th>Ticket</th>\n      <th>Fare</th>\n      <th>Cabin</th>\n      <th>Embarked</th>\n      <th>Cabin_without_NA</th>\n      <th>Deck</th>\n      <th>Room</th>\n    </tr>\n  </thead>\n  <tbody>\n    <tr>\n      <th>0</th>\n      <td>0</td>\n      <td>3</td>\n      <td>male</td>\n      <td>22.0</td>\n      <td>1</td>\n      <td>0</td>\n      <td>A/5 21171</td>\n      <td>7.2500</td>\n      <td>NaN</td>\n      <td>S</td>\n      <td>0</td>\n      <td>NaN</td>\n      <td>NaN</td>\n    </tr>\n    <tr>\n      <th>1</th>\n      <td>1</td>\n      <td>1</td>\n      <td>female</td>\n      <td>38.0</td>\n      <td>1</td>\n      <td>0</td>\n      <td>PC 17599</td>\n      <td>71.2833</td>\n      <td>C85</td>\n      <td>C</td>\n      <td>C85</td>\n      <td>C</td>\n      <td>85.0</td>\n    </tr>\n    <tr>\n      <th>2</th>\n      <td>1</td>\n      <td>3</td>\n      <td>female</td>\n      <td>26.0</td>\n      <td>0</td>\n      <td>0</td>\n      <td>STON/O2. 3101282</td>\n      <td>7.9250</td>\n      <td>NaN</td>\n      <td>S</td>\n      <td>0</td>\n      <td>NaN</td>\n      <td>NaN</td>\n    </tr>\n    <tr>\n      <th>3</th>\n      <td>1</td>\n      <td>1</td>\n      <td>female</td>\n      <td>35.0</td>\n      <td>1</td>\n      <td>0</td>\n      <td>113803</td>\n      <td>53.1000</td>\n      <td>C123</td>\n      <td>S</td>\n      <td>C123</td>\n      <td>C</td>\n      <td>123.0</td>\n    </tr>\n    <tr>\n      <th>4</th>\n      <td>0</td>\n      <td>3</td>\n      <td>male</td>\n      <td>35.0</td>\n      <td>0</td>\n      <td>0</td>\n      <td>373450</td>\n      <td>8.0500</td>\n      <td>NaN</td>\n      <td>S</td>\n      <td>0</td>\n      <td>NaN</td>\n      <td>NaN</td>\n    </tr>\n  </tbody>\n</table>\n</div>"
     },
     "metadata": {},
     "execution_count": 19
    }
   ],
   "source": [
    "train.head()"
   ]
  },
  {
   "cell_type": "code",
   "execution_count": 20,
   "metadata": {},
   "outputs": [],
   "source": [
    "train[\"Deck\"] = train[\"Deck\"].fillna(\"N\")\n",
    "train[\"Room\"] = train[\"Room\"].fillna(train[\"Room\"].median())"
   ]
  },
  {
   "cell_type": "code",
   "execution_count": 21,
   "metadata": {},
   "outputs": [],
   "source": [
    "train = train.drop([\"Cabin\",\"Cabin_without_NA\"], axis=1)"
   ]
  },
  {
   "cell_type": "code",
   "execution_count": 22,
   "metadata": {},
   "outputs": [
    {
     "output_type": "execute_result",
     "data": {
      "text/plain": [
       "   Survived  Pclass     Sex   Age  SibSp  Parch            Ticket     Fare  \\\n",
       "0         0       3    male  22.0      1      0         A/5 21171   7.2500   \n",
       "1         1       1  female  38.0      1      0          PC 17599  71.2833   \n",
       "2         1       3  female  26.0      0      0  STON/O2. 3101282   7.9250   \n",
       "3         1       1  female  35.0      1      0            113803  53.1000   \n",
       "4         0       3    male  35.0      0      0            373450   8.0500   \n",
       "\n",
       "  Embarked Deck   Room  \n",
       "0        S    N   43.0  \n",
       "1        C    C   85.0  \n",
       "2        S    N   43.0  \n",
       "3        S    C  123.0  \n",
       "4        S    N   43.0  "
      ],
      "text/html": "<div>\n<style scoped>\n    .dataframe tbody tr th:only-of-type {\n        vertical-align: middle;\n    }\n\n    .dataframe tbody tr th {\n        vertical-align: top;\n    }\n\n    .dataframe thead th {\n        text-align: right;\n    }\n</style>\n<table border=\"1\" class=\"dataframe\">\n  <thead>\n    <tr style=\"text-align: right;\">\n      <th></th>\n      <th>Survived</th>\n      <th>Pclass</th>\n      <th>Sex</th>\n      <th>Age</th>\n      <th>SibSp</th>\n      <th>Parch</th>\n      <th>Ticket</th>\n      <th>Fare</th>\n      <th>Embarked</th>\n      <th>Deck</th>\n      <th>Room</th>\n    </tr>\n  </thead>\n  <tbody>\n    <tr>\n      <th>0</th>\n      <td>0</td>\n      <td>3</td>\n      <td>male</td>\n      <td>22.0</td>\n      <td>1</td>\n      <td>0</td>\n      <td>A/5 21171</td>\n      <td>7.2500</td>\n      <td>S</td>\n      <td>N</td>\n      <td>43.0</td>\n    </tr>\n    <tr>\n      <th>1</th>\n      <td>1</td>\n      <td>1</td>\n      <td>female</td>\n      <td>38.0</td>\n      <td>1</td>\n      <td>0</td>\n      <td>PC 17599</td>\n      <td>71.2833</td>\n      <td>C</td>\n      <td>C</td>\n      <td>85.0</td>\n    </tr>\n    <tr>\n      <th>2</th>\n      <td>1</td>\n      <td>3</td>\n      <td>female</td>\n      <td>26.0</td>\n      <td>0</td>\n      <td>0</td>\n      <td>STON/O2. 3101282</td>\n      <td>7.9250</td>\n      <td>S</td>\n      <td>N</td>\n      <td>43.0</td>\n    </tr>\n    <tr>\n      <th>3</th>\n      <td>1</td>\n      <td>1</td>\n      <td>female</td>\n      <td>35.0</td>\n      <td>1</td>\n      <td>0</td>\n      <td>113803</td>\n      <td>53.1000</td>\n      <td>S</td>\n      <td>C</td>\n      <td>123.0</td>\n    </tr>\n    <tr>\n      <th>4</th>\n      <td>0</td>\n      <td>3</td>\n      <td>male</td>\n      <td>35.0</td>\n      <td>0</td>\n      <td>0</td>\n      <td>373450</td>\n      <td>8.0500</td>\n      <td>S</td>\n      <td>N</td>\n      <td>43.0</td>\n    </tr>\n  </tbody>\n</table>\n</div>"
     },
     "metadata": {},
     "execution_count": 22
    }
   ],
   "source": [
    "train.head()"
   ]
  },
  {
   "cell_type": "code",
   "execution_count": 23,
   "metadata": {},
   "outputs": [],
   "source": [
    "train[\"Room\"] = train[\"Room\"].astype(int)"
   ]
  },
  {
   "cell_type": "code",
   "execution_count": 24,
   "metadata": {},
   "outputs": [],
   "source": [
    "oh_Deck = pd.DataFrame(pd.get_dummies(train[\"Deck\"]))\n",
    "oh_Deck.columns = [\"Deck==A\", \"Deck==B\", \"Deck==C\", \"Deck==D\", \"Deck==E\", \"Deck==F\", \"Deck==G\", \"Deck==N\", \"Deck==T\"]\n",
    "train = pd.concat([train, oh_Deck], axis=1)"
   ]
  },
  {
   "cell_type": "code",
   "execution_count": 25,
   "metadata": {},
   "outputs": [],
   "source": [
    "oh_Pclass = oh_Deck = pd.DataFrame(pd.get_dummies(train[\"Pclass\"]))\n",
    "oh_Pclass.columns = [\"pclass==1\", \"pclass==2\",\"pclass==3\"]\n",
    "train = pd.concat([train, oh_Pclass], axis=1)"
   ]
  },
  {
   "cell_type": "code",
   "execution_count": 26,
   "metadata": {},
   "outputs": [],
   "source": [
    "train = train.drop([\"pclass==1\"], axis=1)"
   ]
  },
  {
   "cell_type": "code",
   "execution_count": 27,
   "metadata": {},
   "outputs": [],
   "source": [
    "train= train.drop([\"Deck\", \"Pclass\"],axis=1)"
   ]
  },
  {
   "cell_type": "code",
   "execution_count": 28,
   "metadata": {},
   "outputs": [],
   "source": [
    "train[\"Sex\"] = train[\"Sex\"].map(lambda x: 1 if x==\"male\" else 0)"
   ]
  },
  {
   "cell_type": "code",
   "execution_count": 29,
   "metadata": {},
   "outputs": [],
   "source": [
    "train = train.drop([\"Ticket\"], axis=1)\n",
    "test = test.drop([\"Ticket\"], axis=1)"
   ]
  },
  {
   "cell_type": "code",
   "execution_count": 30,
   "metadata": {},
   "outputs": [
    {
     "output_type": "execute_result",
     "data": {
      "text/plain": [
       "   Survived  Sex   Age  SibSp  Parch     Fare Embarked  Room  Deck==A  \\\n",
       "0         0    1  22.0      1      0   7.2500        S    43        0   \n",
       "1         1    0  38.0      1      0  71.2833        C    85        0   \n",
       "2         1    0  26.0      0      0   7.9250        S    43        0   \n",
       "3         1    0  35.0      1      0  53.1000        S   123        0   \n",
       "4         0    1  35.0      0      0   8.0500        S    43        0   \n",
       "\n",
       "   Deck==B  Deck==C  Deck==D  Deck==E  Deck==F  Deck==G  Deck==N  Deck==T  \\\n",
       "0        0        0        0        0        0        0        1        0   \n",
       "1        0        1        0        0        0        0        0        0   \n",
       "2        0        0        0        0        0        0        1        0   \n",
       "3        0        1        0        0        0        0        0        0   \n",
       "4        0        0        0        0        0        0        1        0   \n",
       "\n",
       "   pclass==2  pclass==3  \n",
       "0          0          1  \n",
       "1          0          0  \n",
       "2          0          1  \n",
       "3          0          0  \n",
       "4          0          1  "
      ],
      "text/html": "<div>\n<style scoped>\n    .dataframe tbody tr th:only-of-type {\n        vertical-align: middle;\n    }\n\n    .dataframe tbody tr th {\n        vertical-align: top;\n    }\n\n    .dataframe thead th {\n        text-align: right;\n    }\n</style>\n<table border=\"1\" class=\"dataframe\">\n  <thead>\n    <tr style=\"text-align: right;\">\n      <th></th>\n      <th>Survived</th>\n      <th>Sex</th>\n      <th>Age</th>\n      <th>SibSp</th>\n      <th>Parch</th>\n      <th>Fare</th>\n      <th>Embarked</th>\n      <th>Room</th>\n      <th>Deck==A</th>\n      <th>Deck==B</th>\n      <th>Deck==C</th>\n      <th>Deck==D</th>\n      <th>Deck==E</th>\n      <th>Deck==F</th>\n      <th>Deck==G</th>\n      <th>Deck==N</th>\n      <th>Deck==T</th>\n      <th>pclass==2</th>\n      <th>pclass==3</th>\n    </tr>\n  </thead>\n  <tbody>\n    <tr>\n      <th>0</th>\n      <td>0</td>\n      <td>1</td>\n      <td>22.0</td>\n      <td>1</td>\n      <td>0</td>\n      <td>7.2500</td>\n      <td>S</td>\n      <td>43</td>\n      <td>0</td>\n      <td>0</td>\n      <td>0</td>\n      <td>0</td>\n      <td>0</td>\n      <td>0</td>\n      <td>0</td>\n      <td>1</td>\n      <td>0</td>\n      <td>0</td>\n      <td>1</td>\n    </tr>\n    <tr>\n      <th>1</th>\n      <td>1</td>\n      <td>0</td>\n      <td>38.0</td>\n      <td>1</td>\n      <td>0</td>\n      <td>71.2833</td>\n      <td>C</td>\n      <td>85</td>\n      <td>0</td>\n      <td>0</td>\n      <td>1</td>\n      <td>0</td>\n      <td>0</td>\n      <td>0</td>\n      <td>0</td>\n      <td>0</td>\n      <td>0</td>\n      <td>0</td>\n      <td>0</td>\n    </tr>\n    <tr>\n      <th>2</th>\n      <td>1</td>\n      <td>0</td>\n      <td>26.0</td>\n      <td>0</td>\n      <td>0</td>\n      <td>7.9250</td>\n      <td>S</td>\n      <td>43</td>\n      <td>0</td>\n      <td>0</td>\n      <td>0</td>\n      <td>0</td>\n      <td>0</td>\n      <td>0</td>\n      <td>0</td>\n      <td>1</td>\n      <td>0</td>\n      <td>0</td>\n      <td>1</td>\n    </tr>\n    <tr>\n      <th>3</th>\n      <td>1</td>\n      <td>0</td>\n      <td>35.0</td>\n      <td>1</td>\n      <td>0</td>\n      <td>53.1000</td>\n      <td>S</td>\n      <td>123</td>\n      <td>0</td>\n      <td>0</td>\n      <td>1</td>\n      <td>0</td>\n      <td>0</td>\n      <td>0</td>\n      <td>0</td>\n      <td>0</td>\n      <td>0</td>\n      <td>0</td>\n      <td>0</td>\n    </tr>\n    <tr>\n      <th>4</th>\n      <td>0</td>\n      <td>1</td>\n      <td>35.0</td>\n      <td>0</td>\n      <td>0</td>\n      <td>8.0500</td>\n      <td>S</td>\n      <td>43</td>\n      <td>0</td>\n      <td>0</td>\n      <td>0</td>\n      <td>0</td>\n      <td>0</td>\n      <td>0</td>\n      <td>0</td>\n      <td>1</td>\n      <td>0</td>\n      <td>0</td>\n      <td>1</td>\n    </tr>\n  </tbody>\n</table>\n</div>"
     },
     "metadata": {},
     "execution_count": 30
    }
   ],
   "source": [
    "train.head()"
   ]
  },
  {
   "cell_type": "code",
   "execution_count": 31,
   "metadata": {},
   "outputs": [],
   "source": [
    "train[\"Embarked\"] = train[\"Embarked\"].map(train[\"Embarked\"].value_counts()/train.shape[0])"
   ]
  },
  {
   "cell_type": "code",
   "execution_count": 32,
   "metadata": {},
   "outputs": [
    {
     "output_type": "execute_result",
     "data": {
      "text/plain": [
       "   Survived  Sex   Age  SibSp  Parch     Fare  Embarked  Room  Deck==A  \\\n",
       "0         0    1  22.0      1      0   7.2500  0.725028    43        0   \n",
       "1         1    0  38.0      1      0  71.2833  0.188552    85        0   \n",
       "2         1    0  26.0      0      0   7.9250  0.725028    43        0   \n",
       "3         1    0  35.0      1      0  53.1000  0.725028   123        0   \n",
       "4         0    1  35.0      0      0   8.0500  0.725028    43        0   \n",
       "\n",
       "   Deck==B  Deck==C  Deck==D  Deck==E  Deck==F  Deck==G  Deck==N  Deck==T  \\\n",
       "0        0        0        0        0        0        0        1        0   \n",
       "1        0        1        0        0        0        0        0        0   \n",
       "2        0        0        0        0        0        0        1        0   \n",
       "3        0        1        0        0        0        0        0        0   \n",
       "4        0        0        0        0        0        0        1        0   \n",
       "\n",
       "   pclass==2  pclass==3  \n",
       "0          0          1  \n",
       "1          0          0  \n",
       "2          0          1  \n",
       "3          0          0  \n",
       "4          0          1  "
      ],
      "text/html": "<div>\n<style scoped>\n    .dataframe tbody tr th:only-of-type {\n        vertical-align: middle;\n    }\n\n    .dataframe tbody tr th {\n        vertical-align: top;\n    }\n\n    .dataframe thead th {\n        text-align: right;\n    }\n</style>\n<table border=\"1\" class=\"dataframe\">\n  <thead>\n    <tr style=\"text-align: right;\">\n      <th></th>\n      <th>Survived</th>\n      <th>Sex</th>\n      <th>Age</th>\n      <th>SibSp</th>\n      <th>Parch</th>\n      <th>Fare</th>\n      <th>Embarked</th>\n      <th>Room</th>\n      <th>Deck==A</th>\n      <th>Deck==B</th>\n      <th>Deck==C</th>\n      <th>Deck==D</th>\n      <th>Deck==E</th>\n      <th>Deck==F</th>\n      <th>Deck==G</th>\n      <th>Deck==N</th>\n      <th>Deck==T</th>\n      <th>pclass==2</th>\n      <th>pclass==3</th>\n    </tr>\n  </thead>\n  <tbody>\n    <tr>\n      <th>0</th>\n      <td>0</td>\n      <td>1</td>\n      <td>22.0</td>\n      <td>1</td>\n      <td>0</td>\n      <td>7.2500</td>\n      <td>0.725028</td>\n      <td>43</td>\n      <td>0</td>\n      <td>0</td>\n      <td>0</td>\n      <td>0</td>\n      <td>0</td>\n      <td>0</td>\n      <td>0</td>\n      <td>1</td>\n      <td>0</td>\n      <td>0</td>\n      <td>1</td>\n    </tr>\n    <tr>\n      <th>1</th>\n      <td>1</td>\n      <td>0</td>\n      <td>38.0</td>\n      <td>1</td>\n      <td>0</td>\n      <td>71.2833</td>\n      <td>0.188552</td>\n      <td>85</td>\n      <td>0</td>\n      <td>0</td>\n      <td>1</td>\n      <td>0</td>\n      <td>0</td>\n      <td>0</td>\n      <td>0</td>\n      <td>0</td>\n      <td>0</td>\n      <td>0</td>\n      <td>0</td>\n    </tr>\n    <tr>\n      <th>2</th>\n      <td>1</td>\n      <td>0</td>\n      <td>26.0</td>\n      <td>0</td>\n      <td>0</td>\n      <td>7.9250</td>\n      <td>0.725028</td>\n      <td>43</td>\n      <td>0</td>\n      <td>0</td>\n      <td>0</td>\n      <td>0</td>\n      <td>0</td>\n      <td>0</td>\n      <td>0</td>\n      <td>1</td>\n      <td>0</td>\n      <td>0</td>\n      <td>1</td>\n    </tr>\n    <tr>\n      <th>3</th>\n      <td>1</td>\n      <td>0</td>\n      <td>35.0</td>\n      <td>1</td>\n      <td>0</td>\n      <td>53.1000</td>\n      <td>0.725028</td>\n      <td>123</td>\n      <td>0</td>\n      <td>0</td>\n      <td>1</td>\n      <td>0</td>\n      <td>0</td>\n      <td>0</td>\n      <td>0</td>\n      <td>0</td>\n      <td>0</td>\n      <td>0</td>\n      <td>0</td>\n    </tr>\n    <tr>\n      <th>4</th>\n      <td>0</td>\n      <td>1</td>\n      <td>35.0</td>\n      <td>0</td>\n      <td>0</td>\n      <td>8.0500</td>\n      <td>0.725028</td>\n      <td>43</td>\n      <td>0</td>\n      <td>0</td>\n      <td>0</td>\n      <td>0</td>\n      <td>0</td>\n      <td>0</td>\n      <td>0</td>\n      <td>1</td>\n      <td>0</td>\n      <td>0</td>\n      <td>1</td>\n    </tr>\n  </tbody>\n</table>\n</div>"
     },
     "metadata": {},
     "execution_count": 32
    }
   ],
   "source": [
    "train.head()"
   ]
  },
  {
   "cell_type": "code",
   "execution_count": 33,
   "metadata": {},
   "outputs": [
    {
     "output_type": "execute_result",
     "data": {
      "text/plain": [
       "<AxesSubplot:>"
      ]
     },
     "metadata": {},
     "execution_count": 33
    },
    {
     "output_type": "display_data",
     "data": {
      "text/plain": "<Figure size 432x288 with 2 Axes>",
      "image/svg+xml": "<?xml version=\"1.0\" encoding=\"utf-8\" standalone=\"no\"?>\r\n<!DOCTYPE svg PUBLIC \"-//W3C//DTD SVG 1.1//EN\"\r\n  \"http://www.w3.org/Graphics/SVG/1.1/DTD/svg11.dtd\">\r\n<!-- Created with matplotlib (https://matplotlib.org/) -->\r\n<svg height=\"296.932969pt\" version=\"1.1\" viewBox=\"0 0 402.428562 296.932969\" width=\"402.428562pt\" xmlns=\"http://www.w3.org/2000/svg\" xmlns:xlink=\"http://www.w3.org/1999/xlink\">\r\n <metadata>\r\n  <rdf:RDF xmlns:cc=\"http://creativecommons.org/ns#\" xmlns:dc=\"http://purl.org/dc/elements/1.1/\" xmlns:rdf=\"http://www.w3.org/1999/02/22-rdf-syntax-ns#\">\r\n   <cc:Work>\r\n    <dc:type rdf:resource=\"http://purl.org/dc/dcmitype/StillImage\"/>\r\n    <dc:date>2021-01-31T22:12:16.547714</dc:date>\r\n    <dc:format>image/svg+xml</dc:format>\r\n    <dc:creator>\r\n     <cc:Agent>\r\n      <dc:title>Matplotlib v3.3.2, https://matplotlib.org/</dc:title>\r\n     </cc:Agent>\r\n    </dc:creator>\r\n   </cc:Work>\r\n  </rdf:RDF>\r\n </metadata>\r\n <defs>\r\n  <style type=\"text/css\">*{stroke-linecap:butt;stroke-linejoin:round;}</style>\r\n </defs>\r\n <g id=\"figure_1\">\r\n  <g id=\"patch_1\">\r\n   <path d=\"M 0 296.932969 \r\nL 402.428562 296.932969 \r\nL 402.428562 0 \r\nL 0 0 \r\nz\r\n\" style=\"fill:none;\"/>\r\n  </g>\r\n  <g id=\"axes_1\">\r\n   <g id=\"patch_2\">\r\n    <path d=\"M 68.49375 228.439219 \r\nL 336.33375 228.439219 \r\nL 336.33375 10.999219 \r\nL 68.49375 10.999219 \r\nz\r\n\" style=\"fill:#ffffff;\"/>\r\n   </g>\r\n   <g id=\"QuadMesh_1\">\r\n    <path clip-path=\"url(#p3b52c293d6)\" d=\"M 68.49375 10.999219 \r\nL 82.590592 10.999219 \r\nL 82.590592 22.443429 \r\nL 68.49375 22.443429 \r\nL 68.49375 10.999219 \r\n\" style=\"fill:#faebdd;\"/>\r\n    <path clip-path=\"url(#p3b52c293d6)\" d=\"M 82.590592 10.999219 \r\nL 96.687434 10.999219 \r\nL 96.687434 22.443429 \r\nL 82.590592 22.443429 \r\nL 82.590592 10.999219 \r\n\" style=\"fill:#06071c;\"/>\r\n    <path clip-path=\"url(#p3b52c293d6)\" d=\"M 96.687434 10.999219 \r\nL 110.784276 10.999219 \r\nL 110.784276 22.443429 \r\nL 96.687434 22.443429 \r\nL 96.687434 10.999219 \r\n\" style=\"fill:#7d1f5a;\"/>\r\n    <path clip-path=\"url(#p3b52c293d6)\" d=\"M 110.784276 10.999219 \r\nL 124.881118 10.999219 \r\nL 124.881118 22.443429 \r\nL 110.784276 22.443429 \r\nL 110.784276 10.999219 \r\n\" style=\"fill:#861e5b;\"/>\r\n    <path clip-path=\"url(#p3b52c293d6)\" d=\"M 124.881118 10.999219 \r\nL 138.977961 10.999219 \r\nL 138.977961 22.443429 \r\nL 124.881118 22.443429 \r\nL 124.881118 10.999219 \r\n\" style=\"fill:#a6195a;\"/>\r\n    <path clip-path=\"url(#p3b52c293d6)\" d=\"M 138.977961 10.999219 \r\nL 153.074803 10.999219 \r\nL 153.074803 22.443429 \r\nL 138.977961 22.443429 \r\nL 138.977961 10.999219 \r\n\" style=\"fill:#d3214b;\"/>\r\n    <path clip-path=\"url(#p3b52c293d6)\" d=\"M 153.074803 10.999219 \r\nL 167.171645 10.999219 \r\nL 167.171645 22.443429 \r\nL 153.074803 22.443429 \r\nL 153.074803 10.999219 \r\n\" style=\"fill:#691f55;\"/>\r\n    <path clip-path=\"url(#p3b52c293d6)\" d=\"M 167.171645 10.999219 \r\nL 181.268487 10.999219 \r\nL 181.268487 22.443429 \r\nL 167.171645 22.443429 \r\nL 167.171645 10.999219 \r\n\" style=\"fill:#981b5b;\"/>\r\n    <path clip-path=\"url(#p3b52c293d6)\" d=\"M 181.268487 10.999219 \r\nL 195.365329 10.999219 \r\nL 195.365329 22.443429 \r\nL 181.268487 22.443429 \r\nL 181.268487 10.999219 \r\n\" style=\"fill:#971c5b;\"/>\r\n    <path clip-path=\"url(#p3b52c293d6)\" d=\"M 195.365329 10.999219 \r\nL 209.462171 10.999219 \r\nL 209.462171 22.443429 \r\nL 195.365329 22.443429 \r\nL 195.365329 10.999219 \r\n\" style=\"fill:#c11754;\"/>\r\n    <path clip-path=\"url(#p3b52c293d6)\" d=\"M 209.462171 10.999219 \r\nL 223.559013 10.999219 \r\nL 223.559013 22.443429 \r\nL 209.462171 22.443429 \r\nL 209.462171 10.999219 \r\n\" style=\"fill:#b01759;\"/>\r\n    <path clip-path=\"url(#p3b52c293d6)\" d=\"M 223.559013 10.999219 \r\nL 237.655855 10.999219 \r\nL 237.655855 22.443429 \r\nL 223.559013 22.443429 \r\nL 223.559013 10.999219 \r\n\" style=\"fill:#ba1656;\"/>\r\n    <path clip-path=\"url(#p3b52c293d6)\" d=\"M 237.655855 10.999219 \r\nL 251.752697 10.999219 \r\nL 251.752697 22.443429 \r\nL 237.655855 22.443429 \r\nL 237.655855 10.999219 \r\n\" style=\"fill:#b91657;\"/>\r\n    <path clip-path=\"url(#p3b52c293d6)\" d=\"M 251.752697 10.999219 \r\nL 265.849539 10.999219 \r\nL 265.849539 22.443429 \r\nL 251.752697 22.443429 \r\nL 251.752697 10.999219 \r\n\" style=\"fill:#9f1a5b;\"/>\r\n    <path clip-path=\"url(#p3b52c293d6)\" d=\"M 265.849539 10.999219 \r\nL 279.946382 10.999219 \r\nL 279.946382 22.443429 \r\nL 265.849539 22.443429 \r\nL 265.849539 10.999219 \r\n\" style=\"fill:#951c5b;\"/>\r\n    <path clip-path=\"url(#p3b52c293d6)\" d=\"M 279.946382 10.999219 \r\nL 294.043224 10.999219 \r\nL 294.043224 22.443429 \r\nL 279.946382 22.443429 \r\nL 279.946382 10.999219 \r\n\" style=\"fill:#3c1a42;\"/>\r\n    <path clip-path=\"url(#p3b52c293d6)\" d=\"M 294.043224 10.999219 \r\nL 308.140066 10.999219 \r\nL 308.140066 22.443429 \r\nL 294.043224 22.443429 \r\nL 294.043224 10.999219 \r\n\" style=\"fill:#891e5b;\"/>\r\n    <path clip-path=\"url(#p3b52c293d6)\" d=\"M 308.140066 10.999219 \r\nL 322.236908 10.999219 \r\nL 322.236908 22.443429 \r\nL 308.140066 22.443429 \r\nL 308.140066 10.999219 \r\n\" style=\"fill:#aa185a;\"/>\r\n    <path clip-path=\"url(#p3b52c293d6)\" d=\"M 322.236908 10.999219 \r\nL 336.33375 10.999219 \r\nL 336.33375 22.443429 \r\nL 322.236908 22.443429 \r\nL 322.236908 10.999219 \r\n\" style=\"fill:#3a1a41;\"/>\r\n    <path clip-path=\"url(#p3b52c293d6)\" d=\"M 68.49375 22.443429 \r\nL 82.590592 22.443429 \r\nL 82.590592 33.88764 \r\nL 68.49375 33.88764 \r\nL 68.49375 22.443429 \r\n\" style=\"fill:#06071c;\"/>\r\n    <path clip-path=\"url(#p3b52c293d6)\" d=\"M 82.590592 22.443429 \r\nL 96.687434 22.443429 \r\nL 96.687434 33.88764 \r\nL 82.590592 33.88764 \r\nL 82.590592 22.443429 \r\n\" style=\"fill:#faebdd;\"/>\r\n    <path clip-path=\"url(#p3b52c293d6)\" d=\"M 96.687434 22.443429 \r\nL 110.784276 22.443429 \r\nL 110.784276 33.88764 \r\nL 96.687434 33.88764 \r\nL 96.687434 22.443429 \r\n\" style=\"fill:#a8185a;\"/>\r\n    <path clip-path=\"url(#p3b52c293d6)\" d=\"M 110.784276 22.443429 \r\nL 124.881118 22.443429 \r\nL 124.881118 33.88764 \r\nL 110.784276 33.88764 \r\nL 110.784276 22.443429 \r\n\" style=\"fill:#701f57;\"/>\r\n    <path clip-path=\"url(#p3b52c293d6)\" d=\"M 124.881118 22.443429 \r\nL 138.977961 22.443429 \r\nL 138.977961 33.88764 \r\nL 124.881118 33.88764 \r\nL 124.881118 22.443429 \r\n\" style=\"fill:#4e1d4b;\"/>\r\n    <path clip-path=\"url(#p3b52c293d6)\" d=\"M 138.977961 22.443429 \r\nL 153.074803 22.443429 \r\nL 153.074803 33.88764 \r\nL 138.977961 33.88764 \r\nL 138.977961 22.443429 \r\n\" style=\"fill:#5e1f52;\"/>\r\n    <path clip-path=\"url(#p3b52c293d6)\" d=\"M 153.074803 22.443429 \r\nL 167.171645 22.443429 \r\nL 167.171645 33.88764 \r\nL 153.074803 33.88764 \r\nL 153.074803 22.443429 \r\n\" style=\"fill:#b21758;\"/>\r\n    <path clip-path=\"url(#p3b52c293d6)\" d=\"M 167.171645 22.443429 \r\nL 181.268487 22.443429 \r\nL 181.268487 33.88764 \r\nL 167.171645 33.88764 \r\nL 167.171645 22.443429 \r\n\" style=\"fill:#901d5b;\"/>\r\n    <path clip-path=\"url(#p3b52c293d6)\" d=\"M 181.268487 22.443429 \r\nL 195.365329 22.443429 \r\nL 195.365329 33.88764 \r\nL 181.268487 33.88764 \r\nL 181.268487 22.443429 \r\n\" style=\"fill:#a6195a;\"/>\r\n    <path clip-path=\"url(#p3b52c293d6)\" d=\"M 195.365329 22.443429 \r\nL 209.462171 22.443429 \r\nL 209.462171 33.88764 \r\nL 195.365329 33.88764 \r\nL 195.365329 22.443429 \r\n\" style=\"fill:#711f57;\"/>\r\n    <path clip-path=\"url(#p3b52c293d6)\" d=\"M 209.462171 22.443429 \r\nL 223.559013 22.443429 \r\nL 223.559013 33.88764 \r\nL 209.462171 33.88764 \r\nL 209.462171 22.443429 \r\n\" style=\"fill:#7f1e5a;\"/>\r\n    <path clip-path=\"url(#p3b52c293d6)\" d=\"M 223.559013 22.443429 \r\nL 237.655855 22.443429 \r\nL 237.655855 33.88764 \r\nL 223.559013 33.88764 \r\nL 223.559013 22.443429 \r\n\" style=\"fill:#7a1f59;\"/>\r\n    <path clip-path=\"url(#p3b52c293d6)\" d=\"M 237.655855 22.443429 \r\nL 251.752697 22.443429 \r\nL 251.752697 33.88764 \r\nL 237.655855 33.88764 \r\nL 237.655855 22.443429 \r\n\" style=\"fill:#821e5a;\"/>\r\n    <path clip-path=\"url(#p3b52c293d6)\" d=\"M 251.752697 22.443429 \r\nL 265.849539 22.443429 \r\nL 265.849539 33.88764 \r\nL 251.752697 33.88764 \r\nL 251.752697 22.443429 \r\n\" style=\"fill:#8e1d5b;\"/>\r\n    <path clip-path=\"url(#p3b52c293d6)\" d=\"M 265.849539 22.443429 \r\nL 279.946382 22.443429 \r\nL 279.946382 33.88764 \r\nL 265.849539 33.88764 \r\nL 265.849539 22.443429 \r\n\" style=\"fill:#761f58;\"/>\r\n    <path clip-path=\"url(#p3b52c293d6)\" d=\"M 279.946382 22.443429 \r\nL 294.043224 22.443429 \r\nL 294.043224 33.88764 \r\nL 279.946382 33.88764 \r\nL 279.946382 22.443429 \r\n\" style=\"fill:#b71657;\"/>\r\n    <path clip-path=\"url(#p3b52c293d6)\" d=\"M 294.043224 22.443429 \r\nL 308.140066 22.443429 \r\nL 308.140066 33.88764 \r\nL 294.043224 33.88764 \r\nL 294.043224 22.443429 \r\n\" style=\"fill:#971c5b;\"/>\r\n    <path clip-path=\"url(#p3b52c293d6)\" d=\"M 308.140066 22.443429 \r\nL 322.236908 22.443429 \r\nL 322.236908 33.88764 \r\nL 308.140066 33.88764 \r\nL 308.140066 22.443429 \r\n\" style=\"fill:#7d1f5a;\"/>\r\n    <path clip-path=\"url(#p3b52c293d6)\" d=\"M 322.236908 22.443429 \r\nL 336.33375 22.443429 \r\nL 336.33375 33.88764 \r\nL 322.236908 33.88764 \r\nL 322.236908 22.443429 \r\n\" style=\"fill:#b51657;\"/>\r\n    <path clip-path=\"url(#p3b52c293d6)\" d=\"M 68.49375 33.88764 \r\nL 82.590592 33.88764 \r\nL 82.590592 45.33185 \r\nL 68.49375 45.33185 \r\nL 68.49375 33.88764 \r\n\" style=\"fill:#7d1f5a;\"/>\r\n    <path clip-path=\"url(#p3b52c293d6)\" d=\"M 82.590592 33.88764 \r\nL 96.687434 33.88764 \r\nL 96.687434 45.33185 \r\nL 82.590592 45.33185 \r\nL 82.590592 33.88764 \r\n\" style=\"fill:#a8185a;\"/>\r\n    <path clip-path=\"url(#p3b52c293d6)\" d=\"M 96.687434 33.88764 \r\nL 110.784276 33.88764 \r\nL 110.784276 45.33185 \r\nL 96.687434 45.33185 \r\nL 96.687434 33.88764 \r\n\" style=\"fill:#faebdd;\"/>\r\n    <path clip-path=\"url(#p3b52c293d6)\" d=\"M 110.784276 33.88764 \r\nL 124.881118 33.88764 \r\nL 124.881118 45.33185 \r\nL 110.784276 45.33185 \r\nL 110.784276 33.88764 \r\n\" style=\"fill:#511e4d;\"/>\r\n    <path clip-path=\"url(#p3b52c293d6)\" d=\"M 124.881118 33.88764 \r\nL 138.977961 33.88764 \r\nL 138.977961 45.33185 \r\nL 124.881118 45.33185 \r\nL 124.881118 33.88764 \r\n\" style=\"fill:#601f52;\"/>\r\n    <path clip-path=\"url(#p3b52c293d6)\" d=\"M 138.977961 33.88764 \r\nL 153.074803 33.88764 \r\nL 153.074803 45.33185 \r\nL 138.977961 45.33185 \r\nL 138.977961 33.88764 \r\n\" style=\"fill:#aa185a;\"/>\r\n    <path clip-path=\"url(#p3b52c293d6)\" d=\"M 153.074803 33.88764 \r\nL 167.171645 33.88764 \r\nL 167.171645 45.33185 \r\nL 153.074803 45.33185 \r\nL 153.074803 33.88764 \r\n\" style=\"fill:#8b1d5b;\"/>\r\n    <path clip-path=\"url(#p3b52c293d6)\" d=\"M 167.171645 33.88764 \r\nL 181.268487 33.88764 \r\nL 181.268487 45.33185 \r\nL 167.171645 45.33185 \r\nL 167.171645 33.88764 \r\n\" style=\"fill:#a11a5b;\"/>\r\n    <path clip-path=\"url(#p3b52c293d6)\" d=\"M 181.268487 33.88764 \r\nL 195.365329 33.88764 \r\nL 195.365329 45.33185 \r\nL 181.268487 45.33185 \r\nL 181.268487 33.88764 \r\n\" style=\"fill:#b21758;\"/>\r\n    <path clip-path=\"url(#p3b52c293d6)\" d=\"M 195.365329 33.88764 \r\nL 209.462171 33.88764 \r\nL 209.462171 45.33185 \r\nL 195.365329 45.33185 \r\nL 195.365329 33.88764 \r\n\" style=\"fill:#aa185a;\"/>\r\n    <path clip-path=\"url(#p3b52c293d6)\" d=\"M 209.462171 33.88764 \r\nL 223.559013 33.88764 \r\nL 223.559013 45.33185 \r\nL 209.462171 45.33185 \r\nL 209.462171 33.88764 \r\n\" style=\"fill:#af1759;\"/>\r\n    <path clip-path=\"url(#p3b52c293d6)\" d=\"M 223.559013 33.88764 \r\nL 237.655855 33.88764 \r\nL 237.655855 45.33185 \r\nL 223.559013 45.33185 \r\nL 223.559013 33.88764 \r\n\" style=\"fill:#b51657;\"/>\r\n    <path clip-path=\"url(#p3b52c293d6)\" d=\"M 237.655855 33.88764 \r\nL 251.752697 33.88764 \r\nL 251.752697 45.33185 \r\nL 237.655855 45.33185 \r\nL 237.655855 33.88764 \r\n\" style=\"fill:#b01759;\"/>\r\n    <path clip-path=\"url(#p3b52c293d6)\" d=\"M 251.752697 33.88764 \r\nL 265.849539 33.88764 \r\nL 265.849539 45.33185 \r\nL 251.752697 45.33185 \r\nL 251.752697 33.88764 \r\n\" style=\"fill:#7a1f59;\"/>\r\n    <path clip-path=\"url(#p3b52c293d6)\" d=\"M 265.849539 33.88764 \r\nL 279.946382 33.88764 \r\nL 279.946382 45.33185 \r\nL 265.849539 45.33185 \r\nL 265.849539 33.88764 \r\n\" style=\"fill:#7a1f59;\"/>\r\n    <path clip-path=\"url(#p3b52c293d6)\" d=\"M 279.946382 33.88764 \r\nL 294.043224 33.88764 \r\nL 294.043224 45.33185 \r\nL 279.946382 45.33185 \r\nL 279.946382 33.88764 \r\n\" style=\"fill:#511e4d;\"/>\r\n    <path clip-path=\"url(#p3b52c293d6)\" d=\"M 294.043224 33.88764 \r\nL 308.140066 33.88764 \r\nL 308.140066 45.33185 \r\nL 294.043224 45.33185 \r\nL 294.043224 33.88764 \r\n\" style=\"fill:#9a1b5b;\"/>\r\n    <path clip-path=\"url(#p3b52c293d6)\" d=\"M 308.140066 33.88764 \r\nL 322.236908 33.88764 \r\nL 322.236908 45.33185 \r\nL 308.140066 45.33185 \r\nL 308.140066 33.88764 \r\n\" style=\"fill:#921c5b;\"/>\r\n    <path clip-path=\"url(#p3b52c293d6)\" d=\"M 322.236908 33.88764 \r\nL 336.33375 33.88764 \r\nL 336.33375 45.33185 \r\nL 322.236908 45.33185 \r\nL 322.236908 33.88764 \r\n\" style=\"fill:#451c47;\"/>\r\n    <path clip-path=\"url(#p3b52c293d6)\" d=\"M 68.49375 45.33185 \r\nL 82.590592 45.33185 \r\nL 82.590592 56.776061 \r\nL 68.49375 56.776061 \r\nL 68.49375 45.33185 \r\n\" style=\"fill:#861e5b;\"/>\r\n    <path clip-path=\"url(#p3b52c293d6)\" d=\"M 82.590592 45.33185 \r\nL 96.687434 45.33185 \r\nL 96.687434 56.776061 \r\nL 82.590592 56.776061 \r\nL 82.590592 45.33185 \r\n\" style=\"fill:#701f57;\"/>\r\n    <path clip-path=\"url(#p3b52c293d6)\" d=\"M 96.687434 45.33185 \r\nL 110.784276 45.33185 \r\nL 110.784276 56.776061 \r\nL 96.687434 56.776061 \r\nL 96.687434 45.33185 \r\n\" style=\"fill:#511e4d;\"/>\r\n    <path clip-path=\"url(#p3b52c293d6)\" d=\"M 110.784276 45.33185 \r\nL 124.881118 45.33185 \r\nL 124.881118 56.776061 \r\nL 110.784276 56.776061 \r\nL 110.784276 45.33185 \r\n\" style=\"fill:#faebdd;\"/>\r\n    <path clip-path=\"url(#p3b52c293d6)\" d=\"M 124.881118 45.33185 \r\nL 138.977961 45.33185 \r\nL 138.977961 56.776061 \r\nL 124.881118 56.776061 \r\nL 124.881118 45.33185 \r\n\" style=\"fill:#ec4c3e;\"/>\r\n    <path clip-path=\"url(#p3b52c293d6)\" d=\"M 138.977961 45.33185 \r\nL 153.074803 45.33185 \r\nL 153.074803 56.776061 \r\nL 138.977961 56.776061 \r\nL 138.977961 45.33185 \r\n\" style=\"fill:#bc1656;\"/>\r\n    <path clip-path=\"url(#p3b52c293d6)\" d=\"M 153.074803 45.33185 \r\nL 167.171645 45.33185 \r\nL 167.171645 56.776061 \r\nL 153.074803 56.776061 \r\nL 153.074803 45.33185 \r\n\" style=\"fill:#a3195b;\"/>\r\n    <path clip-path=\"url(#p3b52c293d6)\" d=\"M 167.171645 45.33185 \r\nL 181.268487 45.33185 \r\nL 181.268487 56.776061 \r\nL 167.171645 56.776061 \r\nL 167.171645 45.33185 \r\n\" style=\"fill:#891e5b;\"/>\r\n    <path clip-path=\"url(#p3b52c293d6)\" d=\"M 181.268487 45.33185 \r\nL 195.365329 45.33185 \r\nL 195.365329 56.776061 \r\nL 181.268487 56.776061 \r\nL 181.268487 45.33185 \r\n\" style=\"fill:#821e5a;\"/>\r\n    <path clip-path=\"url(#p3b52c293d6)\" d=\"M 195.365329 45.33185 \r\nL 209.462171 45.33185 \r\nL 209.462171 56.776061 \r\nL 195.365329 56.776061 \r\nL 195.365329 45.33185 \r\n\" style=\"fill:#861e5b;\"/>\r\n    <path clip-path=\"url(#p3b52c293d6)\" d=\"M 209.462171 45.33185 \r\nL 223.559013 45.33185 \r\nL 223.559013 56.776061 \r\nL 209.462171 56.776061 \r\nL 209.462171 45.33185 \r\n\" style=\"fill:#981b5b;\"/>\r\n    <path clip-path=\"url(#p3b52c293d6)\" d=\"M 223.559013 45.33185 \r\nL 237.655855 45.33185 \r\nL 237.655855 56.776061 \r\nL 223.559013 56.776061 \r\nL 223.559013 45.33185 \r\n\" style=\"fill:#8b1d5b;\"/>\r\n    <path clip-path=\"url(#p3b52c293d6)\" d=\"M 237.655855 45.33185 \r\nL 251.752697 45.33185 \r\nL 251.752697 56.776061 \r\nL 237.655855 56.776061 \r\nL 237.655855 45.33185 \r\n\" style=\"fill:#861e5b;\"/>\r\n    <path clip-path=\"url(#p3b52c293d6)\" d=\"M 251.752697 45.33185 \r\nL 265.849539 45.33185 \r\nL 265.849539 56.776061 \r\nL 251.752697 56.776061 \r\nL 251.752697 45.33185 \r\n\" style=\"fill:#901d5b;\"/>\r\n    <path clip-path=\"url(#p3b52c293d6)\" d=\"M 265.849539 45.33185 \r\nL 279.946382 45.33185 \r\nL 279.946382 56.776061 \r\nL 265.849539 56.776061 \r\nL 265.849539 45.33185 \r\n\" style=\"fill:#901d5b;\"/>\r\n    <path clip-path=\"url(#p3b52c293d6)\" d=\"M 279.946382 45.33185 \r\nL 294.043224 45.33185 \r\nL 294.043224 56.776061 \r\nL 279.946382 56.776061 \r\nL 279.946382 45.33185 \r\n\" style=\"fill:#9c1b5b;\"/>\r\n    <path clip-path=\"url(#p3b52c293d6)\" d=\"M 294.043224 45.33185 \r\nL 308.140066 45.33185 \r\nL 308.140066 56.776061 \r\nL 294.043224 56.776061 \r\nL 294.043224 45.33185 \r\n\" style=\"fill:#8b1d5b;\"/>\r\n    <path clip-path=\"url(#p3b52c293d6)\" d=\"M 308.140066 45.33185 \r\nL 322.236908 45.33185 \r\nL 322.236908 56.776061 \r\nL 308.140066 56.776061 \r\nL 308.140066 45.33185 \r\n\" style=\"fill:#811e5a;\"/>\r\n    <path clip-path=\"url(#p3b52c293d6)\" d=\"M 322.236908 45.33185 \r\nL 336.33375 45.33185 \r\nL 336.33375 56.776061 \r\nL 322.236908 56.776061 \r\nL 322.236908 45.33185 \r\n\" style=\"fill:#aa185a;\"/>\r\n    <path clip-path=\"url(#p3b52c293d6)\" d=\"M 68.49375 56.776061 \r\nL 82.590592 56.776061 \r\nL 82.590592 68.220271 \r\nL 68.49375 68.220271 \r\nL 68.49375 56.776061 \r\n\" style=\"fill:#a6195a;\"/>\r\n    <path clip-path=\"url(#p3b52c293d6)\" d=\"M 82.590592 56.776061 \r\nL 96.687434 56.776061 \r\nL 96.687434 68.220271 \r\nL 82.590592 68.220271 \r\nL 82.590592 56.776061 \r\n\" style=\"fill:#4e1d4b;\"/>\r\n    <path clip-path=\"url(#p3b52c293d6)\" d=\"M 96.687434 56.776061 \r\nL 110.784276 56.776061 \r\nL 110.784276 68.220271 \r\nL 96.687434 68.220271 \r\nL 96.687434 56.776061 \r\n\" style=\"fill:#601f52;\"/>\r\n    <path clip-path=\"url(#p3b52c293d6)\" d=\"M 110.784276 56.776061 \r\nL 124.881118 56.776061 \r\nL 124.881118 68.220271 \r\nL 110.784276 68.220271 \r\nL 110.784276 56.776061 \r\n\" style=\"fill:#ec4c3e;\"/>\r\n    <path clip-path=\"url(#p3b52c293d6)\" d=\"M 124.881118 56.776061 \r\nL 138.977961 56.776061 \r\nL 138.977961 68.220271 \r\nL 124.881118 68.220271 \r\nL 124.881118 56.776061 \r\n\" style=\"fill:#faebdd;\"/>\r\n    <path clip-path=\"url(#p3b52c293d6)\" d=\"M 138.977961 56.776061 \r\nL 153.074803 56.776061 \r\nL 153.074803 68.220271 \r\nL 138.977961 68.220271 \r\nL 138.977961 56.776061 \r\n\" style=\"fill:#ca1a50;\"/>\r\n    <path clip-path=\"url(#p3b52c293d6)\" d=\"M 153.074803 56.776061 \r\nL 167.171645 56.776061 \r\nL 167.171645 68.220271 \r\nL 153.074803 68.220271 \r\nL 153.074803 56.776061 \r\n\" style=\"fill:#a3195b;\"/>\r\n    <path clip-path=\"url(#p3b52c293d6)\" d=\"M 167.171645 56.776061 \r\nL 181.268487 56.776061 \r\nL 181.268487 68.220271 \r\nL 167.171645 68.220271 \r\nL 167.171645 56.776061 \r\n\" style=\"fill:#841e5a;\"/>\r\n    <path clip-path=\"url(#p3b52c293d6)\" d=\"M 181.268487 56.776061 \r\nL 195.365329 56.776061 \r\nL 195.365329 68.220271 \r\nL 181.268487 68.220271 \r\nL 181.268487 56.776061 \r\n\" style=\"fill:#841e5a;\"/>\r\n    <path clip-path=\"url(#p3b52c293d6)\" d=\"M 195.365329 56.776061 \r\nL 209.462171 56.776061 \r\nL 209.462171 68.220271 \r\nL 195.365329 68.220271 \r\nL 195.365329 56.776061 \r\n\" style=\"fill:#9f1a5b;\"/>\r\n    <path clip-path=\"url(#p3b52c293d6)\" d=\"M 209.462171 56.776061 \r\nL 223.559013 56.776061 \r\nL 223.559013 68.220271 \r\nL 209.462171 68.220271 \r\nL 209.462171 56.776061 \r\n\" style=\"fill:#981b5b;\"/>\r\n    <path clip-path=\"url(#p3b52c293d6)\" d=\"M 223.559013 56.776061 \r\nL 237.655855 56.776061 \r\nL 237.655855 68.220271 \r\nL 223.559013 68.220271 \r\nL 223.559013 56.776061 \r\n\" style=\"fill:#8b1d5b;\"/>\r\n    <path clip-path=\"url(#p3b52c293d6)\" d=\"M 237.655855 56.776061 \r\nL 251.752697 56.776061 \r\nL 251.752697 68.220271 \r\nL 237.655855 68.220271 \r\nL 237.655855 56.776061 \r\n\" style=\"fill:#8b1d5b;\"/>\r\n    <path clip-path=\"url(#p3b52c293d6)\" d=\"M 251.752697 56.776061 \r\nL 265.849539 56.776061 \r\nL 265.849539 68.220271 \r\nL 251.752697 68.220271 \r\nL 251.752697 56.776061 \r\n\" style=\"fill:#971c5b;\"/>\r\n    <path clip-path=\"url(#p3b52c293d6)\" d=\"M 265.849539 56.776061 \r\nL 279.946382 56.776061 \r\nL 279.946382 68.220271 \r\nL 265.849539 68.220271 \r\nL 265.849539 56.776061 \r\n\" style=\"fill:#a4195b;\"/>\r\n    <path clip-path=\"url(#p3b52c293d6)\" d=\"M 279.946382 56.776061 \r\nL 294.043224 56.776061 \r\nL 294.043224 68.220271 \r\nL 279.946382 68.220271 \r\nL 279.946382 56.776061 \r\n\" style=\"fill:#861e5b;\"/>\r\n    <path clip-path=\"url(#p3b52c293d6)\" d=\"M 294.043224 56.776061 \r\nL 308.140066 56.776061 \r\nL 308.140066 68.220271 \r\nL 294.043224 68.220271 \r\nL 294.043224 56.776061 \r\n\" style=\"fill:#8b1d5b;\"/>\r\n    <path clip-path=\"url(#p3b52c293d6)\" d=\"M 308.140066 56.776061 \r\nL 322.236908 56.776061 \r\nL 322.236908 68.220271 \r\nL 308.140066 68.220271 \r\nL 308.140066 56.776061 \r\n\" style=\"fill:#901d5b;\"/>\r\n    <path clip-path=\"url(#p3b52c293d6)\" d=\"M 322.236908 56.776061 \r\nL 336.33375 56.776061 \r\nL 336.33375 68.220271 \r\nL 322.236908 68.220271 \r\nL 322.236908 56.776061 \r\n\" style=\"fill:#951c5b;\"/>\r\n    <path clip-path=\"url(#p3b52c293d6)\" d=\"M 68.49375 68.220271 \r\nL 82.590592 68.220271 \r\nL 82.590592 79.664482 \r\nL 68.49375 79.664482 \r\nL 68.49375 68.220271 \r\n\" style=\"fill:#d3214b;\"/>\r\n    <path clip-path=\"url(#p3b52c293d6)\" d=\"M 82.590592 68.220271 \r\nL 96.687434 68.220271 \r\nL 96.687434 79.664482 \r\nL 82.590592 79.664482 \r\nL 82.590592 68.220271 \r\n\" style=\"fill:#5e1f52;\"/>\r\n    <path clip-path=\"url(#p3b52c293d6)\" d=\"M 96.687434 68.220271 \r\nL 110.784276 68.220271 \r\nL 110.784276 79.664482 \r\nL 96.687434 79.664482 \r\nL 96.687434 68.220271 \r\n\" style=\"fill:#aa185a;\"/>\r\n    <path clip-path=\"url(#p3b52c293d6)\" d=\"M 110.784276 68.220271 \r\nL 124.881118 68.220271 \r\nL 124.881118 79.664482 \r\nL 110.784276 79.664482 \r\nL 110.784276 68.220271 \r\n\" style=\"fill:#bc1656;\"/>\r\n    <path clip-path=\"url(#p3b52c293d6)\" d=\"M 124.881118 68.220271 \r\nL 138.977961 68.220271 \r\nL 138.977961 79.664482 \r\nL 124.881118 79.664482 \r\nL 124.881118 68.220271 \r\n\" style=\"fill:#ca1a50;\"/>\r\n    <path clip-path=\"url(#p3b52c293d6)\" d=\"M 138.977961 68.220271 \r\nL 153.074803 68.220271 \r\nL 153.074803 79.664482 \r\nL 138.977961 79.664482 \r\nL 138.977961 68.220271 \r\n\" style=\"fill:#faebdd;\"/>\r\n    <path clip-path=\"url(#p3b52c293d6)\" d=\"M 153.074803 68.220271 \r\nL 167.171645 68.220271 \r\nL 167.171645 79.664482 \r\nL 153.074803 79.664482 \r\nL 153.074803 68.220271 \r\n\" style=\"fill:#691f55;\"/>\r\n    <path clip-path=\"url(#p3b52c293d6)\" d=\"M 167.171645 68.220271 \r\nL 181.268487 68.220271 \r\nL 181.268487 79.664482 \r\nL 167.171645 79.664482 \r\nL 167.171645 68.220271 \r\n\" style=\"fill:#b41658;\"/>\r\n    <path clip-path=\"url(#p3b52c293d6)\" d=\"M 181.268487 68.220271 \r\nL 195.365329 68.220271 \r\nL 195.365329 79.664482 \r\nL 181.268487 79.664482 \r\nL 181.268487 68.220271 \r\n\" style=\"fill:#951c5b;\"/>\r\n    <path clip-path=\"url(#p3b52c293d6)\" d=\"M 195.365329 68.220271 \r\nL 209.462171 68.220271 \r\nL 209.462171 79.664482 \r\nL 195.365329 79.664482 \r\nL 195.365329 68.220271 \r\n\" style=\"fill:#e9423e;\"/>\r\n    <path clip-path=\"url(#p3b52c293d6)\" d=\"M 209.462171 68.220271 \r\nL 223.559013 68.220271 \r\nL 223.559013 79.664482 \r\nL 209.462171 79.664482 \r\nL 209.462171 68.220271 \r\n\" style=\"fill:#e73d3f;\"/>\r\n    <path clip-path=\"url(#p3b52c293d6)\" d=\"M 223.559013 68.220271 \r\nL 237.655855 68.220271 \r\nL 237.655855 79.664482 \r\nL 223.559013 79.664482 \r\nL 223.559013 68.220271 \r\n\" style=\"fill:#ab185a;\"/>\r\n    <path clip-path=\"url(#p3b52c293d6)\" d=\"M 237.655855 68.220271 \r\nL 251.752697 68.220271 \r\nL 251.752697 79.664482 \r\nL 237.655855 79.664482 \r\nL 237.655855 68.220271 \r\n\" style=\"fill:#9f1a5b;\"/>\r\n    <path clip-path=\"url(#p3b52c293d6)\" d=\"M 251.752697 68.220271 \r\nL 265.849539 68.220271 \r\nL 265.849539 79.664482 \r\nL 251.752697 79.664482 \r\nL 251.752697 68.220271 \r\n\" style=\"fill:#871e5b;\"/>\r\n    <path clip-path=\"url(#p3b52c293d6)\" d=\"M 265.849539 68.220271 \r\nL 279.946382 68.220271 \r\nL 279.946382 79.664482 \r\nL 265.849539 79.664482 \r\nL 265.849539 68.220271 \r\n\" style=\"fill:#891e5b;\"/>\r\n    <path clip-path=\"url(#p3b52c293d6)\" d=\"M 279.946382 68.220271 \r\nL 294.043224 68.220271 \r\nL 294.043224 79.664482 \r\nL 279.946382 79.664482 \r\nL 279.946382 68.220271 \r\n\" style=\"fill:#140e26;\"/>\r\n    <path clip-path=\"url(#p3b52c293d6)\" d=\"M 294.043224 68.220271 \r\nL 308.140066 68.220271 \r\nL 308.140066 79.664482 \r\nL 294.043224 79.664482 \r\nL 294.043224 68.220271 \r\n\" style=\"fill:#901d5b;\"/>\r\n    <path clip-path=\"url(#p3b52c293d6)\" d=\"M 308.140066 68.220271 \r\nL 322.236908 68.220271 \r\nL 322.236908 79.664482 \r\nL 308.140066 79.664482 \r\nL 308.140066 68.220271 \r\n\" style=\"fill:#701f57;\"/>\r\n    <path clip-path=\"url(#p3b52c293d6)\" d=\"M 322.236908 68.220271 \r\nL 336.33375 68.220271 \r\nL 336.33375 79.664482 \r\nL 322.236908 79.664482 \r\nL 322.236908 68.220271 \r\n\" style=\"fill:#241432;\"/>\r\n    <path clip-path=\"url(#p3b52c293d6)\" d=\"M 68.49375 79.664482 \r\nL 82.590592 79.664482 \r\nL 82.590592 91.108692 \r\nL 68.49375 91.108692 \r\nL 68.49375 79.664482 \r\n\" style=\"fill:#691f55;\"/>\r\n    <path clip-path=\"url(#p3b52c293d6)\" d=\"M 82.590592 79.664482 \r\nL 96.687434 79.664482 \r\nL 96.687434 91.108692 \r\nL 82.590592 91.108692 \r\nL 82.590592 79.664482 \r\n\" style=\"fill:#b21758;\"/>\r\n    <path clip-path=\"url(#p3b52c293d6)\" d=\"M 96.687434 79.664482 \r\nL 110.784276 79.664482 \r\nL 110.784276 91.108692 \r\nL 96.687434 91.108692 \r\nL 96.687434 79.664482 \r\n\" style=\"fill:#8b1d5b;\"/>\r\n    <path clip-path=\"url(#p3b52c293d6)\" d=\"M 110.784276 79.664482 \r\nL 124.881118 79.664482 \r\nL 124.881118 91.108692 \r\nL 110.784276 91.108692 \r\nL 110.784276 79.664482 \r\n\" style=\"fill:#a3195b;\"/>\r\n    <path clip-path=\"url(#p3b52c293d6)\" d=\"M 124.881118 79.664482 \r\nL 138.977961 79.664482 \r\nL 138.977961 91.108692 \r\nL 124.881118 91.108692 \r\nL 124.881118 79.664482 \r\n\" style=\"fill:#a3195b;\"/>\r\n    <path clip-path=\"url(#p3b52c293d6)\" d=\"M 138.977961 79.664482 \r\nL 153.074803 79.664482 \r\nL 153.074803 91.108692 \r\nL 138.977961 91.108692 \r\nL 138.977961 79.664482 \r\n\" style=\"fill:#691f55;\"/>\r\n    <path clip-path=\"url(#p3b52c293d6)\" d=\"M 153.074803 79.664482 \r\nL 167.171645 79.664482 \r\nL 167.171645 91.108692 \r\nL 153.074803 91.108692 \r\nL 153.074803 79.664482 \r\n\" style=\"fill:#faebdd;\"/>\r\n    <path clip-path=\"url(#p3b52c293d6)\" d=\"M 167.171645 79.664482 \r\nL 181.268487 79.664482 \r\nL 181.268487 91.108692 \r\nL 167.171645 91.108692 \r\nL 167.171645 79.664482 \r\n\" style=\"fill:#861e5b;\"/>\r\n    <path clip-path=\"url(#p3b52c293d6)\" d=\"M 181.268487 79.664482 \r\nL 195.365329 79.664482 \r\nL 195.365329 91.108692 \r\nL 181.268487 91.108692 \r\nL 181.268487 79.664482 \r\n\" style=\"fill:#821e5a;\"/>\r\n    <path clip-path=\"url(#p3b52c293d6)\" d=\"M 195.365329 79.664482 \r\nL 209.462171 79.664482 \r\nL 209.462171 91.108692 \r\nL 195.365329 91.108692 \r\nL 195.365329 79.664482 \r\n\" style=\"fill:#781f59;\"/>\r\n    <path clip-path=\"url(#p3b52c293d6)\" d=\"M 209.462171 79.664482 \r\nL 223.559013 79.664482 \r\nL 223.559013 91.108692 \r\nL 209.462171 91.108692 \r\nL 209.462171 79.664482 \r\n\" style=\"fill:#7f1e5a;\"/>\r\n    <path clip-path=\"url(#p3b52c293d6)\" d=\"M 223.559013 79.664482 \r\nL 237.655855 79.664482 \r\nL 237.655855 91.108692 \r\nL 223.559013 91.108692 \r\nL 223.559013 79.664482 \r\n\" style=\"fill:#841e5a;\"/>\r\n    <path clip-path=\"url(#p3b52c293d6)\" d=\"M 237.655855 79.664482 \r\nL 251.752697 79.664482 \r\nL 251.752697 91.108692 \r\nL 237.655855 91.108692 \r\nL 237.655855 79.664482 \r\n\" style=\"fill:#9a1b5b;\"/>\r\n    <path clip-path=\"url(#p3b52c293d6)\" d=\"M 251.752697 79.664482 \r\nL 265.849539 79.664482 \r\nL 265.849539 91.108692 \r\nL 251.752697 91.108692 \r\nL 251.752697 79.664482 \r\n\" style=\"fill:#981b5b;\"/>\r\n    <path clip-path=\"url(#p3b52c293d6)\" d=\"M 265.849539 79.664482 \r\nL 279.946382 79.664482 \r\nL 279.946382 91.108692 \r\nL 265.849539 91.108692 \r\nL 265.849539 79.664482 \r\n\" style=\"fill:#9c1b5b;\"/>\r\n    <path clip-path=\"url(#p3b52c293d6)\" d=\"M 279.946382 79.664482 \r\nL 294.043224 79.664482 \r\nL 294.043224 91.108692 \r\nL 279.946382 91.108692 \r\nL 279.946382 79.664482 \r\n\" style=\"fill:#a6195a;\"/>\r\n    <path clip-path=\"url(#p3b52c293d6)\" d=\"M 294.043224 79.664482 \r\nL 308.140066 79.664482 \r\nL 308.140066 91.108692 \r\nL 294.043224 91.108692 \r\nL 294.043224 79.664482 \r\n\" style=\"fill:#951c5b;\"/>\r\n    <path clip-path=\"url(#p3b52c293d6)\" d=\"M 308.140066 79.664482 \r\nL 322.236908 79.664482 \r\nL 322.236908 91.108692 \r\nL 308.140066 91.108692 \r\nL 308.140066 79.664482 \r\n\" style=\"fill:#c41753;\"/>\r\n    <path clip-path=\"url(#p3b52c293d6)\" d=\"M 322.236908 79.664482 \r\nL 336.33375 79.664482 \r\nL 336.33375 91.108692 \r\nL 322.236908 91.108692 \r\nL 322.236908 79.664482 \r\n\" style=\"fill:#841e5a;\"/>\r\n    <path clip-path=\"url(#p3b52c293d6)\" d=\"M 68.49375 91.108692 \r\nL 82.590592 91.108692 \r\nL 82.590592 102.552903 \r\nL 68.49375 102.552903 \r\nL 68.49375 91.108692 \r\n\" style=\"fill:#981b5b;\"/>\r\n    <path clip-path=\"url(#p3b52c293d6)\" d=\"M 82.590592 91.108692 \r\nL 96.687434 91.108692 \r\nL 96.687434 102.552903 \r\nL 82.590592 102.552903 \r\nL 82.590592 91.108692 \r\n\" style=\"fill:#901d5b;\"/>\r\n    <path clip-path=\"url(#p3b52c293d6)\" d=\"M 96.687434 91.108692 \r\nL 110.784276 91.108692 \r\nL 110.784276 102.552903 \r\nL 96.687434 102.552903 \r\nL 96.687434 91.108692 \r\n\" style=\"fill:#a11a5b;\"/>\r\n    <path clip-path=\"url(#p3b52c293d6)\" d=\"M 110.784276 91.108692 \r\nL 124.881118 91.108692 \r\nL 124.881118 102.552903 \r\nL 110.784276 102.552903 \r\nL 110.784276 91.108692 \r\n\" style=\"fill:#891e5b;\"/>\r\n    <path clip-path=\"url(#p3b52c293d6)\" d=\"M 124.881118 91.108692 \r\nL 138.977961 91.108692 \r\nL 138.977961 102.552903 \r\nL 124.881118 102.552903 \r\nL 124.881118 91.108692 \r\n\" style=\"fill:#841e5a;\"/>\r\n    <path clip-path=\"url(#p3b52c293d6)\" d=\"M 138.977961 91.108692 \r\nL 153.074803 91.108692 \r\nL 153.074803 102.552903 \r\nL 138.977961 102.552903 \r\nL 138.977961 91.108692 \r\n\" style=\"fill:#b41658;\"/>\r\n    <path clip-path=\"url(#p3b52c293d6)\" d=\"M 153.074803 91.108692 \r\nL 167.171645 91.108692 \r\nL 167.171645 102.552903 \r\nL 153.074803 102.552903 \r\nL 153.074803 91.108692 \r\n\" style=\"fill:#861e5b;\"/>\r\n    <path clip-path=\"url(#p3b52c293d6)\" d=\"M 167.171645 91.108692 \r\nL 181.268487 91.108692 \r\nL 181.268487 102.552903 \r\nL 167.171645 102.552903 \r\nL 167.171645 91.108692 \r\n\" style=\"fill:#faebdd;\"/>\r\n    <path clip-path=\"url(#p3b52c293d6)\" d=\"M 181.268487 91.108692 \r\nL 195.365329 91.108692 \r\nL 195.365329 102.552903 \r\nL 181.268487 102.552903 \r\nL 181.268487 91.108692 \r\n\" style=\"fill:#5c1e51;\"/>\r\n    <path clip-path=\"url(#p3b52c293d6)\" d=\"M 195.365329 91.108692 \r\nL 209.462171 91.108692 \r\nL 209.462171 102.552903 \r\nL 195.365329 102.552903 \r\nL 195.365329 91.108692 \r\n\" style=\"fill:#ab185a;\"/>\r\n    <path clip-path=\"url(#p3b52c293d6)\" d=\"M 209.462171 91.108692 \r\nL 223.559013 91.108692 \r\nL 223.559013 102.552903 \r\nL 209.462171 102.552903 \r\nL 209.462171 91.108692 \r\n\" style=\"fill:#f16244;\"/>\r\n    <path clip-path=\"url(#p3b52c293d6)\" d=\"M 223.559013 91.108692 \r\nL 237.655855 91.108692 \r\nL 237.655855 102.552903 \r\nL 223.559013 102.552903 \r\nL 223.559013 91.108692 \r\n\" style=\"fill:#631f53;\"/>\r\n    <path clip-path=\"url(#p3b52c293d6)\" d=\"M 237.655855 91.108692 \r\nL 251.752697 91.108692 \r\nL 251.752697 102.552903 \r\nL 237.655855 102.552903 \r\nL 237.655855 91.108692 \r\n\" style=\"fill:#9e1a5b;\"/>\r\n    <path clip-path=\"url(#p3b52c293d6)\" d=\"M 251.752697 91.108692 \r\nL 265.849539 91.108692 \r\nL 265.849539 102.552903 \r\nL 251.752697 102.552903 \r\nL 251.752697 91.108692 \r\n\" style=\"fill:#781f59;\"/>\r\n    <path clip-path=\"url(#p3b52c293d6)\" d=\"M 265.849539 91.108692 \r\nL 279.946382 91.108692 \r\nL 279.946382 102.552903 \r\nL 265.849539 102.552903 \r\nL 265.849539 91.108692 \r\n\" style=\"fill:#661f54;\"/>\r\n    <path clip-path=\"url(#p3b52c293d6)\" d=\"M 279.946382 91.108692 \r\nL 294.043224 91.108692 \r\nL 294.043224 102.552903 \r\nL 279.946382 102.552903 \r\nL 279.946382 91.108692 \r\n\" style=\"fill:#5e1f52;\"/>\r\n    <path clip-path=\"url(#p3b52c293d6)\" d=\"M 294.043224 91.108692 \r\nL 308.140066 91.108692 \r\nL 308.140066 102.552903 \r\nL 294.043224 102.552903 \r\nL 294.043224 91.108692 \r\n\" style=\"fill:#8e1d5b;\"/>\r\n    <path clip-path=\"url(#p3b52c293d6)\" d=\"M 308.140066 91.108692 \r\nL 322.236908 91.108692 \r\nL 322.236908 102.552903 \r\nL 308.140066 102.552903 \r\nL 308.140066 91.108692 \r\n\" style=\"fill:#811e5a;\"/>\r\n    <path clip-path=\"url(#p3b52c293d6)\" d=\"M 322.236908 91.108692 \r\nL 336.33375 91.108692 \r\nL 336.33375 102.552903 \r\nL 322.236908 102.552903 \r\nL 322.236908 91.108692 \r\n\" style=\"fill:#751f58;\"/>\r\n    <path clip-path=\"url(#p3b52c293d6)\" d=\"M 68.49375 102.552903 \r\nL 82.590592 102.552903 \r\nL 82.590592 113.997113 \r\nL 68.49375 113.997113 \r\nL 68.49375 102.552903 \r\n\" style=\"fill:#971c5b;\"/>\r\n    <path clip-path=\"url(#p3b52c293d6)\" d=\"M 82.590592 102.552903 \r\nL 96.687434 102.552903 \r\nL 96.687434 113.997113 \r\nL 82.590592 113.997113 \r\nL 82.590592 102.552903 \r\n\" style=\"fill:#a6195a;\"/>\r\n    <path clip-path=\"url(#p3b52c293d6)\" d=\"M 96.687434 102.552903 \r\nL 110.784276 102.552903 \r\nL 110.784276 113.997113 \r\nL 96.687434 113.997113 \r\nL 96.687434 102.552903 \r\n\" style=\"fill:#b21758;\"/>\r\n    <path clip-path=\"url(#p3b52c293d6)\" d=\"M 110.784276 102.552903 \r\nL 124.881118 102.552903 \r\nL 124.881118 113.997113 \r\nL 110.784276 113.997113 \r\nL 110.784276 102.552903 \r\n\" style=\"fill:#821e5a;\"/>\r\n    <path clip-path=\"url(#p3b52c293d6)\" d=\"M 124.881118 102.552903 \r\nL 138.977961 102.552903 \r\nL 138.977961 113.997113 \r\nL 124.881118 113.997113 \r\nL 124.881118 102.552903 \r\n\" style=\"fill:#841e5a;\"/>\r\n    <path clip-path=\"url(#p3b52c293d6)\" d=\"M 138.977961 102.552903 \r\nL 153.074803 102.552903 \r\nL 153.074803 113.997113 \r\nL 138.977961 113.997113 \r\nL 138.977961 102.552903 \r\n\" style=\"fill:#951c5b;\"/>\r\n    <path clip-path=\"url(#p3b52c293d6)\" d=\"M 153.074803 102.552903 \r\nL 167.171645 102.552903 \r\nL 167.171645 113.997113 \r\nL 153.074803 113.997113 \r\nL 153.074803 102.552903 \r\n\" style=\"fill:#821e5a;\"/>\r\n    <path clip-path=\"url(#p3b52c293d6)\" d=\"M 167.171645 102.552903 \r\nL 181.268487 102.552903 \r\nL 181.268487 113.997113 \r\nL 167.171645 113.997113 \r\nL 167.171645 102.552903 \r\n\" style=\"fill:#5c1e51;\"/>\r\n    <path clip-path=\"url(#p3b52c293d6)\" d=\"M 181.268487 102.552903 \r\nL 195.365329 102.552903 \r\nL 195.365329 113.997113 \r\nL 181.268487 113.997113 \r\nL 181.268487 102.552903 \r\n\" style=\"fill:#faebdd;\"/>\r\n    <path clip-path=\"url(#p3b52c293d6)\" d=\"M 195.365329 102.552903 \r\nL 209.462171 102.552903 \r\nL 209.462171 113.997113 \r\nL 195.365329 113.997113 \r\nL 195.365329 102.552903 \r\n\" style=\"fill:#871e5b;\"/>\r\n    <path clip-path=\"url(#p3b52c293d6)\" d=\"M 209.462171 102.552903 \r\nL 223.559013 102.552903 \r\nL 223.559013 113.997113 \r\nL 209.462171 113.997113 \r\nL 209.462171 102.552903 \r\n\" style=\"fill:#861e5b;\"/>\r\n    <path clip-path=\"url(#p3b52c293d6)\" d=\"M 223.559013 102.552903 \r\nL 237.655855 102.552903 \r\nL 237.655855 113.997113 \r\nL 223.559013 113.997113 \r\nL 223.559013 102.552903 \r\n\" style=\"fill:#891e5b;\"/>\r\n    <path clip-path=\"url(#p3b52c293d6)\" d=\"M 237.655855 102.552903 \r\nL 251.752697 102.552903 \r\nL 251.752697 113.997113 \r\nL 237.655855 113.997113 \r\nL 237.655855 102.552903 \r\n\" style=\"fill:#891e5b;\"/>\r\n    <path clip-path=\"url(#p3b52c293d6)\" d=\"M 251.752697 102.552903 \r\nL 265.849539 102.552903 \r\nL 265.849539 113.997113 \r\nL 251.752697 113.997113 \r\nL 251.752697 102.552903 \r\n\" style=\"fill:#8b1d5b;\"/>\r\n    <path clip-path=\"url(#p3b52c293d6)\" d=\"M 265.849539 102.552903 \r\nL 279.946382 102.552903 \r\nL 279.946382 113.997113 \r\nL 265.849539 113.997113 \r\nL 265.849539 102.552903 \r\n\" style=\"fill:#8e1d5b;\"/>\r\n    <path clip-path=\"url(#p3b52c293d6)\" d=\"M 279.946382 102.552903 \r\nL 294.043224 102.552903 \r\nL 294.043224 113.997113 \r\nL 279.946382 113.997113 \r\nL 279.946382 102.552903 \r\n\" style=\"fill:#501d4c;\"/>\r\n    <path clip-path=\"url(#p3b52c293d6)\" d=\"M 294.043224 102.552903 \r\nL 308.140066 102.552903 \r\nL 308.140066 113.997113 \r\nL 294.043224 113.997113 \r\nL 294.043224 102.552903 \r\n\" style=\"fill:#8e1d5b;\"/>\r\n    <path clip-path=\"url(#p3b52c293d6)\" d=\"M 308.140066 102.552903 \r\nL 322.236908 102.552903 \r\nL 322.236908 113.997113 \r\nL 308.140066 113.997113 \r\nL 308.140066 102.552903 \r\n\" style=\"fill:#7d1f5a;\"/>\r\n    <path clip-path=\"url(#p3b52c293d6)\" d=\"M 322.236908 102.552903 \r\nL 336.33375 102.552903 \r\nL 336.33375 113.997113 \r\nL 322.236908 113.997113 \r\nL 322.236908 102.552903 \r\n\" style=\"fill:#681f55;\"/>\r\n    <path clip-path=\"url(#p3b52c293d6)\" d=\"M 68.49375 113.997113 \r\nL 82.590592 113.997113 \r\nL 82.590592 125.441324 \r\nL 68.49375 125.441324 \r\nL 68.49375 113.997113 \r\n\" style=\"fill:#c11754;\"/>\r\n    <path clip-path=\"url(#p3b52c293d6)\" d=\"M 82.590592 113.997113 \r\nL 96.687434 113.997113 \r\nL 96.687434 125.441324 \r\nL 82.590592 125.441324 \r\nL 82.590592 113.997113 \r\n\" style=\"fill:#711f57;\"/>\r\n    <path clip-path=\"url(#p3b52c293d6)\" d=\"M 96.687434 113.997113 \r\nL 110.784276 113.997113 \r\nL 110.784276 125.441324 \r\nL 96.687434 125.441324 \r\nL 96.687434 113.997113 \r\n\" style=\"fill:#aa185a;\"/>\r\n    <path clip-path=\"url(#p3b52c293d6)\" d=\"M 110.784276 113.997113 \r\nL 124.881118 113.997113 \r\nL 124.881118 125.441324 \r\nL 110.784276 125.441324 \r\nL 110.784276 113.997113 \r\n\" style=\"fill:#861e5b;\"/>\r\n    <path clip-path=\"url(#p3b52c293d6)\" d=\"M 124.881118 113.997113 \r\nL 138.977961 113.997113 \r\nL 138.977961 125.441324 \r\nL 124.881118 125.441324 \r\nL 124.881118 113.997113 \r\n\" style=\"fill:#9f1a5b;\"/>\r\n    <path clip-path=\"url(#p3b52c293d6)\" d=\"M 138.977961 113.997113 \r\nL 153.074803 113.997113 \r\nL 153.074803 125.441324 \r\nL 138.977961 125.441324 \r\nL 138.977961 113.997113 \r\n\" style=\"fill:#e9423e;\"/>\r\n    <path clip-path=\"url(#p3b52c293d6)\" d=\"M 153.074803 113.997113 \r\nL 167.171645 113.997113 \r\nL 167.171645 125.441324 \r\nL 153.074803 125.441324 \r\nL 153.074803 113.997113 \r\n\" style=\"fill:#781f59;\"/>\r\n    <path clip-path=\"url(#p3b52c293d6)\" d=\"M 167.171645 113.997113 \r\nL 181.268487 113.997113 \r\nL 181.268487 125.441324 \r\nL 167.171645 125.441324 \r\nL 167.171645 113.997113 \r\n\" style=\"fill:#ab185a;\"/>\r\n    <path clip-path=\"url(#p3b52c293d6)\" d=\"M 181.268487 113.997113 \r\nL 195.365329 113.997113 \r\nL 195.365329 125.441324 \r\nL 181.268487 125.441324 \r\nL 181.268487 113.997113 \r\n\" style=\"fill:#871e5b;\"/>\r\n    <path clip-path=\"url(#p3b52c293d6)\" d=\"M 195.365329 113.997113 \r\nL 209.462171 113.997113 \r\nL 209.462171 125.441324 \r\nL 195.365329 125.441324 \r\nL 195.365329 113.997113 \r\n\" style=\"fill:#faebdd;\"/>\r\n    <path clip-path=\"url(#p3b52c293d6)\" d=\"M 209.462171 113.997113 \r\nL 223.559013 113.997113 \r\nL 223.559013 125.441324 \r\nL 209.462171 125.441324 \r\nL 209.462171 113.997113 \r\n\" style=\"fill:#7f1e5a;\"/>\r\n    <path clip-path=\"url(#p3b52c293d6)\" d=\"M 223.559013 113.997113 \r\nL 237.655855 113.997113 \r\nL 237.655855 125.441324 \r\nL 223.559013 125.441324 \r\nL 223.559013 113.997113 \r\n\" style=\"fill:#821e5a;\"/>\r\n    <path clip-path=\"url(#p3b52c293d6)\" d=\"M 237.655855 113.997113 \r\nL 251.752697 113.997113 \r\nL 251.752697 125.441324 \r\nL 237.655855 125.441324 \r\nL 237.655855 113.997113 \r\n\" style=\"fill:#821e5a;\"/>\r\n    <path clip-path=\"url(#p3b52c293d6)\" d=\"M 251.752697 113.997113 \r\nL 265.849539 113.997113 \r\nL 265.849539 125.441324 \r\nL 251.752697 125.441324 \r\nL 251.752697 113.997113 \r\n\" style=\"fill:#871e5b;\"/>\r\n    <path clip-path=\"url(#p3b52c293d6)\" d=\"M 265.849539 113.997113 \r\nL 279.946382 113.997113 \r\nL 279.946382 125.441324 \r\nL 265.849539 125.441324 \r\nL 265.849539 113.997113 \r\n\" style=\"fill:#8b1d5b;\"/>\r\n    <path clip-path=\"url(#p3b52c293d6)\" d=\"M 279.946382 113.997113 \r\nL 294.043224 113.997113 \r\nL 294.043224 125.441324 \r\nL 279.946382 125.441324 \r\nL 279.946382 113.997113 \r\n\" style=\"fill:#20122e;\"/>\r\n    <path clip-path=\"url(#p3b52c293d6)\" d=\"M 294.043224 113.997113 \r\nL 308.140066 113.997113 \r\nL 308.140066 125.441324 \r\nL 294.043224 125.441324 \r\nL 294.043224 113.997113 \r\n\" style=\"fill:#8e1d5b;\"/>\r\n    <path clip-path=\"url(#p3b52c293d6)\" d=\"M 308.140066 113.997113 \r\nL 322.236908 113.997113 \r\nL 322.236908 125.441324 \r\nL 308.140066 125.441324 \r\nL 308.140066 113.997113 \r\n\" style=\"fill:#6e1f57;\"/>\r\n    <path clip-path=\"url(#p3b52c293d6)\" d=\"M 322.236908 113.997113 \r\nL 336.33375 113.997113 \r\nL 336.33375 125.441324 \r\nL 322.236908 125.441324 \r\nL 322.236908 113.997113 \r\n\" style=\"fill:#491d49;\"/>\r\n    <path clip-path=\"url(#p3b52c293d6)\" d=\"M 68.49375 125.441324 \r\nL 82.590592 125.441324 \r\nL 82.590592 136.885535 \r\nL 68.49375 136.885535 \r\nL 68.49375 125.441324 \r\n\" style=\"fill:#b01759;\"/>\r\n    <path clip-path=\"url(#p3b52c293d6)\" d=\"M 82.590592 125.441324 \r\nL 96.687434 125.441324 \r\nL 96.687434 136.885535 \r\nL 82.590592 136.885535 \r\nL 82.590592 125.441324 \r\n\" style=\"fill:#7f1e5a;\"/>\r\n    <path clip-path=\"url(#p3b52c293d6)\" d=\"M 96.687434 125.441324 \r\nL 110.784276 125.441324 \r\nL 110.784276 136.885535 \r\nL 96.687434 136.885535 \r\nL 96.687434 125.441324 \r\n\" style=\"fill:#af1759;\"/>\r\n    <path clip-path=\"url(#p3b52c293d6)\" d=\"M 110.784276 125.441324 \r\nL 124.881118 125.441324 \r\nL 124.881118 136.885535 \r\nL 110.784276 136.885535 \r\nL 110.784276 125.441324 \r\n\" style=\"fill:#981b5b;\"/>\r\n    <path clip-path=\"url(#p3b52c293d6)\" d=\"M 124.881118 125.441324 \r\nL 138.977961 125.441324 \r\nL 138.977961 136.885535 \r\nL 124.881118 136.885535 \r\nL 124.881118 125.441324 \r\n\" style=\"fill:#981b5b;\"/>\r\n    <path clip-path=\"url(#p3b52c293d6)\" d=\"M 138.977961 125.441324 \r\nL 153.074803 125.441324 \r\nL 153.074803 136.885535 \r\nL 138.977961 136.885535 \r\nL 138.977961 125.441324 \r\n\" style=\"fill:#e73d3f;\"/>\r\n    <path clip-path=\"url(#p3b52c293d6)\" d=\"M 153.074803 125.441324 \r\nL 167.171645 125.441324 \r\nL 167.171645 136.885535 \r\nL 153.074803 136.885535 \r\nL 153.074803 125.441324 \r\n\" style=\"fill:#7f1e5a;\"/>\r\n    <path clip-path=\"url(#p3b52c293d6)\" d=\"M 167.171645 125.441324 \r\nL 181.268487 125.441324 \r\nL 181.268487 136.885535 \r\nL 167.171645 136.885535 \r\nL 167.171645 125.441324 \r\n\" style=\"fill:#f16244;\"/>\r\n    <path clip-path=\"url(#p3b52c293d6)\" d=\"M 181.268487 125.441324 \r\nL 195.365329 125.441324 \r\nL 195.365329 136.885535 \r\nL 181.268487 136.885535 \r\nL 181.268487 125.441324 \r\n\" style=\"fill:#861e5b;\"/>\r\n    <path clip-path=\"url(#p3b52c293d6)\" d=\"M 195.365329 125.441324 \r\nL 209.462171 125.441324 \r\nL 209.462171 136.885535 \r\nL 195.365329 136.885535 \r\nL 195.365329 125.441324 \r\n\" style=\"fill:#7f1e5a;\"/>\r\n    <path clip-path=\"url(#p3b52c293d6)\" d=\"M 209.462171 125.441324 \r\nL 223.559013 125.441324 \r\nL 223.559013 136.885535 \r\nL 209.462171 136.885535 \r\nL 209.462171 125.441324 \r\n\" style=\"fill:#faebdd;\"/>\r\n    <path clip-path=\"url(#p3b52c293d6)\" d=\"M 223.559013 125.441324 \r\nL 237.655855 125.441324 \r\nL 237.655855 136.885535 \r\nL 223.559013 136.885535 \r\nL 223.559013 125.441324 \r\n\" style=\"fill:#811e5a;\"/>\r\n    <path clip-path=\"url(#p3b52c293d6)\" d=\"M 237.655855 125.441324 \r\nL 251.752697 125.441324 \r\nL 251.752697 136.885535 \r\nL 237.655855 136.885535 \r\nL 237.655855 125.441324 \r\n\" style=\"fill:#821e5a;\"/>\r\n    <path clip-path=\"url(#p3b52c293d6)\" d=\"M 251.752697 125.441324 \r\nL 265.849539 125.441324 \r\nL 265.849539 136.885535 \r\nL 251.752697 136.885535 \r\nL 251.752697 125.441324 \r\n\" style=\"fill:#871e5b;\"/>\r\n    <path clip-path=\"url(#p3b52c293d6)\" d=\"M 265.849539 125.441324 \r\nL 279.946382 125.441324 \r\nL 279.946382 136.885535 \r\nL 265.849539 136.885535 \r\nL 265.849539 125.441324 \r\n\" style=\"fill:#8b1d5b;\"/>\r\n    <path clip-path=\"url(#p3b52c293d6)\" d=\"M 279.946382 125.441324 \r\nL 294.043224 125.441324 \r\nL 294.043224 136.885535 \r\nL 279.946382 136.885535 \r\nL 279.946382 125.441324 \r\n\" style=\"fill:#130d25;\"/>\r\n    <path clip-path=\"url(#p3b52c293d6)\" d=\"M 294.043224 125.441324 \r\nL 308.140066 125.441324 \r\nL 308.140066 136.885535 \r\nL 294.043224 136.885535 \r\nL 294.043224 125.441324 \r\n\" style=\"fill:#8c1d5b;\"/>\r\n    <path clip-path=\"url(#p3b52c293d6)\" d=\"M 308.140066 125.441324 \r\nL 322.236908 125.441324 \r\nL 322.236908 136.885535 \r\nL 308.140066 136.885535 \r\nL 308.140066 125.441324 \r\n\" style=\"fill:#6b1f56;\"/>\r\n    <path clip-path=\"url(#p3b52c293d6)\" d=\"M 322.236908 125.441324 \r\nL 336.33375 125.441324 \r\nL 336.33375 136.885535 \r\nL 322.236908 136.885535 \r\nL 322.236908 125.441324 \r\n\" style=\"fill:#421b45;\"/>\r\n    <path clip-path=\"url(#p3b52c293d6)\" d=\"M 68.49375 136.885535 \r\nL 82.590592 136.885535 \r\nL 82.590592 148.329745 \r\nL 68.49375 148.329745 \r\nL 68.49375 136.885535 \r\n\" style=\"fill:#ba1656;\"/>\r\n    <path clip-path=\"url(#p3b52c293d6)\" d=\"M 82.590592 136.885535 \r\nL 96.687434 136.885535 \r\nL 96.687434 148.329745 \r\nL 82.590592 148.329745 \r\nL 82.590592 136.885535 \r\n\" style=\"fill:#7a1f59;\"/>\r\n    <path clip-path=\"url(#p3b52c293d6)\" d=\"M 96.687434 136.885535 \r\nL 110.784276 136.885535 \r\nL 110.784276 148.329745 \r\nL 96.687434 148.329745 \r\nL 96.687434 136.885535 \r\n\" style=\"fill:#b51657;\"/>\r\n    <path clip-path=\"url(#p3b52c293d6)\" d=\"M 110.784276 136.885535 \r\nL 124.881118 136.885535 \r\nL 124.881118 148.329745 \r\nL 110.784276 148.329745 \r\nL 110.784276 136.885535 \r\n\" style=\"fill:#8b1d5b;\"/>\r\n    <path clip-path=\"url(#p3b52c293d6)\" d=\"M 124.881118 136.885535 \r\nL 138.977961 136.885535 \r\nL 138.977961 148.329745 \r\nL 124.881118 148.329745 \r\nL 124.881118 136.885535 \r\n\" style=\"fill:#8b1d5b;\"/>\r\n    <path clip-path=\"url(#p3b52c293d6)\" d=\"M 138.977961 136.885535 \r\nL 153.074803 136.885535 \r\nL 153.074803 148.329745 \r\nL 138.977961 148.329745 \r\nL 138.977961 136.885535 \r\n\" style=\"fill:#ab185a;\"/>\r\n    <path clip-path=\"url(#p3b52c293d6)\" d=\"M 153.074803 136.885535 \r\nL 167.171645 136.885535 \r\nL 167.171645 148.329745 \r\nL 153.074803 148.329745 \r\nL 153.074803 136.885535 \r\n\" style=\"fill:#841e5a;\"/>\r\n    <path clip-path=\"url(#p3b52c293d6)\" d=\"M 167.171645 136.885535 \r\nL 181.268487 136.885535 \r\nL 181.268487 148.329745 \r\nL 167.171645 148.329745 \r\nL 167.171645 136.885535 \r\n\" style=\"fill:#631f53;\"/>\r\n    <path clip-path=\"url(#p3b52c293d6)\" d=\"M 181.268487 136.885535 \r\nL 195.365329 136.885535 \r\nL 195.365329 148.329745 \r\nL 181.268487 148.329745 \r\nL 181.268487 136.885535 \r\n\" style=\"fill:#891e5b;\"/>\r\n    <path clip-path=\"url(#p3b52c293d6)\" d=\"M 195.365329 136.885535 \r\nL 209.462171 136.885535 \r\nL 209.462171 148.329745 \r\nL 195.365329 148.329745 \r\nL 195.365329 136.885535 \r\n\" style=\"fill:#821e5a;\"/>\r\n    <path clip-path=\"url(#p3b52c293d6)\" d=\"M 209.462171 136.885535 \r\nL 223.559013 136.885535 \r\nL 223.559013 148.329745 \r\nL 209.462171 148.329745 \r\nL 209.462171 136.885535 \r\n\" style=\"fill:#811e5a;\"/>\r\n    <path clip-path=\"url(#p3b52c293d6)\" d=\"M 223.559013 136.885535 \r\nL 237.655855 136.885535 \r\nL 237.655855 148.329745 \r\nL 223.559013 148.329745 \r\nL 223.559013 136.885535 \r\n\" style=\"fill:#faebdd;\"/>\r\n    <path clip-path=\"url(#p3b52c293d6)\" d=\"M 237.655855 136.885535 \r\nL 251.752697 136.885535 \r\nL 251.752697 148.329745 \r\nL 237.655855 148.329745 \r\nL 237.655855 136.885535 \r\n\" style=\"fill:#861e5b;\"/>\r\n    <path clip-path=\"url(#p3b52c293d6)\" d=\"M 251.752697 136.885535 \r\nL 265.849539 136.885535 \r\nL 265.849539 148.329745 \r\nL 251.752697 148.329745 \r\nL 251.752697 136.885535 \r\n\" style=\"fill:#891e5b;\"/>\r\n    <path clip-path=\"url(#p3b52c293d6)\" d=\"M 265.849539 136.885535 \r\nL 279.946382 136.885535 \r\nL 279.946382 148.329745 \r\nL 265.849539 148.329745 \r\nL 265.849539 136.885535 \r\n\" style=\"fill:#8c1d5b;\"/>\r\n    <path clip-path=\"url(#p3b52c293d6)\" d=\"M 279.946382 136.885535 \r\nL 294.043224 136.885535 \r\nL 294.043224 148.329745 \r\nL 279.946382 148.329745 \r\nL 279.946382 136.885535 \r\n\" style=\"fill:#31183b;\"/>\r\n    <path clip-path=\"url(#p3b52c293d6)\" d=\"M 294.043224 136.885535 \r\nL 308.140066 136.885535 \r\nL 308.140066 148.329745 \r\nL 294.043224 148.329745 \r\nL 294.043224 136.885535 \r\n\" style=\"fill:#8e1d5b;\"/>\r\n    <path clip-path=\"url(#p3b52c293d6)\" d=\"M 308.140066 136.885535 \r\nL 322.236908 136.885535 \r\nL 322.236908 148.329745 \r\nL 308.140066 148.329745 \r\nL 308.140066 136.885535 \r\n\" style=\"fill:#841e5a;\"/>\r\n    <path clip-path=\"url(#p3b52c293d6)\" d=\"M 322.236908 136.885535 \r\nL 336.33375 136.885535 \r\nL 336.33375 148.329745 \r\nL 322.236908 148.329745 \r\nL 322.236908 136.885535 \r\n\" style=\"fill:#541e4e;\"/>\r\n    <path clip-path=\"url(#p3b52c293d6)\" d=\"M 68.49375 148.329745 \r\nL 82.590592 148.329745 \r\nL 82.590592 159.773956 \r\nL 68.49375 159.773956 \r\nL 68.49375 148.329745 \r\n\" style=\"fill:#b91657;\"/>\r\n    <path clip-path=\"url(#p3b52c293d6)\" d=\"M 82.590592 148.329745 \r\nL 96.687434 148.329745 \r\nL 96.687434 159.773956 \r\nL 82.590592 159.773956 \r\nL 82.590592 148.329745 \r\n\" style=\"fill:#821e5a;\"/>\r\n    <path clip-path=\"url(#p3b52c293d6)\" d=\"M 96.687434 148.329745 \r\nL 110.784276 148.329745 \r\nL 110.784276 159.773956 \r\nL 96.687434 159.773956 \r\nL 96.687434 148.329745 \r\n\" style=\"fill:#b01759;\"/>\r\n    <path clip-path=\"url(#p3b52c293d6)\" d=\"M 110.784276 148.329745 \r\nL 124.881118 148.329745 \r\nL 124.881118 159.773956 \r\nL 110.784276 159.773956 \r\nL 110.784276 148.329745 \r\n\" style=\"fill:#861e5b;\"/>\r\n    <path clip-path=\"url(#p3b52c293d6)\" d=\"M 124.881118 148.329745 \r\nL 138.977961 148.329745 \r\nL 138.977961 159.773956 \r\nL 124.881118 159.773956 \r\nL 124.881118 148.329745 \r\n\" style=\"fill:#8b1d5b;\"/>\r\n    <path clip-path=\"url(#p3b52c293d6)\" d=\"M 138.977961 148.329745 \r\nL 153.074803 148.329745 \r\nL 153.074803 159.773956 \r\nL 138.977961 159.773956 \r\nL 138.977961 148.329745 \r\n\" style=\"fill:#9f1a5b;\"/>\r\n    <path clip-path=\"url(#p3b52c293d6)\" d=\"M 153.074803 148.329745 \r\nL 167.171645 148.329745 \r\nL 167.171645 159.773956 \r\nL 153.074803 159.773956 \r\nL 153.074803 148.329745 \r\n\" style=\"fill:#9a1b5b;\"/>\r\n    <path clip-path=\"url(#p3b52c293d6)\" d=\"M 167.171645 148.329745 \r\nL 181.268487 148.329745 \r\nL 181.268487 159.773956 \r\nL 167.171645 159.773956 \r\nL 167.171645 148.329745 \r\n\" style=\"fill:#9e1a5b;\"/>\r\n    <path clip-path=\"url(#p3b52c293d6)\" d=\"M 181.268487 148.329745 \r\nL 195.365329 148.329745 \r\nL 195.365329 159.773956 \r\nL 181.268487 159.773956 \r\nL 181.268487 148.329745 \r\n\" style=\"fill:#891e5b;\"/>\r\n    <path clip-path=\"url(#p3b52c293d6)\" d=\"M 195.365329 148.329745 \r\nL 209.462171 148.329745 \r\nL 209.462171 159.773956 \r\nL 195.365329 159.773956 \r\nL 195.365329 148.329745 \r\n\" style=\"fill:#821e5a;\"/>\r\n    <path clip-path=\"url(#p3b52c293d6)\" d=\"M 209.462171 148.329745 \r\nL 223.559013 148.329745 \r\nL 223.559013 159.773956 \r\nL 209.462171 159.773956 \r\nL 209.462171 148.329745 \r\n\" style=\"fill:#821e5a;\"/>\r\n    <path clip-path=\"url(#p3b52c293d6)\" d=\"M 223.559013 148.329745 \r\nL 237.655855 148.329745 \r\nL 237.655855 159.773956 \r\nL 223.559013 159.773956 \r\nL 223.559013 148.329745 \r\n\" style=\"fill:#861e5b;\"/>\r\n    <path clip-path=\"url(#p3b52c293d6)\" d=\"M 237.655855 148.329745 \r\nL 251.752697 148.329745 \r\nL 251.752697 159.773956 \r\nL 237.655855 159.773956 \r\nL 237.655855 148.329745 \r\n\" style=\"fill:#faebdd;\"/>\r\n    <path clip-path=\"url(#p3b52c293d6)\" d=\"M 251.752697 148.329745 \r\nL 265.849539 148.329745 \r\nL 265.849539 159.773956 \r\nL 251.752697 159.773956 \r\nL 251.752697 148.329745 \r\n\" style=\"fill:#891e5b;\"/>\r\n    <path clip-path=\"url(#p3b52c293d6)\" d=\"M 265.849539 148.329745 \r\nL 279.946382 148.329745 \r\nL 279.946382 159.773956 \r\nL 265.849539 159.773956 \r\nL 265.849539 148.329745 \r\n\" style=\"fill:#8c1d5b;\"/>\r\n    <path clip-path=\"url(#p3b52c293d6)\" d=\"M 279.946382 148.329745 \r\nL 294.043224 148.329745 \r\nL 294.043224 159.773956 \r\nL 279.946382 159.773956 \r\nL 279.946382 148.329745 \r\n\" style=\"fill:#33183c;\"/>\r\n    <path clip-path=\"url(#p3b52c293d6)\" d=\"M 294.043224 148.329745 \r\nL 308.140066 148.329745 \r\nL 308.140066 159.773956 \r\nL 294.043224 159.773956 \r\nL 294.043224 148.329745 \r\n\" style=\"fill:#8e1d5b;\"/>\r\n    <path clip-path=\"url(#p3b52c293d6)\" d=\"M 308.140066 148.329745 \r\nL 322.236908 148.329745 \r\nL 322.236908 159.773956 \r\nL 308.140066 159.773956 \r\nL 308.140066 148.329745 \r\n\" style=\"fill:#861e5b;\"/>\r\n    <path clip-path=\"url(#p3b52c293d6)\" d=\"M 322.236908 148.329745 \r\nL 336.33375 148.329745 \r\nL 336.33375 159.773956 \r\nL 322.236908 159.773956 \r\nL 322.236908 148.329745 \r\n\" style=\"fill:#601f52;\"/>\r\n    <path clip-path=\"url(#p3b52c293d6)\" d=\"M 68.49375 159.773956 \r\nL 82.590592 159.773956 \r\nL 82.590592 171.218166 \r\nL 68.49375 171.218166 \r\nL 68.49375 159.773956 \r\n\" style=\"fill:#9f1a5b;\"/>\r\n    <path clip-path=\"url(#p3b52c293d6)\" d=\"M 82.590592 159.773956 \r\nL 96.687434 159.773956 \r\nL 96.687434 171.218166 \r\nL 82.590592 171.218166 \r\nL 82.590592 159.773956 \r\n\" style=\"fill:#8e1d5b;\"/>\r\n    <path clip-path=\"url(#p3b52c293d6)\" d=\"M 96.687434 159.773956 \r\nL 110.784276 159.773956 \r\nL 110.784276 171.218166 \r\nL 96.687434 171.218166 \r\nL 96.687434 159.773956 \r\n\" style=\"fill:#7a1f59;\"/>\r\n    <path clip-path=\"url(#p3b52c293d6)\" d=\"M 110.784276 159.773956 \r\nL 124.881118 159.773956 \r\nL 124.881118 171.218166 \r\nL 110.784276 171.218166 \r\nL 110.784276 159.773956 \r\n\" style=\"fill:#901d5b;\"/>\r\n    <path clip-path=\"url(#p3b52c293d6)\" d=\"M 124.881118 159.773956 \r\nL 138.977961 159.773956 \r\nL 138.977961 171.218166 \r\nL 124.881118 171.218166 \r\nL 124.881118 159.773956 \r\n\" style=\"fill:#971c5b;\"/>\r\n    <path clip-path=\"url(#p3b52c293d6)\" d=\"M 138.977961 159.773956 \r\nL 153.074803 159.773956 \r\nL 153.074803 171.218166 \r\nL 138.977961 171.218166 \r\nL 138.977961 159.773956 \r\n\" style=\"fill:#871e5b;\"/>\r\n    <path clip-path=\"url(#p3b52c293d6)\" d=\"M 153.074803 159.773956 \r\nL 167.171645 159.773956 \r\nL 167.171645 171.218166 \r\nL 153.074803 171.218166 \r\nL 153.074803 159.773956 \r\n\" style=\"fill:#981b5b;\"/>\r\n    <path clip-path=\"url(#p3b52c293d6)\" d=\"M 167.171645 159.773956 \r\nL 181.268487 159.773956 \r\nL 181.268487 171.218166 \r\nL 167.171645 171.218166 \r\nL 167.171645 159.773956 \r\n\" style=\"fill:#781f59;\"/>\r\n    <path clip-path=\"url(#p3b52c293d6)\" d=\"M 181.268487 159.773956 \r\nL 195.365329 159.773956 \r\nL 195.365329 171.218166 \r\nL 181.268487 171.218166 \r\nL 181.268487 159.773956 \r\n\" style=\"fill:#8b1d5b;\"/>\r\n    <path clip-path=\"url(#p3b52c293d6)\" d=\"M 195.365329 159.773956 \r\nL 209.462171 159.773956 \r\nL 209.462171 171.218166 \r\nL 195.365329 171.218166 \r\nL 195.365329 159.773956 \r\n\" style=\"fill:#871e5b;\"/>\r\n    <path clip-path=\"url(#p3b52c293d6)\" d=\"M 209.462171 159.773956 \r\nL 223.559013 159.773956 \r\nL 223.559013 171.218166 \r\nL 209.462171 171.218166 \r\nL 209.462171 159.773956 \r\n\" style=\"fill:#871e5b;\"/>\r\n    <path clip-path=\"url(#p3b52c293d6)\" d=\"M 223.559013 159.773956 \r\nL 237.655855 159.773956 \r\nL 237.655855 171.218166 \r\nL 223.559013 171.218166 \r\nL 223.559013 159.773956 \r\n\" style=\"fill:#891e5b;\"/>\r\n    <path clip-path=\"url(#p3b52c293d6)\" d=\"M 237.655855 159.773956 \r\nL 251.752697 159.773956 \r\nL 251.752697 171.218166 \r\nL 237.655855 171.218166 \r\nL 237.655855 159.773956 \r\n\" style=\"fill:#891e5b;\"/>\r\n    <path clip-path=\"url(#p3b52c293d6)\" d=\"M 251.752697 159.773956 \r\nL 265.849539 159.773956 \r\nL 265.849539 171.218166 \r\nL 251.752697 171.218166 \r\nL 251.752697 159.773956 \r\n\" style=\"fill:#faebdd;\"/>\r\n    <path clip-path=\"url(#p3b52c293d6)\" d=\"M 265.849539 159.773956 \r\nL 279.946382 159.773956 \r\nL 279.946382 171.218166 \r\nL 265.849539 171.218166 \r\nL 265.849539 159.773956 \r\n\" style=\"fill:#8e1d5b;\"/>\r\n    <path clip-path=\"url(#p3b52c293d6)\" d=\"M 279.946382 159.773956 \r\nL 294.043224 159.773956 \r\nL 294.043224 171.218166 \r\nL 279.946382 171.218166 \r\nL 279.946382 159.773956 \r\n\" style=\"fill:#531e4d;\"/>\r\n    <path clip-path=\"url(#p3b52c293d6)\" d=\"M 294.043224 159.773956 \r\nL 308.140066 159.773956 \r\nL 308.140066 171.218166 \r\nL 294.043224 171.218166 \r\nL 294.043224 159.773956 \r\n\" style=\"fill:#8e1d5b;\"/>\r\n    <path clip-path=\"url(#p3b52c293d6)\" d=\"M 308.140066 159.773956 \r\nL 322.236908 159.773956 \r\nL 322.236908 171.218166 \r\nL 308.140066 171.218166 \r\nL 308.140066 159.773956 \r\n\" style=\"fill:#b21758;\"/>\r\n    <path clip-path=\"url(#p3b52c293d6)\" d=\"M 322.236908 159.773956 \r\nL 336.33375 159.773956 \r\nL 336.33375 171.218166 \r\nL 322.236908 171.218166 \r\nL 322.236908 159.773956 \r\n\" style=\"fill:#841e5a;\"/>\r\n    <path clip-path=\"url(#p3b52c293d6)\" d=\"M 68.49375 171.218166 \r\nL 82.590592 171.218166 \r\nL 82.590592 182.662377 \r\nL 68.49375 182.662377 \r\nL 68.49375 171.218166 \r\n\" style=\"fill:#951c5b;\"/>\r\n    <path clip-path=\"url(#p3b52c293d6)\" d=\"M 82.590592 171.218166 \r\nL 96.687434 171.218166 \r\nL 96.687434 182.662377 \r\nL 82.590592 182.662377 \r\nL 82.590592 171.218166 \r\n\" style=\"fill:#761f58;\"/>\r\n    <path clip-path=\"url(#p3b52c293d6)\" d=\"M 96.687434 171.218166 \r\nL 110.784276 171.218166 \r\nL 110.784276 182.662377 \r\nL 96.687434 182.662377 \r\nL 96.687434 171.218166 \r\n\" style=\"fill:#7a1f59;\"/>\r\n    <path clip-path=\"url(#p3b52c293d6)\" d=\"M 110.784276 171.218166 \r\nL 124.881118 171.218166 \r\nL 124.881118 182.662377 \r\nL 110.784276 182.662377 \r\nL 110.784276 171.218166 \r\n\" style=\"fill:#901d5b;\"/>\r\n    <path clip-path=\"url(#p3b52c293d6)\" d=\"M 124.881118 171.218166 \r\nL 138.977961 171.218166 \r\nL 138.977961 182.662377 \r\nL 124.881118 182.662377 \r\nL 124.881118 171.218166 \r\n\" style=\"fill:#a4195b;\"/>\r\n    <path clip-path=\"url(#p3b52c293d6)\" d=\"M 138.977961 171.218166 \r\nL 153.074803 171.218166 \r\nL 153.074803 182.662377 \r\nL 138.977961 182.662377 \r\nL 138.977961 171.218166 \r\n\" style=\"fill:#891e5b;\"/>\r\n    <path clip-path=\"url(#p3b52c293d6)\" d=\"M 153.074803 171.218166 \r\nL 167.171645 171.218166 \r\nL 167.171645 182.662377 \r\nL 153.074803 182.662377 \r\nL 153.074803 171.218166 \r\n\" style=\"fill:#9c1b5b;\"/>\r\n    <path clip-path=\"url(#p3b52c293d6)\" d=\"M 167.171645 171.218166 \r\nL 181.268487 171.218166 \r\nL 181.268487 182.662377 \r\nL 167.171645 182.662377 \r\nL 167.171645 171.218166 \r\n\" style=\"fill:#661f54;\"/>\r\n    <path clip-path=\"url(#p3b52c293d6)\" d=\"M 181.268487 171.218166 \r\nL 195.365329 171.218166 \r\nL 195.365329 182.662377 \r\nL 181.268487 182.662377 \r\nL 181.268487 171.218166 \r\n\" style=\"fill:#8e1d5b;\"/>\r\n    <path clip-path=\"url(#p3b52c293d6)\" d=\"M 195.365329 171.218166 \r\nL 209.462171 171.218166 \r\nL 209.462171 182.662377 \r\nL 195.365329 182.662377 \r\nL 195.365329 171.218166 \r\n\" style=\"fill:#8b1d5b;\"/>\r\n    <path clip-path=\"url(#p3b52c293d6)\" d=\"M 209.462171 171.218166 \r\nL 223.559013 171.218166 \r\nL 223.559013 182.662377 \r\nL 209.462171 182.662377 \r\nL 209.462171 171.218166 \r\n\" style=\"fill:#8b1d5b;\"/>\r\n    <path clip-path=\"url(#p3b52c293d6)\" d=\"M 223.559013 171.218166 \r\nL 237.655855 171.218166 \r\nL 237.655855 182.662377 \r\nL 223.559013 182.662377 \r\nL 223.559013 171.218166 \r\n\" style=\"fill:#8c1d5b;\"/>\r\n    <path clip-path=\"url(#p3b52c293d6)\" d=\"M 237.655855 171.218166 \r\nL 251.752697 171.218166 \r\nL 251.752697 182.662377 \r\nL 237.655855 182.662377 \r\nL 237.655855 171.218166 \r\n\" style=\"fill:#8c1d5b;\"/>\r\n    <path clip-path=\"url(#p3b52c293d6)\" d=\"M 251.752697 171.218166 \r\nL 265.849539 171.218166 \r\nL 265.849539 182.662377 \r\nL 251.752697 182.662377 \r\nL 251.752697 171.218166 \r\n\" style=\"fill:#8e1d5b;\"/>\r\n    <path clip-path=\"url(#p3b52c293d6)\" d=\"M 265.849539 171.218166 \r\nL 279.946382 171.218166 \r\nL 279.946382 182.662377 \r\nL 265.849539 182.662377 \r\nL 265.849539 171.218166 \r\n\" style=\"fill:#faebdd;\"/>\r\n    <path clip-path=\"url(#p3b52c293d6)\" d=\"M 279.946382 171.218166 \r\nL 294.043224 171.218166 \r\nL 294.043224 182.662377 \r\nL 279.946382 182.662377 \r\nL 279.946382 171.218166 \r\n\" style=\"fill:#6e1f57;\"/>\r\n    <path clip-path=\"url(#p3b52c293d6)\" d=\"M 294.043224 171.218166 \r\nL 308.140066 171.218166 \r\nL 308.140066 182.662377 \r\nL 294.043224 182.662377 \r\nL 294.043224 171.218166 \r\n\" style=\"fill:#901d5b;\"/>\r\n    <path clip-path=\"url(#p3b52c293d6)\" d=\"M 308.140066 171.218166 \r\nL 322.236908 171.218166 \r\nL 322.236908 182.662377 \r\nL 308.140066 182.662377 \r\nL 308.140066 171.218166 \r\n\" style=\"fill:#861e5b;\"/>\r\n    <path clip-path=\"url(#p3b52c293d6)\" d=\"M 322.236908 171.218166 \r\nL 336.33375 171.218166 \r\nL 336.33375 182.662377 \r\nL 322.236908 182.662377 \r\nL 322.236908 171.218166 \r\n\" style=\"fill:#a11a5b;\"/>\r\n    <path clip-path=\"url(#p3b52c293d6)\" d=\"M 68.49375 182.662377 \r\nL 82.590592 182.662377 \r\nL 82.590592 194.106587 \r\nL 68.49375 194.106587 \r\nL 68.49375 182.662377 \r\n\" style=\"fill:#3c1a42;\"/>\r\n    <path clip-path=\"url(#p3b52c293d6)\" d=\"M 82.590592 182.662377 \r\nL 96.687434 182.662377 \r\nL 96.687434 194.106587 \r\nL 82.590592 194.106587 \r\nL 82.590592 182.662377 \r\n\" style=\"fill:#b71657;\"/>\r\n    <path clip-path=\"url(#p3b52c293d6)\" d=\"M 96.687434 182.662377 \r\nL 110.784276 182.662377 \r\nL 110.784276 194.106587 \r\nL 96.687434 194.106587 \r\nL 96.687434 182.662377 \r\n\" style=\"fill:#511e4d;\"/>\r\n    <path clip-path=\"url(#p3b52c293d6)\" d=\"M 110.784276 182.662377 \r\nL 124.881118 182.662377 \r\nL 124.881118 194.106587 \r\nL 110.784276 194.106587 \r\nL 110.784276 182.662377 \r\n\" style=\"fill:#9c1b5b;\"/>\r\n    <path clip-path=\"url(#p3b52c293d6)\" d=\"M 124.881118 182.662377 \r\nL 138.977961 182.662377 \r\nL 138.977961 194.106587 \r\nL 124.881118 194.106587 \r\nL 124.881118 182.662377 \r\n\" style=\"fill:#861e5b;\"/>\r\n    <path clip-path=\"url(#p3b52c293d6)\" d=\"M 138.977961 182.662377 \r\nL 153.074803 182.662377 \r\nL 153.074803 194.106587 \r\nL 138.977961 194.106587 \r\nL 138.977961 182.662377 \r\n\" style=\"fill:#140e26;\"/>\r\n    <path clip-path=\"url(#p3b52c293d6)\" d=\"M 153.074803 182.662377 \r\nL 167.171645 182.662377 \r\nL 167.171645 194.106587 \r\nL 153.074803 194.106587 \r\nL 153.074803 182.662377 \r\n\" style=\"fill:#a6195a;\"/>\r\n    <path clip-path=\"url(#p3b52c293d6)\" d=\"M 167.171645 182.662377 \r\nL 181.268487 182.662377 \r\nL 181.268487 194.106587 \r\nL 167.171645 194.106587 \r\nL 167.171645 182.662377 \r\n\" style=\"fill:#5e1f52;\"/>\r\n    <path clip-path=\"url(#p3b52c293d6)\" d=\"M 181.268487 182.662377 \r\nL 195.365329 182.662377 \r\nL 195.365329 194.106587 \r\nL 181.268487 194.106587 \r\nL 181.268487 182.662377 \r\n\" style=\"fill:#501d4c;\"/>\r\n    <path clip-path=\"url(#p3b52c293d6)\" d=\"M 195.365329 182.662377 \r\nL 209.462171 182.662377 \r\nL 209.462171 194.106587 \r\nL 195.365329 194.106587 \r\nL 195.365329 182.662377 \r\n\" style=\"fill:#20122e;\"/>\r\n    <path clip-path=\"url(#p3b52c293d6)\" d=\"M 209.462171 182.662377 \r\nL 223.559013 182.662377 \r\nL 223.559013 194.106587 \r\nL 209.462171 194.106587 \r\nL 209.462171 182.662377 \r\n\" style=\"fill:#130d25;\"/>\r\n    <path clip-path=\"url(#p3b52c293d6)\" d=\"M 223.559013 182.662377 \r\nL 237.655855 182.662377 \r\nL 237.655855 194.106587 \r\nL 223.559013 194.106587 \r\nL 223.559013 182.662377 \r\n\" style=\"fill:#31183b;\"/>\r\n    <path clip-path=\"url(#p3b52c293d6)\" d=\"M 237.655855 182.662377 \r\nL 251.752697 182.662377 \r\nL 251.752697 194.106587 \r\nL 237.655855 194.106587 \r\nL 237.655855 182.662377 \r\n\" style=\"fill:#33183c;\"/>\r\n    <path clip-path=\"url(#p3b52c293d6)\" d=\"M 251.752697 182.662377 \r\nL 265.849539 182.662377 \r\nL 265.849539 194.106587 \r\nL 251.752697 194.106587 \r\nL 251.752697 182.662377 \r\n\" style=\"fill:#531e4d;\"/>\r\n    <path clip-path=\"url(#p3b52c293d6)\" d=\"M 265.849539 182.662377 \r\nL 279.946382 182.662377 \r\nL 279.946382 194.106587 \r\nL 265.849539 194.106587 \r\nL 265.849539 182.662377 \r\n\" style=\"fill:#6e1f57;\"/>\r\n    <path clip-path=\"url(#p3b52c293d6)\" d=\"M 279.946382 182.662377 \r\nL 294.043224 182.662377 \r\nL 294.043224 194.106587 \r\nL 279.946382 194.106587 \r\nL 279.946382 182.662377 \r\n\" style=\"fill:#faebdd;\"/>\r\n    <path clip-path=\"url(#p3b52c293d6)\" d=\"M 294.043224 182.662377 \r\nL 308.140066 182.662377 \r\nL 308.140066 194.106587 \r\nL 294.043224 194.106587 \r\nL 294.043224 182.662377 \r\n\" style=\"fill:#7f1e5a;\"/>\r\n    <path clip-path=\"url(#p3b52c293d6)\" d=\"M 308.140066 182.662377 \r\nL 322.236908 182.662377 \r\nL 322.236908 194.106587 \r\nL 308.140066 194.106587 \r\nL 308.140066 182.662377 \r\n\" style=\"fill:#bf1654;\"/>\r\n    <path clip-path=\"url(#p3b52c293d6)\" d=\"M 322.236908 182.662377 \r\nL 336.33375 182.662377 \r\nL 336.33375 194.106587 \r\nL 322.236908 194.106587 \r\nL 322.236908 182.662377 \r\n\" style=\"fill:#f3734e;\"/>\r\n    <path clip-path=\"url(#p3b52c293d6)\" d=\"M 68.49375 194.106587 \r\nL 82.590592 194.106587 \r\nL 82.590592 205.550798 \r\nL 68.49375 205.550798 \r\nL 68.49375 194.106587 \r\n\" style=\"fill:#891e5b;\"/>\r\n    <path clip-path=\"url(#p3b52c293d6)\" d=\"M 82.590592 194.106587 \r\nL 96.687434 194.106587 \r\nL 96.687434 205.550798 \r\nL 82.590592 205.550798 \r\nL 82.590592 194.106587 \r\n\" style=\"fill:#971c5b;\"/>\r\n    <path clip-path=\"url(#p3b52c293d6)\" d=\"M 96.687434 194.106587 \r\nL 110.784276 194.106587 \r\nL 110.784276 205.550798 \r\nL 96.687434 205.550798 \r\nL 96.687434 194.106587 \r\n\" style=\"fill:#9a1b5b;\"/>\r\n    <path clip-path=\"url(#p3b52c293d6)\" d=\"M 110.784276 194.106587 \r\nL 124.881118 194.106587 \r\nL 124.881118 205.550798 \r\nL 110.784276 205.550798 \r\nL 110.784276 194.106587 \r\n\" style=\"fill:#8b1d5b;\"/>\r\n    <path clip-path=\"url(#p3b52c293d6)\" d=\"M 124.881118 194.106587 \r\nL 138.977961 194.106587 \r\nL 138.977961 205.550798 \r\nL 124.881118 205.550798 \r\nL 124.881118 194.106587 \r\n\" style=\"fill:#8b1d5b;\"/>\r\n    <path clip-path=\"url(#p3b52c293d6)\" d=\"M 138.977961 194.106587 \r\nL 153.074803 194.106587 \r\nL 153.074803 205.550798 \r\nL 138.977961 205.550798 \r\nL 138.977961 194.106587 \r\n\" style=\"fill:#901d5b;\"/>\r\n    <path clip-path=\"url(#p3b52c293d6)\" d=\"M 153.074803 194.106587 \r\nL 167.171645 194.106587 \r\nL 167.171645 205.550798 \r\nL 153.074803 205.550798 \r\nL 153.074803 194.106587 \r\n\" style=\"fill:#951c5b;\"/>\r\n    <path clip-path=\"url(#p3b52c293d6)\" d=\"M 167.171645 194.106587 \r\nL 181.268487 194.106587 \r\nL 181.268487 205.550798 \r\nL 167.171645 205.550798 \r\nL 167.171645 194.106587 \r\n\" style=\"fill:#8e1d5b;\"/>\r\n    <path clip-path=\"url(#p3b52c293d6)\" d=\"M 181.268487 194.106587 \r\nL 195.365329 194.106587 \r\nL 195.365329 205.550798 \r\nL 181.268487 205.550798 \r\nL 181.268487 194.106587 \r\n\" style=\"fill:#8e1d5b;\"/>\r\n    <path clip-path=\"url(#p3b52c293d6)\" d=\"M 195.365329 194.106587 \r\nL 209.462171 194.106587 \r\nL 209.462171 205.550798 \r\nL 195.365329 205.550798 \r\nL 195.365329 194.106587 \r\n\" style=\"fill:#8e1d5b;\"/>\r\n    <path clip-path=\"url(#p3b52c293d6)\" d=\"M 209.462171 194.106587 \r\nL 223.559013 194.106587 \r\nL 223.559013 205.550798 \r\nL 209.462171 205.550798 \r\nL 209.462171 194.106587 \r\n\" style=\"fill:#8c1d5b;\"/>\r\n    <path clip-path=\"url(#p3b52c293d6)\" d=\"M 223.559013 194.106587 \r\nL 237.655855 194.106587 \r\nL 237.655855 205.550798 \r\nL 223.559013 205.550798 \r\nL 223.559013 194.106587 \r\n\" style=\"fill:#8e1d5b;\"/>\r\n    <path clip-path=\"url(#p3b52c293d6)\" d=\"M 237.655855 194.106587 \r\nL 251.752697 194.106587 \r\nL 251.752697 205.550798 \r\nL 237.655855 205.550798 \r\nL 237.655855 194.106587 \r\n\" style=\"fill:#8e1d5b;\"/>\r\n    <path clip-path=\"url(#p3b52c293d6)\" d=\"M 251.752697 194.106587 \r\nL 265.849539 194.106587 \r\nL 265.849539 205.550798 \r\nL 251.752697 205.550798 \r\nL 251.752697 194.106587 \r\n\" style=\"fill:#8e1d5b;\"/>\r\n    <path clip-path=\"url(#p3b52c293d6)\" d=\"M 265.849539 194.106587 \r\nL 279.946382 194.106587 \r\nL 279.946382 205.550798 \r\nL 265.849539 205.550798 \r\nL 265.849539 194.106587 \r\n\" style=\"fill:#901d5b;\"/>\r\n    <path clip-path=\"url(#p3b52c293d6)\" d=\"M 279.946382 194.106587 \r\nL 294.043224 194.106587 \r\nL 294.043224 205.550798 \r\nL 279.946382 205.550798 \r\nL 279.946382 194.106587 \r\n\" style=\"fill:#7f1e5a;\"/>\r\n    <path clip-path=\"url(#p3b52c293d6)\" d=\"M 294.043224 194.106587 \r\nL 308.140066 194.106587 \r\nL 308.140066 205.550798 \r\nL 294.043224 205.550798 \r\nL 294.043224 194.106587 \r\n\" style=\"fill:#faebdd;\"/>\r\n    <path clip-path=\"url(#p3b52c293d6)\" d=\"M 308.140066 194.106587 \r\nL 322.236908 194.106587 \r\nL 322.236908 205.550798 \r\nL 308.140066 205.550798 \r\nL 308.140066 194.106587 \r\n\" style=\"fill:#8b1d5b;\"/>\r\n    <path clip-path=\"url(#p3b52c293d6)\" d=\"M 322.236908 194.106587 \r\nL 336.33375 194.106587 \r\nL 336.33375 205.550798 \r\nL 322.236908 205.550798 \r\nL 322.236908 194.106587 \r\n\" style=\"fill:#861e5b;\"/>\r\n    <path clip-path=\"url(#p3b52c293d6)\" d=\"M 68.49375 205.550798 \r\nL 82.590592 205.550798 \r\nL 82.590592 216.995008 \r\nL 68.49375 216.995008 \r\nL 68.49375 205.550798 \r\n\" style=\"fill:#aa185a;\"/>\r\n    <path clip-path=\"url(#p3b52c293d6)\" d=\"M 82.590592 205.550798 \r\nL 96.687434 205.550798 \r\nL 96.687434 216.995008 \r\nL 82.590592 216.995008 \r\nL 82.590592 205.550798 \r\n\" style=\"fill:#7d1f5a;\"/>\r\n    <path clip-path=\"url(#p3b52c293d6)\" d=\"M 96.687434 205.550798 \r\nL 110.784276 205.550798 \r\nL 110.784276 216.995008 \r\nL 96.687434 216.995008 \r\nL 96.687434 205.550798 \r\n\" style=\"fill:#921c5b;\"/>\r\n    <path clip-path=\"url(#p3b52c293d6)\" d=\"M 110.784276 205.550798 \r\nL 124.881118 205.550798 \r\nL 124.881118 216.995008 \r\nL 110.784276 216.995008 \r\nL 110.784276 205.550798 \r\n\" style=\"fill:#811e5a;\"/>\r\n    <path clip-path=\"url(#p3b52c293d6)\" d=\"M 124.881118 205.550798 \r\nL 138.977961 205.550798 \r\nL 138.977961 216.995008 \r\nL 124.881118 216.995008 \r\nL 124.881118 205.550798 \r\n\" style=\"fill:#901d5b;\"/>\r\n    <path clip-path=\"url(#p3b52c293d6)\" d=\"M 138.977961 205.550798 \r\nL 153.074803 205.550798 \r\nL 153.074803 216.995008 \r\nL 138.977961 216.995008 \r\nL 138.977961 205.550798 \r\n\" style=\"fill:#701f57;\"/>\r\n    <path clip-path=\"url(#p3b52c293d6)\" d=\"M 153.074803 205.550798 \r\nL 167.171645 205.550798 \r\nL 167.171645 216.995008 \r\nL 153.074803 216.995008 \r\nL 153.074803 205.550798 \r\n\" style=\"fill:#c41753;\"/>\r\n    <path clip-path=\"url(#p3b52c293d6)\" d=\"M 167.171645 205.550798 \r\nL 181.268487 205.550798 \r\nL 181.268487 216.995008 \r\nL 167.171645 216.995008 \r\nL 167.171645 205.550798 \r\n\" style=\"fill:#811e5a;\"/>\r\n    <path clip-path=\"url(#p3b52c293d6)\" d=\"M 181.268487 205.550798 \r\nL 195.365329 205.550798 \r\nL 195.365329 216.995008 \r\nL 181.268487 216.995008 \r\nL 181.268487 205.550798 \r\n\" style=\"fill:#7d1f5a;\"/>\r\n    <path clip-path=\"url(#p3b52c293d6)\" d=\"M 195.365329 205.550798 \r\nL 209.462171 205.550798 \r\nL 209.462171 216.995008 \r\nL 195.365329 216.995008 \r\nL 195.365329 205.550798 \r\n\" style=\"fill:#6e1f57;\"/>\r\n    <path clip-path=\"url(#p3b52c293d6)\" d=\"M 209.462171 205.550798 \r\nL 223.559013 205.550798 \r\nL 223.559013 216.995008 \r\nL 209.462171 216.995008 \r\nL 209.462171 205.550798 \r\n\" style=\"fill:#6b1f56;\"/>\r\n    <path clip-path=\"url(#p3b52c293d6)\" d=\"M 223.559013 205.550798 \r\nL 237.655855 205.550798 \r\nL 237.655855 216.995008 \r\nL 223.559013 216.995008 \r\nL 223.559013 205.550798 \r\n\" style=\"fill:#841e5a;\"/>\r\n    <path clip-path=\"url(#p3b52c293d6)\" d=\"M 237.655855 205.550798 \r\nL 251.752697 205.550798 \r\nL 251.752697 216.995008 \r\nL 237.655855 216.995008 \r\nL 237.655855 205.550798 \r\n\" style=\"fill:#861e5b;\"/>\r\n    <path clip-path=\"url(#p3b52c293d6)\" d=\"M 251.752697 205.550798 \r\nL 265.849539 205.550798 \r\nL 265.849539 216.995008 \r\nL 251.752697 216.995008 \r\nL 251.752697 205.550798 \r\n\" style=\"fill:#b21758;\"/>\r\n    <path clip-path=\"url(#p3b52c293d6)\" d=\"M 265.849539 205.550798 \r\nL 279.946382 205.550798 \r\nL 279.946382 216.995008 \r\nL 265.849539 216.995008 \r\nL 265.849539 205.550798 \r\n\" style=\"fill:#861e5b;\"/>\r\n    <path clip-path=\"url(#p3b52c293d6)\" d=\"M 279.946382 205.550798 \r\nL 294.043224 205.550798 \r\nL 294.043224 216.995008 \r\nL 279.946382 216.995008 \r\nL 279.946382 205.550798 \r\n\" style=\"fill:#bf1654;\"/>\r\n    <path clip-path=\"url(#p3b52c293d6)\" d=\"M 294.043224 205.550798 \r\nL 308.140066 205.550798 \r\nL 308.140066 216.995008 \r\nL 294.043224 216.995008 \r\nL 294.043224 205.550798 \r\n\" style=\"fill:#8b1d5b;\"/>\r\n    <path clip-path=\"url(#p3b52c293d6)\" d=\"M 308.140066 205.550798 \r\nL 322.236908 205.550798 \r\nL 322.236908 216.995008 \r\nL 308.140066 216.995008 \r\nL 308.140066 205.550798 \r\n\" style=\"fill:#faebdd;\"/>\r\n    <path clip-path=\"url(#p3b52c293d6)\" d=\"M 322.236908 205.550798 \r\nL 336.33375 205.550798 \r\nL 336.33375 216.995008 \r\nL 322.236908 216.995008 \r\nL 322.236908 205.550798 \r\n\" style=\"fill:#03051a;\"/>\r\n    <path clip-path=\"url(#p3b52c293d6)\" d=\"M 68.49375 216.995008 \r\nL 82.590592 216.995008 \r\nL 82.590592 228.439219 \r\nL 68.49375 228.439219 \r\nL 68.49375 216.995008 \r\n\" style=\"fill:#3a1a41;\"/>\r\n    <path clip-path=\"url(#p3b52c293d6)\" d=\"M 82.590592 216.995008 \r\nL 96.687434 216.995008 \r\nL 96.687434 228.439219 \r\nL 82.590592 228.439219 \r\nL 82.590592 216.995008 \r\n\" style=\"fill:#b51657;\"/>\r\n    <path clip-path=\"url(#p3b52c293d6)\" d=\"M 96.687434 216.995008 \r\nL 110.784276 216.995008 \r\nL 110.784276 228.439219 \r\nL 96.687434 228.439219 \r\nL 96.687434 216.995008 \r\n\" style=\"fill:#451c47;\"/>\r\n    <path clip-path=\"url(#p3b52c293d6)\" d=\"M 110.784276 216.995008 \r\nL 124.881118 216.995008 \r\nL 124.881118 228.439219 \r\nL 110.784276 228.439219 \r\nL 110.784276 216.995008 \r\n\" style=\"fill:#aa185a;\"/>\r\n    <path clip-path=\"url(#p3b52c293d6)\" d=\"M 124.881118 216.995008 \r\nL 138.977961 216.995008 \r\nL 138.977961 228.439219 \r\nL 124.881118 228.439219 \r\nL 124.881118 216.995008 \r\n\" style=\"fill:#951c5b;\"/>\r\n    <path clip-path=\"url(#p3b52c293d6)\" d=\"M 138.977961 216.995008 \r\nL 153.074803 216.995008 \r\nL 153.074803 228.439219 \r\nL 138.977961 228.439219 \r\nL 138.977961 216.995008 \r\n\" style=\"fill:#241432;\"/>\r\n    <path clip-path=\"url(#p3b52c293d6)\" d=\"M 153.074803 216.995008 \r\nL 167.171645 216.995008 \r\nL 167.171645 228.439219 \r\nL 153.074803 228.439219 \r\nL 153.074803 216.995008 \r\n\" style=\"fill:#841e5a;\"/>\r\n    <path clip-path=\"url(#p3b52c293d6)\" d=\"M 167.171645 216.995008 \r\nL 181.268487 216.995008 \r\nL 181.268487 228.439219 \r\nL 167.171645 228.439219 \r\nL 167.171645 216.995008 \r\n\" style=\"fill:#751f58;\"/>\r\n    <path clip-path=\"url(#p3b52c293d6)\" d=\"M 181.268487 216.995008 \r\nL 195.365329 216.995008 \r\nL 195.365329 228.439219 \r\nL 181.268487 228.439219 \r\nL 181.268487 216.995008 \r\n\" style=\"fill:#681f55;\"/>\r\n    <path clip-path=\"url(#p3b52c293d6)\" d=\"M 195.365329 216.995008 \r\nL 209.462171 216.995008 \r\nL 209.462171 228.439219 \r\nL 195.365329 228.439219 \r\nL 195.365329 216.995008 \r\n\" style=\"fill:#491d49;\"/>\r\n    <path clip-path=\"url(#p3b52c293d6)\" d=\"M 209.462171 216.995008 \r\nL 223.559013 216.995008 \r\nL 223.559013 228.439219 \r\nL 209.462171 228.439219 \r\nL 209.462171 216.995008 \r\n\" style=\"fill:#421b45;\"/>\r\n    <path clip-path=\"url(#p3b52c293d6)\" d=\"M 223.559013 216.995008 \r\nL 237.655855 216.995008 \r\nL 237.655855 228.439219 \r\nL 223.559013 228.439219 \r\nL 223.559013 216.995008 \r\n\" style=\"fill:#541e4e;\"/>\r\n    <path clip-path=\"url(#p3b52c293d6)\" d=\"M 237.655855 216.995008 \r\nL 251.752697 216.995008 \r\nL 251.752697 228.439219 \r\nL 237.655855 228.439219 \r\nL 237.655855 216.995008 \r\n\" style=\"fill:#601f52;\"/>\r\n    <path clip-path=\"url(#p3b52c293d6)\" d=\"M 251.752697 216.995008 \r\nL 265.849539 216.995008 \r\nL 265.849539 228.439219 \r\nL 251.752697 228.439219 \r\nL 251.752697 216.995008 \r\n\" style=\"fill:#841e5a;\"/>\r\n    <path clip-path=\"url(#p3b52c293d6)\" d=\"M 265.849539 216.995008 \r\nL 279.946382 216.995008 \r\nL 279.946382 228.439219 \r\nL 265.849539 228.439219 \r\nL 265.849539 216.995008 \r\n\" style=\"fill:#a11a5b;\"/>\r\n    <path clip-path=\"url(#p3b52c293d6)\" d=\"M 279.946382 216.995008 \r\nL 294.043224 216.995008 \r\nL 294.043224 228.439219 \r\nL 279.946382 228.439219 \r\nL 279.946382 216.995008 \r\n\" style=\"fill:#f3734e;\"/>\r\n    <path clip-path=\"url(#p3b52c293d6)\" d=\"M 294.043224 216.995008 \r\nL 308.140066 216.995008 \r\nL 308.140066 228.439219 \r\nL 294.043224 228.439219 \r\nL 294.043224 216.995008 \r\n\" style=\"fill:#861e5b;\"/>\r\n    <path clip-path=\"url(#p3b52c293d6)\" d=\"M 308.140066 216.995008 \r\nL 322.236908 216.995008 \r\nL 322.236908 228.439219 \r\nL 308.140066 228.439219 \r\nL 308.140066 216.995008 \r\n\" style=\"fill:#03051a;\"/>\r\n    <path clip-path=\"url(#p3b52c293d6)\" d=\"M 322.236908 216.995008 \r\nL 336.33375 216.995008 \r\nL 336.33375 228.439219 \r\nL 322.236908 228.439219 \r\nL 322.236908 216.995008 \r\n\" style=\"fill:#faebdd;\"/>\r\n   </g>\r\n   <g id=\"matplotlib.axis_1\">\r\n    <g id=\"xtick_1\">\r\n     <g id=\"line2d_1\">\r\n      <defs>\r\n       <path d=\"M 0 0 \r\nL 0 3.5 \r\n\" id=\"m06075ce316\" style=\"stroke:#000000;stroke-width:0.8;\"/>\r\n      </defs>\r\n      <g>\r\n       <use style=\"stroke:#000000;stroke-width:0.8;\" x=\"75.542171\" xlink:href=\"#m06075ce316\" y=\"228.439219\"/>\r\n      </g>\r\n     </g>\r\n     <g id=\"text_1\">\r\n      <!-- Survived -->\r\n      <g transform=\"translate(78.301546 279.353281)rotate(-90)scale(0.1 -0.1)\">\r\n       <defs>\r\n        <path d=\"M 53.515625 70.515625 \r\nL 53.515625 60.890625 \r\nQ 47.90625 63.578125 42.921875 64.890625 \r\nQ 37.9375 66.21875 33.296875 66.21875 \r\nQ 25.25 66.21875 20.875 63.09375 \r\nQ 16.5 59.96875 16.5 54.203125 \r\nQ 16.5 49.359375 19.40625 46.890625 \r\nQ 22.3125 44.4375 30.421875 42.921875 \r\nL 36.375 41.703125 \r\nQ 47.40625 39.59375 52.65625 34.296875 \r\nQ 57.90625 29 57.90625 20.125 \r\nQ 57.90625 9.515625 50.796875 4.046875 \r\nQ 43.703125 -1.421875 29.984375 -1.421875 \r\nQ 24.8125 -1.421875 18.96875 -0.25 \r\nQ 13.140625 0.921875 6.890625 3.21875 \r\nL 6.890625 13.375 \r\nQ 12.890625 10.015625 18.65625 8.296875 \r\nQ 24.421875 6.59375 29.984375 6.59375 \r\nQ 38.421875 6.59375 43.015625 9.90625 \r\nQ 47.609375 13.234375 47.609375 19.390625 \r\nQ 47.609375 24.75 44.3125 27.78125 \r\nQ 41.015625 30.8125 33.5 32.328125 \r\nL 27.484375 33.5 \r\nQ 16.453125 35.6875 11.515625 40.375 \r\nQ 6.59375 45.0625 6.59375 53.421875 \r\nQ 6.59375 63.09375 13.40625 68.65625 \r\nQ 20.21875 74.21875 32.171875 74.21875 \r\nQ 37.3125 74.21875 42.625 73.28125 \r\nQ 47.953125 72.359375 53.515625 70.515625 \r\nz\r\n\" id=\"DejaVuSans-83\"/>\r\n        <path d=\"M 8.5 21.578125 \r\nL 8.5 54.6875 \r\nL 17.484375 54.6875 \r\nL 17.484375 21.921875 \r\nQ 17.484375 14.15625 20.5 10.265625 \r\nQ 23.53125 6.390625 29.59375 6.390625 \r\nQ 36.859375 6.390625 41.078125 11.03125 \r\nQ 45.3125 15.671875 45.3125 23.6875 \r\nL 45.3125 54.6875 \r\nL 54.296875 54.6875 \r\nL 54.296875 0 \r\nL 45.3125 0 \r\nL 45.3125 8.40625 \r\nQ 42.046875 3.421875 37.71875 1 \r\nQ 33.40625 -1.421875 27.6875 -1.421875 \r\nQ 18.265625 -1.421875 13.375 4.4375 \r\nQ 8.5 10.296875 8.5 21.578125 \r\nz\r\nM 31.109375 56 \r\nz\r\n\" id=\"DejaVuSans-117\"/>\r\n        <path d=\"M 41.109375 46.296875 \r\nQ 39.59375 47.171875 37.8125 47.578125 \r\nQ 36.03125 48 33.890625 48 \r\nQ 26.265625 48 22.1875 43.046875 \r\nQ 18.109375 38.09375 18.109375 28.8125 \r\nL 18.109375 0 \r\nL 9.078125 0 \r\nL 9.078125 54.6875 \r\nL 18.109375 54.6875 \r\nL 18.109375 46.1875 \r\nQ 20.953125 51.171875 25.484375 53.578125 \r\nQ 30.03125 56 36.53125 56 \r\nQ 37.453125 56 38.578125 55.875 \r\nQ 39.703125 55.765625 41.0625 55.515625 \r\nz\r\n\" id=\"DejaVuSans-114\"/>\r\n        <path d=\"M 2.984375 54.6875 \r\nL 12.5 54.6875 \r\nL 29.59375 8.796875 \r\nL 46.6875 54.6875 \r\nL 56.203125 54.6875 \r\nL 35.6875 0 \r\nL 23.484375 0 \r\nz\r\n\" id=\"DejaVuSans-118\"/>\r\n        <path d=\"M 9.421875 54.6875 \r\nL 18.40625 54.6875 \r\nL 18.40625 0 \r\nL 9.421875 0 \r\nz\r\nM 9.421875 75.984375 \r\nL 18.40625 75.984375 \r\nL 18.40625 64.59375 \r\nL 9.421875 64.59375 \r\nz\r\n\" id=\"DejaVuSans-105\"/>\r\n        <path d=\"M 56.203125 29.59375 \r\nL 56.203125 25.203125 \r\nL 14.890625 25.203125 \r\nQ 15.484375 15.921875 20.484375 11.0625 \r\nQ 25.484375 6.203125 34.421875 6.203125 \r\nQ 39.59375 6.203125 44.453125 7.46875 \r\nQ 49.3125 8.734375 54.109375 11.28125 \r\nL 54.109375 2.78125 \r\nQ 49.265625 0.734375 44.1875 -0.34375 \r\nQ 39.109375 -1.421875 33.890625 -1.421875 \r\nQ 20.796875 -1.421875 13.15625 6.1875 \r\nQ 5.515625 13.8125 5.515625 26.8125 \r\nQ 5.515625 40.234375 12.765625 48.109375 \r\nQ 20.015625 56 32.328125 56 \r\nQ 43.359375 56 49.78125 48.890625 \r\nQ 56.203125 41.796875 56.203125 29.59375 \r\nz\r\nM 47.21875 32.234375 \r\nQ 47.125 39.59375 43.09375 43.984375 \r\nQ 39.0625 48.390625 32.421875 48.390625 \r\nQ 24.90625 48.390625 20.390625 44.140625 \r\nQ 15.875 39.890625 15.1875 32.171875 \r\nz\r\n\" id=\"DejaVuSans-101\"/>\r\n        <path d=\"M 45.40625 46.390625 \r\nL 45.40625 75.984375 \r\nL 54.390625 75.984375 \r\nL 54.390625 0 \r\nL 45.40625 0 \r\nL 45.40625 8.203125 \r\nQ 42.578125 3.328125 38.25 0.953125 \r\nQ 33.9375 -1.421875 27.875 -1.421875 \r\nQ 17.96875 -1.421875 11.734375 6.484375 \r\nQ 5.515625 14.40625 5.515625 27.296875 \r\nQ 5.515625 40.1875 11.734375 48.09375 \r\nQ 17.96875 56 27.875 56 \r\nQ 33.9375 56 38.25 53.625 \r\nQ 42.578125 51.265625 45.40625 46.390625 \r\nz\r\nM 14.796875 27.296875 \r\nQ 14.796875 17.390625 18.875 11.75 \r\nQ 22.953125 6.109375 30.078125 6.109375 \r\nQ 37.203125 6.109375 41.296875 11.75 \r\nQ 45.40625 17.390625 45.40625 27.296875 \r\nQ 45.40625 37.203125 41.296875 42.84375 \r\nQ 37.203125 48.484375 30.078125 48.484375 \r\nQ 22.953125 48.484375 18.875 42.84375 \r\nQ 14.796875 37.203125 14.796875 27.296875 \r\nz\r\n\" id=\"DejaVuSans-100\"/>\r\n       </defs>\r\n       <use xlink:href=\"#DejaVuSans-83\"/>\r\n       <use x=\"63.476562\" xlink:href=\"#DejaVuSans-117\"/>\r\n       <use x=\"126.855469\" xlink:href=\"#DejaVuSans-114\"/>\r\n       <use x=\"167.96875\" xlink:href=\"#DejaVuSans-118\"/>\r\n       <use x=\"227.148438\" xlink:href=\"#DejaVuSans-105\"/>\r\n       <use x=\"254.931641\" xlink:href=\"#DejaVuSans-118\"/>\r\n       <use x=\"314.111328\" xlink:href=\"#DejaVuSans-101\"/>\r\n       <use x=\"375.634766\" xlink:href=\"#DejaVuSans-100\"/>\r\n      </g>\r\n     </g>\r\n    </g>\r\n    <g id=\"xtick_2\">\r\n     <g id=\"line2d_2\">\r\n      <g>\r\n       <use style=\"stroke:#000000;stroke-width:0.8;\" x=\"89.639013\" xlink:href=\"#m06075ce316\" y=\"228.439219\"/>\r\n      </g>\r\n     </g>\r\n     <g id=\"text_2\">\r\n      <!-- Sex -->\r\n      <g transform=\"translate(92.398388 253.684531)rotate(-90)scale(0.1 -0.1)\">\r\n       <defs>\r\n        <path d=\"M 54.890625 54.6875 \r\nL 35.109375 28.078125 \r\nL 55.90625 0 \r\nL 45.3125 0 \r\nL 29.390625 21.484375 \r\nL 13.484375 0 \r\nL 2.875 0 \r\nL 24.125 28.609375 \r\nL 4.6875 54.6875 \r\nL 15.28125 54.6875 \r\nL 29.78125 35.203125 \r\nL 44.28125 54.6875 \r\nz\r\n\" id=\"DejaVuSans-120\"/>\r\n       </defs>\r\n       <use xlink:href=\"#DejaVuSans-83\"/>\r\n       <use x=\"63.476562\" xlink:href=\"#DejaVuSans-101\"/>\r\n       <use x=\"123.25\" xlink:href=\"#DejaVuSans-120\"/>\r\n      </g>\r\n     </g>\r\n    </g>\r\n    <g id=\"xtick_3\">\r\n     <g id=\"line2d_3\">\r\n      <g>\r\n       <use style=\"stroke:#000000;stroke-width:0.8;\" x=\"103.735855\" xlink:href=\"#m06075ce316\" y=\"228.439219\"/>\r\n      </g>\r\n     </g>\r\n     <g id=\"text_3\">\r\n      <!-- Age -->\r\n      <g transform=\"translate(106.49523 254.781406)rotate(-90)scale(0.1 -0.1)\">\r\n       <defs>\r\n        <path d=\"M 34.1875 63.1875 \r\nL 20.796875 26.90625 \r\nL 47.609375 26.90625 \r\nz\r\nM 28.609375 72.90625 \r\nL 39.796875 72.90625 \r\nL 67.578125 0 \r\nL 57.328125 0 \r\nL 50.6875 18.703125 \r\nL 17.828125 18.703125 \r\nL 11.1875 0 \r\nL 0.78125 0 \r\nz\r\n\" id=\"DejaVuSans-65\"/>\r\n        <path d=\"M 45.40625 27.984375 \r\nQ 45.40625 37.75 41.375 43.109375 \r\nQ 37.359375 48.484375 30.078125 48.484375 \r\nQ 22.859375 48.484375 18.828125 43.109375 \r\nQ 14.796875 37.75 14.796875 27.984375 \r\nQ 14.796875 18.265625 18.828125 12.890625 \r\nQ 22.859375 7.515625 30.078125 7.515625 \r\nQ 37.359375 7.515625 41.375 12.890625 \r\nQ 45.40625 18.265625 45.40625 27.984375 \r\nz\r\nM 54.390625 6.78125 \r\nQ 54.390625 -7.171875 48.1875 -13.984375 \r\nQ 42 -20.796875 29.203125 -20.796875 \r\nQ 24.46875 -20.796875 20.265625 -20.09375 \r\nQ 16.0625 -19.390625 12.109375 -17.921875 \r\nL 12.109375 -9.1875 \r\nQ 16.0625 -11.328125 19.921875 -12.34375 \r\nQ 23.78125 -13.375 27.78125 -13.375 \r\nQ 36.625 -13.375 41.015625 -8.765625 \r\nQ 45.40625 -4.15625 45.40625 5.171875 \r\nL 45.40625 9.625 \r\nQ 42.625 4.78125 38.28125 2.390625 \r\nQ 33.9375 0 27.875 0 \r\nQ 17.828125 0 11.671875 7.65625 \r\nQ 5.515625 15.328125 5.515625 27.984375 \r\nQ 5.515625 40.671875 11.671875 48.328125 \r\nQ 17.828125 56 27.875 56 \r\nQ 33.9375 56 38.28125 53.609375 \r\nQ 42.625 51.21875 45.40625 46.390625 \r\nL 45.40625 54.6875 \r\nL 54.390625 54.6875 \r\nz\r\n\" id=\"DejaVuSans-103\"/>\r\n       </defs>\r\n       <use xlink:href=\"#DejaVuSans-65\"/>\r\n       <use x=\"68.408203\" xlink:href=\"#DejaVuSans-103\"/>\r\n       <use x=\"131.884766\" xlink:href=\"#DejaVuSans-101\"/>\r\n      </g>\r\n     </g>\r\n    </g>\r\n    <g id=\"xtick_4\">\r\n     <g id=\"line2d_4\">\r\n      <g>\r\n       <use style=\"stroke:#000000;stroke-width:0.8;\" x=\"117.832697\" xlink:href=\"#m06075ce316\" y=\"228.439219\"/>\r\n      </g>\r\n     </g>\r\n     <g id=\"text_4\">\r\n      <!-- SibSp -->\r\n      <g transform=\"translate(120.592072 263.611094)rotate(-90)scale(0.1 -0.1)\">\r\n       <defs>\r\n        <path d=\"M 48.6875 27.296875 \r\nQ 48.6875 37.203125 44.609375 42.84375 \r\nQ 40.53125 48.484375 33.40625 48.484375 \r\nQ 26.265625 48.484375 22.1875 42.84375 \r\nQ 18.109375 37.203125 18.109375 27.296875 \r\nQ 18.109375 17.390625 22.1875 11.75 \r\nQ 26.265625 6.109375 33.40625 6.109375 \r\nQ 40.53125 6.109375 44.609375 11.75 \r\nQ 48.6875 17.390625 48.6875 27.296875 \r\nz\r\nM 18.109375 46.390625 \r\nQ 20.953125 51.265625 25.265625 53.625 \r\nQ 29.59375 56 35.59375 56 \r\nQ 45.5625 56 51.78125 48.09375 \r\nQ 58.015625 40.1875 58.015625 27.296875 \r\nQ 58.015625 14.40625 51.78125 6.484375 \r\nQ 45.5625 -1.421875 35.59375 -1.421875 \r\nQ 29.59375 -1.421875 25.265625 0.953125 \r\nQ 20.953125 3.328125 18.109375 8.203125 \r\nL 18.109375 0 \r\nL 9.078125 0 \r\nL 9.078125 75.984375 \r\nL 18.109375 75.984375 \r\nz\r\n\" id=\"DejaVuSans-98\"/>\r\n        <path d=\"M 18.109375 8.203125 \r\nL 18.109375 -20.796875 \r\nL 9.078125 -20.796875 \r\nL 9.078125 54.6875 \r\nL 18.109375 54.6875 \r\nL 18.109375 46.390625 \r\nQ 20.953125 51.265625 25.265625 53.625 \r\nQ 29.59375 56 35.59375 56 \r\nQ 45.5625 56 51.78125 48.09375 \r\nQ 58.015625 40.1875 58.015625 27.296875 \r\nQ 58.015625 14.40625 51.78125 6.484375 \r\nQ 45.5625 -1.421875 35.59375 -1.421875 \r\nQ 29.59375 -1.421875 25.265625 0.953125 \r\nQ 20.953125 3.328125 18.109375 8.203125 \r\nz\r\nM 48.6875 27.296875 \r\nQ 48.6875 37.203125 44.609375 42.84375 \r\nQ 40.53125 48.484375 33.40625 48.484375 \r\nQ 26.265625 48.484375 22.1875 42.84375 \r\nQ 18.109375 37.203125 18.109375 27.296875 \r\nQ 18.109375 17.390625 22.1875 11.75 \r\nQ 26.265625 6.109375 33.40625 6.109375 \r\nQ 40.53125 6.109375 44.609375 11.75 \r\nQ 48.6875 17.390625 48.6875 27.296875 \r\nz\r\n\" id=\"DejaVuSans-112\"/>\r\n       </defs>\r\n       <use xlink:href=\"#DejaVuSans-83\"/>\r\n       <use x=\"63.476562\" xlink:href=\"#DejaVuSans-105\"/>\r\n       <use x=\"91.259766\" xlink:href=\"#DejaVuSans-98\"/>\r\n       <use x=\"154.736328\" xlink:href=\"#DejaVuSans-83\"/>\r\n       <use x=\"218.212891\" xlink:href=\"#DejaVuSans-112\"/>\r\n      </g>\r\n     </g>\r\n    </g>\r\n    <g id=\"xtick_5\">\r\n     <g id=\"line2d_5\">\r\n      <g>\r\n       <use style=\"stroke:#000000;stroke-width:0.8;\" x=\"131.929539\" xlink:href=\"#m06075ce316\" y=\"228.439219\"/>\r\n      </g>\r\n     </g>\r\n     <g id=\"text_5\">\r\n      <!-- Parch -->\r\n      <g transform=\"translate(134.688914 262.868906)rotate(-90)scale(0.1 -0.1)\">\r\n       <defs>\r\n        <path d=\"M 19.671875 64.796875 \r\nL 19.671875 37.40625 \r\nL 32.078125 37.40625 \r\nQ 38.96875 37.40625 42.71875 40.96875 \r\nQ 46.484375 44.53125 46.484375 51.125 \r\nQ 46.484375 57.671875 42.71875 61.234375 \r\nQ 38.96875 64.796875 32.078125 64.796875 \r\nz\r\nM 9.8125 72.90625 \r\nL 32.078125 72.90625 \r\nQ 44.34375 72.90625 50.609375 67.359375 \r\nQ 56.890625 61.8125 56.890625 51.125 \r\nQ 56.890625 40.328125 50.609375 34.8125 \r\nQ 44.34375 29.296875 32.078125 29.296875 \r\nL 19.671875 29.296875 \r\nL 19.671875 0 \r\nL 9.8125 0 \r\nz\r\n\" id=\"DejaVuSans-80\"/>\r\n        <path d=\"M 34.28125 27.484375 \r\nQ 23.390625 27.484375 19.1875 25 \r\nQ 14.984375 22.515625 14.984375 16.5 \r\nQ 14.984375 11.71875 18.140625 8.90625 \r\nQ 21.296875 6.109375 26.703125 6.109375 \r\nQ 34.1875 6.109375 38.703125 11.40625 \r\nQ 43.21875 16.703125 43.21875 25.484375 \r\nL 43.21875 27.484375 \r\nz\r\nM 52.203125 31.203125 \r\nL 52.203125 0 \r\nL 43.21875 0 \r\nL 43.21875 8.296875 \r\nQ 40.140625 3.328125 35.546875 0.953125 \r\nQ 30.953125 -1.421875 24.3125 -1.421875 \r\nQ 15.921875 -1.421875 10.953125 3.296875 \r\nQ 6 8.015625 6 15.921875 \r\nQ 6 25.140625 12.171875 29.828125 \r\nQ 18.359375 34.515625 30.609375 34.515625 \r\nL 43.21875 34.515625 \r\nL 43.21875 35.40625 \r\nQ 43.21875 41.609375 39.140625 45 \r\nQ 35.0625 48.390625 27.6875 48.390625 \r\nQ 23 48.390625 18.546875 47.265625 \r\nQ 14.109375 46.140625 10.015625 43.890625 \r\nL 10.015625 52.203125 \r\nQ 14.9375 54.109375 19.578125 55.046875 \r\nQ 24.21875 56 28.609375 56 \r\nQ 40.484375 56 46.34375 49.84375 \r\nQ 52.203125 43.703125 52.203125 31.203125 \r\nz\r\n\" id=\"DejaVuSans-97\"/>\r\n        <path d=\"M 48.78125 52.59375 \r\nL 48.78125 44.1875 \r\nQ 44.96875 46.296875 41.140625 47.34375 \r\nQ 37.3125 48.390625 33.40625 48.390625 \r\nQ 24.65625 48.390625 19.8125 42.84375 \r\nQ 14.984375 37.3125 14.984375 27.296875 \r\nQ 14.984375 17.28125 19.8125 11.734375 \r\nQ 24.65625 6.203125 33.40625 6.203125 \r\nQ 37.3125 6.203125 41.140625 7.25 \r\nQ 44.96875 8.296875 48.78125 10.40625 \r\nL 48.78125 2.09375 \r\nQ 45.015625 0.34375 40.984375 -0.53125 \r\nQ 36.96875 -1.421875 32.421875 -1.421875 \r\nQ 20.0625 -1.421875 12.78125 6.34375 \r\nQ 5.515625 14.109375 5.515625 27.296875 \r\nQ 5.515625 40.671875 12.859375 48.328125 \r\nQ 20.21875 56 33.015625 56 \r\nQ 37.15625 56 41.109375 55.140625 \r\nQ 45.0625 54.296875 48.78125 52.59375 \r\nz\r\n\" id=\"DejaVuSans-99\"/>\r\n        <path d=\"M 54.890625 33.015625 \r\nL 54.890625 0 \r\nL 45.90625 0 \r\nL 45.90625 32.71875 \r\nQ 45.90625 40.484375 42.875 44.328125 \r\nQ 39.84375 48.1875 33.796875 48.1875 \r\nQ 26.515625 48.1875 22.3125 43.546875 \r\nQ 18.109375 38.921875 18.109375 30.90625 \r\nL 18.109375 0 \r\nL 9.078125 0 \r\nL 9.078125 75.984375 \r\nL 18.109375 75.984375 \r\nL 18.109375 46.1875 \r\nQ 21.34375 51.125 25.703125 53.5625 \r\nQ 30.078125 56 35.796875 56 \r\nQ 45.21875 56 50.046875 50.171875 \r\nQ 54.890625 44.34375 54.890625 33.015625 \r\nz\r\n\" id=\"DejaVuSans-104\"/>\r\n       </defs>\r\n       <use xlink:href=\"#DejaVuSans-80\"/>\r\n       <use x=\"55.802734\" xlink:href=\"#DejaVuSans-97\"/>\r\n       <use x=\"117.082031\" xlink:href=\"#DejaVuSans-114\"/>\r\n       <use x=\"155.945312\" xlink:href=\"#DejaVuSans-99\"/>\r\n       <use x=\"210.925781\" xlink:href=\"#DejaVuSans-104\"/>\r\n      </g>\r\n     </g>\r\n    </g>\r\n    <g id=\"xtick_6\">\r\n     <g id=\"line2d_6\">\r\n      <g>\r\n       <use style=\"stroke:#000000;stroke-width:0.8;\" x=\"146.026382\" xlink:href=\"#m06075ce316\" y=\"228.439219\"/>\r\n      </g>\r\n     </g>\r\n     <g id=\"text_6\">\r\n      <!-- Fare -->\r\n      <g transform=\"translate(148.785757 256.445469)rotate(-90)scale(0.1 -0.1)\">\r\n       <defs>\r\n        <path d=\"M 9.8125 72.90625 \r\nL 51.703125 72.90625 \r\nL 51.703125 64.59375 \r\nL 19.671875 64.59375 \r\nL 19.671875 43.109375 \r\nL 48.578125 43.109375 \r\nL 48.578125 34.8125 \r\nL 19.671875 34.8125 \r\nL 19.671875 0 \r\nL 9.8125 0 \r\nz\r\n\" id=\"DejaVuSans-70\"/>\r\n       </defs>\r\n       <use xlink:href=\"#DejaVuSans-70\"/>\r\n       <use x=\"48.394531\" xlink:href=\"#DejaVuSans-97\"/>\r\n       <use x=\"109.673828\" xlink:href=\"#DejaVuSans-114\"/>\r\n       <use x=\"148.537109\" xlink:href=\"#DejaVuSans-101\"/>\r\n      </g>\r\n     </g>\r\n    </g>\r\n    <g id=\"xtick_7\">\r\n     <g id=\"line2d_7\">\r\n      <g>\r\n       <use style=\"stroke:#000000;stroke-width:0.8;\" x=\"160.123224\" xlink:href=\"#m06075ce316\" y=\"228.439219\"/>\r\n      </g>\r\n     </g>\r\n     <g id=\"text_7\">\r\n      <!-- Embarked -->\r\n      <g transform=\"translate(162.882599 286.015781)rotate(-90)scale(0.1 -0.1)\">\r\n       <defs>\r\n        <path d=\"M 9.8125 72.90625 \r\nL 55.90625 72.90625 \r\nL 55.90625 64.59375 \r\nL 19.671875 64.59375 \r\nL 19.671875 43.015625 \r\nL 54.390625 43.015625 \r\nL 54.390625 34.71875 \r\nL 19.671875 34.71875 \r\nL 19.671875 8.296875 \r\nL 56.78125 8.296875 \r\nL 56.78125 0 \r\nL 9.8125 0 \r\nz\r\n\" id=\"DejaVuSans-69\"/>\r\n        <path d=\"M 52 44.1875 \r\nQ 55.375 50.25 60.0625 53.125 \r\nQ 64.75 56 71.09375 56 \r\nQ 79.640625 56 84.28125 50.015625 \r\nQ 88.921875 44.046875 88.921875 33.015625 \r\nL 88.921875 0 \r\nL 79.890625 0 \r\nL 79.890625 32.71875 \r\nQ 79.890625 40.578125 77.09375 44.375 \r\nQ 74.3125 48.1875 68.609375 48.1875 \r\nQ 61.625 48.1875 57.5625 43.546875 \r\nQ 53.515625 38.921875 53.515625 30.90625 \r\nL 53.515625 0 \r\nL 44.484375 0 \r\nL 44.484375 32.71875 \r\nQ 44.484375 40.625 41.703125 44.40625 \r\nQ 38.921875 48.1875 33.109375 48.1875 \r\nQ 26.21875 48.1875 22.15625 43.53125 \r\nQ 18.109375 38.875 18.109375 30.90625 \r\nL 18.109375 0 \r\nL 9.078125 0 \r\nL 9.078125 54.6875 \r\nL 18.109375 54.6875 \r\nL 18.109375 46.1875 \r\nQ 21.1875 51.21875 25.484375 53.609375 \r\nQ 29.78125 56 35.6875 56 \r\nQ 41.65625 56 45.828125 52.96875 \r\nQ 50 49.953125 52 44.1875 \r\nz\r\n\" id=\"DejaVuSans-109\"/>\r\n        <path d=\"M 9.078125 75.984375 \r\nL 18.109375 75.984375 \r\nL 18.109375 31.109375 \r\nL 44.921875 54.6875 \r\nL 56.390625 54.6875 \r\nL 27.390625 29.109375 \r\nL 57.625 0 \r\nL 45.90625 0 \r\nL 18.109375 26.703125 \r\nL 18.109375 0 \r\nL 9.078125 0 \r\nz\r\n\" id=\"DejaVuSans-107\"/>\r\n       </defs>\r\n       <use xlink:href=\"#DejaVuSans-69\"/>\r\n       <use x=\"63.183594\" xlink:href=\"#DejaVuSans-109\"/>\r\n       <use x=\"160.595703\" xlink:href=\"#DejaVuSans-98\"/>\r\n       <use x=\"224.072266\" xlink:href=\"#DejaVuSans-97\"/>\r\n       <use x=\"285.351562\" xlink:href=\"#DejaVuSans-114\"/>\r\n       <use x=\"326.464844\" xlink:href=\"#DejaVuSans-107\"/>\r\n       <use x=\"380.75\" xlink:href=\"#DejaVuSans-101\"/>\r\n       <use x=\"442.273438\" xlink:href=\"#DejaVuSans-100\"/>\r\n      </g>\r\n     </g>\r\n    </g>\r\n    <g id=\"xtick_8\">\r\n     <g id=\"line2d_8\">\r\n      <g>\r\n       <use style=\"stroke:#000000;stroke-width:0.8;\" x=\"174.220066\" xlink:href=\"#m06075ce316\" y=\"228.439219\"/>\r\n      </g>\r\n     </g>\r\n     <g id=\"text_8\">\r\n      <!-- Room -->\r\n      <g transform=\"translate(176.979441 263.915781)rotate(-90)scale(0.1 -0.1)\">\r\n       <defs>\r\n        <path d=\"M 44.390625 34.1875 \r\nQ 47.5625 33.109375 50.5625 29.59375 \r\nQ 53.5625 26.078125 56.59375 19.921875 \r\nL 66.609375 0 \r\nL 56 0 \r\nL 46.6875 18.703125 \r\nQ 43.0625 26.03125 39.671875 28.421875 \r\nQ 36.28125 30.8125 30.421875 30.8125 \r\nL 19.671875 30.8125 \r\nL 19.671875 0 \r\nL 9.8125 0 \r\nL 9.8125 72.90625 \r\nL 32.078125 72.90625 \r\nQ 44.578125 72.90625 50.734375 67.671875 \r\nQ 56.890625 62.453125 56.890625 51.90625 \r\nQ 56.890625 45.015625 53.6875 40.46875 \r\nQ 50.484375 35.9375 44.390625 34.1875 \r\nz\r\nM 19.671875 64.796875 \r\nL 19.671875 38.921875 \r\nL 32.078125 38.921875 \r\nQ 39.203125 38.921875 42.84375 42.21875 \r\nQ 46.484375 45.515625 46.484375 51.90625 \r\nQ 46.484375 58.296875 42.84375 61.546875 \r\nQ 39.203125 64.796875 32.078125 64.796875 \r\nz\r\n\" id=\"DejaVuSans-82\"/>\r\n        <path d=\"M 30.609375 48.390625 \r\nQ 23.390625 48.390625 19.1875 42.75 \r\nQ 14.984375 37.109375 14.984375 27.296875 \r\nQ 14.984375 17.484375 19.15625 11.84375 \r\nQ 23.34375 6.203125 30.609375 6.203125 \r\nQ 37.796875 6.203125 41.984375 11.859375 \r\nQ 46.1875 17.53125 46.1875 27.296875 \r\nQ 46.1875 37.015625 41.984375 42.703125 \r\nQ 37.796875 48.390625 30.609375 48.390625 \r\nz\r\nM 30.609375 56 \r\nQ 42.328125 56 49.015625 48.375 \r\nQ 55.71875 40.765625 55.71875 27.296875 \r\nQ 55.71875 13.875 49.015625 6.21875 \r\nQ 42.328125 -1.421875 30.609375 -1.421875 \r\nQ 18.84375 -1.421875 12.171875 6.21875 \r\nQ 5.515625 13.875 5.515625 27.296875 \r\nQ 5.515625 40.765625 12.171875 48.375 \r\nQ 18.84375 56 30.609375 56 \r\nz\r\n\" id=\"DejaVuSans-111\"/>\r\n       </defs>\r\n       <use xlink:href=\"#DejaVuSans-82\"/>\r\n       <use x=\"64.982422\" xlink:href=\"#DejaVuSans-111\"/>\r\n       <use x=\"126.164062\" xlink:href=\"#DejaVuSans-111\"/>\r\n       <use x=\"187.345703\" xlink:href=\"#DejaVuSans-109\"/>\r\n      </g>\r\n     </g>\r\n    </g>\r\n    <g id=\"xtick_9\">\r\n     <g id=\"line2d_9\">\r\n      <g>\r\n       <use style=\"stroke:#000000;stroke-width:0.8;\" x=\"188.316908\" xlink:href=\"#m06075ce316\" y=\"228.439219\"/>\r\n      </g>\r\n     </g>\r\n     <g id=\"text_9\">\r\n      <!-- Deck==A -->\r\n      <g transform=\"translate(191.076283 284.181406)rotate(-90)scale(0.1 -0.1)\">\r\n       <defs>\r\n        <path d=\"M 19.671875 64.796875 \r\nL 19.671875 8.109375 \r\nL 31.59375 8.109375 \r\nQ 46.6875 8.109375 53.6875 14.9375 \r\nQ 60.6875 21.78125 60.6875 36.53125 \r\nQ 60.6875 51.171875 53.6875 57.984375 \r\nQ 46.6875 64.796875 31.59375 64.796875 \r\nz\r\nM 9.8125 72.90625 \r\nL 30.078125 72.90625 \r\nQ 51.265625 72.90625 61.171875 64.09375 \r\nQ 71.09375 55.28125 71.09375 36.53125 \r\nQ 71.09375 17.671875 61.125 8.828125 \r\nQ 51.171875 0 30.078125 0 \r\nL 9.8125 0 \r\nz\r\n\" id=\"DejaVuSans-68\"/>\r\n        <path d=\"M 10.59375 45.40625 \r\nL 73.1875 45.40625 \r\nL 73.1875 37.203125 \r\nL 10.59375 37.203125 \r\nz\r\nM 10.59375 25.484375 \r\nL 73.1875 25.484375 \r\nL 73.1875 17.1875 \r\nL 10.59375 17.1875 \r\nz\r\n\" id=\"DejaVuSans-61\"/>\r\n       </defs>\r\n       <use xlink:href=\"#DejaVuSans-68\"/>\r\n       <use x=\"77.001953\" xlink:href=\"#DejaVuSans-101\"/>\r\n       <use x=\"138.525391\" xlink:href=\"#DejaVuSans-99\"/>\r\n       <use x=\"193.505859\" xlink:href=\"#DejaVuSans-107\"/>\r\n       <use x=\"251.416016\" xlink:href=\"#DejaVuSans-61\"/>\r\n       <use x=\"335.205078\" xlink:href=\"#DejaVuSans-61\"/>\r\n       <use x=\"418.994141\" xlink:href=\"#DejaVuSans-65\"/>\r\n      </g>\r\n     </g>\r\n    </g>\r\n    <g id=\"xtick_10\">\r\n     <g id=\"line2d_10\">\r\n      <g>\r\n       <use style=\"stroke:#000000;stroke-width:0.8;\" x=\"202.41375\" xlink:href=\"#m06075ce316\" y=\"228.439219\"/>\r\n      </g>\r\n     </g>\r\n     <g id=\"text_10\">\r\n      <!-- Deck==B -->\r\n      <g transform=\"translate(205.173125 284.201719)rotate(-90)scale(0.1 -0.1)\">\r\n       <defs>\r\n        <path d=\"M 19.671875 34.8125 \r\nL 19.671875 8.109375 \r\nL 35.5 8.109375 \r\nQ 43.453125 8.109375 47.28125 11.40625 \r\nQ 51.125 14.703125 51.125 21.484375 \r\nQ 51.125 28.328125 47.28125 31.5625 \r\nQ 43.453125 34.8125 35.5 34.8125 \r\nz\r\nM 19.671875 64.796875 \r\nL 19.671875 42.828125 \r\nL 34.28125 42.828125 \r\nQ 41.5 42.828125 45.03125 45.53125 \r\nQ 48.578125 48.25 48.578125 53.8125 \r\nQ 48.578125 59.328125 45.03125 62.0625 \r\nQ 41.5 64.796875 34.28125 64.796875 \r\nz\r\nM 9.8125 72.90625 \r\nL 35.015625 72.90625 \r\nQ 46.296875 72.90625 52.390625 68.21875 \r\nQ 58.5 63.53125 58.5 54.890625 \r\nQ 58.5 48.1875 55.375 44.234375 \r\nQ 52.25 40.28125 46.1875 39.3125 \r\nQ 53.46875 37.75 57.5 32.78125 \r\nQ 61.53125 27.828125 61.53125 20.40625 \r\nQ 61.53125 10.640625 54.890625 5.3125 \r\nQ 48.25 0 35.984375 0 \r\nL 9.8125 0 \r\nz\r\n\" id=\"DejaVuSans-66\"/>\r\n       </defs>\r\n       <use xlink:href=\"#DejaVuSans-68\"/>\r\n       <use x=\"77.001953\" xlink:href=\"#DejaVuSans-101\"/>\r\n       <use x=\"138.525391\" xlink:href=\"#DejaVuSans-99\"/>\r\n       <use x=\"193.505859\" xlink:href=\"#DejaVuSans-107\"/>\r\n       <use x=\"251.416016\" xlink:href=\"#DejaVuSans-61\"/>\r\n       <use x=\"335.205078\" xlink:href=\"#DejaVuSans-61\"/>\r\n       <use x=\"418.994141\" xlink:href=\"#DejaVuSans-66\"/>\r\n      </g>\r\n     </g>\r\n    </g>\r\n    <g id=\"xtick_11\">\r\n     <g id=\"line2d_11\">\r\n      <g>\r\n       <use style=\"stroke:#000000;stroke-width:0.8;\" x=\"216.510592\" xlink:href=\"#m06075ce316\" y=\"228.439219\"/>\r\n      </g>\r\n     </g>\r\n     <g id=\"text_11\">\r\n      <!-- Deck==C -->\r\n      <g transform=\"translate(219.269967 284.323594)rotate(-90)scale(0.1 -0.1)\">\r\n       <defs>\r\n        <path d=\"M 64.40625 67.28125 \r\nL 64.40625 56.890625 \r\nQ 59.421875 61.53125 53.78125 63.8125 \r\nQ 48.140625 66.109375 41.796875 66.109375 \r\nQ 29.296875 66.109375 22.65625 58.46875 \r\nQ 16.015625 50.828125 16.015625 36.375 \r\nQ 16.015625 21.96875 22.65625 14.328125 \r\nQ 29.296875 6.6875 41.796875 6.6875 \r\nQ 48.140625 6.6875 53.78125 8.984375 \r\nQ 59.421875 11.28125 64.40625 15.921875 \r\nL 64.40625 5.609375 \r\nQ 59.234375 2.09375 53.4375 0.328125 \r\nQ 47.65625 -1.421875 41.21875 -1.421875 \r\nQ 24.65625 -1.421875 15.125 8.703125 \r\nQ 5.609375 18.84375 5.609375 36.375 \r\nQ 5.609375 53.953125 15.125 64.078125 \r\nQ 24.65625 74.21875 41.21875 74.21875 \r\nQ 47.75 74.21875 53.53125 72.484375 \r\nQ 59.328125 70.75 64.40625 67.28125 \r\nz\r\n\" id=\"DejaVuSans-67\"/>\r\n       </defs>\r\n       <use xlink:href=\"#DejaVuSans-68\"/>\r\n       <use x=\"77.001953\" xlink:href=\"#DejaVuSans-101\"/>\r\n       <use x=\"138.525391\" xlink:href=\"#DejaVuSans-99\"/>\r\n       <use x=\"193.505859\" xlink:href=\"#DejaVuSans-107\"/>\r\n       <use x=\"251.416016\" xlink:href=\"#DejaVuSans-61\"/>\r\n       <use x=\"335.205078\" xlink:href=\"#DejaVuSans-61\"/>\r\n       <use x=\"418.994141\" xlink:href=\"#DejaVuSans-67\"/>\r\n      </g>\r\n     </g>\r\n    </g>\r\n    <g id=\"xtick_12\">\r\n     <g id=\"line2d_12\">\r\n      <g>\r\n       <use style=\"stroke:#000000;stroke-width:0.8;\" x=\"230.607434\" xlink:href=\"#m06075ce316\" y=\"228.439219\"/>\r\n      </g>\r\n     </g>\r\n     <g id=\"text_12\">\r\n      <!-- Deck==D -->\r\n      <g transform=\"translate(233.366809 285.040781)rotate(-90)scale(0.1 -0.1)\">\r\n       <use xlink:href=\"#DejaVuSans-68\"/>\r\n       <use x=\"77.001953\" xlink:href=\"#DejaVuSans-101\"/>\r\n       <use x=\"138.525391\" xlink:href=\"#DejaVuSans-99\"/>\r\n       <use x=\"193.505859\" xlink:href=\"#DejaVuSans-107\"/>\r\n       <use x=\"251.416016\" xlink:href=\"#DejaVuSans-61\"/>\r\n       <use x=\"335.205078\" xlink:href=\"#DejaVuSans-61\"/>\r\n       <use x=\"418.994141\" xlink:href=\"#DejaVuSans-68\"/>\r\n      </g>\r\n     </g>\r\n    </g>\r\n    <g id=\"xtick_13\">\r\n     <g id=\"line2d_13\">\r\n      <g>\r\n       <use style=\"stroke:#000000;stroke-width:0.8;\" x=\"244.704276\" xlink:href=\"#m06075ce316\" y=\"228.439219\"/>\r\n      </g>\r\n     </g>\r\n     <g id=\"text_13\">\r\n      <!-- Deck==E -->\r\n      <g transform=\"translate(247.463651 283.659531)rotate(-90)scale(0.1 -0.1)\">\r\n       <use xlink:href=\"#DejaVuSans-68\"/>\r\n       <use x=\"77.001953\" xlink:href=\"#DejaVuSans-101\"/>\r\n       <use x=\"138.525391\" xlink:href=\"#DejaVuSans-99\"/>\r\n       <use x=\"193.505859\" xlink:href=\"#DejaVuSans-107\"/>\r\n       <use x=\"251.416016\" xlink:href=\"#DejaVuSans-61\"/>\r\n       <use x=\"335.205078\" xlink:href=\"#DejaVuSans-61\"/>\r\n       <use x=\"418.994141\" xlink:href=\"#DejaVuSans-69\"/>\r\n      </g>\r\n     </g>\r\n    </g>\r\n    <g id=\"xtick_14\">\r\n     <g id=\"line2d_14\">\r\n      <g>\r\n       <use style=\"stroke:#000000;stroke-width:0.8;\" x=\"258.801118\" xlink:href=\"#m06075ce316\" y=\"228.439219\"/>\r\n      </g>\r\n     </g>\r\n     <g id=\"text_14\">\r\n      <!-- Deck==F -->\r\n      <g transform=\"translate(261.560493 283.092344)rotate(-90)scale(0.1 -0.1)\">\r\n       <use xlink:href=\"#DejaVuSans-68\"/>\r\n       <use x=\"77.001953\" xlink:href=\"#DejaVuSans-101\"/>\r\n       <use x=\"138.525391\" xlink:href=\"#DejaVuSans-99\"/>\r\n       <use x=\"193.505859\" xlink:href=\"#DejaVuSans-107\"/>\r\n       <use x=\"251.416016\" xlink:href=\"#DejaVuSans-61\"/>\r\n       <use x=\"335.205078\" xlink:href=\"#DejaVuSans-61\"/>\r\n       <use x=\"418.994141\" xlink:href=\"#DejaVuSans-70\"/>\r\n      </g>\r\n     </g>\r\n    </g>\r\n    <g id=\"xtick_15\">\r\n     <g id=\"line2d_15\">\r\n      <g>\r\n       <use style=\"stroke:#000000;stroke-width:0.8;\" x=\"272.897961\" xlink:href=\"#m06075ce316\" y=\"228.439219\"/>\r\n      </g>\r\n     </g>\r\n     <g id=\"text_15\">\r\n      <!-- Deck==G -->\r\n      <g transform=\"translate(275.657336 285.089219)rotate(-90)scale(0.1 -0.1)\">\r\n       <defs>\r\n        <path d=\"M 59.515625 10.40625 \r\nL 59.515625 29.984375 \r\nL 43.40625 29.984375 \r\nL 43.40625 38.09375 \r\nL 69.28125 38.09375 \r\nL 69.28125 6.78125 \r\nQ 63.578125 2.734375 56.6875 0.65625 \r\nQ 49.8125 -1.421875 42 -1.421875 \r\nQ 24.90625 -1.421875 15.25 8.5625 \r\nQ 5.609375 18.5625 5.609375 36.375 \r\nQ 5.609375 54.25 15.25 64.234375 \r\nQ 24.90625 74.21875 42 74.21875 \r\nQ 49.125 74.21875 55.546875 72.453125 \r\nQ 61.96875 70.703125 67.390625 67.28125 \r\nL 67.390625 56.78125 \r\nQ 61.921875 61.421875 55.765625 63.765625 \r\nQ 49.609375 66.109375 42.828125 66.109375 \r\nQ 29.4375 66.109375 22.71875 58.640625 \r\nQ 16.015625 51.171875 16.015625 36.375 \r\nQ 16.015625 21.625 22.71875 14.15625 \r\nQ 29.4375 6.6875 42.828125 6.6875 \r\nQ 48.046875 6.6875 52.140625 7.59375 \r\nQ 56.25 8.5 59.515625 10.40625 \r\nz\r\n\" id=\"DejaVuSans-71\"/>\r\n       </defs>\r\n       <use xlink:href=\"#DejaVuSans-68\"/>\r\n       <use x=\"77.001953\" xlink:href=\"#DejaVuSans-101\"/>\r\n       <use x=\"138.525391\" xlink:href=\"#DejaVuSans-99\"/>\r\n       <use x=\"193.505859\" xlink:href=\"#DejaVuSans-107\"/>\r\n       <use x=\"251.416016\" xlink:href=\"#DejaVuSans-61\"/>\r\n       <use x=\"335.205078\" xlink:href=\"#DejaVuSans-61\"/>\r\n       <use x=\"418.994141\" xlink:href=\"#DejaVuSans-71\"/>\r\n      </g>\r\n     </g>\r\n    </g>\r\n    <g id=\"xtick_16\">\r\n     <g id=\"line2d_16\">\r\n      <g>\r\n       <use style=\"stroke:#000000;stroke-width:0.8;\" x=\"286.994803\" xlink:href=\"#m06075ce316\" y=\"228.439219\"/>\r\n      </g>\r\n     </g>\r\n     <g id=\"text_16\">\r\n      <!-- Deck==N -->\r\n      <g transform=\"translate(289.754178 284.822031)rotate(-90)scale(0.1 -0.1)\">\r\n       <defs>\r\n        <path d=\"M 9.8125 72.90625 \r\nL 23.09375 72.90625 \r\nL 55.421875 11.921875 \r\nL 55.421875 72.90625 \r\nL 64.984375 72.90625 \r\nL 64.984375 0 \r\nL 51.703125 0 \r\nL 19.390625 60.984375 \r\nL 19.390625 0 \r\nL 9.8125 0 \r\nz\r\n\" id=\"DejaVuSans-78\"/>\r\n       </defs>\r\n       <use xlink:href=\"#DejaVuSans-68\"/>\r\n       <use x=\"77.001953\" xlink:href=\"#DejaVuSans-101\"/>\r\n       <use x=\"138.525391\" xlink:href=\"#DejaVuSans-99\"/>\r\n       <use x=\"193.505859\" xlink:href=\"#DejaVuSans-107\"/>\r\n       <use x=\"251.416016\" xlink:href=\"#DejaVuSans-61\"/>\r\n       <use x=\"335.205078\" xlink:href=\"#DejaVuSans-61\"/>\r\n       <use x=\"418.994141\" xlink:href=\"#DejaVuSans-78\"/>\r\n      </g>\r\n     </g>\r\n    </g>\r\n    <g id=\"xtick_17\">\r\n     <g id=\"line2d_17\">\r\n      <g>\r\n       <use style=\"stroke:#000000;stroke-width:0.8;\" x=\"301.091645\" xlink:href=\"#m06075ce316\" y=\"228.439219\"/>\r\n      </g>\r\n     </g>\r\n     <g id=\"text_17\">\r\n      <!-- Deck==T -->\r\n      <g transform=\"translate(303.85102 283.448594)rotate(-90)scale(0.1 -0.1)\">\r\n       <defs>\r\n        <path d=\"M -0.296875 72.90625 \r\nL 61.375 72.90625 \r\nL 61.375 64.59375 \r\nL 35.5 64.59375 \r\nL 35.5 0 \r\nL 25.59375 0 \r\nL 25.59375 64.59375 \r\nL -0.296875 64.59375 \r\nz\r\n\" id=\"DejaVuSans-84\"/>\r\n       </defs>\r\n       <use xlink:href=\"#DejaVuSans-68\"/>\r\n       <use x=\"77.001953\" xlink:href=\"#DejaVuSans-101\"/>\r\n       <use x=\"138.525391\" xlink:href=\"#DejaVuSans-99\"/>\r\n       <use x=\"193.505859\" xlink:href=\"#DejaVuSans-107\"/>\r\n       <use x=\"251.416016\" xlink:href=\"#DejaVuSans-61\"/>\r\n       <use x=\"335.205078\" xlink:href=\"#DejaVuSans-61\"/>\r\n       <use x=\"418.994141\" xlink:href=\"#DejaVuSans-84\"/>\r\n      </g>\r\n     </g>\r\n    </g>\r\n    <g id=\"xtick_18\">\r\n     <g id=\"line2d_18\">\r\n      <g>\r\n       <use style=\"stroke:#000000;stroke-width:0.8;\" x=\"315.188487\" xlink:href=\"#m06075ce316\" y=\"228.439219\"/>\r\n      </g>\r\n     </g>\r\n     <g id=\"text_18\">\r\n      <!-- pclass==2 -->\r\n      <g transform=\"translate(317.947862 289.732969)rotate(-90)scale(0.1 -0.1)\">\r\n       <defs>\r\n        <path d=\"M 9.421875 75.984375 \r\nL 18.40625 75.984375 \r\nL 18.40625 0 \r\nL 9.421875 0 \r\nz\r\n\" id=\"DejaVuSans-108\"/>\r\n        <path d=\"M 44.28125 53.078125 \r\nL 44.28125 44.578125 \r\nQ 40.484375 46.53125 36.375 47.5 \r\nQ 32.28125 48.484375 27.875 48.484375 \r\nQ 21.1875 48.484375 17.84375 46.4375 \r\nQ 14.5 44.390625 14.5 40.28125 \r\nQ 14.5 37.15625 16.890625 35.375 \r\nQ 19.28125 33.59375 26.515625 31.984375 \r\nL 29.59375 31.296875 \r\nQ 39.15625 29.25 43.1875 25.515625 \r\nQ 47.21875 21.78125 47.21875 15.09375 \r\nQ 47.21875 7.46875 41.1875 3.015625 \r\nQ 35.15625 -1.421875 24.609375 -1.421875 \r\nQ 20.21875 -1.421875 15.453125 -0.5625 \r\nQ 10.6875 0.296875 5.421875 2 \r\nL 5.421875 11.28125 \r\nQ 10.40625 8.6875 15.234375 7.390625 \r\nQ 20.0625 6.109375 24.8125 6.109375 \r\nQ 31.15625 6.109375 34.5625 8.28125 \r\nQ 37.984375 10.453125 37.984375 14.40625 \r\nQ 37.984375 18.0625 35.515625 20.015625 \r\nQ 33.0625 21.96875 24.703125 23.78125 \r\nL 21.578125 24.515625 \r\nQ 13.234375 26.265625 9.515625 29.90625 \r\nQ 5.8125 33.546875 5.8125 39.890625 \r\nQ 5.8125 47.609375 11.28125 51.796875 \r\nQ 16.75 56 26.8125 56 \r\nQ 31.78125 56 36.171875 55.265625 \r\nQ 40.578125 54.546875 44.28125 53.078125 \r\nz\r\n\" id=\"DejaVuSans-115\"/>\r\n        <path d=\"M 19.1875 8.296875 \r\nL 53.609375 8.296875 \r\nL 53.609375 0 \r\nL 7.328125 0 \r\nL 7.328125 8.296875 \r\nQ 12.9375 14.109375 22.625 23.890625 \r\nQ 32.328125 33.6875 34.8125 36.53125 \r\nQ 39.546875 41.84375 41.421875 45.53125 \r\nQ 43.3125 49.21875 43.3125 52.78125 \r\nQ 43.3125 58.59375 39.234375 62.25 \r\nQ 35.15625 65.921875 28.609375 65.921875 \r\nQ 23.96875 65.921875 18.8125 64.3125 \r\nQ 13.671875 62.703125 7.8125 59.421875 \r\nL 7.8125 69.390625 \r\nQ 13.765625 71.78125 18.9375 73 \r\nQ 24.125 74.21875 28.421875 74.21875 \r\nQ 39.75 74.21875 46.484375 68.546875 \r\nQ 53.21875 62.890625 53.21875 53.421875 \r\nQ 53.21875 48.921875 51.53125 44.890625 \r\nQ 49.859375 40.875 45.40625 35.40625 \r\nQ 44.1875 33.984375 37.640625 27.21875 \r\nQ 31.109375 20.453125 19.1875 8.296875 \r\nz\r\n\" id=\"DejaVuSans-50\"/>\r\n       </defs>\r\n       <use xlink:href=\"#DejaVuSans-112\"/>\r\n       <use x=\"63.476562\" xlink:href=\"#DejaVuSans-99\"/>\r\n       <use x=\"118.457031\" xlink:href=\"#DejaVuSans-108\"/>\r\n       <use x=\"146.240234\" xlink:href=\"#DejaVuSans-97\"/>\r\n       <use x=\"207.519531\" xlink:href=\"#DejaVuSans-115\"/>\r\n       <use x=\"259.619141\" xlink:href=\"#DejaVuSans-115\"/>\r\n       <use x=\"311.71875\" xlink:href=\"#DejaVuSans-61\"/>\r\n       <use x=\"395.507812\" xlink:href=\"#DejaVuSans-61\"/>\r\n       <use x=\"479.296875\" xlink:href=\"#DejaVuSans-50\"/>\r\n      </g>\r\n     </g>\r\n    </g>\r\n    <g id=\"xtick_19\">\r\n     <g id=\"line2d_19\">\r\n      <g>\r\n       <use style=\"stroke:#000000;stroke-width:0.8;\" x=\"329.285329\" xlink:href=\"#m06075ce316\" y=\"228.439219\"/>\r\n      </g>\r\n     </g>\r\n     <g id=\"text_19\">\r\n      <!-- pclass==3 -->\r\n      <g transform=\"translate(332.044704 289.732969)rotate(-90)scale(0.1 -0.1)\">\r\n       <defs>\r\n        <path d=\"M 40.578125 39.3125 \r\nQ 47.65625 37.796875 51.625 33 \r\nQ 55.609375 28.21875 55.609375 21.1875 \r\nQ 55.609375 10.40625 48.1875 4.484375 \r\nQ 40.765625 -1.421875 27.09375 -1.421875 \r\nQ 22.515625 -1.421875 17.65625 -0.515625 \r\nQ 12.796875 0.390625 7.625 2.203125 \r\nL 7.625 11.71875 \r\nQ 11.71875 9.328125 16.59375 8.109375 \r\nQ 21.484375 6.890625 26.8125 6.890625 \r\nQ 36.078125 6.890625 40.9375 10.546875 \r\nQ 45.796875 14.203125 45.796875 21.1875 \r\nQ 45.796875 27.640625 41.28125 31.265625 \r\nQ 36.765625 34.90625 28.71875 34.90625 \r\nL 20.21875 34.90625 \r\nL 20.21875 43.015625 \r\nL 29.109375 43.015625 \r\nQ 36.375 43.015625 40.234375 45.921875 \r\nQ 44.09375 48.828125 44.09375 54.296875 \r\nQ 44.09375 59.90625 40.109375 62.90625 \r\nQ 36.140625 65.921875 28.71875 65.921875 \r\nQ 24.65625 65.921875 20.015625 65.03125 \r\nQ 15.375 64.15625 9.8125 62.3125 \r\nL 9.8125 71.09375 \r\nQ 15.4375 72.65625 20.34375 73.4375 \r\nQ 25.25 74.21875 29.59375 74.21875 \r\nQ 40.828125 74.21875 47.359375 69.109375 \r\nQ 53.90625 64.015625 53.90625 55.328125 \r\nQ 53.90625 49.265625 50.4375 45.09375 \r\nQ 46.96875 40.921875 40.578125 39.3125 \r\nz\r\n\" id=\"DejaVuSans-51\"/>\r\n       </defs>\r\n       <use xlink:href=\"#DejaVuSans-112\"/>\r\n       <use x=\"63.476562\" xlink:href=\"#DejaVuSans-99\"/>\r\n       <use x=\"118.457031\" xlink:href=\"#DejaVuSans-108\"/>\r\n       <use x=\"146.240234\" xlink:href=\"#DejaVuSans-97\"/>\r\n       <use x=\"207.519531\" xlink:href=\"#DejaVuSans-115\"/>\r\n       <use x=\"259.619141\" xlink:href=\"#DejaVuSans-115\"/>\r\n       <use x=\"311.71875\" xlink:href=\"#DejaVuSans-61\"/>\r\n       <use x=\"395.507812\" xlink:href=\"#DejaVuSans-61\"/>\r\n       <use x=\"479.296875\" xlink:href=\"#DejaVuSans-51\"/>\r\n      </g>\r\n     </g>\r\n    </g>\r\n   </g>\r\n   <g id=\"matplotlib.axis_2\">\r\n    <g id=\"ytick_1\">\r\n     <g id=\"line2d_20\">\r\n      <defs>\r\n       <path d=\"M 0 0 \r\nL -3.5 0 \r\n\" id=\"m61dcfc2344\" style=\"stroke:#000000;stroke-width:0.8;\"/>\r\n      </defs>\r\n      <g>\r\n       <use style=\"stroke:#000000;stroke-width:0.8;\" x=\"68.49375\" xlink:href=\"#m61dcfc2344\" y=\"16.721324\"/>\r\n      </g>\r\n     </g>\r\n     <g id=\"text_20\">\r\n      <!-- Survived -->\r\n      <g transform=\"translate(17.579688 20.520543)scale(0.1 -0.1)\">\r\n       <use xlink:href=\"#DejaVuSans-83\"/>\r\n       <use x=\"63.476562\" xlink:href=\"#DejaVuSans-117\"/>\r\n       <use x=\"126.855469\" xlink:href=\"#DejaVuSans-114\"/>\r\n       <use x=\"167.96875\" xlink:href=\"#DejaVuSans-118\"/>\r\n       <use x=\"227.148438\" xlink:href=\"#DejaVuSans-105\"/>\r\n       <use x=\"254.931641\" xlink:href=\"#DejaVuSans-118\"/>\r\n       <use x=\"314.111328\" xlink:href=\"#DejaVuSans-101\"/>\r\n       <use x=\"375.634766\" xlink:href=\"#DejaVuSans-100\"/>\r\n      </g>\r\n     </g>\r\n    </g>\r\n    <g id=\"ytick_2\">\r\n     <g id=\"line2d_21\">\r\n      <g>\r\n       <use style=\"stroke:#000000;stroke-width:0.8;\" x=\"68.49375\" xlink:href=\"#m61dcfc2344\" y=\"28.165535\"/>\r\n      </g>\r\n     </g>\r\n     <g id=\"text_21\">\r\n      <!-- Sex -->\r\n      <g transform=\"translate(43.248438 31.964753)scale(0.1 -0.1)\">\r\n       <use xlink:href=\"#DejaVuSans-83\"/>\r\n       <use x=\"63.476562\" xlink:href=\"#DejaVuSans-101\"/>\r\n       <use x=\"123.25\" xlink:href=\"#DejaVuSans-120\"/>\r\n      </g>\r\n     </g>\r\n    </g>\r\n    <g id=\"ytick_3\">\r\n     <g id=\"line2d_22\">\r\n      <g>\r\n       <use style=\"stroke:#000000;stroke-width:0.8;\" x=\"68.49375\" xlink:href=\"#m61dcfc2344\" y=\"39.609745\"/>\r\n      </g>\r\n     </g>\r\n     <g id=\"text_22\">\r\n      <!-- Age -->\r\n      <g transform=\"translate(42.151563 43.408964)scale(0.1 -0.1)\">\r\n       <use xlink:href=\"#DejaVuSans-65\"/>\r\n       <use x=\"68.408203\" xlink:href=\"#DejaVuSans-103\"/>\r\n       <use x=\"131.884766\" xlink:href=\"#DejaVuSans-101\"/>\r\n      </g>\r\n     </g>\r\n    </g>\r\n    <g id=\"ytick_4\">\r\n     <g id=\"line2d_23\">\r\n      <g>\r\n       <use style=\"stroke:#000000;stroke-width:0.8;\" x=\"68.49375\" xlink:href=\"#m61dcfc2344\" y=\"51.053956\"/>\r\n      </g>\r\n     </g>\r\n     <g id=\"text_23\">\r\n      <!-- SibSp -->\r\n      <g transform=\"translate(33.321875 54.853174)scale(0.1 -0.1)\">\r\n       <use xlink:href=\"#DejaVuSans-83\"/>\r\n       <use x=\"63.476562\" xlink:href=\"#DejaVuSans-105\"/>\r\n       <use x=\"91.259766\" xlink:href=\"#DejaVuSans-98\"/>\r\n       <use x=\"154.736328\" xlink:href=\"#DejaVuSans-83\"/>\r\n       <use x=\"218.212891\" xlink:href=\"#DejaVuSans-112\"/>\r\n      </g>\r\n     </g>\r\n    </g>\r\n    <g id=\"ytick_5\">\r\n     <g id=\"line2d_24\">\r\n      <g>\r\n       <use style=\"stroke:#000000;stroke-width:0.8;\" x=\"68.49375\" xlink:href=\"#m61dcfc2344\" y=\"62.498166\"/>\r\n      </g>\r\n     </g>\r\n     <g id=\"text_24\">\r\n      <!-- Parch -->\r\n      <g transform=\"translate(34.064063 66.297385)scale(0.1 -0.1)\">\r\n       <use xlink:href=\"#DejaVuSans-80\"/>\r\n       <use x=\"55.802734\" xlink:href=\"#DejaVuSans-97\"/>\r\n       <use x=\"117.082031\" xlink:href=\"#DejaVuSans-114\"/>\r\n       <use x=\"155.945312\" xlink:href=\"#DejaVuSans-99\"/>\r\n       <use x=\"210.925781\" xlink:href=\"#DejaVuSans-104\"/>\r\n      </g>\r\n     </g>\r\n    </g>\r\n    <g id=\"ytick_6\">\r\n     <g id=\"line2d_25\">\r\n      <g>\r\n       <use style=\"stroke:#000000;stroke-width:0.8;\" x=\"68.49375\" xlink:href=\"#m61dcfc2344\" y=\"73.942377\"/>\r\n      </g>\r\n     </g>\r\n     <g id=\"text_25\">\r\n      <!-- Fare -->\r\n      <g transform=\"translate(40.4875 77.741595)scale(0.1 -0.1)\">\r\n       <use xlink:href=\"#DejaVuSans-70\"/>\r\n       <use x=\"48.394531\" xlink:href=\"#DejaVuSans-97\"/>\r\n       <use x=\"109.673828\" xlink:href=\"#DejaVuSans-114\"/>\r\n       <use x=\"148.537109\" xlink:href=\"#DejaVuSans-101\"/>\r\n      </g>\r\n     </g>\r\n    </g>\r\n    <g id=\"ytick_7\">\r\n     <g id=\"line2d_26\">\r\n      <g>\r\n       <use style=\"stroke:#000000;stroke-width:0.8;\" x=\"68.49375\" xlink:href=\"#m61dcfc2344\" y=\"85.386587\"/>\r\n      </g>\r\n     </g>\r\n     <g id=\"text_26\">\r\n      <!-- Embarked -->\r\n      <g transform=\"translate(10.917188 89.185806)scale(0.1 -0.1)\">\r\n       <use xlink:href=\"#DejaVuSans-69\"/>\r\n       <use x=\"63.183594\" xlink:href=\"#DejaVuSans-109\"/>\r\n       <use x=\"160.595703\" xlink:href=\"#DejaVuSans-98\"/>\r\n       <use x=\"224.072266\" xlink:href=\"#DejaVuSans-97\"/>\r\n       <use x=\"285.351562\" xlink:href=\"#DejaVuSans-114\"/>\r\n       <use x=\"326.464844\" xlink:href=\"#DejaVuSans-107\"/>\r\n       <use x=\"380.75\" xlink:href=\"#DejaVuSans-101\"/>\r\n       <use x=\"442.273438\" xlink:href=\"#DejaVuSans-100\"/>\r\n      </g>\r\n     </g>\r\n    </g>\r\n    <g id=\"ytick_8\">\r\n     <g id=\"line2d_27\">\r\n      <g>\r\n       <use style=\"stroke:#000000;stroke-width:0.8;\" x=\"68.49375\" xlink:href=\"#m61dcfc2344\" y=\"96.830798\"/>\r\n      </g>\r\n     </g>\r\n     <g id=\"text_27\">\r\n      <!-- Room -->\r\n      <g transform=\"translate(33.017188 100.630016)scale(0.1 -0.1)\">\r\n       <use xlink:href=\"#DejaVuSans-82\"/>\r\n       <use x=\"64.982422\" xlink:href=\"#DejaVuSans-111\"/>\r\n       <use x=\"126.164062\" xlink:href=\"#DejaVuSans-111\"/>\r\n       <use x=\"187.345703\" xlink:href=\"#DejaVuSans-109\"/>\r\n      </g>\r\n     </g>\r\n    </g>\r\n    <g id=\"ytick_9\">\r\n     <g id=\"line2d_28\">\r\n      <g>\r\n       <use style=\"stroke:#000000;stroke-width:0.8;\" x=\"68.49375\" xlink:href=\"#m61dcfc2344\" y=\"108.275008\"/>\r\n      </g>\r\n     </g>\r\n     <g id=\"text_28\">\r\n      <!-- Deck==A -->\r\n      <g transform=\"translate(12.751563 112.074227)scale(0.1 -0.1)\">\r\n       <use xlink:href=\"#DejaVuSans-68\"/>\r\n       <use x=\"77.001953\" xlink:href=\"#DejaVuSans-101\"/>\r\n       <use x=\"138.525391\" xlink:href=\"#DejaVuSans-99\"/>\r\n       <use x=\"193.505859\" xlink:href=\"#DejaVuSans-107\"/>\r\n       <use x=\"251.416016\" xlink:href=\"#DejaVuSans-61\"/>\r\n       <use x=\"335.205078\" xlink:href=\"#DejaVuSans-61\"/>\r\n       <use x=\"418.994141\" xlink:href=\"#DejaVuSans-65\"/>\r\n      </g>\r\n     </g>\r\n    </g>\r\n    <g id=\"ytick_10\">\r\n     <g id=\"line2d_29\">\r\n      <g>\r\n       <use style=\"stroke:#000000;stroke-width:0.8;\" x=\"68.49375\" xlink:href=\"#m61dcfc2344\" y=\"119.719219\"/>\r\n      </g>\r\n     </g>\r\n     <g id=\"text_29\">\r\n      <!-- Deck==B -->\r\n      <g transform=\"translate(12.73125 123.518438)scale(0.1 -0.1)\">\r\n       <use xlink:href=\"#DejaVuSans-68\"/>\r\n       <use x=\"77.001953\" xlink:href=\"#DejaVuSans-101\"/>\r\n       <use x=\"138.525391\" xlink:href=\"#DejaVuSans-99\"/>\r\n       <use x=\"193.505859\" xlink:href=\"#DejaVuSans-107\"/>\r\n       <use x=\"251.416016\" xlink:href=\"#DejaVuSans-61\"/>\r\n       <use x=\"335.205078\" xlink:href=\"#DejaVuSans-61\"/>\r\n       <use x=\"418.994141\" xlink:href=\"#DejaVuSans-66\"/>\r\n      </g>\r\n     </g>\r\n    </g>\r\n    <g id=\"ytick_11\">\r\n     <g id=\"line2d_30\">\r\n      <g>\r\n       <use style=\"stroke:#000000;stroke-width:0.8;\" x=\"68.49375\" xlink:href=\"#m61dcfc2344\" y=\"131.163429\"/>\r\n      </g>\r\n     </g>\r\n     <g id=\"text_30\">\r\n      <!-- Deck==C -->\r\n      <g transform=\"translate(12.609375 134.962648)scale(0.1 -0.1)\">\r\n       <use xlink:href=\"#DejaVuSans-68\"/>\r\n       <use x=\"77.001953\" xlink:href=\"#DejaVuSans-101\"/>\r\n       <use x=\"138.525391\" xlink:href=\"#DejaVuSans-99\"/>\r\n       <use x=\"193.505859\" xlink:href=\"#DejaVuSans-107\"/>\r\n       <use x=\"251.416016\" xlink:href=\"#DejaVuSans-61\"/>\r\n       <use x=\"335.205078\" xlink:href=\"#DejaVuSans-61\"/>\r\n       <use x=\"418.994141\" xlink:href=\"#DejaVuSans-67\"/>\r\n      </g>\r\n     </g>\r\n    </g>\r\n    <g id=\"ytick_12\">\r\n     <g id=\"line2d_31\">\r\n      <g>\r\n       <use style=\"stroke:#000000;stroke-width:0.8;\" x=\"68.49375\" xlink:href=\"#m61dcfc2344\" y=\"142.60764\"/>\r\n      </g>\r\n     </g>\r\n     <g id=\"text_31\">\r\n      <!-- Deck==D -->\r\n      <g transform=\"translate(11.892188 146.406859)scale(0.1 -0.1)\">\r\n       <use xlink:href=\"#DejaVuSans-68\"/>\r\n       <use x=\"77.001953\" xlink:href=\"#DejaVuSans-101\"/>\r\n       <use x=\"138.525391\" xlink:href=\"#DejaVuSans-99\"/>\r\n       <use x=\"193.505859\" xlink:href=\"#DejaVuSans-107\"/>\r\n       <use x=\"251.416016\" xlink:href=\"#DejaVuSans-61\"/>\r\n       <use x=\"335.205078\" xlink:href=\"#DejaVuSans-61\"/>\r\n       <use x=\"418.994141\" xlink:href=\"#DejaVuSans-68\"/>\r\n      </g>\r\n     </g>\r\n    </g>\r\n    <g id=\"ytick_13\">\r\n     <g id=\"line2d_32\">\r\n      <g>\r\n       <use style=\"stroke:#000000;stroke-width:0.8;\" x=\"68.49375\" xlink:href=\"#m61dcfc2344\" y=\"154.05185\"/>\r\n      </g>\r\n     </g>\r\n     <g id=\"text_32\">\r\n      <!-- Deck==E -->\r\n      <g transform=\"translate(13.273438 157.851069)scale(0.1 -0.1)\">\r\n       <use xlink:href=\"#DejaVuSans-68\"/>\r\n       <use x=\"77.001953\" xlink:href=\"#DejaVuSans-101\"/>\r\n       <use x=\"138.525391\" xlink:href=\"#DejaVuSans-99\"/>\r\n       <use x=\"193.505859\" xlink:href=\"#DejaVuSans-107\"/>\r\n       <use x=\"251.416016\" xlink:href=\"#DejaVuSans-61\"/>\r\n       <use x=\"335.205078\" xlink:href=\"#DejaVuSans-61\"/>\r\n       <use x=\"418.994141\" xlink:href=\"#DejaVuSans-69\"/>\r\n      </g>\r\n     </g>\r\n    </g>\r\n    <g id=\"ytick_14\">\r\n     <g id=\"line2d_33\">\r\n      <g>\r\n       <use style=\"stroke:#000000;stroke-width:0.8;\" x=\"68.49375\" xlink:href=\"#m61dcfc2344\" y=\"165.496061\"/>\r\n      </g>\r\n     </g>\r\n     <g id=\"text_33\">\r\n      <!-- Deck==F -->\r\n      <g transform=\"translate(13.840625 169.29528)scale(0.1 -0.1)\">\r\n       <use xlink:href=\"#DejaVuSans-68\"/>\r\n       <use x=\"77.001953\" xlink:href=\"#DejaVuSans-101\"/>\r\n       <use x=\"138.525391\" xlink:href=\"#DejaVuSans-99\"/>\r\n       <use x=\"193.505859\" xlink:href=\"#DejaVuSans-107\"/>\r\n       <use x=\"251.416016\" xlink:href=\"#DejaVuSans-61\"/>\r\n       <use x=\"335.205078\" xlink:href=\"#DejaVuSans-61\"/>\r\n       <use x=\"418.994141\" xlink:href=\"#DejaVuSans-70\"/>\r\n      </g>\r\n     </g>\r\n    </g>\r\n    <g id=\"ytick_15\">\r\n     <g id=\"line2d_34\">\r\n      <g>\r\n       <use style=\"stroke:#000000;stroke-width:0.8;\" x=\"68.49375\" xlink:href=\"#m61dcfc2344\" y=\"176.940271\"/>\r\n      </g>\r\n     </g>\r\n     <g id=\"text_34\">\r\n      <!-- Deck==G -->\r\n      <g transform=\"translate(11.84375 180.73949)scale(0.1 -0.1)\">\r\n       <use xlink:href=\"#DejaVuSans-68\"/>\r\n       <use x=\"77.001953\" xlink:href=\"#DejaVuSans-101\"/>\r\n       <use x=\"138.525391\" xlink:href=\"#DejaVuSans-99\"/>\r\n       <use x=\"193.505859\" xlink:href=\"#DejaVuSans-107\"/>\r\n       <use x=\"251.416016\" xlink:href=\"#DejaVuSans-61\"/>\r\n       <use x=\"335.205078\" xlink:href=\"#DejaVuSans-61\"/>\r\n       <use x=\"418.994141\" xlink:href=\"#DejaVuSans-71\"/>\r\n      </g>\r\n     </g>\r\n    </g>\r\n    <g id=\"ytick_16\">\r\n     <g id=\"line2d_35\">\r\n      <g>\r\n       <use style=\"stroke:#000000;stroke-width:0.8;\" x=\"68.49375\" xlink:href=\"#m61dcfc2344\" y=\"188.384482\"/>\r\n      </g>\r\n     </g>\r\n     <g id=\"text_35\">\r\n      <!-- Deck==N -->\r\n      <g transform=\"translate(12.110938 192.183701)scale(0.1 -0.1)\">\r\n       <use xlink:href=\"#DejaVuSans-68\"/>\r\n       <use x=\"77.001953\" xlink:href=\"#DejaVuSans-101\"/>\r\n       <use x=\"138.525391\" xlink:href=\"#DejaVuSans-99\"/>\r\n       <use x=\"193.505859\" xlink:href=\"#DejaVuSans-107\"/>\r\n       <use x=\"251.416016\" xlink:href=\"#DejaVuSans-61\"/>\r\n       <use x=\"335.205078\" xlink:href=\"#DejaVuSans-61\"/>\r\n       <use x=\"418.994141\" xlink:href=\"#DejaVuSans-78\"/>\r\n      </g>\r\n     </g>\r\n    </g>\r\n    <g id=\"ytick_17\">\r\n     <g id=\"line2d_36\">\r\n      <g>\r\n       <use style=\"stroke:#000000;stroke-width:0.8;\" x=\"68.49375\" xlink:href=\"#m61dcfc2344\" y=\"199.828692\"/>\r\n      </g>\r\n     </g>\r\n     <g id=\"text_36\">\r\n      <!-- Deck==T -->\r\n      <g transform=\"translate(13.484375 203.627911)scale(0.1 -0.1)\">\r\n       <use xlink:href=\"#DejaVuSans-68\"/>\r\n       <use x=\"77.001953\" xlink:href=\"#DejaVuSans-101\"/>\r\n       <use x=\"138.525391\" xlink:href=\"#DejaVuSans-99\"/>\r\n       <use x=\"193.505859\" xlink:href=\"#DejaVuSans-107\"/>\r\n       <use x=\"251.416016\" xlink:href=\"#DejaVuSans-61\"/>\r\n       <use x=\"335.205078\" xlink:href=\"#DejaVuSans-61\"/>\r\n       <use x=\"418.994141\" xlink:href=\"#DejaVuSans-84\"/>\r\n      </g>\r\n     </g>\r\n    </g>\r\n    <g id=\"ytick_18\">\r\n     <g id=\"line2d_37\">\r\n      <g>\r\n       <use style=\"stroke:#000000;stroke-width:0.8;\" x=\"68.49375\" xlink:href=\"#m61dcfc2344\" y=\"211.272903\"/>\r\n      </g>\r\n     </g>\r\n     <g id=\"text_37\">\r\n      <!-- pclass==2 -->\r\n      <g transform=\"translate(7.2 215.072122)scale(0.1 -0.1)\">\r\n       <use xlink:href=\"#DejaVuSans-112\"/>\r\n       <use x=\"63.476562\" xlink:href=\"#DejaVuSans-99\"/>\r\n       <use x=\"118.457031\" xlink:href=\"#DejaVuSans-108\"/>\r\n       <use x=\"146.240234\" xlink:href=\"#DejaVuSans-97\"/>\r\n       <use x=\"207.519531\" xlink:href=\"#DejaVuSans-115\"/>\r\n       <use x=\"259.619141\" xlink:href=\"#DejaVuSans-115\"/>\r\n       <use x=\"311.71875\" xlink:href=\"#DejaVuSans-61\"/>\r\n       <use x=\"395.507812\" xlink:href=\"#DejaVuSans-61\"/>\r\n       <use x=\"479.296875\" xlink:href=\"#DejaVuSans-50\"/>\r\n      </g>\r\n     </g>\r\n    </g>\r\n    <g id=\"ytick_19\">\r\n     <g id=\"line2d_38\">\r\n      <g>\r\n       <use style=\"stroke:#000000;stroke-width:0.8;\" x=\"68.49375\" xlink:href=\"#m61dcfc2344\" y=\"222.717113\"/>\r\n      </g>\r\n     </g>\r\n     <g id=\"text_38\">\r\n      <!-- pclass==3 -->\r\n      <g transform=\"translate(7.2 226.516332)scale(0.1 -0.1)\">\r\n       <use xlink:href=\"#DejaVuSans-112\"/>\r\n       <use x=\"63.476562\" xlink:href=\"#DejaVuSans-99\"/>\r\n       <use x=\"118.457031\" xlink:href=\"#DejaVuSans-108\"/>\r\n       <use x=\"146.240234\" xlink:href=\"#DejaVuSans-97\"/>\r\n       <use x=\"207.519531\" xlink:href=\"#DejaVuSans-115\"/>\r\n       <use x=\"259.619141\" xlink:href=\"#DejaVuSans-115\"/>\r\n       <use x=\"311.71875\" xlink:href=\"#DejaVuSans-61\"/>\r\n       <use x=\"395.507812\" xlink:href=\"#DejaVuSans-61\"/>\r\n       <use x=\"479.296875\" xlink:href=\"#DejaVuSans-51\"/>\r\n      </g>\r\n     </g>\r\n    </g>\r\n   </g>\r\n  </g>\r\n  <g id=\"axes_2\">\r\n   <g id=\"patch_3\">\r\n    <path clip-path=\"url(#p76ad781a13)\" d=\"M 353.07375 228.439219 \r\nL 353.07375 227.589844 \r\nL 353.07375 11.848594 \r\nL 353.07375 10.999219 \r\nL 363.94575 10.999219 \r\nL 363.94575 11.848594 \r\nL 363.94575 227.589844 \r\nL 363.94575 228.439219 \r\nz\r\n\" style=\"fill:#ffffff;stroke:#ffffff;stroke-linejoin:miter;stroke-width:0.01;\"/>\r\n   </g>\r\n   <image height=\"218\" id=\"image72c86d6e18\" transform=\"scale(1 -1)translate(0 -218)\" width=\"11\" x=\"353\" xlink:href=\"data:image/png;base64,\r\niVBORw0KGgoAAAANSUhEUgAAAAsAAADaCAYAAABwzrisAAABVklEQVR4nO3aMW4DQQxDUWlHuUTuf844dbp5BQHZyNYCQX5xBuuF+3x9v+rymb6drKrpvh+fp5+YMgx3pZTPkoCkLDRIOUgj5hmVIaDRiFV0S/nJxpZ1C41aUX4LeD3K3dhBA1t3/0TLDzaSJwVs0LpJOXhviA0sf4rzkiK9Y0Bbt9FIKS8JONe/JdwGDcdOtwwfoYEBZXjHUj6eRrL899IWMHdvzAs8L6HRpHwvXHNiyuhZhmErFrCbbMSKRMoyfKB2SRqywZyNB67+6SXo4BDOc35AmZZCNAxdygauO2WDlIuKNKBsNozGCuWGS1dtpJRLlM2G0MCAqWH62iOvJ1MPDe9AJ9/riEbHaJhnQyfK5/4Lh657Bzr4hDNFx8oCrqDRRiMXUIZzSzn3rwVrPOcC5ta9pEifTqNbTve8Iw0JGFu3cd7RjTpfG2zQvyz+A/4ZTp2UXyW3LCdj9RrqAAAAAElFTkSuQmCC\" y=\"-10\"/>\r\n   <g id=\"matplotlib.axis_3\"/>\r\n   <g id=\"matplotlib.axis_4\">\r\n    <g id=\"ytick_20\">\r\n     <g id=\"line2d_39\">\r\n      <defs>\r\n       <path d=\"M 0 0 \r\nL 3.5 0 \r\n\" id=\"m514f9f35d0\" style=\"stroke:#000000;stroke-width:0.8;\"/>\r\n      </defs>\r\n      <g>\r\n       <use style=\"stroke:#000000;stroke-width:0.8;\" x=\"363.94575\" xlink:href=\"#m514f9f35d0\" y=\"205.488118\"/>\r\n      </g>\r\n     </g>\r\n     <g id=\"text_39\">\r\n      <!-- −0.4 -->\r\n      <g transform=\"translate(370.94575 209.287337)scale(0.1 -0.1)\">\r\n       <defs>\r\n        <path d=\"M 10.59375 35.5 \r\nL 73.1875 35.5 \r\nL 73.1875 27.203125 \r\nL 10.59375 27.203125 \r\nz\r\n\" id=\"DejaVuSans-8722\"/>\r\n        <path d=\"M 31.78125 66.40625 \r\nQ 24.171875 66.40625 20.328125 58.90625 \r\nQ 16.5 51.421875 16.5 36.375 \r\nQ 16.5 21.390625 20.328125 13.890625 \r\nQ 24.171875 6.390625 31.78125 6.390625 \r\nQ 39.453125 6.390625 43.28125 13.890625 \r\nQ 47.125 21.390625 47.125 36.375 \r\nQ 47.125 51.421875 43.28125 58.90625 \r\nQ 39.453125 66.40625 31.78125 66.40625 \r\nz\r\nM 31.78125 74.21875 \r\nQ 44.046875 74.21875 50.515625 64.515625 \r\nQ 56.984375 54.828125 56.984375 36.375 \r\nQ 56.984375 17.96875 50.515625 8.265625 \r\nQ 44.046875 -1.421875 31.78125 -1.421875 \r\nQ 19.53125 -1.421875 13.0625 8.265625 \r\nQ 6.59375 17.96875 6.59375 36.375 \r\nQ 6.59375 54.828125 13.0625 64.515625 \r\nQ 19.53125 74.21875 31.78125 74.21875 \r\nz\r\n\" id=\"DejaVuSans-48\"/>\r\n        <path d=\"M 10.6875 12.40625 \r\nL 21 12.40625 \r\nL 21 0 \r\nL 10.6875 0 \r\nz\r\n\" id=\"DejaVuSans-46\"/>\r\n        <path d=\"M 37.796875 64.3125 \r\nL 12.890625 25.390625 \r\nL 37.796875 25.390625 \r\nz\r\nM 35.203125 72.90625 \r\nL 47.609375 72.90625 \r\nL 47.609375 25.390625 \r\nL 58.015625 25.390625 \r\nL 58.015625 17.1875 \r\nL 47.609375 17.1875 \r\nL 47.609375 0 \r\nL 37.796875 0 \r\nL 37.796875 17.1875 \r\nL 4.890625 17.1875 \r\nL 4.890625 26.703125 \r\nz\r\n\" id=\"DejaVuSans-52\"/>\r\n       </defs>\r\n       <use xlink:href=\"#DejaVuSans-8722\"/>\r\n       <use x=\"83.789062\" xlink:href=\"#DejaVuSans-48\"/>\r\n       <use x=\"147.412109\" xlink:href=\"#DejaVuSans-46\"/>\r\n       <use x=\"179.199219\" xlink:href=\"#DejaVuSans-52\"/>\r\n      </g>\r\n     </g>\r\n    </g>\r\n    <g id=\"ytick_21\">\r\n     <g id=\"line2d_40\">\r\n      <g>\r\n       <use style=\"stroke:#000000;stroke-width:0.8;\" x=\"363.94575\" xlink:href=\"#m514f9f35d0\" y=\"177.70399\"/>\r\n      </g>\r\n     </g>\r\n     <g id=\"text_40\">\r\n      <!-- −0.2 -->\r\n      <g transform=\"translate(370.94575 181.503208)scale(0.1 -0.1)\">\r\n       <use xlink:href=\"#DejaVuSans-8722\"/>\r\n       <use x=\"83.789062\" xlink:href=\"#DejaVuSans-48\"/>\r\n       <use x=\"147.412109\" xlink:href=\"#DejaVuSans-46\"/>\r\n       <use x=\"179.199219\" xlink:href=\"#DejaVuSans-50\"/>\r\n      </g>\r\n     </g>\r\n    </g>\r\n    <g id=\"ytick_22\">\r\n     <g id=\"line2d_41\">\r\n      <g>\r\n       <use style=\"stroke:#000000;stroke-width:0.8;\" x=\"363.94575\" xlink:href=\"#m514f9f35d0\" y=\"149.919861\"/>\r\n      </g>\r\n     </g>\r\n     <g id=\"text_41\">\r\n      <!-- 0.0 -->\r\n      <g transform=\"translate(370.94575 153.71908)scale(0.1 -0.1)\">\r\n       <use xlink:href=\"#DejaVuSans-48\"/>\r\n       <use x=\"63.623047\" xlink:href=\"#DejaVuSans-46\"/>\r\n       <use x=\"95.410156\" xlink:href=\"#DejaVuSans-48\"/>\r\n      </g>\r\n     </g>\r\n    </g>\r\n    <g id=\"ytick_23\">\r\n     <g id=\"line2d_42\">\r\n      <g>\r\n       <use style=\"stroke:#000000;stroke-width:0.8;\" x=\"363.94575\" xlink:href=\"#m514f9f35d0\" y=\"122.135733\"/>\r\n      </g>\r\n     </g>\r\n     <g id=\"text_42\">\r\n      <!-- 0.2 -->\r\n      <g transform=\"translate(370.94575 125.934951)scale(0.1 -0.1)\">\r\n       <use xlink:href=\"#DejaVuSans-48\"/>\r\n       <use x=\"63.623047\" xlink:href=\"#DejaVuSans-46\"/>\r\n       <use x=\"95.410156\" xlink:href=\"#DejaVuSans-50\"/>\r\n      </g>\r\n     </g>\r\n    </g>\r\n    <g id=\"ytick_24\">\r\n     <g id=\"line2d_43\">\r\n      <g>\r\n       <use style=\"stroke:#000000;stroke-width:0.8;\" x=\"363.94575\" xlink:href=\"#m514f9f35d0\" y=\"94.351604\"/>\r\n      </g>\r\n     </g>\r\n     <g id=\"text_43\">\r\n      <!-- 0.4 -->\r\n      <g transform=\"translate(370.94575 98.150823)scale(0.1 -0.1)\">\r\n       <use xlink:href=\"#DejaVuSans-48\"/>\r\n       <use x=\"63.623047\" xlink:href=\"#DejaVuSans-46\"/>\r\n       <use x=\"95.410156\" xlink:href=\"#DejaVuSans-52\"/>\r\n      </g>\r\n     </g>\r\n    </g>\r\n    <g id=\"ytick_25\">\r\n     <g id=\"line2d_44\">\r\n      <g>\r\n       <use style=\"stroke:#000000;stroke-width:0.8;\" x=\"363.94575\" xlink:href=\"#m514f9f35d0\" y=\"66.567476\"/>\r\n      </g>\r\n     </g>\r\n     <g id=\"text_44\">\r\n      <!-- 0.6 -->\r\n      <g transform=\"translate(370.94575 70.366694)scale(0.1 -0.1)\">\r\n       <defs>\r\n        <path d=\"M 33.015625 40.375 \r\nQ 26.375 40.375 22.484375 35.828125 \r\nQ 18.609375 31.296875 18.609375 23.390625 \r\nQ 18.609375 15.53125 22.484375 10.953125 \r\nQ 26.375 6.390625 33.015625 6.390625 \r\nQ 39.65625 6.390625 43.53125 10.953125 \r\nQ 47.40625 15.53125 47.40625 23.390625 \r\nQ 47.40625 31.296875 43.53125 35.828125 \r\nQ 39.65625 40.375 33.015625 40.375 \r\nz\r\nM 52.59375 71.296875 \r\nL 52.59375 62.3125 \r\nQ 48.875 64.0625 45.09375 64.984375 \r\nQ 41.3125 65.921875 37.59375 65.921875 \r\nQ 27.828125 65.921875 22.671875 59.328125 \r\nQ 17.53125 52.734375 16.796875 39.40625 \r\nQ 19.671875 43.65625 24.015625 45.921875 \r\nQ 28.375 48.1875 33.59375 48.1875 \r\nQ 44.578125 48.1875 50.953125 41.515625 \r\nQ 57.328125 34.859375 57.328125 23.390625 \r\nQ 57.328125 12.15625 50.6875 5.359375 \r\nQ 44.046875 -1.421875 33.015625 -1.421875 \r\nQ 20.359375 -1.421875 13.671875 8.265625 \r\nQ 6.984375 17.96875 6.984375 36.375 \r\nQ 6.984375 53.65625 15.1875 63.9375 \r\nQ 23.390625 74.21875 37.203125 74.21875 \r\nQ 40.921875 74.21875 44.703125 73.484375 \r\nQ 48.484375 72.75 52.59375 71.296875 \r\nz\r\n\" id=\"DejaVuSans-54\"/>\r\n       </defs>\r\n       <use xlink:href=\"#DejaVuSans-48\"/>\r\n       <use x=\"63.623047\" xlink:href=\"#DejaVuSans-46\"/>\r\n       <use x=\"95.410156\" xlink:href=\"#DejaVuSans-54\"/>\r\n      </g>\r\n     </g>\r\n    </g>\r\n    <g id=\"ytick_26\">\r\n     <g id=\"line2d_45\">\r\n      <g>\r\n       <use style=\"stroke:#000000;stroke-width:0.8;\" x=\"363.94575\" xlink:href=\"#m514f9f35d0\" y=\"38.783347\"/>\r\n      </g>\r\n     </g>\r\n     <g id=\"text_45\">\r\n      <!-- 0.8 -->\r\n      <g transform=\"translate(370.94575 42.582566)scale(0.1 -0.1)\">\r\n       <defs>\r\n        <path d=\"M 31.78125 34.625 \r\nQ 24.75 34.625 20.71875 30.859375 \r\nQ 16.703125 27.09375 16.703125 20.515625 \r\nQ 16.703125 13.921875 20.71875 10.15625 \r\nQ 24.75 6.390625 31.78125 6.390625 \r\nQ 38.8125 6.390625 42.859375 10.171875 \r\nQ 46.921875 13.96875 46.921875 20.515625 \r\nQ 46.921875 27.09375 42.890625 30.859375 \r\nQ 38.875 34.625 31.78125 34.625 \r\nz\r\nM 21.921875 38.8125 \r\nQ 15.578125 40.375 12.03125 44.71875 \r\nQ 8.5 49.078125 8.5 55.328125 \r\nQ 8.5 64.0625 14.71875 69.140625 \r\nQ 20.953125 74.21875 31.78125 74.21875 \r\nQ 42.671875 74.21875 48.875 69.140625 \r\nQ 55.078125 64.0625 55.078125 55.328125 \r\nQ 55.078125 49.078125 51.53125 44.71875 \r\nQ 48 40.375 41.703125 38.8125 \r\nQ 48.828125 37.15625 52.796875 32.3125 \r\nQ 56.78125 27.484375 56.78125 20.515625 \r\nQ 56.78125 9.90625 50.3125 4.234375 \r\nQ 43.84375 -1.421875 31.78125 -1.421875 \r\nQ 19.734375 -1.421875 13.25 4.234375 \r\nQ 6.78125 9.90625 6.78125 20.515625 \r\nQ 6.78125 27.484375 10.78125 32.3125 \r\nQ 14.796875 37.15625 21.921875 38.8125 \r\nz\r\nM 18.3125 54.390625 \r\nQ 18.3125 48.734375 21.84375 45.5625 \r\nQ 25.390625 42.390625 31.78125 42.390625 \r\nQ 38.140625 42.390625 41.71875 45.5625 \r\nQ 45.3125 48.734375 45.3125 54.390625 \r\nQ 45.3125 60.0625 41.71875 63.234375 \r\nQ 38.140625 66.40625 31.78125 66.40625 \r\nQ 25.390625 66.40625 21.84375 63.234375 \r\nQ 18.3125 60.0625 18.3125 54.390625 \r\nz\r\n\" id=\"DejaVuSans-56\"/>\r\n       </defs>\r\n       <use xlink:href=\"#DejaVuSans-48\"/>\r\n       <use x=\"63.623047\" xlink:href=\"#DejaVuSans-46\"/>\r\n       <use x=\"95.410156\" xlink:href=\"#DejaVuSans-56\"/>\r\n      </g>\r\n     </g>\r\n    </g>\r\n    <g id=\"ytick_27\">\r\n     <g id=\"line2d_46\">\r\n      <g>\r\n       <use style=\"stroke:#000000;stroke-width:0.8;\" x=\"363.94575\" xlink:href=\"#m514f9f35d0\" y=\"10.999219\"/>\r\n      </g>\r\n     </g>\r\n     <g id=\"text_46\">\r\n      <!-- 1.0 -->\r\n      <g transform=\"translate(370.94575 14.798438)scale(0.1 -0.1)\">\r\n       <defs>\r\n        <path d=\"M 12.40625 8.296875 \r\nL 28.515625 8.296875 \r\nL 28.515625 63.921875 \r\nL 10.984375 60.40625 \r\nL 10.984375 69.390625 \r\nL 28.421875 72.90625 \r\nL 38.28125 72.90625 \r\nL 38.28125 8.296875 \r\nL 54.390625 8.296875 \r\nL 54.390625 0 \r\nL 12.40625 0 \r\nz\r\n\" id=\"DejaVuSans-49\"/>\r\n       </defs>\r\n       <use xlink:href=\"#DejaVuSans-49\"/>\r\n       <use x=\"63.623047\" xlink:href=\"#DejaVuSans-46\"/>\r\n       <use x=\"95.410156\" xlink:href=\"#DejaVuSans-48\"/>\r\n      </g>\r\n     </g>\r\n    </g>\r\n   </g>\r\n   <g id=\"patch_4\">\r\n    <path d=\"M 353.07375 228.439219 \r\nL 353.07375 227.589844 \r\nL 353.07375 11.848594 \r\nL 353.07375 10.999219 \r\nL 363.94575 10.999219 \r\nL 363.94575 11.848594 \r\nL 363.94575 227.589844 \r\nL 363.94575 228.439219 \r\nz\r\n\" style=\"fill:none;\"/>\r\n   </g>\r\n  </g>\r\n </g>\r\n <defs>\r\n  <clipPath id=\"p3b52c293d6\">\r\n   <rect height=\"217.44\" width=\"267.84\" x=\"68.49375\" y=\"10.999219\"/>\r\n  </clipPath>\r\n  <clipPath id=\"p76ad781a13\">\r\n   <rect height=\"217.44\" width=\"10.872\" x=\"353.07375\" y=\"10.999219\"/>\r\n  </clipPath>\r\n </defs>\r\n</svg>\r\n",
      "image/png": "[encoded data removed]"
     },
     "metadata": {
      "needs_background": "light"
     }
    }
   ],
   "source": [
    "sns.heatmap(train.corr())"
   ]
  },
  {
   "cell_type": "code",
   "execution_count": 34,
   "metadata": {},
   "outputs": [
    {
     "output_type": "execute_result",
     "data": {
      "text/plain": [
       "           Survived       Sex       Age     SibSp     Parch      Fare  \\\n",
       "Survived   1.000000 -0.543351 -0.069809 -0.035322  0.081629  0.257307   \n",
       "Sex       -0.543351  1.000000  0.084153 -0.114631 -0.245489 -0.182333   \n",
       "Age       -0.069809  0.084153  1.000000 -0.232625 -0.179191  0.091566   \n",
       "SibSp     -0.035322 -0.114631 -0.232625  1.000000  0.414838  0.159651   \n",
       "Parch      0.081629 -0.245489 -0.179191  0.414838  1.000000  0.216225   \n",
       "Fare       0.257307 -0.182333  0.091566  0.159651  0.216225  1.000000   \n",
       "Embarked  -0.140971  0.120296 -0.016598  0.067509  0.066246 -0.139112   \n",
       "Room       0.029431  0.000540  0.064014 -0.023666 -0.042050  0.126297   \n",
       "Deck==A    0.022287  0.078271  0.121920 -0.046266 -0.040325  0.019549   \n",
       "Deck==B    0.175095 -0.109689  0.091394 -0.034538  0.056498  0.386297   \n",
       "Deck==C    0.114652 -0.058649  0.113149  0.029251  0.030736  0.364318   \n",
       "Deck==D    0.150716 -0.079248  0.132319 -0.017575 -0.019125  0.098878   \n",
       "Deck==E    0.145321 -0.047003  0.117211 -0.036865 -0.016554  0.053717   \n",
       "Deck==F    0.057935 -0.008202 -0.077209  0.001706  0.023694 -0.033093   \n",
       "Deck==G    0.016040 -0.091031 -0.077253 -0.001402  0.072388 -0.025180   \n",
       "Deck==N   -0.316912  0.140391 -0.233123  0.040460 -0.036987 -0.482075   \n",
       "Deck==T   -0.026456  0.024728  0.039469 -0.015907 -0.015878  0.002224   \n",
       "pclass==2  0.093349 -0.064746  0.006589 -0.055932 -0.000734 -0.118557   \n",
       "pclass==3 -0.322308  0.137143 -0.281004  0.092548  0.015790 -0.413333   \n",
       "\n",
       "           Embarked      Room   Deck==A   Deck==B   Deck==C   Deck==D  \\\n",
       "Survived  -0.140971  0.029431  0.022287  0.175095  0.114652  0.150716   \n",
       "Sex        0.120296  0.000540  0.078271 -0.109689 -0.058649 -0.079248   \n",
       "Age       -0.016598  0.064014  0.121920  0.091394  0.113149  0.132319   \n",
       "SibSp      0.067509 -0.023666 -0.046266 -0.034538  0.029251 -0.017575   \n",
       "Parch      0.066246 -0.042050 -0.040325  0.056498  0.030736 -0.019125   \n",
       "Fare      -0.139112  0.126297  0.019549  0.386297  0.364318  0.098878   \n",
       "Embarked   1.000000 -0.034797 -0.048228 -0.087677 -0.058727 -0.042283   \n",
       "Room      -0.034797  1.000000 -0.188256  0.100903  0.482679 -0.166754   \n",
       "Deck==A   -0.048228 -0.188256  1.000000 -0.030880 -0.034846 -0.025663   \n",
       "Deck==B   -0.087677  0.100903 -0.030880  1.000000 -0.062841 -0.046280   \n",
       "Deck==C   -0.058727  0.482679 -0.034846 -0.062841  1.000000 -0.052225   \n",
       "Deck==D   -0.042283 -0.166754 -0.025663 -0.046280 -0.052225  1.000000   \n",
       "Deck==E    0.039771  0.051820 -0.025256 -0.045547 -0.051398 -0.037852   \n",
       "Deck==F    0.031460 -0.083529 -0.015923 -0.028715 -0.032403 -0.023864   \n",
       "Deck==G    0.041159 -0.152648 -0.008787 -0.015847 -0.017883 -0.013170   \n",
       "Deck==N    0.080398 -0.181309 -0.240136 -0.433053 -0.488683 -0.359896   \n",
       "Deck==T    0.020545 -0.003312 -0.004386 -0.007910 -0.008926 -0.006574   \n",
       "pclass==2  0.192723 -0.052032 -0.066756 -0.120386 -0.135851 -0.041325   \n",
       "pclass==3 -0.040897 -0.099385 -0.144979 -0.261450 -0.295036 -0.217282   \n",
       "\n",
       "            Deck==E   Deck==F   Deck==G   Deck==N   Deck==T  pclass==2  \\\n",
       "Survived   0.145321  0.057935  0.016040 -0.316912 -0.026456   0.093349   \n",
       "Sex       -0.047003 -0.008202 -0.091031  0.140391  0.024728  -0.064746   \n",
       "Age        0.117211 -0.077209 -0.077253 -0.233123  0.039469   0.006589   \n",
       "SibSp     -0.036865  0.001706 -0.001402  0.040460 -0.015907  -0.055932   \n",
       "Parch     -0.016554  0.023694  0.072388 -0.036987 -0.015878  -0.000734   \n",
       "Fare       0.053717 -0.033093 -0.025180 -0.482075  0.002224  -0.118557   \n",
       "Embarked   0.039771  0.031460  0.041159  0.080398  0.020545   0.192723   \n",
       "Room       0.051820 -0.083529 -0.152648 -0.181309 -0.003312  -0.052032   \n",
       "Deck==A   -0.025256 -0.015923 -0.008787 -0.240136 -0.004386  -0.066756   \n",
       "Deck==B   -0.045547 -0.028715 -0.015847 -0.433053 -0.007910  -0.120386   \n",
       "Deck==C   -0.051398 -0.032403 -0.017883 -0.488683 -0.008926  -0.135851   \n",
       "Deck==D   -0.037852 -0.023864 -0.013170 -0.359896 -0.006574  -0.041325   \n",
       "Deck==E    1.000000 -0.023486 -0.012961 -0.354194 -0.006470  -0.038864   \n",
       "Deck==F   -0.023486  1.000000 -0.008171 -0.223299 -0.004079   0.122906   \n",
       "Deck==G   -0.012961 -0.008171  1.000000 -0.123234 -0.002251  -0.034258   \n",
       "Deck==N   -0.354194 -0.223299 -0.123234  1.000000 -0.061513   0.172413   \n",
       "Deck==T   -0.006470 -0.004079 -0.002251 -0.061513  1.000000  -0.017100   \n",
       "pclass==2 -0.038864  0.122906 -0.034258  0.172413 -0.017100   1.000000   \n",
       "pclass==3 -0.177461 -0.040721  0.060612  0.539291 -0.037138  -0.565210   \n",
       "\n",
       "           pclass==3  \n",
       "Survived   -0.322308  \n",
       "Sex         0.137143  \n",
       "Age        -0.281004  \n",
       "SibSp       0.092548  \n",
       "Parch       0.015790  \n",
       "Fare       -0.413333  \n",
       "Embarked   -0.040897  \n",
       "Room       -0.099385  \n",
       "Deck==A    -0.144979  \n",
       "Deck==B    -0.261450  \n",
       "Deck==C    -0.295036  \n",
       "Deck==D    -0.217282  \n",
       "Deck==E    -0.177461  \n",
       "Deck==F    -0.040721  \n",
       "Deck==G     0.060612  \n",
       "Deck==N     0.539291  \n",
       "Deck==T    -0.037138  \n",
       "pclass==2  -0.565210  \n",
       "pclass==3   1.000000  "
      ],
      "text/html": "<div>\n<style scoped>\n    .dataframe tbody tr th:only-of-type {\n        vertical-align: middle;\n    }\n\n    .dataframe tbody tr th {\n        vertical-align: top;\n    }\n\n    .dataframe thead th {\n        text-align: right;\n    }\n</style>\n<table border=\"1\" class=\"dataframe\">\n  <thead>\n    <tr style=\"text-align: right;\">\n      <th></th>\n      <th>Survived</th>\n      <th>Sex</th>\n      <th>Age</th>\n      <th>SibSp</th>\n      <th>Parch</th>\n      <th>Fare</th>\n      <th>Embarked</th>\n      <th>Room</th>\n      <th>Deck==A</th>\n      <th>Deck==B</th>\n      <th>Deck==C</th>\n      <th>Deck==D</th>\n      <th>Deck==E</th>\n      <th>Deck==F</th>\n      <th>Deck==G</th>\n      <th>Deck==N</th>\n      <th>Deck==T</th>\n      <th>pclass==2</th>\n      <th>pclass==3</th>\n    </tr>\n  </thead>\n  <tbody>\n    <tr>\n      <th>Survived</th>\n      <td>1.000000</td>\n      <td>-0.543351</td>\n      <td>-0.069809</td>\n      <td>-0.035322</td>\n      <td>0.081629</td>\n      <td>0.257307</td>\n      <td>-0.140971</td>\n      <td>0.029431</td>\n      <td>0.022287</td>\n      <td>0.175095</td>\n      <td>0.114652</td>\n      <td>0.150716</td>\n      <td>0.145321</td>\n      <td>0.057935</td>\n      <td>0.016040</td>\n      <td>-0.316912</td>\n      <td>-0.026456</td>\n      <td>0.093349</td>\n      <td>-0.322308</td>\n    </tr>\n    <tr>\n      <th>Sex</th>\n      <td>-0.543351</td>\n      <td>1.000000</td>\n      <td>0.084153</td>\n      <td>-0.114631</td>\n      <td>-0.245489</td>\n      <td>-0.182333</td>\n      <td>0.120296</td>\n      <td>0.000540</td>\n      <td>0.078271</td>\n      <td>-0.109689</td>\n      <td>-0.058649</td>\n      <td>-0.079248</td>\n      <td>-0.047003</td>\n      <td>-0.008202</td>\n      <td>-0.091031</td>\n      <td>0.140391</td>\n      <td>0.024728</td>\n      <td>-0.064746</td>\n      <td>0.137143</td>\n    </tr>\n    <tr>\n      <th>Age</th>\n      <td>-0.069809</td>\n      <td>0.084153</td>\n      <td>1.000000</td>\n      <td>-0.232625</td>\n      <td>-0.179191</td>\n      <td>0.091566</td>\n      <td>-0.016598</td>\n      <td>0.064014</td>\n      <td>0.121920</td>\n      <td>0.091394</td>\n      <td>0.113149</td>\n      <td>0.132319</td>\n      <td>0.117211</td>\n      <td>-0.077209</td>\n      <td>-0.077253</td>\n      <td>-0.233123</td>\n      <td>0.039469</td>\n      <td>0.006589</td>\n      <td>-0.281004</td>\n    </tr>\n    <tr>\n      <th>SibSp</th>\n      <td>-0.035322</td>\n      <td>-0.114631</td>\n      <td>-0.232625</td>\n      <td>1.000000</td>\n      <td>0.414838</td>\n      <td>0.159651</td>\n      <td>0.067509</td>\n      <td>-0.023666</td>\n      <td>-0.046266</td>\n      <td>-0.034538</td>\n      <td>0.029251</td>\n      <td>-0.017575</td>\n      <td>-0.036865</td>\n      <td>0.001706</td>\n      <td>-0.001402</td>\n      <td>0.040460</td>\n      <td>-0.015907</td>\n      <td>-0.055932</td>\n      <td>0.092548</td>\n    </tr>\n    <tr>\n      <th>Parch</th>\n      <td>0.081629</td>\n      <td>-0.245489</td>\n      <td>-0.179191</td>\n      <td>0.414838</td>\n      <td>1.000000</td>\n      <td>0.216225</td>\n      <td>0.066246</td>\n      <td>-0.042050</td>\n      <td>-0.040325</td>\n      <td>0.056498</td>\n      <td>0.030736</td>\n      <td>-0.019125</td>\n      <td>-0.016554</td>\n      <td>0.023694</td>\n      <td>0.072388</td>\n      <td>-0.036987</td>\n      <td>-0.015878</td>\n      <td>-0.000734</td>\n      <td>0.015790</td>\n    </tr>\n    <tr>\n      <th>Fare</th>\n      <td>0.257307</td>\n      <td>-0.182333</td>\n      <td>0.091566</td>\n      <td>0.159651</td>\n      <td>0.216225</td>\n      <td>1.000000</td>\n      <td>-0.139112</td>\n      <td>0.126297</td>\n      <td>0.019549</td>\n      <td>0.386297</td>\n      <td>0.364318</td>\n      <td>0.098878</td>\n      <td>0.053717</td>\n      <td>-0.033093</td>\n      <td>-0.025180</td>\n      <td>-0.482075</td>\n      <td>0.002224</td>\n      <td>-0.118557</td>\n      <td>-0.413333</td>\n    </tr>\n    <tr>\n      <th>Embarked</th>\n      <td>-0.140971</td>\n      <td>0.120296</td>\n      <td>-0.016598</td>\n      <td>0.067509</td>\n      <td>0.066246</td>\n      <td>-0.139112</td>\n      <td>1.000000</td>\n      <td>-0.034797</td>\n      <td>-0.048228</td>\n      <td>-0.087677</td>\n      <td>-0.058727</td>\n      <td>-0.042283</td>\n      <td>0.039771</td>\n      <td>0.031460</td>\n      <td>0.041159</td>\n      <td>0.080398</td>\n      <td>0.020545</td>\n      <td>0.192723</td>\n      <td>-0.040897</td>\n    </tr>\n    <tr>\n      <th>Room</th>\n      <td>0.029431</td>\n      <td>0.000540</td>\n      <td>0.064014</td>\n      <td>-0.023666</td>\n      <td>-0.042050</td>\n      <td>0.126297</td>\n      <td>-0.034797</td>\n      <td>1.000000</td>\n      <td>-0.188256</td>\n      <td>0.100903</td>\n      <td>0.482679</td>\n      <td>-0.166754</td>\n      <td>0.051820</td>\n      <td>-0.083529</td>\n      <td>-0.152648</td>\n      <td>-0.181309</td>\n      <td>-0.003312</td>\n      <td>-0.052032</td>\n      <td>-0.099385</td>\n    </tr>\n    <tr>\n      <th>Deck==A</th>\n      <td>0.022287</td>\n      <td>0.078271</td>\n      <td>0.121920</td>\n      <td>-0.046266</td>\n      <td>-0.040325</td>\n      <td>0.019549</td>\n      <td>-0.048228</td>\n      <td>-0.188256</td>\n      <td>1.000000</td>\n      <td>-0.030880</td>\n      <td>-0.034846</td>\n      <td>-0.025663</td>\n      <td>-0.025256</td>\n      <td>-0.015923</td>\n      <td>-0.008787</td>\n      <td>-0.240136</td>\n      <td>-0.004386</td>\n      <td>-0.066756</td>\n      <td>-0.144979</td>\n    </tr>\n    <tr>\n      <th>Deck==B</th>\n      <td>0.175095</td>\n      <td>-0.109689</td>\n      <td>0.091394</td>\n      <td>-0.034538</td>\n      <td>0.056498</td>\n      <td>0.386297</td>\n      <td>-0.087677</td>\n      <td>0.100903</td>\n      <td>-0.030880</td>\n      <td>1.000000</td>\n      <td>-0.062841</td>\n      <td>-0.046280</td>\n      <td>-0.045547</td>\n      <td>-0.028715</td>\n      <td>-0.015847</td>\n      <td>-0.433053</td>\n      <td>-0.007910</td>\n      <td>-0.120386</td>\n      <td>-0.261450</td>\n    </tr>\n    <tr>\n      <th>Deck==C</th>\n      <td>0.114652</td>\n      <td>-0.058649</td>\n      <td>0.113149</td>\n      <td>0.029251</td>\n      <td>0.030736</td>\n      <td>0.364318</td>\n      <td>-0.058727</td>\n      <td>0.482679</td>\n      <td>-0.034846</td>\n      <td>-0.062841</td>\n      <td>1.000000</td>\n      <td>-0.052225</td>\n      <td>-0.051398</td>\n      <td>-0.032403</td>\n      <td>-0.017883</td>\n      <td>-0.488683</td>\n      <td>-0.008926</td>\n      <td>-0.135851</td>\n      <td>-0.295036</td>\n    </tr>\n    <tr>\n      <th>Deck==D</th>\n      <td>0.150716</td>\n      <td>-0.079248</td>\n      <td>0.132319</td>\n      <td>-0.017575</td>\n      <td>-0.019125</td>\n      <td>0.098878</td>\n      <td>-0.042283</td>\n      <td>-0.166754</td>\n      <td>-0.025663</td>\n      <td>-0.046280</td>\n      <td>-0.052225</td>\n      <td>1.000000</td>\n      <td>-0.037852</td>\n      <td>-0.023864</td>\n      <td>-0.013170</td>\n      <td>-0.359896</td>\n      <td>-0.006574</td>\n      <td>-0.041325</td>\n      <td>-0.217282</td>\n    </tr>\n    <tr>\n      <th>Deck==E</th>\n      <td>0.145321</td>\n      <td>-0.047003</td>\n      <td>0.117211</td>\n      <td>-0.036865</td>\n      <td>-0.016554</td>\n      <td>0.053717</td>\n      <td>0.039771</td>\n      <td>0.051820</td>\n      <td>-0.025256</td>\n      <td>-0.045547</td>\n      <td>-0.051398</td>\n      <td>-0.037852</td>\n      <td>1.000000</td>\n      <td>-0.023486</td>\n      <td>-0.012961</td>\n      <td>-0.354194</td>\n      <td>-0.006470</td>\n      <td>-0.038864</td>\n      <td>-0.177461</td>\n    </tr>\n    <tr>\n      <th>Deck==F</th>\n      <td>0.057935</td>\n      <td>-0.008202</td>\n      <td>-0.077209</td>\n      <td>0.001706</td>\n      <td>0.023694</td>\n      <td>-0.033093</td>\n      <td>0.031460</td>\n      <td>-0.083529</td>\n      <td>-0.015923</td>\n      <td>-0.028715</td>\n      <td>-0.032403</td>\n      <td>-0.023864</td>\n      <td>-0.023486</td>\n      <td>1.000000</td>\n      <td>-0.008171</td>\n      <td>-0.223299</td>\n      <td>-0.004079</td>\n      <td>0.122906</td>\n      <td>-0.040721</td>\n    </tr>\n    <tr>\n      <th>Deck==G</th>\n      <td>0.016040</td>\n      <td>-0.091031</td>\n      <td>-0.077253</td>\n      <td>-0.001402</td>\n      <td>0.072388</td>\n      <td>-0.025180</td>\n      <td>0.041159</td>\n      <td>-0.152648</td>\n      <td>-0.008787</td>\n      <td>-0.015847</td>\n      <td>-0.017883</td>\n      <td>-0.013170</td>\n      <td>-0.012961</td>\n      <td>-0.008171</td>\n      <td>1.000000</td>\n      <td>-0.123234</td>\n      <td>-0.002251</td>\n      <td>-0.034258</td>\n      <td>0.060612</td>\n    </tr>\n    <tr>\n      <th>Deck==N</th>\n      <td>-0.316912</td>\n      <td>0.140391</td>\n      <td>-0.233123</td>\n      <td>0.040460</td>\n      <td>-0.036987</td>\n      <td>-0.482075</td>\n      <td>0.080398</td>\n      <td>-0.181309</td>\n      <td>-0.240136</td>\n      <td>-0.433053</td>\n      <td>-0.488683</td>\n      <td>-0.359896</td>\n      <td>-0.354194</td>\n      <td>-0.223299</td>\n      <td>-0.123234</td>\n      <td>1.000000</td>\n      <td>-0.061513</td>\n      <td>0.172413</td>\n      <td>0.539291</td>\n    </tr>\n    <tr>\n      <th>Deck==T</th>\n      <td>-0.026456</td>\n      <td>0.024728</td>\n      <td>0.039469</td>\n      <td>-0.015907</td>\n      <td>-0.015878</td>\n      <td>0.002224</td>\n      <td>0.020545</td>\n      <td>-0.003312</td>\n      <td>-0.004386</td>\n      <td>-0.007910</td>\n      <td>-0.008926</td>\n      <td>-0.006574</td>\n      <td>-0.006470</td>\n      <td>-0.004079</td>\n      <td>-0.002251</td>\n      <td>-0.061513</td>\n      <td>1.000000</td>\n      <td>-0.017100</td>\n      <td>-0.037138</td>\n    </tr>\n    <tr>\n      <th>pclass==2</th>\n      <td>0.093349</td>\n      <td>-0.064746</td>\n      <td>0.006589</td>\n      <td>-0.055932</td>\n      <td>-0.000734</td>\n      <td>-0.118557</td>\n      <td>0.192723</td>\n      <td>-0.052032</td>\n      <td>-0.066756</td>\n      <td>-0.120386</td>\n      <td>-0.135851</td>\n      <td>-0.041325</td>\n      <td>-0.038864</td>\n      <td>0.122906</td>\n      <td>-0.034258</td>\n      <td>0.172413</td>\n      <td>-0.017100</td>\n      <td>1.000000</td>\n      <td>-0.565210</td>\n    </tr>\n    <tr>\n      <th>pclass==3</th>\n      <td>-0.322308</td>\n      <td>0.137143</td>\n      <td>-0.281004</td>\n      <td>0.092548</td>\n      <td>0.015790</td>\n      <td>-0.413333</td>\n      <td>-0.040897</td>\n      <td>-0.099385</td>\n      <td>-0.144979</td>\n      <td>-0.261450</td>\n      <td>-0.295036</td>\n      <td>-0.217282</td>\n      <td>-0.177461</td>\n      <td>-0.040721</td>\n      <td>0.060612</td>\n      <td>0.539291</td>\n      <td>-0.037138</td>\n      <td>-0.565210</td>\n      <td>1.000000</td>\n    </tr>\n  </tbody>\n</table>\n</div>"
     },
     "metadata": {},
     "execution_count": 34
    }
   ],
   "source": [
    "train.corr()"
   ]
  },
  {
   "source": [
    "Now we do the same thing with test dataset"
   ],
   "cell_type": "markdown",
   "metadata": {}
  },
  {
   "cell_type": "code",
   "execution_count": 35,
   "metadata": {},
   "outputs": [],
   "source": [
    "test[\"Cabin_without_NA\"] = np.where(test[\"Cabin\"].isnull(), 0, test[\"Cabin\"])"
   ]
  },
  {
   "cell_type": "code",
   "execution_count": 36,
   "metadata": {},
   "outputs": [],
   "source": [
    "test[\"Deck\"] = test[\"Cabin_without_NA\"].str.slice(0,1)\n",
    "test[\"Room\"] = test[\"Cabin_without_NA\"].str.slice(1,5).str.extract(\"([0-9]+)\", expand=False).astype(\"float\")"
   ]
  },
  {
   "cell_type": "code",
   "execution_count": 37,
   "metadata": {},
   "outputs": [],
   "source": [
    "test[\"Deck\"] = test[\"Deck\"].fillna(\"N\")\n",
    "test[\"Room\"] = test[\"Room\"].fillna(test[\"Room\"].median())"
   ]
  },
  {
   "cell_type": "code",
   "execution_count": 38,
   "metadata": {},
   "outputs": [],
   "source": [
    "test = test.drop([\"Cabin\",\"Cabin_without_NA\"], axis=1)\n",
    "test[\"Room\"] = test[\"Room\"].astype(int)"
   ]
  },
  {
   "source": [
    "There's no value T in test set apparently so excluding Deck==T in columns"
   ],
   "cell_type": "markdown",
   "metadata": {}
  },
  {
   "cell_type": "code",
   "execution_count": 39,
   "metadata": {},
   "outputs": [],
   "source": [
    "oh_Deck_test = pd.DataFrame(pd.get_dummies(test[\"Deck\"]))\n",
    "oh_Deck_test.columns = [\"Deck==A\", \"Deck==B\", \"Deck==C\", \"Deck==D\", \"Deck==E\", \"Deck==F\", \"Deck==G\", \"Deck==N\"]\n",
    "test= pd.concat([test, oh_Deck_test], axis=1)"
   ]
  },
  {
   "cell_type": "code",
   "execution_count": 40,
   "metadata": {},
   "outputs": [],
   "source": [
    "oh_Pclass_test = oh_Deck = pd.DataFrame(pd.get_dummies(test[\"Pclass\"]))\n",
    "oh_Pclass_test.columns = [\"pclass==1\", \"pclass==2\",\"pclass==3\"]\n",
    "test = pd.concat([test, oh_Pclass_test], axis=1)\n",
    "test = test.drop([\"pclass==1\"], axis=1)"
   ]
  },
  {
   "cell_type": "code",
   "execution_count": 41,
   "metadata": {},
   "outputs": [],
   "source": [
    "test= test.drop([\"Deck\", \"Pclass\"],axis=1)"
   ]
  },
  {
   "cell_type": "code",
   "execution_count": 42,
   "metadata": {},
   "outputs": [],
   "source": [
    "test[\"Sex\"] = test[\"Sex\"].map(lambda x: 1 if x==\"male\" else 0)"
   ]
  },
  {
   "cell_type": "code",
   "execution_count": 43,
   "metadata": {},
   "outputs": [],
   "source": [
    "test[\"Embarked\"] = test[\"Embarked\"].map(test[\"Embarked\"].value_counts()/train.shape[0])"
   ]
  },
  {
   "cell_type": "code",
   "execution_count": 44,
   "metadata": {},
   "outputs": [
    {
     "output_type": "execute_result",
     "data": {
      "text/plain": [
       "   Sex   Age  SibSp  Parch     Fare  Embarked  Room  Deck==A  Deck==B  \\\n",
       "0    1  34.5      0      0   7.8292  0.051627    43        0        0   \n",
       "1    0  47.0      1      0   7.0000  0.303030    43        0        0   \n",
       "2    1  62.0      0      0   9.6875  0.051627    43        0        0   \n",
       "3    1  27.0      0      0   8.6625  0.303030    43        0        0   \n",
       "4    0  22.0      1      1  12.2875  0.303030    43        0        0   \n",
       "\n",
       "   Deck==C  Deck==D  Deck==E  Deck==F  Deck==G  Deck==N  pclass==2  pclass==3  \n",
       "0        0        0        0        0        0        1          0          1  \n",
       "1        0        0        0        0        0        1          0          1  \n",
       "2        0        0        0        0        0        1          1          0  \n",
       "3        0        0        0        0        0        1          0          1  \n",
       "4        0        0        0        0        0        1          0          1  "
      ],
      "text/html": "<div>\n<style scoped>\n    .dataframe tbody tr th:only-of-type {\n        vertical-align: middle;\n    }\n\n    .dataframe tbody tr th {\n        vertical-align: top;\n    }\n\n    .dataframe thead th {\n        text-align: right;\n    }\n</style>\n<table border=\"1\" class=\"dataframe\">\n  <thead>\n    <tr style=\"text-align: right;\">\n      <th></th>\n      <th>Sex</th>\n      <th>Age</th>\n      <th>SibSp</th>\n      <th>Parch</th>\n      <th>Fare</th>\n      <th>Embarked</th>\n      <th>Room</th>\n      <th>Deck==A</th>\n      <th>Deck==B</th>\n      <th>Deck==C</th>\n      <th>Deck==D</th>\n      <th>Deck==E</th>\n      <th>Deck==F</th>\n      <th>Deck==G</th>\n      <th>Deck==N</th>\n      <th>pclass==2</th>\n      <th>pclass==3</th>\n    </tr>\n  </thead>\n  <tbody>\n    <tr>\n      <th>0</th>\n      <td>1</td>\n      <td>34.5</td>\n      <td>0</td>\n      <td>0</td>\n      <td>7.8292</td>\n      <td>0.051627</td>\n      <td>43</td>\n      <td>0</td>\n      <td>0</td>\n      <td>0</td>\n      <td>0</td>\n      <td>0</td>\n      <td>0</td>\n      <td>0</td>\n      <td>1</td>\n      <td>0</td>\n      <td>1</td>\n    </tr>\n    <tr>\n      <th>1</th>\n      <td>0</td>\n      <td>47.0</td>\n      <td>1</td>\n      <td>0</td>\n      <td>7.0000</td>\n      <td>0.303030</td>\n      <td>43</td>\n      <td>0</td>\n      <td>0</td>\n      <td>0</td>\n      <td>0</td>\n      <td>0</td>\n      <td>0</td>\n      <td>0</td>\n      <td>1</td>\n      <td>0</td>\n      <td>1</td>\n    </tr>\n    <tr>\n      <th>2</th>\n      <td>1</td>\n      <td>62.0</td>\n      <td>0</td>\n      <td>0</td>\n      <td>9.6875</td>\n      <td>0.051627</td>\n      <td>43</td>\n      <td>0</td>\n      <td>0</td>\n      <td>0</td>\n      <td>0</td>\n      <td>0</td>\n      <td>0</td>\n      <td>0</td>\n      <td>1</td>\n      <td>1</td>\n      <td>0</td>\n    </tr>\n    <tr>\n      <th>3</th>\n      <td>1</td>\n      <td>27.0</td>\n      <td>0</td>\n      <td>0</td>\n      <td>8.6625</td>\n      <td>0.303030</td>\n      <td>43</td>\n      <td>0</td>\n      <td>0</td>\n      <td>0</td>\n      <td>0</td>\n      <td>0</td>\n      <td>0</td>\n      <td>0</td>\n      <td>1</td>\n      <td>0</td>\n      <td>1</td>\n    </tr>\n    <tr>\n      <th>4</th>\n      <td>0</td>\n      <td>22.0</td>\n      <td>1</td>\n      <td>1</td>\n      <td>12.2875</td>\n      <td>0.303030</td>\n      <td>43</td>\n      <td>0</td>\n      <td>0</td>\n      <td>0</td>\n      <td>0</td>\n      <td>0</td>\n      <td>0</td>\n      <td>0</td>\n      <td>1</td>\n      <td>0</td>\n      <td>1</td>\n    </tr>\n  </tbody>\n</table>\n</div>"
     },
     "metadata": {},
     "execution_count": 44
    }
   ],
   "source": [
    "test.head()"
   ]
  },
  {
   "source": [
    "Since there is no Deck==T column in test, there shouldn't be one in train"
   ],
   "cell_type": "markdown",
   "metadata": {}
  },
  {
   "cell_type": "code",
   "execution_count": 45,
   "metadata": {},
   "outputs": [],
   "source": [
    "train = train.drop([\"Deck==T\"], axis=1)"
   ]
  },
  {
   "source": [
    "# Training"
   ],
   "cell_type": "markdown",
   "metadata": {}
  },
  {
   "cell_type": "code",
   "execution_count": 46,
   "metadata": {},
   "outputs": [],
   "source": [
    "x = train.drop([\"Survived\"], axis=1)\n",
    "y = train[\"Survived\"]"
   ]
  },
  {
   "cell_type": "code",
   "execution_count": 47,
   "metadata": {},
   "outputs": [],
   "source": [
    "from sklearn.model_selection import train_test_split\n",
    "from sklearn.metrics import accuracy_score\n",
    "from sklearn.linear_model import LogisticRegression\n",
    "from sklearn.ensemble import RandomForestClassifier\n",
    "from sklearn.tree import DecisionTreeClassifier\n",
    "from sklearn.svm import SVC\n",
    "from lightgbm import LGBMClassifier \n",
    "from xgboost import XGBClassifier\n",
    "from catboost import CatBoostClassifier"
   ]
  },
  {
   "cell_type": "code",
   "execution_count": 48,
   "metadata": {},
   "outputs": [],
   "source": [
    "x_train, x_valid, y_train, y_valid = train_test_split(x,y, test_size=0.3, random_state=3)"
   ]
  },
  {
   "cell_type": "code",
   "execution_count": 49,
   "metadata": {},
   "outputs": [],
   "source": [
    "from sklearn.preprocessing import StandardScaler\n",
    "sc = StandardScaler()\n",
    "x_train_scaled = sc.fit_transform(x_train)\n",
    "x_valid_scaled = sc.transform(x_valid)"
   ]
  },
  {
   "source": [
    "## XGBoost"
   ],
   "cell_type": "markdown",
   "metadata": {}
  },
  {
   "cell_type": "code",
   "execution_count": 50,
   "metadata": {},
   "outputs": [],
   "source": [
    "xgb =XGBClassifier(\n",
    "\n",
    "    \n",
    " n_estimators= 1500,\n",
    " max_depth= 3,\n",
    " min_child_weight= 3,\n",
    " \n",
    " gamma=0.9,                        \n",
    " subsample=0.8,\n",
    " colsample_bytree=0.7,\n",
    " objective= 'binary:logistic',\n",
    " nthread= -1,\n",
    " scale_pos_weight=1).fit(x_train_scaled, y_train)"
   ]
  },
  {
   "cell_type": "code",
   "execution_count": 51,
   "metadata": {},
   "outputs": [
    {
     "output_type": "execute_result",
     "data": {
      "text/plain": [
       "0.8097014925373134"
      ]
     },
     "metadata": {},
     "execution_count": 51
    }
   ],
   "source": [
    "accuracy_score(xgb.predict(x_valid_scaled), y_valid)"
   ]
  },
  {
   "source": [
    "## LightGBM"
   ],
   "cell_type": "markdown",
   "metadata": {}
  },
  {
   "cell_type": "code",
   "execution_count": 52,
   "metadata": {
    "tags": [
     "outputPrepend"
    ]
   },
   "outputs": [
    {
     "output_type": "stream",
     "name": "stdout",
     "text": [
      " will be ignored. Current value: 0.725028=\n",
      "[LightGBM] [Warning] 43 is set=, 43= will be ignored. Current value: 43=\n",
      "[LightGBM] [Warning] 0 is set=, 0= will be ignored. Current value: 0=\n",
      "[LightGBM] [Warning] 0 is set=, 0= will be ignored. Current value: 0=\n",
      "[LightGBM] [Warning] 0 is set=, 0= will be ignored. Current value: 0=\n",
      "[LightGBM] [Warning] 0 is set=, 0= will be ignored. Current value: 0=\n",
      "[LightGBM] [Warning] 1 is set=, 1= will be ignored. Current value: 1=\n",
      "[LightGBM] [Warning] 43 is set=, 43= will be ignored. Current value: 43=\n",
      "[LightGBM] [Warning] 0 is set=, 0= will be ignored. Current value: 0=\n",
      "[LightGBM] [Warning] 0 is set=, 0= will be ignored. Current value: 0=\n",
      "[LightGBM] [Warning] ... is set=, ...= will be ignored. Current value: ...=\n",
      "[LightGBM] [Warning] ... is set=, ...= will be ignored. Current value: ...=\n",
      "[LightGBM] [Warning] ... is set=, ...= will be ignored. Current value: ...=\n",
      "[LightGBM] [Warning] ... is set=, ...= will be ignored. Current value: ...=\n",
      "[LightGBM] [Warning] ... is set=, ...= will be ignored. Current value: ...=\n",
      "[LightGBM] [Warning] ... is set=, ...= will be ignored. Current value: ...=\n",
      "[LightGBM] [Warning] ... is set=, ...= will be ignored. Current value: ...=\n",
      "[LightGBM] [Warning] ... is set=, ...= will be ignored. Current value: ...=\n",
      "[LightGBM] [Warning] 1 is set=, 1= will be ignored. Current value: 1=\n",
      "[LightGBM] [Warning] 29.699118 is set=, 29.699118= will be ignored. Current value: 29.699118=\n",
      "[LightGBM] [Warning] 0 is set=, 0= will be ignored. Current value: 0=\n",
      "[LightGBM] [Warning] 0 is set=, 0= will be ignored. Current value: 0=\n",
      "[LightGBM] [Warning] 0.725028 is set=, 0.725028= will be ignored. Current value: 0.725028=\n",
      "[LightGBM] [Warning] 43 is set=, 43= will be ignored. Current value: 43=\n",
      "[LightGBM] [Warning] 0 is set=, 0= will be ignored. Current value: 0=\n",
      "[LightGBM] [Warning] 0 is set=, 0= will be ignored. Current value: 0=\n",
      "[LightGBM] [Warning] 0 is set=, 0= will be ignored. Current value: 0=\n",
      "[LightGBM] [Warning] 22.000000 is set=, 22.000000= will be ignored. Current value: 22.000000=\n",
      "[LightGBM] [Warning] 0 is set=, 0= will be ignored. Current value: 0=\n",
      "[LightGBM] [Warning] 0 is set=, 0= will be ignored. Current value: 0=\n",
      "[LightGBM] [Warning] 0.725028 is set=, 0.725028= will be ignored. Current value: 0.725028=\n",
      "[LightGBM] [Warning] 43 is set=, 43= will be ignored. Current value: 43=\n",
      "[LightGBM] [Warning] 0 is set=, 0= will be ignored. Current value: 0=\n",
      "[LightGBM] [Warning] 0 is set=, 0= will be ignored. Current value: 0=\n",
      "[LightGBM] [Warning] 0 is set=, 0= will be ignored. Current value: 0=\n",
      "[LightGBM] [Warning] 29.699118 is set=, 29.699118= will be ignored. Current value: 29.699118=\n",
      "[LightGBM] [Warning] 1 is set=, 1= will be ignored. Current value: 1=\n",
      "[LightGBM] [Warning] 0 is set=, 0= will be ignored. Current value: 0=\n",
      "[LightGBM] [Warning] 43 is set=, 43= will be ignored. Current value: 43=\n",
      "[LightGBM] [Warning] 0 is set=, 0= will be ignored. Current value: 0=\n",
      "[LightGBM] [Warning] 0 is set=, 0= will be ignored. Current value: 0=\n",
      "[LightGBM] [Warning] 1 is set=, 1= will be ignored. Current value: 1=\n",
      "[LightGBM] [Warning] 1 is set=, 1= will be ignored. Current value: 1=\n",
      "[LightGBM] [Warning] 0 is set=, 0= will be ignored. Current value: 0=\n",
      "[LightGBM] [Warning] 0.725028 is set=, 0.725028= will be ignored. Current value: 0.725028=\n",
      "[LightGBM] [Warning] 43 is set=, 43= will be ignored. Current value: 43=\n",
      "[LightGBM] [Warning] 0 is set=, 0= will be ignored. Current value: 0=\n",
      "[LightGBM] [Warning] 0 is set=, 0= will be ignored. Current value: 0=\n",
      "[LightGBM] [Warning] 0 is set=, 0= will be ignored. Current value: 0=\n",
      "[LightGBM] [Warning] 4 is set=, 4= will be ignored. Current value: 4=\n",
      "[LightGBM] [Warning] 2 is set=, 2= will be ignored. Current value: 2=\n",
      "[LightGBM] [Warning] 31.2750 is set=, 31.2750= will be ignored. Current value: 31.2750=\n",
      "[LightGBM] [Warning] 0.725028 is set=, 0.725028= will be ignored. Current value: 0.725028=\n",
      "[LightGBM] [Warning] 43 is set=, 43= will be ignored. Current value: 43=\n",
      "[LightGBM] [Warning] 0 is set=, 0= will be ignored. Current value: 0=\n",
      "[LightGBM] [Warning] 0 is set=, 0= will be ignored. Current value: 0=\n",
      "[LightGBM] [Warning] Deck is set=A, Deck=C will be ignored. Current value: Deck=A\n",
      "[LightGBM] [Warning] Deck is set=A, Deck=D will be ignored. Current value: Deck=A\n",
      "[LightGBM] [Warning] Deck is set=A, Deck=E will be ignored. Current value: Deck=A\n",
      "[LightGBM] [Warning] Deck is set=A, Deck=F will be ignored. Current value: Deck=A\n",
      "[LightGBM] [Warning] Deck is set=A, Deck=G will be ignored. Current value: Deck=A\n",
      "[LightGBM] [Warning] Deck is set=A, Deck=N will be ignored. Current value: Deck=A\n",
      "[LightGBM] [Warning] \\ is set=, \\= will be ignored. Current value: \\=\n",
      "[LightGBM] [Warning] 395 is set=, 395= will be ignored. Current value: 395=\n",
      "[LightGBM] [Warning] 0 is set=, 0= will be ignored. Current value: 0=\n",
      "[LightGBM] [Warning] 0 is set=, 0= will be ignored. Current value: 0=\n",
      "[LightGBM] [Warning] 0 is set=, 0= will be ignored. Current value: 0=\n",
      "[LightGBM] [Warning] 0 is set=, 0= will be ignored. Current value: 0=\n",
      "[LightGBM] [Warning] 0 is set=, 0= will be ignored. Current value: 0=\n",
      "[LightGBM] [Warning] 1 is set=, 1= will be ignored. Current value: 1=\n",
      "[LightGBM] [Warning] 0 is set=, 0= will be ignored. Current value: 0=\n",
      "[LightGBM] [Warning] 85 is set=, 85= will be ignored. Current value: 85=\n",
      "[LightGBM] [Warning] 0 is set=, 0= will be ignored. Current value: 0=\n",
      "[LightGBM] [Warning] 0 is set=, 0= will be ignored. Current value: 0=\n",
      "[LightGBM] [Warning] 0 is set=, 0= will be ignored. Current value: 0=\n",
      "[LightGBM] [Warning] 0 is set=, 0= will be ignored. Current value: 0=\n",
      "[LightGBM] [Warning] 0 is set=, 0= will be ignored. Current value: 0=\n",
      "[LightGBM] [Warning] 1 is set=, 1= will be ignored. Current value: 1=\n",
      "[LightGBM] [Warning] 0 is set=, 0= will be ignored. Current value: 0=\n",
      "[LightGBM] [Warning] 201 is set=, 201= will be ignored. Current value: 201=\n",
      "[LightGBM] [Warning] 0 is set=, 0= will be ignored. Current value: 0=\n",
      "[LightGBM] [Warning] 0 is set=, 0= will be ignored. Current value: 0=\n",
      "[LightGBM] [Warning] 0 is set=, 0= will be ignored. Current value: 0=\n",
      "[LightGBM] [Warning] 0 is set=, 0= will be ignored. Current value: 0=\n",
      "[LightGBM] [Warning] 0 is set=, 0= will be ignored. Current value: 0=\n",
      "[LightGBM] [Warning] 1 is set=, 1= will be ignored. Current value: 1=\n",
      "[LightGBM] [Warning] 0 is set=, 0= will be ignored. Current value: 0=\n",
      "[LightGBM] [Warning] 542 is set=, 542= will be ignored. Current value: 542=\n",
      "[LightGBM] [Warning] 0 is set=, 0= will be ignored. Current value: 0=\n",
      "[LightGBM] [Warning] 0 is set=, 0= will be ignored. Current value: 0=\n",
      "[LightGBM] [Warning] 0 is set=, 0= will be ignored. Current value: 0=\n",
      "[LightGBM] [Warning] 0 is set=, 0= will be ignored. Current value: 0=\n",
      "[LightGBM] [Warning] 0 is set=, 0= will be ignored. Current value: 0=\n",
      "[LightGBM] [Warning] 1 is set=, 1= will be ignored. Current value: 1=\n",
      "[LightGBM] [Warning] 0 is set=, 0= will be ignored. Current value: 0=\n",
      "[LightGBM] [Warning] 702 is set=, 702= will be ignored. Current value: 702=\n",
      "[LightGBM] [Warning] 0 is set=, 0= will be ignored. Current value: 0=\n",
      "[LightGBM] [Warning] 0 is set=, 0= will be ignored. Current value: 0=\n",
      "[LightGBM] [Warning] 0 is set=, 0= will be ignored. Current value: 0=\n",
      "[LightGBM] [Warning] 0 is set=, 0= will be ignored. Current value: 0=\n",
      "[LightGBM] [Warning] 0 is set=, 0= will be ignored. Current value: 0=\n",
      "[LightGBM] [Warning] 1 is set=, 1= will be ignored. Current value: 1=\n",
      "[LightGBM] [Warning] 0 is set=, 0= will be ignored. Current value: 0=\n",
      "[LightGBM] [Warning] .. is set=, ..= will be ignored. Current value: ..=\n",
      "[LightGBM] [Warning] ... is set=, ...= will be ignored. Current value: ...=\n",
      "[LightGBM] [Warning] ... is set=, ...= will be ignored. Current value: ...=\n",
      "[LightGBM] [Warning] ... is set=, ...= will be ignored. Current value: ...=\n",
      "[LightGBM] [Warning] ... is set=, ...= will be ignored. Current value: ...=\n",
      "[LightGBM] [Warning] ... is set=, ...= will be ignored. Current value: ...=\n",
      "[LightGBM] [Warning] ... is set=, ...= will be ignored. Current value: ...=\n",
      "[LightGBM] [Warning] ... is set=, ...= will be ignored. Current value: ...=\n",
      "[LightGBM] [Warning] 107 is set=, 107= will be ignored. Current value: 107=\n",
      "[LightGBM] [Warning] 0 is set=, 0= will be ignored. Current value: 0=\n",
      "[LightGBM] [Warning] 0 is set=, 0= will be ignored. Current value: 0=\n",
      "[LightGBM] [Warning] 0 is set=, 0= will be ignored. Current value: 0=\n",
      "[LightGBM] [Warning] 0 is set=, 0= will be ignored. Current value: 0=\n",
      "[LightGBM] [Warning] 0 is set=, 0= will be ignored. Current value: 0=\n",
      "[LightGBM] [Warning] 1 is set=, 1= will be ignored. Current value: 1=\n",
      "[LightGBM] [Warning] 0 is set=, 0= will be ignored. Current value: 0=\n",
      "[LightGBM] [Warning] 376 is set=, 376= will be ignored. Current value: 376=\n",
      "[LightGBM] [Warning] 0 is set=, 0= will be ignored. Current value: 0=\n",
      "[LightGBM] [Warning] 0 is set=, 0= will be ignored. Current value: 0=\n",
      "[LightGBM] [Warning] 0 is set=, 0= will be ignored. Current value: 0=\n",
      "[LightGBM] [Warning] 0 is set=, 0= will be ignored. Current value: 0=\n",
      "[LightGBM] [Warning] 0 is set=, 0= will be ignored. Current value: 0=\n",
      "[LightGBM] [Warning] 1 is set=, 1= will be ignored. Current value: 1=\n",
      "[LightGBM] [Warning] 0 is set=, 0= will be ignored. Current value: 0=\n",
      "[LightGBM] [Warning] 612 is set=, 612= will be ignored. Current value: 612=\n",
      "[LightGBM] [Warning] 0 is set=, 0= will be ignored. Current value: 0=\n",
      "[LightGBM] [Warning] 0 is set=, 0= will be ignored. Current value: 0=\n",
      "[LightGBM] [Warning] 0 is set=, 0= will be ignored. Current value: 0=\n",
      "[LightGBM] [Warning] 0 is set=, 0= will be ignored. Current value: 0=\n",
      "[LightGBM] [Warning] 0 is set=, 0= will be ignored. Current value: 0=\n",
      "[LightGBM] [Warning] 1 is set=, 1= will be ignored. Current value: 1=\n",
      "[LightGBM] [Warning] 0 is set=, 0= will be ignored. Current value: 0=\n",
      "[LightGBM] [Warning] 236 is set=, 236= will be ignored. Current value: 236=\n",
      "[LightGBM] [Warning] 0 is set=, 0= will be ignored. Current value: 0=\n",
      "[LightGBM] [Warning] 0 is set=, 0= will be ignored. Current value: 0=\n",
      "[LightGBM] [Warning] 0 is set=, 0= will be ignored. Current value: 0=\n",
      "[LightGBM] [Warning] 0 is set=, 0= will be ignored. Current value: 0=\n",
      "[LightGBM] [Warning] 0 is set=, 0= will be ignored. Current value: 0=\n",
      "[LightGBM] [Warning] 1 is set=, 1= will be ignored. Current value: 1=\n",
      "[LightGBM] [Warning] 1 is set=, 1= will be ignored. Current value: 1=\n",
      "[LightGBM] [Warning] 813 is set=, 813= will be ignored. Current value: 813=\n",
      "[LightGBM] [Warning] 0 is set=, 0= will be ignored. Current value: 0=\n",
      "[LightGBM] [Warning] 0 is set=, 0= will be ignored. Current value: 0=\n",
      "[LightGBM] [Warning] 0 is set=, 0= will be ignored. Current value: 0=\n",
      "[LightGBM] [Warning] 0 is set=, 0= will be ignored. Current value: 0=\n",
      "[LightGBM] [Warning] 0 is set=, 0= will be ignored. Current value: 0=\n",
      "[LightGBM] [Warning] 1 is set=, 1= will be ignored. Current value: 1=\n",
      "[LightGBM] [Warning] 0 is set=, 0= will be ignored. Current value: 0=\n",
      "[LightGBM] [Warning] pclass is set=2, pclass=3 will be ignored. Current value: pclass=2\n",
      "[LightGBM] [Warning] 395 is set=, 395= will be ignored. Current value: 395=\n",
      "[LightGBM] [Warning] 1 is set=, 1= will be ignored. Current value: 1=\n",
      "[LightGBM] [Warning] 85 is set=, 85= will be ignored. Current value: 85=\n",
      "[LightGBM] [Warning] 1 is set=, 1= will be ignored. Current value: 1=\n",
      "[LightGBM] [Warning] 201 is set=, 201= will be ignored. Current value: 201=\n",
      "[LightGBM] [Warning] 1 is set=, 1= will be ignored. Current value: 1=\n",
      "[LightGBM] [Warning] 542 is set=, 542= will be ignored. Current value: 542=\n",
      "[LightGBM] [Warning] 1 is set=, 1= will be ignored. Current value: 1=\n",
      "[LightGBM] [Warning] 702 is set=, 702= will be ignored. Current value: 702=\n",
      "[LightGBM] [Warning] 1 is set=, 1= will be ignored. Current value: 1=\n",
      "[LightGBM] [Warning] .. is set=, ..= will be ignored. Current value: ..=\n",
      "[LightGBM] [Warning] ... is set=, ...= will be ignored. Current value: ...=\n",
      "[LightGBM] [Warning] 107 is set=, 107= will be ignored. Current value: 107=\n",
      "[LightGBM] [Warning] 1 is set=, 1= will be ignored. Current value: 1=\n",
      "[LightGBM] [Warning] 376 is set=, 376= will be ignored. Current value: 376=\n",
      "[LightGBM] [Warning] 1 is set=, 1= will be ignored. Current value: 1=\n",
      "[LightGBM] [Warning] 612 is set=, 612= will be ignored. Current value: 612=\n",
      "[LightGBM] [Warning] 1 is set=, 1= will be ignored. Current value: 1=\n",
      "[LightGBM] [Warning] 236 is set=, 236= will be ignored. Current value: 236=\n",
      "[LightGBM] [Warning] 0 is set=, 0= will be ignored. Current value: 0=\n",
      "[LightGBM] [Warning] 813 is set=, 813= will be ignored. Current value: 813=\n",
      "[LightGBM] [Warning] 1 is set=, 1= will be ignored. Current value: 1=\n",
      "[LightGBM] [Warning] 0 is set=, 0= will be ignored. Current value: 0=\n",
      "[LightGBM] [Warning] 85 is set=, 85= will be ignored. Current value: 85=\n",
      "[LightGBM] [Warning] 1 is set=, 1= will be ignored. Current value: 1=\n",
      "[LightGBM] [Warning] 201 is set=, 201= will be ignored. Current value: 201=\n",
      "[LightGBM] [Warning] 0 is set=, 0= will be ignored. Current value: 0=\n",
      "[LightGBM] [Warning] 542 is set=, 542= will be ignored. Current value: 542=\n",
      "[LightGBM] [Warning] 0 is set=, 0= will be ignored. Current value: 0=\n",
      "[LightGBM] [Warning] 702 is set=, 702= will be ignored. Current value: 702=\n",
      "[LightGBM] [Warning] 0 is set=, 0= will be ignored. Current value: 0=\n",
      "[LightGBM] [Warning] .. is set=, ..= will be ignored. Current value: ..=\n",
      "[LightGBM] [Warning] 107 is set=, 107= will be ignored. Current value: 107=\n",
      "[LightGBM] [Warning] 1 is set=, 1= will be ignored. Current value: 1=\n",
      "[LightGBM] [Warning] 376 is set=, 376= will be ignored. Current value: 376=\n",
      "[LightGBM] [Warning] 1 is set=, 1= will be ignored. Current value: 1=\n",
      "[LightGBM] [Warning] 612 is set=, 612= will be ignored. Current value: 612=\n",
      "[LightGBM] [Warning] 1 is set=, 1= will be ignored. Current value: 1=\n",
      "[LightGBM] [Warning] 236 is set=, 236= will be ignored. Current value: 236=\n",
      "[LightGBM] [Warning] 0 is set=, 0= will be ignored. Current value: 0=\n",
      "[LightGBM] [Warning] 813 is set=, 813= will be ignored. Current value: 813=\n",
      "[LightGBM] [Warning] 0 is set=, 0= will be ignored. Current value: 0=\n",
      "[LightGBM] [Warning] Unknown parameter: 612\n",
      "[LightGBM] [Warning] Unknown parameter: 33.000000\n",
      "[LightGBM] [Warning] Unknown parameter: 542\n",
      "[LightGBM] [Warning] Unknown parameter: SibSp\n",
      "[LightGBM] [Warning] Unknown parameter: 6.000000\n",
      "[LightGBM] [Warning] Unknown parameter: 702\n",
      "[LightGBM] [Warning] Unknown parameter: eval_set\n",
      "[LightGBM] [Warning] Unknown parameter: Sex\n",
      "[LightGBM] [Warning] Unknown parameter: 1\n",
      "[LightGBM] [Warning] Unknown parameter: 395\n",
      "[LightGBM] [Warning] Unknown parameter: Age\n",
      "[LightGBM] [Warning] Unknown parameter: 31.2750\n",
      "[LightGBM] [Warning] Unknown parameter: \\\n",
      "[LightGBM] [Warning] Unknown parameter: Parch\n",
      "[LightGBM] [Warning] Unknown parameter: Fare\n",
      "[LightGBM] [Warning] Unknown parameter: Embarked\n",
      "[LightGBM] [Warning] Unknown parameter: 15.5000\n",
      "[LightGBM] [Warning] Unknown parameter: Room\n",
      "[LightGBM] [Warning] Unknown parameter: Deck\n",
      "[LightGBM] [Warning] Unknown parameter: 7.7958\n",
      "[LightGBM] [Warning] Unknown parameter: 22.000000\n",
      "[LightGBM] [Warning] Unknown parameter: 0\n",
      "[LightGBM] [Warning] Unknown parameter: 26.0000\n",
      "[LightGBM] [Warning] Unknown parameter: 0.725028\n",
      "[LightGBM] [Warning] Unknown parameter: 15.8500\n",
      "[LightGBM] [Warning] Unknown parameter: 43\n",
      "[LightGBM] [Warning] Unknown parameter: [268\n",
      "[LightGBM] [Warning] Unknown parameter: 85\n",
      "[LightGBM] [Warning] Unknown parameter: 3\n",
      "[LightGBM] [Warning] Unknown parameter: 201\n",
      "[LightGBM] [Warning] Unknown parameter: 29.699118\n",
      "[LightGBM] [Warning] Unknown parameter: 8\n",
      "[LightGBM] [Warning] Unknown parameter: 2\n",
      "[LightGBM] [Warning] Unknown parameter: 69.5500\n",
      "[LightGBM] [Warning] Unknown parameter: 813\n",
      "[LightGBM] [Warning] Unknown parameter: dtype:\n",
      "[LightGBM] [Warning] Unknown parameter: 11.000000\n",
      "[LightGBM] [Warning] Unknown parameter: 7.7750\n",
      "[LightGBM] [Warning] Unknown parameter: 4\n",
      "[LightGBM] [Warning] Unknown parameter: 18.000000\n",
      "[LightGBM] [Warning] Unknown parameter: 14.4542\n",
      "[LightGBM] [Warning] Unknown parameter: 0.188552\n",
      "[LightGBM] [Warning] Unknown parameter: ..\n",
      "[LightGBM] [Warning] Unknown parameter: ...\n",
      "[LightGBM] [Warning] Unknown parameter: 44.000000\n",
      "[LightGBM] [Warning] Unknown parameter: 107\n",
      "[LightGBM] [Warning] Unknown parameter: 7.2500\n",
      "[LightGBM] [Warning] Unknown parameter: 376\n",
      "[LightGBM] [Warning] Unknown parameter: 0.086420\n",
      "[LightGBM] [Warning] Unknown parameter: 236\n",
      "[LightGBM] [Warning] Unknown parameter: pclass\n",
      "[LightGBM] [Warning] Unknown parameter: rows\n",
      "[LightGBM] [Warning] Unknown parameter: x\n",
      "[LightGBM] [Warning] Unknown parameter: 17\n",
      "[LightGBM] [Warning] Unknown parameter: columns],395\n",
      "[LightGBM] [Warning] Unknown parameter: Name:\n",
      "[LightGBM] [Warning] Unknown parameter: Survived,\n",
      "[LightGBM] [Warning] Unknown parameter: Length:\n",
      "[LightGBM] [Warning] Unknown parameter: 268,\n",
      "[LightGBM] [Warning] Unknown parameter: int64\n",
      "[LightGBM] [Warning] bagging_fraction is set=0.4, subsample=1.0 will be ignored. Current value: bagging_fraction=0.4\n",
      "[LightGBM] [Warning] early_stopping_round is set=10, early_stopping_rounds=10 will be ignored. Current value: early_stopping_round=10\n",
      "[1]\tvalid_0's auc: 0.832464\n",
      "[2]\tvalid_0's auc: 0.834105\n",
      "[3]\tvalid_0's auc: 0.839763\n",
      "[4]\tvalid_0's auc: 0.850229\n",
      "[5]\tvalid_0's auc: 0.846095\n",
      "[6]\tvalid_0's auc: 0.838913\n",
      "[7]\tvalid_0's auc: 0.84076\n",
      "[8]\tvalid_0's auc: 0.841932\n",
      "[9]\tvalid_0's auc: 0.83988\n",
      "[10]\tvalid_0's auc: 0.838385\n",
      "[11]\tvalid_0's auc: 0.840086\n",
      "[12]\tvalid_0's auc: 0.842079\n",
      "[13]\tvalid_0's auc: 0.838796\n",
      "[14]\tvalid_0's auc: 0.84117\n",
      "[15]\tvalid_0's auc: 0.839411\n",
      "[16]\tvalid_0's auc: 0.840701\n",
      "[17]\tvalid_0's auc: 0.841463\n",
      "[18]\tvalid_0's auc: 0.839177\n",
      "[19]\tvalid_0's auc: 0.842695\n",
      "[20]\tvalid_0's auc: 0.840203\n",
      "[21]\tvalid_0's auc: 0.842783\n",
      "[22]\tvalid_0's auc: 0.841463\n",
      "[23]\tvalid_0's auc: 0.841932\n",
      "[24]\tvalid_0's auc: 0.834867\n",
      "[25]\tvalid_0's auc: 0.840115\n",
      "[26]\tvalid_0's auc: 0.838121\n",
      "[27]\tvalid_0's auc: 0.839441\n",
      "[28]\tvalid_0's auc: 0.840086\n",
      "[29]\tvalid_0's auc: 0.843603\n",
      "[30]\tvalid_0's auc: 0.842607\n",
      "[31]\tvalid_0's auc: 0.84331\n",
      "[32]\tvalid_0's auc: 0.842284\n",
      "[33]\tvalid_0's auc: 0.839939\n",
      "[34]\tvalid_0's auc: 0.842255\n",
      "[35]\tvalid_0's auc: 0.841375\n",
      "[36]\tvalid_0's auc: 0.841024\n",
      "[37]\tvalid_0's auc: 0.841845\n",
      "[38]\tvalid_0's auc: 0.840789\n",
      "[39]\tvalid_0's auc: 0.838561\n",
      "[40]\tvalid_0's auc: 0.839382\n",
      "[41]\tvalid_0's auc: 0.841024\n",
      "[42]\tvalid_0's auc: 0.838503\n",
      "[43]\tvalid_0's auc: 0.839089\n",
      "[44]\tvalid_0's auc: 0.836509\n",
      "[45]\tvalid_0's auc: 0.83692\n",
      "[46]\tvalid_0's auc: 0.834516\n",
      "[47]\tvalid_0's auc: 0.837506\n",
      "[48]\tvalid_0's auc: 0.837916\n",
      "[49]\tvalid_0's auc: 0.838151\n",
      "[50]\tvalid_0's auc: 0.838503\n",
      "[51]\tvalid_0's auc: 0.838209\n",
      "[52]\tvalid_0's auc: 0.838151\n",
      "[53]\tvalid_0's auc: 0.837799\n",
      "[54]\tvalid_0's auc: 0.837682\n",
      "[55]\tvalid_0's auc: 0.839792\n",
      "[56]\tvalid_0's auc: 0.840672\n",
      "[57]\tvalid_0's auc: 0.840144\n",
      "[58]\tvalid_0's auc: 0.839558\n",
      "[59]\tvalid_0's auc: 0.839148\n",
      "[60]\tvalid_0's auc: 0.836685\n",
      "[61]\tvalid_0's auc: 0.836509\n",
      "[62]\tvalid_0's auc: 0.838209\n",
      "[63]\tvalid_0's auc: 0.83692\n",
      "[64]\tvalid_0's auc: 0.837858\n",
      "[65]\tvalid_0's auc: 0.838473\n",
      "[66]\tvalid_0's auc: 0.840584\n",
      "[67]\tvalid_0's auc: 0.840115\n",
      "[68]\tvalid_0's auc: 0.841346\n",
      "[69]\tvalid_0's auc: 0.841932\n",
      "[70]\tvalid_0's auc: 0.841522\n",
      "[71]\tvalid_0's auc: 0.841405\n",
      "[72]\tvalid_0's auc: 0.840936\n",
      "[73]\tvalid_0's auc: 0.840174\n",
      "[74]\tvalid_0's auc: 0.840643\n",
      "[75]\tvalid_0's auc: 0.840818\n",
      "[76]\tvalid_0's auc: 0.840525\n",
      "[77]\tvalid_0's auc: 0.840174\n",
      "[78]\tvalid_0's auc: 0.840115\n",
      "[79]\tvalid_0's auc: 0.841522\n",
      "[80]\tvalid_0's auc: 0.840877\n",
      "[81]\tvalid_0's auc: 0.840789\n",
      "[82]\tvalid_0's auc: 0.840086\n",
      "[83]\tvalid_0's auc: 0.841434\n",
      "[84]\tvalid_0's auc: 0.842372\n",
      "[85]\tvalid_0's auc: 0.842138\n",
      "[86]\tvalid_0's auc: 0.842372\n",
      "[87]\tvalid_0's auc: 0.841669\n",
      "[88]\tvalid_0's auc: 0.840965\n",
      "[89]\tvalid_0's auc: 0.841903\n",
      "[90]\tvalid_0's auc: 0.842138\n",
      "[91]\tvalid_0's auc: 0.842489\n",
      "[92]\tvalid_0's auc: 0.841903\n",
      "[93]\tvalid_0's auc: 0.843193\n",
      "[94]\tvalid_0's auc: 0.842314\n",
      "[95]\tvalid_0's auc: 0.8429\n",
      "[96]\tvalid_0's auc: 0.842431\n",
      "[97]\tvalid_0's auc: 0.842548\n",
      "[98]\tvalid_0's auc: 0.842724\n",
      "[99]\tvalid_0's auc: 0.84202\n",
      "[100]\tvalid_0's auc: 0.840261\n"
     ]
    }
   ],
   "source": [
    "lgb = LGBMClassifier(learning_rate=0.5,boosting_type='dart',objective='binary',metric=\"auc\" ,max_depth=3, bagging_fraction=0.4, eval_set=(x_valid, y_valid), early_stopping_rounds=10).fit(x_train, y_train, eval_set=(x_valid, y_valid))"
   ]
  },
  {
   "cell_type": "code",
   "execution_count": 53,
   "metadata": {},
   "outputs": [
    {
     "output_type": "execute_result",
     "data": {
      "text/plain": [
       "0.8097014925373134"
      ]
     },
     "metadata": {},
     "execution_count": 53
    }
   ],
   "source": [
    "accuracy_score(lgb.predict(x_valid), y_valid)"
   ]
  },
  {
   "source": [
    "## SVM"
   ],
   "cell_type": "markdown",
   "metadata": {}
  },
  {
   "cell_type": "code",
   "execution_count": 54,
   "metadata": {},
   "outputs": [
    {
     "output_type": "execute_result",
     "data": {
      "text/plain": [
       "0.7835820895522388"
      ]
     },
     "metadata": {},
     "execution_count": 54
    }
   ],
   "source": [
    "svc = SVC(kernel=\"linear\")\n",
    "svc.fit(x_train, y_train)\n",
    "accuracy_score(svc.predict(x_valid), y_valid)"
   ]
  },
  {
   "source": [
    "## Logistic Regression"
   ],
   "cell_type": "markdown",
   "metadata": {}
  },
  {
   "cell_type": "code",
   "execution_count": 55,
   "metadata": {},
   "outputs": [
    {
     "output_type": "execute_result",
     "data": {
      "text/plain": [
       "0.7798507462686567"
      ]
     },
     "metadata": {},
     "execution_count": 55
    }
   ],
   "source": [
    "lr = LogisticRegression()\n",
    "lr.fit(x_train, y_train)\n",
    "accuracy_score(lr.predict(x_valid), y_valid)\n"
   ]
  },
  {
   "source": [
    "## Decision Tree"
   ],
   "cell_type": "markdown",
   "metadata": {}
  },
  {
   "cell_type": "code",
   "execution_count": 56,
   "metadata": {},
   "outputs": [
    {
     "output_type": "execute_result",
     "data": {
      "text/plain": [
       "0.7798507462686567"
      ]
     },
     "metadata": {},
     "execution_count": 56
    }
   ],
   "source": [
    "dt = DecisionTreeClassifier(max_depth=2)\n",
    "dt.fit(x_train, y_train)\n",
    "accuracy_score(dt.predict(x_valid), y_valid)"
   ]
  },
  {
   "source": [
    "## Random Forest"
   ],
   "cell_type": "markdown",
   "metadata": {}
  },
  {
   "cell_type": "code",
   "execution_count": 57,
   "metadata": {},
   "outputs": [
    {
     "output_type": "execute_result",
     "data": {
      "text/plain": [
       "0.7947761194029851"
      ]
     },
     "metadata": {},
     "execution_count": 57
    }
   ],
   "source": [
    "rf = RandomForestClassifier(n_estimators=1200, n_jobs=-1, max_depth=10,random_state=128)\n",
    "rf.fit(x_train,y_train)\n",
    "accuracy_score(rf.predict(x_valid), y_valid)"
   ]
  },
  {
   "source": [
    "## Catboost"
   ],
   "cell_type": "markdown",
   "metadata": {}
  },
  {
   "cell_type": "code",
   "execution_count": 58,
   "metadata": {
    "tags": [
     "outputPrepend"
    ]
   },
   "outputs": [
    {
     "output_type": "stream",
     "name": "stdout",
     "text": [
      ".29s\tremaining: 762ms\n",
      "943:\ttotal: 1.29s\tremaining: 761ms\n",
      "944:\ttotal: 1.29s\tremaining: 759ms\n",
      "945:\ttotal: 1.29s\tremaining: 758ms\n",
      "946:\ttotal: 1.29s\tremaining: 757ms\n",
      "947:\ttotal: 1.3s\tremaining: 755ms\n",
      "948:\ttotal: 1.3s\tremaining: 754ms\n",
      "949:\ttotal: 1.3s\tremaining: 752ms\n",
      "950:\ttotal: 1.3s\tremaining: 751ms\n",
      "951:\ttotal: 1.3s\tremaining: 749ms\n",
      "952:\ttotal: 1.3s\tremaining: 748ms\n",
      "953:\ttotal: 1.3s\tremaining: 746ms\n",
      "954:\ttotal: 1.3s\tremaining: 745ms\n",
      "955:\ttotal: 1.31s\tremaining: 743ms\n",
      "956:\ttotal: 1.31s\tremaining: 742ms\n",
      "957:\ttotal: 1.31s\tremaining: 740ms\n",
      "958:\ttotal: 1.31s\tremaining: 739ms\n",
      "959:\ttotal: 1.31s\tremaining: 738ms\n",
      "960:\ttotal: 1.31s\tremaining: 736ms\n",
      "961:\ttotal: 1.31s\tremaining: 735ms\n",
      "962:\ttotal: 1.31s\tremaining: 733ms\n",
      "963:\ttotal: 1.32s\tremaining: 732ms\n",
      "964:\ttotal: 1.32s\tremaining: 731ms\n",
      "965:\ttotal: 1.32s\tremaining: 729ms\n",
      "966:\ttotal: 1.32s\tremaining: 728ms\n",
      "967:\ttotal: 1.32s\tremaining: 726ms\n",
      "968:\ttotal: 1.32s\tremaining: 725ms\n",
      "969:\ttotal: 1.32s\tremaining: 723ms\n",
      "970:\ttotal: 1.32s\tremaining: 722ms\n",
      "971:\ttotal: 1.33s\tremaining: 720ms\n",
      "972:\ttotal: 1.33s\tremaining: 719ms\n",
      "973:\ttotal: 1.33s\tremaining: 718ms\n",
      "974:\ttotal: 1.33s\tremaining: 716ms\n",
      "975:\ttotal: 1.33s\tremaining: 715ms\n",
      "976:\ttotal: 1.33s\tremaining: 713ms\n",
      "977:\ttotal: 1.33s\tremaining: 712ms\n",
      "978:\ttotal: 1.33s\tremaining: 710ms\n",
      "979:\ttotal: 1.33s\tremaining: 709ms\n",
      "980:\ttotal: 1.34s\tremaining: 707ms\n",
      "981:\ttotal: 1.34s\tremaining: 706ms\n",
      "982:\ttotal: 1.34s\tremaining: 705ms\n",
      "983:\ttotal: 1.34s\tremaining: 703ms\n",
      "984:\ttotal: 1.34s\tremaining: 702ms\n",
      "985:\ttotal: 1.34s\tremaining: 700ms\n",
      "986:\ttotal: 1.34s\tremaining: 699ms\n",
      "987:\ttotal: 1.34s\tremaining: 697ms\n",
      "988:\ttotal: 1.35s\tremaining: 696ms\n",
      "989:\ttotal: 1.35s\tremaining: 694ms\n",
      "990:\ttotal: 1.35s\tremaining: 693ms\n",
      "991:\ttotal: 1.35s\tremaining: 691ms\n",
      "992:\ttotal: 1.35s\tremaining: 690ms\n",
      "993:\ttotal: 1.35s\tremaining: 689ms\n",
      "994:\ttotal: 1.35s\tremaining: 688ms\n",
      "995:\ttotal: 1.36s\tremaining: 687ms\n",
      "996:\ttotal: 1.36s\tremaining: 685ms\n",
      "997:\ttotal: 1.36s\tremaining: 684ms\n",
      "998:\ttotal: 1.36s\tremaining: 682ms\n",
      "999:\ttotal: 1.36s\tremaining: 681ms\n",
      "1000:\ttotal: 1.36s\tremaining: 680ms\n",
      "1001:\ttotal: 1.36s\tremaining: 678ms\n",
      "1002:\ttotal: 1.36s\tremaining: 677ms\n",
      "1003:\ttotal: 1.37s\tremaining: 675ms\n",
      "1004:\ttotal: 1.37s\tremaining: 674ms\n",
      "1005:\ttotal: 1.37s\tremaining: 673ms\n",
      "1006:\ttotal: 1.37s\tremaining: 671ms\n",
      "1007:\ttotal: 1.37s\tremaining: 670ms\n",
      "1008:\ttotal: 1.37s\tremaining: 668ms\n",
      "1009:\ttotal: 1.37s\tremaining: 667ms\n",
      "1010:\ttotal: 1.38s\tremaining: 665ms\n",
      "1011:\ttotal: 1.38s\tremaining: 664ms\n",
      "1012:\ttotal: 1.38s\tremaining: 662ms\n",
      "1013:\ttotal: 1.38s\tremaining: 661ms\n",
      "1014:\ttotal: 1.38s\tremaining: 660ms\n",
      "1015:\ttotal: 1.38s\tremaining: 658ms\n",
      "1016:\ttotal: 1.38s\tremaining: 657ms\n",
      "1017:\ttotal: 1.38s\tremaining: 656ms\n",
      "1018:\ttotal: 1.39s\tremaining: 654ms\n",
      "1019:\ttotal: 1.39s\tremaining: 653ms\n",
      "1020:\ttotal: 1.39s\tremaining: 652ms\n",
      "1021:\ttotal: 1.39s\tremaining: 650ms\n",
      "1022:\ttotal: 1.39s\tremaining: 649ms\n",
      "1023:\ttotal: 1.39s\tremaining: 647ms\n",
      "1024:\ttotal: 1.39s\tremaining: 646ms\n",
      "1025:\ttotal: 1.4s\tremaining: 645ms\n",
      "1026:\ttotal: 1.4s\tremaining: 644ms\n",
      "1027:\ttotal: 1.4s\tremaining: 642ms\n",
      "1028:\ttotal: 1.4s\tremaining: 641ms\n",
      "1029:\ttotal: 1.4s\tremaining: 639ms\n",
      "1030:\ttotal: 1.4s\tremaining: 638ms\n",
      "1031:\ttotal: 1.4s\tremaining: 636ms\n",
      "1032:\ttotal: 1.4s\tremaining: 635ms\n",
      "1033:\ttotal: 1.41s\tremaining: 633ms\n",
      "1034:\ttotal: 1.41s\tremaining: 632ms\n",
      "1035:\ttotal: 1.41s\tremaining: 630ms\n",
      "1036:\ttotal: 1.41s\tremaining: 629ms\n",
      "1037:\ttotal: 1.41s\tremaining: 628ms\n",
      "1038:\ttotal: 1.41s\tremaining: 626ms\n",
      "1039:\ttotal: 1.41s\tremaining: 625ms\n",
      "1040:\ttotal: 1.41s\tremaining: 624ms\n",
      "1041:\ttotal: 1.42s\tremaining: 622ms\n",
      "1042:\ttotal: 1.42s\tremaining: 621ms\n",
      "1043:\ttotal: 1.42s\tremaining: 619ms\n",
      "1044:\ttotal: 1.42s\tremaining: 618ms\n",
      "1045:\ttotal: 1.42s\tremaining: 616ms\n",
      "1046:\ttotal: 1.42s\tremaining: 615ms\n",
      "1047:\ttotal: 1.42s\tremaining: 614ms\n",
      "1048:\ttotal: 1.42s\tremaining: 612ms\n",
      "1049:\ttotal: 1.43s\tremaining: 611ms\n",
      "1050:\ttotal: 1.43s\tremaining: 610ms\n",
      "1051:\ttotal: 1.43s\tremaining: 608ms\n",
      "1052:\ttotal: 1.43s\tremaining: 607ms\n",
      "1053:\ttotal: 1.43s\tremaining: 605ms\n",
      "1054:\ttotal: 1.43s\tremaining: 604ms\n",
      "1055:\ttotal: 1.43s\tremaining: 603ms\n",
      "1056:\ttotal: 1.43s\tremaining: 601ms\n",
      "1057:\ttotal: 1.44s\tremaining: 600ms\n",
      "1058:\ttotal: 1.44s\tremaining: 598ms\n",
      "1059:\ttotal: 1.44s\tremaining: 597ms\n",
      "1060:\ttotal: 1.44s\tremaining: 595ms\n",
      "1061:\ttotal: 1.44s\tremaining: 594ms\n",
      "1062:\ttotal: 1.44s\tremaining: 593ms\n",
      "1063:\ttotal: 1.44s\tremaining: 591ms\n",
      "1064:\ttotal: 1.44s\tremaining: 590ms\n",
      "1065:\ttotal: 1.45s\tremaining: 589ms\n",
      "1066:\ttotal: 1.45s\tremaining: 587ms\n",
      "1067:\ttotal: 1.45s\tremaining: 586ms\n",
      "1068:\ttotal: 1.45s\tremaining: 584ms\n",
      "1069:\ttotal: 1.45s\tremaining: 583ms\n",
      "1070:\ttotal: 1.45s\tremaining: 581ms\n",
      "1071:\ttotal: 1.45s\tremaining: 580ms\n",
      "1072:\ttotal: 1.45s\tremaining: 578ms\n",
      "1073:\ttotal: 1.46s\tremaining: 577ms\n",
      "1074:\ttotal: 1.46s\tremaining: 576ms\n",
      "1075:\ttotal: 1.46s\tremaining: 575ms\n",
      "1076:\ttotal: 1.46s\tremaining: 573ms\n",
      "1077:\ttotal: 1.46s\tremaining: 572ms\n",
      "1078:\ttotal: 1.46s\tremaining: 571ms\n",
      "1079:\ttotal: 1.46s\tremaining: 569ms\n",
      "1080:\ttotal: 1.46s\tremaining: 568ms\n",
      "1081:\ttotal: 1.47s\tremaining: 566ms\n",
      "1082:\ttotal: 1.47s\tremaining: 565ms\n",
      "1083:\ttotal: 1.47s\tremaining: 564ms\n",
      "1084:\ttotal: 1.47s\tremaining: 563ms\n",
      "1085:\ttotal: 1.47s\tremaining: 561ms\n",
      "1086:\ttotal: 1.47s\tremaining: 560ms\n",
      "1087:\ttotal: 1.47s\tremaining: 559ms\n",
      "1088:\ttotal: 1.48s\tremaining: 557ms\n",
      "1089:\ttotal: 1.48s\tremaining: 556ms\n",
      "1090:\ttotal: 1.48s\tremaining: 554ms\n",
      "1091:\ttotal: 1.48s\tremaining: 553ms\n",
      "1092:\ttotal: 1.48s\tremaining: 552ms\n",
      "1093:\ttotal: 1.48s\tremaining: 550ms\n",
      "1094:\ttotal: 1.48s\tremaining: 549ms\n",
      "1095:\ttotal: 1.49s\tremaining: 548ms\n",
      "1096:\ttotal: 1.49s\tremaining: 546ms\n",
      "1097:\ttotal: 1.49s\tremaining: 545ms\n",
      "1098:\ttotal: 1.49s\tremaining: 544ms\n",
      "1099:\ttotal: 1.49s\tremaining: 542ms\n",
      "1100:\ttotal: 1.49s\tremaining: 541ms\n",
      "1101:\ttotal: 1.49s\tremaining: 539ms\n",
      "1102:\ttotal: 1.49s\tremaining: 538ms\n",
      "1103:\ttotal: 1.5s\tremaining: 537ms\n",
      "1104:\ttotal: 1.5s\tremaining: 535ms\n",
      "1105:\ttotal: 1.5s\tremaining: 534ms\n",
      "1106:\ttotal: 1.5s\tremaining: 533ms\n",
      "1107:\ttotal: 1.5s\tremaining: 531ms\n",
      "1108:\ttotal: 1.5s\tremaining: 530ms\n",
      "1109:\ttotal: 1.5s\tremaining: 528ms\n",
      "1110:\ttotal: 1.5s\tremaining: 527ms\n",
      "1111:\ttotal: 1.51s\tremaining: 526ms\n",
      "1112:\ttotal: 1.51s\tremaining: 524ms\n",
      "1113:\ttotal: 1.51s\tremaining: 523ms\n",
      "1114:\ttotal: 1.51s\tremaining: 521ms\n",
      "1115:\ttotal: 1.51s\tremaining: 520ms\n",
      "1116:\ttotal: 1.51s\tremaining: 519ms\n",
      "1117:\ttotal: 1.51s\tremaining: 517ms\n",
      "1118:\ttotal: 1.51s\tremaining: 516ms\n",
      "1119:\ttotal: 1.52s\tremaining: 515ms\n",
      "1120:\ttotal: 1.52s\tremaining: 513ms\n",
      "1121:\ttotal: 1.52s\tremaining: 512ms\n",
      "1122:\ttotal: 1.52s\tremaining: 511ms\n",
      "1123:\ttotal: 1.52s\tremaining: 509ms\n",
      "1124:\ttotal: 1.52s\tremaining: 508ms\n",
      "1125:\ttotal: 1.52s\tremaining: 506ms\n",
      "1126:\ttotal: 1.52s\tremaining: 505ms\n",
      "1127:\ttotal: 1.53s\tremaining: 504ms\n",
      "1128:\ttotal: 1.53s\tremaining: 502ms\n",
      "1129:\ttotal: 1.53s\tremaining: 501ms\n",
      "1130:\ttotal: 1.53s\tremaining: 500ms\n",
      "1131:\ttotal: 1.53s\tremaining: 498ms\n",
      "1132:\ttotal: 1.53s\tremaining: 497ms\n",
      "1133:\ttotal: 1.53s\tremaining: 495ms\n",
      "1134:\ttotal: 1.54s\tremaining: 494ms\n",
      "1135:\ttotal: 1.54s\tremaining: 493ms\n",
      "1136:\ttotal: 1.54s\tremaining: 491ms\n",
      "1137:\ttotal: 1.54s\tremaining: 490ms\n",
      "1138:\ttotal: 1.54s\tremaining: 488ms\n",
      "1139:\ttotal: 1.54s\tremaining: 487ms\n",
      "1140:\ttotal: 1.54s\tremaining: 486ms\n",
      "1141:\ttotal: 1.54s\tremaining: 484ms\n",
      "1142:\ttotal: 1.55s\tremaining: 483ms\n",
      "1143:\ttotal: 1.55s\tremaining: 482ms\n",
      "1144:\ttotal: 1.55s\tremaining: 480ms\n",
      "1145:\ttotal: 1.55s\tremaining: 479ms\n",
      "1146:\ttotal: 1.55s\tremaining: 478ms\n",
      "1147:\ttotal: 1.55s\tremaining: 476ms\n",
      "1148:\ttotal: 1.55s\tremaining: 475ms\n",
      "1149:\ttotal: 1.56s\tremaining: 474ms\n",
      "1150:\ttotal: 1.56s\tremaining: 472ms\n",
      "1151:\ttotal: 1.56s\tremaining: 471ms\n",
      "1152:\ttotal: 1.56s\tremaining: 470ms\n",
      "1153:\ttotal: 1.56s\tremaining: 468ms\n",
      "1154:\ttotal: 1.56s\tremaining: 467ms\n",
      "1155:\ttotal: 1.56s\tremaining: 465ms\n",
      "1156:\ttotal: 1.56s\tremaining: 464ms\n",
      "1157:\ttotal: 1.57s\tremaining: 463ms\n",
      "1158:\ttotal: 1.57s\tremaining: 461ms\n",
      "1159:\ttotal: 1.57s\tremaining: 460ms\n",
      "1160:\ttotal: 1.57s\tremaining: 459ms\n",
      "1161:\ttotal: 1.57s\tremaining: 457ms\n",
      "1162:\ttotal: 1.57s\tremaining: 456ms\n",
      "1163:\ttotal: 1.57s\tremaining: 455ms\n",
      "1164:\ttotal: 1.57s\tremaining: 453ms\n",
      "1165:\ttotal: 1.58s\tremaining: 452ms\n",
      "1166:\ttotal: 1.58s\tremaining: 450ms\n",
      "1167:\ttotal: 1.58s\tremaining: 449ms\n",
      "1168:\ttotal: 1.58s\tremaining: 448ms\n",
      "1169:\ttotal: 1.58s\tremaining: 446ms\n",
      "1170:\ttotal: 1.58s\tremaining: 445ms\n",
      "1171:\ttotal: 1.58s\tremaining: 443ms\n",
      "1172:\ttotal: 1.59s\tremaining: 442ms\n",
      "1173:\ttotal: 1.59s\tremaining: 441ms\n",
      "1174:\ttotal: 1.59s\tremaining: 439ms\n",
      "1175:\ttotal: 1.59s\tremaining: 438ms\n",
      "1176:\ttotal: 1.59s\tremaining: 437ms\n",
      "1177:\ttotal: 1.59s\tremaining: 435ms\n",
      "1178:\ttotal: 1.59s\tremaining: 434ms\n",
      "1179:\ttotal: 1.59s\tremaining: 432ms\n",
      "1180:\ttotal: 1.59s\tremaining: 431ms\n",
      "1181:\ttotal: 1.6s\tremaining: 429ms\n",
      "1182:\ttotal: 1.6s\tremaining: 428ms\n",
      "1183:\ttotal: 1.6s\tremaining: 427ms\n",
      "1184:\ttotal: 1.6s\tremaining: 426ms\n",
      "1185:\ttotal: 1.6s\tremaining: 424ms\n",
      "1186:\ttotal: 1.6s\tremaining: 423ms\n",
      "1187:\ttotal: 1.6s\tremaining: 422ms\n",
      "1188:\ttotal: 1.61s\tremaining: 420ms\n",
      "1189:\ttotal: 1.61s\tremaining: 419ms\n",
      "1190:\ttotal: 1.61s\tremaining: 417ms\n",
      "1191:\ttotal: 1.61s\tremaining: 416ms\n",
      "1192:\ttotal: 1.61s\tremaining: 415ms\n",
      "1193:\ttotal: 1.61s\tremaining: 413ms\n",
      "1194:\ttotal: 1.61s\tremaining: 412ms\n",
      "1195:\ttotal: 1.61s\tremaining: 411ms\n",
      "1196:\ttotal: 1.62s\tremaining: 409ms\n",
      "1197:\ttotal: 1.62s\tremaining: 408ms\n",
      "1198:\ttotal: 1.62s\tremaining: 406ms\n",
      "1199:\ttotal: 1.62s\tremaining: 405ms\n",
      "1200:\ttotal: 1.62s\tremaining: 404ms\n",
      "1201:\ttotal: 1.62s\tremaining: 402ms\n",
      "1202:\ttotal: 1.62s\tremaining: 401ms\n",
      "1203:\ttotal: 1.62s\tremaining: 399ms\n",
      "1204:\ttotal: 1.63s\tremaining: 398ms\n",
      "1205:\ttotal: 1.63s\tremaining: 397ms\n",
      "1206:\ttotal: 1.63s\tremaining: 395ms\n",
      "1207:\ttotal: 1.63s\tremaining: 394ms\n",
      "1208:\ttotal: 1.63s\tremaining: 393ms\n",
      "1209:\ttotal: 1.63s\tremaining: 391ms\n",
      "1210:\ttotal: 1.63s\tremaining: 390ms\n",
      "1211:\ttotal: 1.63s\tremaining: 388ms\n",
      "1212:\ttotal: 1.64s\tremaining: 387ms\n",
      "1213:\ttotal: 1.64s\tremaining: 386ms\n",
      "1214:\ttotal: 1.64s\tremaining: 384ms\n",
      "1215:\ttotal: 1.64s\tremaining: 383ms\n",
      "1216:\ttotal: 1.64s\tremaining: 382ms\n",
      "1217:\ttotal: 1.64s\tremaining: 380ms\n",
      "1218:\ttotal: 1.64s\tremaining: 379ms\n",
      "1219:\ttotal: 1.64s\tremaining: 378ms\n",
      "1220:\ttotal: 1.65s\tremaining: 376ms\n",
      "1221:\ttotal: 1.65s\tremaining: 375ms\n",
      "1222:\ttotal: 1.65s\tremaining: 373ms\n",
      "1223:\ttotal: 1.65s\tremaining: 372ms\n",
      "1224:\ttotal: 1.65s\tremaining: 371ms\n",
      "1225:\ttotal: 1.65s\tremaining: 369ms\n",
      "1226:\ttotal: 1.65s\tremaining: 368ms\n",
      "1227:\ttotal: 1.65s\tremaining: 366ms\n",
      "1228:\ttotal: 1.66s\tremaining: 365ms\n",
      "1229:\ttotal: 1.66s\tremaining: 364ms\n",
      "1230:\ttotal: 1.66s\tremaining: 362ms\n",
      "1231:\ttotal: 1.66s\tremaining: 361ms\n",
      "1232:\ttotal: 1.66s\tremaining: 360ms\n",
      "1233:\ttotal: 1.66s\tremaining: 358ms\n",
      "1234:\ttotal: 1.66s\tremaining: 357ms\n",
      "1235:\ttotal: 1.66s\tremaining: 356ms\n",
      "1236:\ttotal: 1.67s\tremaining: 354ms\n",
      "1237:\ttotal: 1.67s\tremaining: 353ms\n",
      "1238:\ttotal: 1.67s\tremaining: 351ms\n",
      "1239:\ttotal: 1.67s\tremaining: 350ms\n",
      "1240:\ttotal: 1.67s\tremaining: 349ms\n",
      "1241:\ttotal: 1.67s\tremaining: 348ms\n",
      "1242:\ttotal: 1.67s\tremaining: 346ms\n",
      "1243:\ttotal: 1.68s\tremaining: 345ms\n",
      "1244:\ttotal: 1.68s\tremaining: 343ms\n",
      "1245:\ttotal: 1.68s\tremaining: 342ms\n",
      "1246:\ttotal: 1.68s\tremaining: 341ms\n",
      "1247:\ttotal: 1.68s\tremaining: 339ms\n",
      "1248:\ttotal: 1.68s\tremaining: 338ms\n",
      "1249:\ttotal: 1.68s\tremaining: 337ms\n",
      "1250:\ttotal: 1.68s\tremaining: 335ms\n",
      "1251:\ttotal: 1.69s\tremaining: 334ms\n",
      "1252:\ttotal: 1.69s\tremaining: 333ms\n",
      "1253:\ttotal: 1.69s\tremaining: 331ms\n",
      "1254:\ttotal: 1.69s\tremaining: 330ms\n",
      "1255:\ttotal: 1.69s\tremaining: 329ms\n",
      "1256:\ttotal: 1.69s\tremaining: 327ms\n",
      "1257:\ttotal: 1.69s\tremaining: 326ms\n",
      "1258:\ttotal: 1.7s\tremaining: 325ms\n",
      "1259:\ttotal: 1.7s\tremaining: 323ms\n",
      "1260:\ttotal: 1.7s\tremaining: 322ms\n",
      "1261:\ttotal: 1.7s\tremaining: 321ms\n",
      "1262:\ttotal: 1.7s\tremaining: 319ms\n",
      "1263:\ttotal: 1.7s\tremaining: 318ms\n",
      "1264:\ttotal: 1.7s\tremaining: 317ms\n",
      "1265:\ttotal: 1.71s\tremaining: 315ms\n",
      "1266:\ttotal: 1.71s\tremaining: 314ms\n",
      "1267:\ttotal: 1.71s\tremaining: 313ms\n",
      "1268:\ttotal: 1.71s\tremaining: 311ms\n",
      "1269:\ttotal: 1.71s\tremaining: 310ms\n",
      "1270:\ttotal: 1.71s\tremaining: 309ms\n",
      "1271:\ttotal: 1.71s\tremaining: 307ms\n",
      "1272:\ttotal: 1.72s\tremaining: 306ms\n",
      "1273:\ttotal: 1.72s\tremaining: 305ms\n",
      "1274:\ttotal: 1.72s\tremaining: 303ms\n",
      "1275:\ttotal: 1.72s\tremaining: 302ms\n",
      "1276:\ttotal: 1.72s\tremaining: 301ms\n",
      "1277:\ttotal: 1.72s\tremaining: 299ms\n",
      "1278:\ttotal: 1.72s\tremaining: 298ms\n",
      "1279:\ttotal: 1.72s\tremaining: 296ms\n",
      "1280:\ttotal: 1.73s\tremaining: 295ms\n",
      "1281:\ttotal: 1.73s\tremaining: 294ms\n",
      "1282:\ttotal: 1.73s\tremaining: 292ms\n",
      "1283:\ttotal: 1.73s\tremaining: 291ms\n",
      "1284:\ttotal: 1.73s\tremaining: 290ms\n",
      "1285:\ttotal: 1.73s\tremaining: 288ms\n",
      "1286:\ttotal: 1.73s\tremaining: 287ms\n",
      "1287:\ttotal: 1.74s\tremaining: 286ms\n",
      "1288:\ttotal: 1.74s\tremaining: 284ms\n",
      "1289:\ttotal: 1.74s\tremaining: 283ms\n",
      "1290:\ttotal: 1.74s\tremaining: 282ms\n",
      "1291:\ttotal: 1.74s\tremaining: 280ms\n",
      "1292:\ttotal: 1.74s\tremaining: 279ms\n",
      "1293:\ttotal: 1.74s\tremaining: 278ms\n",
      "1294:\ttotal: 1.74s\tremaining: 276ms\n",
      "1295:\ttotal: 1.75s\tremaining: 275ms\n",
      "1296:\ttotal: 1.75s\tremaining: 273ms\n",
      "1297:\ttotal: 1.75s\tremaining: 272ms\n",
      "1298:\ttotal: 1.75s\tremaining: 271ms\n",
      "1299:\ttotal: 1.75s\tremaining: 269ms\n",
      "1300:\ttotal: 1.75s\tremaining: 268ms\n",
      "1301:\ttotal: 1.75s\tremaining: 267ms\n",
      "1302:\ttotal: 1.75s\tremaining: 265ms\n",
      "1303:\ttotal: 1.75s\tremaining: 264ms\n",
      "1304:\ttotal: 1.76s\tremaining: 262ms\n",
      "1305:\ttotal: 1.76s\tremaining: 261ms\n",
      "1306:\ttotal: 1.76s\tremaining: 260ms\n",
      "1307:\ttotal: 1.76s\tremaining: 258ms\n",
      "1308:\ttotal: 1.76s\tremaining: 257ms\n",
      "1309:\ttotal: 1.76s\tremaining: 256ms\n",
      "1310:\ttotal: 1.76s\tremaining: 254ms\n",
      "1311:\ttotal: 1.76s\tremaining: 253ms\n",
      "1312:\ttotal: 1.77s\tremaining: 252ms\n",
      "1313:\ttotal: 1.77s\tremaining: 250ms\n",
      "1314:\ttotal: 1.77s\tremaining: 249ms\n",
      "1315:\ttotal: 1.77s\tremaining: 247ms\n",
      "1316:\ttotal: 1.77s\tremaining: 246ms\n",
      "1317:\ttotal: 1.77s\tremaining: 245ms\n",
      "1318:\ttotal: 1.77s\tremaining: 244ms\n",
      "1319:\ttotal: 1.78s\tremaining: 242ms\n",
      "1320:\ttotal: 1.78s\tremaining: 241ms\n",
      "1321:\ttotal: 1.78s\tremaining: 239ms\n",
      "1322:\ttotal: 1.78s\tremaining: 238ms\n",
      "1323:\ttotal: 1.78s\tremaining: 237ms\n",
      "1324:\ttotal: 1.78s\tremaining: 235ms\n",
      "1325:\ttotal: 1.78s\tremaining: 234ms\n",
      "1326:\ttotal: 1.78s\tremaining: 233ms\n",
      "1327:\ttotal: 1.78s\tremaining: 231ms\n",
      "1328:\ttotal: 1.79s\tremaining: 230ms\n",
      "1329:\ttotal: 1.79s\tremaining: 229ms\n",
      "1330:\ttotal: 1.79s\tremaining: 227ms\n",
      "1331:\ttotal: 1.79s\tremaining: 226ms\n",
      "1332:\ttotal: 1.79s\tremaining: 225ms\n",
      "1333:\ttotal: 1.79s\tremaining: 223ms\n",
      "1334:\ttotal: 1.79s\tremaining: 222ms\n",
      "1335:\ttotal: 1.8s\tremaining: 220ms\n",
      "1336:\ttotal: 1.8s\tremaining: 219ms\n",
      "1337:\ttotal: 1.8s\tremaining: 218ms\n",
      "1338:\ttotal: 1.8s\tremaining: 216ms\n",
      "1339:\ttotal: 1.8s\tremaining: 215ms\n",
      "1340:\ttotal: 1.8s\tremaining: 214ms\n",
      "1341:\ttotal: 1.8s\tremaining: 212ms\n",
      "1342:\ttotal: 1.8s\tremaining: 211ms\n",
      "1343:\ttotal: 1.8s\tremaining: 210ms\n",
      "1344:\ttotal: 1.81s\tremaining: 208ms\n",
      "1345:\ttotal: 1.81s\tremaining: 207ms\n",
      "1346:\ttotal: 1.81s\tremaining: 206ms\n",
      "1347:\ttotal: 1.81s\tremaining: 204ms\n",
      "1348:\ttotal: 1.81s\tremaining: 203ms\n",
      "1349:\ttotal: 1.81s\tremaining: 201ms\n",
      "1350:\ttotal: 1.81s\tremaining: 200ms\n",
      "1351:\ttotal: 1.81s\tremaining: 199ms\n",
      "1352:\ttotal: 1.82s\tremaining: 197ms\n",
      "1353:\ttotal: 1.82s\tremaining: 196ms\n",
      "1354:\ttotal: 1.82s\tremaining: 195ms\n",
      "1355:\ttotal: 1.82s\tremaining: 193ms\n",
      "1356:\ttotal: 1.82s\tremaining: 192ms\n",
      "1357:\ttotal: 1.82s\tremaining: 191ms\n",
      "1358:\ttotal: 1.82s\tremaining: 189ms\n",
      "1359:\ttotal: 1.82s\tremaining: 188ms\n",
      "1360:\ttotal: 1.83s\tremaining: 187ms\n",
      "1361:\ttotal: 1.83s\tremaining: 185ms\n",
      "1362:\ttotal: 1.83s\tremaining: 184ms\n",
      "1363:\ttotal: 1.83s\tremaining: 183ms\n",
      "1364:\ttotal: 1.83s\tremaining: 181ms\n",
      "1365:\ttotal: 1.83s\tremaining: 180ms\n",
      "1366:\ttotal: 1.83s\tremaining: 178ms\n",
      "1367:\ttotal: 1.83s\tremaining: 177ms\n",
      "1368:\ttotal: 1.84s\tremaining: 176ms\n",
      "1369:\ttotal: 1.84s\tremaining: 174ms\n",
      "1370:\ttotal: 1.84s\tremaining: 173ms\n",
      "1371:\ttotal: 1.84s\tremaining: 172ms\n",
      "1372:\ttotal: 1.84s\tremaining: 170ms\n",
      "1373:\ttotal: 1.84s\tremaining: 169ms\n",
      "1374:\ttotal: 1.84s\tremaining: 168ms\n",
      "1375:\ttotal: 1.85s\tremaining: 166ms\n",
      "1376:\ttotal: 1.85s\tremaining: 165ms\n",
      "1377:\ttotal: 1.85s\tremaining: 164ms\n",
      "1378:\ttotal: 1.85s\tremaining: 162ms\n",
      "1379:\ttotal: 1.85s\tremaining: 161ms\n",
      "1380:\ttotal: 1.85s\tremaining: 160ms\n",
      "1381:\ttotal: 1.85s\tremaining: 158ms\n",
      "1382:\ttotal: 1.85s\tremaining: 157ms\n",
      "1383:\ttotal: 1.85s\tremaining: 156ms\n",
      "1384:\ttotal: 1.86s\tremaining: 154ms\n",
      "1385:\ttotal: 1.86s\tremaining: 153ms\n",
      "1386:\ttotal: 1.86s\tremaining: 152ms\n",
      "1387:\ttotal: 1.86s\tremaining: 150ms\n",
      "1388:\ttotal: 1.86s\tremaining: 149ms\n",
      "1389:\ttotal: 1.86s\tremaining: 147ms\n",
      "1390:\ttotal: 1.86s\tremaining: 146ms\n",
      "1391:\ttotal: 1.87s\tremaining: 145ms\n",
      "1392:\ttotal: 1.87s\tremaining: 143ms\n",
      "1393:\ttotal: 1.87s\tremaining: 142ms\n",
      "1394:\ttotal: 1.87s\tremaining: 141ms\n",
      "1395:\ttotal: 1.87s\tremaining: 139ms\n",
      "1396:\ttotal: 1.87s\tremaining: 138ms\n",
      "1397:\ttotal: 1.87s\tremaining: 137ms\n",
      "1398:\ttotal: 1.88s\tremaining: 135ms\n",
      "1399:\ttotal: 1.88s\tremaining: 134ms\n",
      "1400:\ttotal: 1.88s\tremaining: 133ms\n",
      "1401:\ttotal: 1.88s\tremaining: 131ms\n",
      "1402:\ttotal: 1.88s\tremaining: 130ms\n",
      "1403:\ttotal: 1.88s\tremaining: 129ms\n",
      "1404:\ttotal: 1.88s\tremaining: 127ms\n",
      "1405:\ttotal: 1.89s\tremaining: 126ms\n",
      "1406:\ttotal: 1.89s\tremaining: 125ms\n",
      "1407:\ttotal: 1.89s\tremaining: 123ms\n",
      "1408:\ttotal: 1.89s\tremaining: 122ms\n",
      "1409:\ttotal: 1.89s\tremaining: 121ms\n",
      "1410:\ttotal: 1.89s\tremaining: 119ms\n",
      "1411:\ttotal: 1.89s\tremaining: 118ms\n",
      "1412:\ttotal: 1.9s\tremaining: 117ms\n",
      "1413:\ttotal: 1.9s\tremaining: 115ms\n",
      "1414:\ttotal: 1.9s\tremaining: 114ms\n",
      "1415:\ttotal: 1.9s\tremaining: 113ms\n",
      "1416:\ttotal: 1.9s\tremaining: 111ms\n",
      "1417:\ttotal: 1.9s\tremaining: 110ms\n",
      "1418:\ttotal: 1.9s\tremaining: 109ms\n",
      "1419:\ttotal: 1.9s\tremaining: 107ms\n",
      "1420:\ttotal: 1.91s\tremaining: 106ms\n",
      "1421:\ttotal: 1.91s\tremaining: 105ms\n",
      "1422:\ttotal: 1.91s\tremaining: 103ms\n",
      "1423:\ttotal: 1.91s\tremaining: 102ms\n",
      "1424:\ttotal: 1.91s\tremaining: 101ms\n",
      "1425:\ttotal: 1.91s\tremaining: 99.2ms\n",
      "1426:\ttotal: 1.91s\tremaining: 97.9ms\n",
      "1427:\ttotal: 1.91s\tremaining: 96.5ms\n",
      "1428:\ttotal: 1.92s\tremaining: 95.2ms\n",
      "1429:\ttotal: 1.92s\tremaining: 93.9ms\n",
      "1430:\ttotal: 1.92s\tremaining: 92.6ms\n",
      "1431:\ttotal: 1.92s\tremaining: 91.2ms\n",
      "1432:\ttotal: 1.92s\tremaining: 89.9ms\n",
      "1433:\ttotal: 1.92s\tremaining: 88.5ms\n",
      "1434:\ttotal: 1.92s\tremaining: 87.2ms\n",
      "1435:\ttotal: 1.93s\tremaining: 85.8ms\n",
      "1436:\ttotal: 1.93s\tremaining: 84.5ms\n",
      "1437:\ttotal: 1.93s\tremaining: 83.1ms\n",
      "1438:\ttotal: 1.93s\tremaining: 81.8ms\n",
      "1439:\ttotal: 1.93s\tremaining: 80.4ms\n",
      "1440:\ttotal: 1.93s\tremaining: 79.1ms\n",
      "1441:\ttotal: 1.93s\tremaining: 77.7ms\n",
      "1442:\ttotal: 1.93s\tremaining: 76.4ms\n",
      "1443:\ttotal: 1.94s\tremaining: 75.1ms\n",
      "1444:\ttotal: 1.94s\tremaining: 73.7ms\n",
      "1445:\ttotal: 1.94s\tremaining: 72.4ms\n",
      "1446:\ttotal: 1.94s\tremaining: 71ms\n",
      "1447:\ttotal: 1.94s\tremaining: 69.7ms\n",
      "1448:\ttotal: 1.94s\tremaining: 68.3ms\n",
      "1449:\ttotal: 1.94s\tremaining: 67ms\n",
      "1450:\ttotal: 1.94s\tremaining: 65.6ms\n",
      "1451:\ttotal: 1.94s\tremaining: 64.3ms\n",
      "1452:\ttotal: 1.95s\tremaining: 63ms\n",
      "1453:\ttotal: 1.95s\tremaining: 61.6ms\n",
      "1454:\ttotal: 1.95s\tremaining: 60.3ms\n",
      "1455:\ttotal: 1.95s\tremaining: 58.9ms\n",
      "1456:\ttotal: 1.95s\tremaining: 57.6ms\n",
      "1457:\ttotal: 1.95s\tremaining: 56.2ms\n",
      "1458:\ttotal: 1.95s\tremaining: 54.9ms\n",
      "1459:\ttotal: 1.95s\tremaining: 53.5ms\n",
      "1460:\ttotal: 1.96s\tremaining: 52.2ms\n",
      "1461:\ttotal: 1.96s\tremaining: 50.9ms\n",
      "1462:\ttotal: 1.96s\tremaining: 49.5ms\n",
      "1463:\ttotal: 1.96s\tremaining: 48.2ms\n",
      "1464:\ttotal: 1.96s\tremaining: 46.9ms\n",
      "1465:\ttotal: 1.96s\tremaining: 45.5ms\n",
      "1466:\ttotal: 1.96s\tremaining: 44.2ms\n",
      "1467:\ttotal: 1.96s\tremaining: 42.8ms\n",
      "1468:\ttotal: 1.97s\tremaining: 41.5ms\n",
      "1469:\ttotal: 1.97s\tremaining: 40.1ms\n",
      "1470:\ttotal: 1.97s\tremaining: 38.8ms\n",
      "1471:\ttotal: 1.97s\tremaining: 37.5ms\n",
      "1472:\ttotal: 1.97s\tremaining: 36.1ms\n",
      "1473:\ttotal: 1.97s\tremaining: 34.8ms\n",
      "1474:\ttotal: 1.97s\tremaining: 33.4ms\n",
      "1475:\ttotal: 1.97s\tremaining: 32.1ms\n",
      "1476:\ttotal: 1.98s\tremaining: 30.8ms\n",
      "1477:\ttotal: 1.98s\tremaining: 29.4ms\n",
      "1478:\ttotal: 1.98s\tremaining: 28.1ms\n",
      "1479:\ttotal: 1.98s\tremaining: 26.7ms\n",
      "1480:\ttotal: 1.98s\tremaining: 25.4ms\n",
      "1481:\ttotal: 1.98s\tremaining: 24.1ms\n",
      "1482:\ttotal: 1.98s\tremaining: 22.7ms\n",
      "1483:\ttotal: 1.98s\tremaining: 21.4ms\n",
      "1484:\ttotal: 1.99s\tremaining: 20.1ms\n",
      "1485:\ttotal: 1.99s\tremaining: 18.7ms\n",
      "1486:\ttotal: 1.99s\tremaining: 17.4ms\n",
      "1487:\ttotal: 1.99s\tremaining: 16ms\n",
      "1488:\ttotal: 1.99s\tremaining: 14.7ms\n",
      "1489:\ttotal: 1.99s\tremaining: 13.4ms\n",
      "1490:\ttotal: 1.99s\tremaining: 12ms\n",
      "1491:\ttotal: 1.99s\tremaining: 10.7ms\n",
      "1492:\ttotal: 2s\tremaining: 9.35ms\n",
      "1493:\ttotal: 2s\tremaining: 8.02ms\n",
      "1494:\ttotal: 2s\tremaining: 6.68ms\n",
      "1495:\ttotal: 2s\tremaining: 5.34ms\n",
      "1496:\ttotal: 2s\tremaining: 4.01ms\n",
      "1497:\ttotal: 2s\tremaining: 2.67ms\n",
      "1498:\ttotal: 2s\tremaining: 1.33ms\n",
      "1499:\ttotal: 2s\tremaining: 0us\n"
     ]
    },
    {
     "output_type": "execute_result",
     "data": {
      "text/plain": [
       "<catboost.core.CatBoostClassifier at 0x251eae29c50>"
      ]
     },
     "metadata": {},
     "execution_count": 58
    }
   ],
   "source": [
    "cb = CatBoostClassifier(learning_rate=0.04, iterations=1500,random_seed=2,depth=6,eval_metric=\"AUC\")\n",
    "cb.fit(x_train, y_train)"
   ]
  },
  {
   "cell_type": "code",
   "execution_count": 59,
   "metadata": {},
   "outputs": [
    {
     "output_type": "execute_result",
     "data": {
      "text/plain": [
       "0.8134328358208955"
      ]
     },
     "metadata": {},
     "execution_count": 59
    }
   ],
   "source": [
    "accuracy_score(cb.predict(x_valid), y_valid)"
   ]
  },
  {
   "cell_type": "code",
   "execution_count": null,
   "metadata": {},
   "outputs": [],
   "source": []
  }
 ]
}